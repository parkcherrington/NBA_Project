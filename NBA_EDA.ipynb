{
 "cells": [
  {
   "cell_type": "code",
   "execution_count": 2,
   "metadata": {},
   "outputs": [],
   "source": [
    "import pandas as pd\n",
    "import numpy as np\n",
    "import matplotlib.pyplot as plt"
   ]
  },
  {
   "cell_type": "markdown",
   "metadata": {},
   "source": [
    "App Ideas:\n",
    "- Create new fantasy variable that calculates ESPN fantasy points\n",
    "- Plot/show 10 players with highest average points, rebs, fantasy points, etc (interactable)\n",
    "- Look up a player, show best games\n",
    "- Look up a team?\n",
    "- Compare two players?\n",
    "\n",
    "Graph Ideas:\n",
    "- Team wins line chart\n",
    "- Each team ppg vs league average\n",
    "- Assist vs turnover scatterplot (plotly?)"
   ]
  },
  {
   "cell_type": "code",
   "execution_count": 15,
   "metadata": {},
   "outputs": [
    {
     "data": {
      "text/plain": [
       "Index(['Unnamed: 0', 'PLAYER_ID', 'PLAYER_NAME', 'TEAM_ID',\n",
       "       'TEAM_ABBREVIATION', 'TEAM_NAME', 'GAME_ID', 'GAME_DATE', 'MATCHUP',\n",
       "       'WL', 'MIN', 'FGM', 'FGA', 'FG_PCT', 'FG3M', 'FG3A', 'FG3_PCT', 'FTM',\n",
       "       'FTA', 'FT_PCT', 'OREB', 'DREB', 'REB', 'AST', 'STL', 'BLK', 'TOV',\n",
       "       'PF', 'PTS', 'PLUS_MINUS'],\n",
       "      dtype='object')"
      ]
     },
     "execution_count": 15,
     "metadata": {},
     "output_type": "execute_result"
    }
   ],
   "source": [
    "# Read in the data scraped above\n",
    "boxdf = pd.read_csv('boxScores.csv')\n",
    "boxdf.columns\n"
   ]
  },
  {
   "cell_type": "code",
   "execution_count": 12,
   "metadata": {},
   "outputs": [
    {
     "data": {
      "text/plain": [
       "13.137387387387387"
      ]
     },
     "execution_count": 12,
     "metadata": {},
     "output_type": "execute_result"
    }
   ],
   "source": [
    "# Create a new df that is the sums of stats\n",
    "# Create a new df that is the averages per game of stats\n",
    "\n",
    "# Both of these are one row per player. \n",
    "totals = boxdf.groupby('PLAYER_NAME').sum()\n",
    "means = boxdf.groupby('PLAYER_NAME').mean()\n",
    "totals['AST'].mean()"
   ]
  },
  {
   "cell_type": "code",
   "execution_count": 27,
   "metadata": {},
   "outputs": [
    {
     "data": {
      "text/plain": [
       "18.931695981695977"
      ]
     },
     "execution_count": 27,
     "metadata": {},
     "output_type": "execute_result"
    }
   ],
   "source": [
    "means['MIN'].mean()"
   ]
  },
  {
   "cell_type": "code",
   "execution_count": 26,
   "metadata": {},
   "outputs": [
    {
     "data": {
      "text/plain": [
       "Text(0.5, 0, 'Total Turnovers')"
      ]
     },
     "execution_count": 26,
     "metadata": {},
     "output_type": "execute_result"
    },
    {
     "data": {
      "image/png": "[encoded data removed]",
      "text/plain": [
       "<Figure size 432x288 with 1 Axes>"
      ]
     },
     "metadata": {
      "needs_background": "light"
     },
     "output_type": "display_data"
    }
   ],
   "source": [
    "# Scatterplot for assists vs. turnovers\n",
    "fig = plt.figure()\n",
    "ax = fig.add_subplot(111)\n",
    "ax.scatter(totals['TOV'], totals['AST'])\n",
    "plt.axhline(y = totals['AST'].mean(), color = 'g', label = 'Average Total Turnovers')\n",
    "plt.axvline(x = totals['TOV'].mean(), color = 'r')\n",
    "plt.ylabel('Total Assists')\n",
    "plt.xlabel('Total Turnovers')\n",
    "\n",
    "# Need to put in a minutes minimum\n",
    "# For the app:choose which team to filter by"
   ]
  },
  {
   "cell_type": "code",
   "execution_count": null,
   "metadata": {},
   "outputs": [],
   "source": [
    "# Scatterplot for points vs. mins (maybe with a minimum minutes threshold)\n",
    "\n"
   ]
  },
  {
   "cell_type": "code",
   "execution_count": 28,
   "metadata": {},
   "outputs": [],
   "source": [
    "# Top 15 most points average (with the league average included)\n"
   ]
  },
  {
   "cell_type": "code",
   "execution_count": null,
   "metadata": {},
   "outputs": [],
   "source": [
    "# Top 15 most rebounds average (with league average included)\n",
    "\n",
    "# Top 15 counts rebounds (with weighted league average included)"
   ]
  },
  {
   "cell_type": "code",
   "execution_count": null,
   "metadata": {},
   "outputs": [],
   "source": [
    "# Fantasy leaders with stacked barcharts that include pts, rebs, asts, etc"
   ]
  }
 ],
 "metadata": {
  "kernelspec": {
   "display_name": "Python 3.9.7 ('base')",
   "language": "python",
   "name": "python3"
  },
  "language_info": {
   "codemirror_mode": {
    "name": "ipython",
    "version": 3
   },
   "file_extension": ".py",
   "mimetype": "text/x-python",
   "name": "python",
   "nbconvert_exporter": "python",
   "pygments_lexer": "ipython3",
   "version": "3.9.7"
  },
  "orig_nbformat": 4,
  "vscode": {
   "interpreter": {
    "hash": "f9b66c5a3f4d504968e7c23ed073d920cce91d6e0d9896db397b1ddec9f4c1bf"
   }
  }
 },
 "nbformat": 4,
 "nbformat_minor": 2
}
