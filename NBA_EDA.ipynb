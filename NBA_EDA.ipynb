{
 "cells": [
  {
   "cell_type": "code",
   "execution_count": 59,
   "metadata": {},
   "outputs": [],
   "source": [
    "import pandas as pd\n",
    "import numpy as np\n",
    "import matplotlib.pyplot as plt\n",
    "import plotly.express as px\n",
    "import seaborn as sns"
   ]
  },
  {
   "cell_type": "markdown",
   "metadata": {},
   "source": [
    "App Ideas:\n",
    "- Create new fantasy variable that calculates ESPN fantasy points\n",
    "- Plot/show 10 players with highest average points, rebs, fantasy points, etc (interactable)\n",
    "- Look up a player, show best games\n",
    "- Look up a team?\n",
    "- Compare two players?\n",
    "\n",
    "Graph Ideas:\n",
    "- Team wins line chart\n",
    "- Each team ppg vs league average\n",
    "- Assist vs turnover scatterplot (plotly?)\n",
    "- FPoints vs mins"
   ]
  },
  {
   "cell_type": "code",
   "execution_count": 36,
   "metadata": {},
   "outputs": [
    {
     "data": {
      "text/plain": [
       "Index(['PLAYER_ID', 'PLAYER_NAME', 'TEAM_ID', 'TEAM_ABBREVIATION', 'TEAM_NAME',\n",
       "       'GAME_ID', 'GAME_DATE', 'MATCHUP', 'WL', 'MIN', 'FGM', 'FGA', 'FG_PCT',\n",
       "       'FG3M', 'FG3A', 'FG3_PCT', 'FTM', 'FTA', 'FT_PCT', 'OREB', 'DREB',\n",
       "       'REB', 'AST', 'STL', 'BLK', 'TOV', 'PF', 'PTS', 'PLUS_MINUS',\n",
       "       'FANTASY'],\n",
       "      dtype='object')"
      ]
     },
     "execution_count": 36,
     "metadata": {},
     "output_type": "execute_result"
    }
   ],
   "source": [
    "# Read in the data scraped above\n",
    "boxdf = pd.read_csv('boxScores.csv')\n",
    "boxdf.columns\n"
   ]
  },
  {
   "cell_type": "code",
   "execution_count": 37,
   "metadata": {},
   "outputs": [
    {
     "data": {
      "text/html": [
       "<div>\n",
       "<style scoped>\n",
       "    .dataframe tbody tr th:only-of-type {\n",
       "        vertical-align: middle;\n",
       "    }\n",
       "\n",
       "    .dataframe tbody tr th {\n",
       "        vertical-align: top;\n",
       "    }\n",
       "\n",
       "    .dataframe thead th {\n",
       "        text-align: right;\n",
       "    }\n",
       "</style>\n",
       "<table border=\"1\" class=\"dataframe\">\n",
       "  <thead>\n",
       "    <tr style=\"text-align: right;\">\n",
       "      <th></th>\n",
       "      <th>PLAYER_NAME</th>\n",
       "      <th>TEAM_NAME</th>\n",
       "      <th>PLAYER_ID</th>\n",
       "      <th>TEAM_ID</th>\n",
       "      <th>GAME_ID</th>\n",
       "      <th>MIN</th>\n",
       "      <th>FGM</th>\n",
       "      <th>FGA</th>\n",
       "      <th>FG_PCT</th>\n",
       "      <th>FG3M</th>\n",
       "      <th>...</th>\n",
       "      <th>REB</th>\n",
       "      <th>AST</th>\n",
       "      <th>STL</th>\n",
       "      <th>BLK</th>\n",
       "      <th>TOV</th>\n",
       "      <th>PF</th>\n",
       "      <th>PTS</th>\n",
       "      <th>PLUS_MINUS</th>\n",
       "      <th>FANTASY</th>\n",
       "      <th>Rank</th>\n",
       "    </tr>\n",
       "  </thead>\n",
       "  <tbody>\n",
       "    <tr>\n",
       "      <th>0</th>\n",
       "      <td>A.J. Lawson</td>\n",
       "      <td>Minnesota Timberwolves</td>\n",
       "      <td>1630639</td>\n",
       "      <td>1610612750</td>\n",
       "      <td>22200212</td>\n",
       "      <td>2</td>\n",
       "      <td>1</td>\n",
       "      <td>1</td>\n",
       "      <td>1.000</td>\n",
       "      <td>0</td>\n",
       "      <td>...</td>\n",
       "      <td>1</td>\n",
       "      <td>0</td>\n",
       "      <td>0</td>\n",
       "      <td>0</td>\n",
       "      <td>0</td>\n",
       "      <td>1</td>\n",
       "      <td>2</td>\n",
       "      <td>-5</td>\n",
       "      <td>4</td>\n",
       "      <td>465.5</td>\n",
       "    </tr>\n",
       "    <tr>\n",
       "      <th>1</th>\n",
       "      <td>AJ Green</td>\n",
       "      <td>Milwaukee Bucks</td>\n",
       "      <td>14681340</td>\n",
       "      <td>14495514741</td>\n",
       "      <td>199802455</td>\n",
       "      <td>48</td>\n",
       "      <td>7</td>\n",
       "      <td>14</td>\n",
       "      <td>1.584</td>\n",
       "      <td>6</td>\n",
       "      <td>...</td>\n",
       "      <td>7</td>\n",
       "      <td>2</td>\n",
       "      <td>1</td>\n",
       "      <td>0</td>\n",
       "      <td>1</td>\n",
       "      <td>7</td>\n",
       "      <td>23</td>\n",
       "      <td>-19</td>\n",
       "      <td>42</td>\n",
       "      <td>404.0</td>\n",
       "    </tr>\n",
       "    <tr>\n",
       "      <th>2</th>\n",
       "      <td>AJ Griffin</td>\n",
       "      <td>Atlanta Hawks</td>\n",
       "      <td>34253100</td>\n",
       "      <td>33822867477</td>\n",
       "      <td>466204467</td>\n",
       "      <td>413</td>\n",
       "      <td>80</td>\n",
       "      <td>176</td>\n",
       "      <td>9.065</td>\n",
       "      <td>33</td>\n",
       "      <td>...</td>\n",
       "      <td>43</td>\n",
       "      <td>18</td>\n",
       "      <td>24</td>\n",
       "      <td>1</td>\n",
       "      <td>16</td>\n",
       "      <td>24</td>\n",
       "      <td>202</td>\n",
       "      <td>-20</td>\n",
       "      <td>366</td>\n",
       "      <td>201.0</td>\n",
       "    </tr>\n",
       "    <tr>\n",
       "      <th>3</th>\n",
       "      <td>Aaron Gordon</td>\n",
       "      <td>Denver Nuggets</td>\n",
       "      <td>4282572</td>\n",
       "      <td>33822867603</td>\n",
       "      <td>466203773</td>\n",
       "      <td>618</td>\n",
       "      <td>134</td>\n",
       "      <td>217</td>\n",
       "      <td>12.529</td>\n",
       "      <td>23</td>\n",
       "      <td>...</td>\n",
       "      <td>141</td>\n",
       "      <td>48</td>\n",
       "      <td>14</td>\n",
       "      <td>17</td>\n",
       "      <td>30</td>\n",
       "      <td>38</td>\n",
       "      <td>349</td>\n",
       "      <td>113</td>\n",
       "      <td>691</td>\n",
       "      <td>73.0</td>\n",
       "    </tr>\n",
       "    <tr>\n",
       "      <th>4</th>\n",
       "      <td>Aaron Holiday</td>\n",
       "      <td>Atlanta Hawks</td>\n",
       "      <td>35837736</td>\n",
       "      <td>35433480214</td>\n",
       "      <td>488403737</td>\n",
       "      <td>390</td>\n",
       "      <td>38</td>\n",
       "      <td>92</td>\n",
       "      <td>8.115</td>\n",
       "      <td>15</td>\n",
       "      <td>...</td>\n",
       "      <td>34</td>\n",
       "      <td>33</td>\n",
       "      <td>13</td>\n",
       "      <td>5</td>\n",
       "      <td>19</td>\n",
       "      <td>37</td>\n",
       "      <td>103</td>\n",
       "      <td>5</td>\n",
       "      <td>233</td>\n",
       "      <td>278.0</td>\n",
       "    </tr>\n",
       "    <tr>\n",
       "      <th>...</th>\n",
       "      <td>...</td>\n",
       "      <td>...</td>\n",
       "      <td>...</td>\n",
       "      <td>...</td>\n",
       "      <td>...</td>\n",
       "      <td>...</td>\n",
       "      <td>...</td>\n",
       "      <td>...</td>\n",
       "      <td>...</td>\n",
       "      <td>...</td>\n",
       "      <td>...</td>\n",
       "      <td>...</td>\n",
       "      <td>...</td>\n",
       "      <td>...</td>\n",
       "      <td>...</td>\n",
       "      <td>...</td>\n",
       "      <td>...</td>\n",
       "      <td>...</td>\n",
       "      <td>...</td>\n",
       "      <td>...</td>\n",
       "      <td>...</td>\n",
       "    </tr>\n",
       "    <tr>\n",
       "      <th>477</th>\n",
       "      <td>Zach Collins</td>\n",
       "      <td>San Antonio Spurs</td>\n",
       "      <td>22797320</td>\n",
       "      <td>22548578626</td>\n",
       "      <td>310802145</td>\n",
       "      <td>264</td>\n",
       "      <td>45</td>\n",
       "      <td>95</td>\n",
       "      <td>6.913</td>\n",
       "      <td>10</td>\n",
       "      <td>...</td>\n",
       "      <td>75</td>\n",
       "      <td>38</td>\n",
       "      <td>9</td>\n",
       "      <td>14</td>\n",
       "      <td>28</td>\n",
       "      <td>49</td>\n",
       "      <td>111</td>\n",
       "      <td>-79</td>\n",
       "      <td>299</td>\n",
       "      <td>235.0</td>\n",
       "    </tr>\n",
       "    <tr>\n",
       "      <th>478</th>\n",
       "      <td>Zach LaVine</td>\n",
       "      <td>Chicago Bulls</td>\n",
       "      <td>4077940</td>\n",
       "      <td>32212254820</td>\n",
       "      <td>444003997</td>\n",
       "      <td>685</td>\n",
       "      <td>155</td>\n",
       "      <td>367</td>\n",
       "      <td>8.302</td>\n",
       "      <td>59</td>\n",
       "      <td>...</td>\n",
       "      <td>94</td>\n",
       "      <td>85</td>\n",
       "      <td>26</td>\n",
       "      <td>1</td>\n",
       "      <td>47</td>\n",
       "      <td>48</td>\n",
       "      <td>443</td>\n",
       "      <td>-36</td>\n",
       "      <td>708</td>\n",
       "      <td>65.0</td>\n",
       "    </tr>\n",
       "    <tr>\n",
       "      <th>479</th>\n",
       "      <td>Zeke Nnaji</td>\n",
       "      <td>Denver Nuggets</td>\n",
       "      <td>29343456</td>\n",
       "      <td>28991029374</td>\n",
       "      <td>399603568</td>\n",
       "      <td>179</td>\n",
       "      <td>33</td>\n",
       "      <td>56</td>\n",
       "      <td>8.131</td>\n",
       "      <td>3</td>\n",
       "      <td>...</td>\n",
       "      <td>25</td>\n",
       "      <td>4</td>\n",
       "      <td>3</td>\n",
       "      <td>3</td>\n",
       "      <td>9</td>\n",
       "      <td>26</td>\n",
       "      <td>77</td>\n",
       "      <td>-62</td>\n",
       "      <td>127</td>\n",
       "      <td>336.0</td>\n",
       "    </tr>\n",
       "    <tr>\n",
       "      <th>480</th>\n",
       "      <td>Ziaire Williams</td>\n",
       "      <td>Memphis Grizzlies</td>\n",
       "      <td>1630533</td>\n",
       "      <td>1610612763</td>\n",
       "      <td>22200368</td>\n",
       "      <td>19</td>\n",
       "      <td>2</td>\n",
       "      <td>9</td>\n",
       "      <td>0.222</td>\n",
       "      <td>0</td>\n",
       "      <td>...</td>\n",
       "      <td>6</td>\n",
       "      <td>3</td>\n",
       "      <td>2</td>\n",
       "      <td>0</td>\n",
       "      <td>0</td>\n",
       "      <td>3</td>\n",
       "      <td>4</td>\n",
       "      <td>15</td>\n",
       "      <td>19</td>\n",
       "      <td>432.0</td>\n",
       "    </tr>\n",
       "    <tr>\n",
       "      <th>481</th>\n",
       "      <td>Zion Williamson</td>\n",
       "      <td>New Orleans Pelicans</td>\n",
       "      <td>30962913</td>\n",
       "      <td>30601642060</td>\n",
       "      <td>421803680</td>\n",
       "      <td>611</td>\n",
       "      <td>174</td>\n",
       "      <td>292</td>\n",
       "      <td>11.454</td>\n",
       "      <td>3</td>\n",
       "      <td>...</td>\n",
       "      <td>137</td>\n",
       "      <td>82</td>\n",
       "      <td>24</td>\n",
       "      <td>12</td>\n",
       "      <td>53</td>\n",
       "      <td>42</td>\n",
       "      <td>454</td>\n",
       "      <td>127</td>\n",
       "      <td>812</td>\n",
       "      <td>40.0</td>\n",
       "    </tr>\n",
       "  </tbody>\n",
       "</table>\n",
       "<p>482 rows × 27 columns</p>\n",
       "</div>"
      ],
      "text/plain": [
       "         PLAYER_NAME               TEAM_NAME  PLAYER_ID      TEAM_ID  \\\n",
       "0        A.J. Lawson  Minnesota Timberwolves    1630639   1610612750   \n",
       "1           AJ Green         Milwaukee Bucks   14681340  14495514741   \n",
       "2         AJ Griffin           Atlanta Hawks   34253100  33822867477   \n",
       "3       Aaron Gordon          Denver Nuggets    4282572  33822867603   \n",
       "4      Aaron Holiday           Atlanta Hawks   35837736  35433480214   \n",
       "..               ...                     ...        ...          ...   \n",
       "477     Zach Collins       San Antonio Spurs   22797320  22548578626   \n",
       "478      Zach LaVine           Chicago Bulls    4077940  32212254820   \n",
       "479       Zeke Nnaji          Denver Nuggets   29343456  28991029374   \n",
       "480  Ziaire Williams       Memphis Grizzlies    1630533   1610612763   \n",
       "481  Zion Williamson    New Orleans Pelicans   30962913  30601642060   \n",
       "\n",
       "       GAME_ID  MIN  FGM  FGA  FG_PCT  FG3M  ...  REB  AST  STL  BLK  TOV  PF  \\\n",
       "0     22200212    2    1    1   1.000     0  ...    1    0    0    0    0   1   \n",
       "1    199802455   48    7   14   1.584     6  ...    7    2    1    0    1   7   \n",
       "2    466204467  413   80  176   9.065    33  ...   43   18   24    1   16  24   \n",
       "3    466203773  618  134  217  12.529    23  ...  141   48   14   17   30  38   \n",
       "4    488403737  390   38   92   8.115    15  ...   34   33   13    5   19  37   \n",
       "..         ...  ...  ...  ...     ...   ...  ...  ...  ...  ...  ...  ...  ..   \n",
       "477  310802145  264   45   95   6.913    10  ...   75   38    9   14   28  49   \n",
       "478  444003997  685  155  367   8.302    59  ...   94   85   26    1   47  48   \n",
       "479  399603568  179   33   56   8.131     3  ...   25    4    3    3    9  26   \n",
       "480   22200368   19    2    9   0.222     0  ...    6    3    2    0    0   3   \n",
       "481  421803680  611  174  292  11.454     3  ...  137   82   24   12   53  42   \n",
       "\n",
       "     PTS  PLUS_MINUS  FANTASY   Rank  \n",
       "0      2          -5        4  465.5  \n",
       "1     23         -19       42  404.0  \n",
       "2    202         -20      366  201.0  \n",
       "3    349         113      691   73.0  \n",
       "4    103           5      233  278.0  \n",
       "..   ...         ...      ...    ...  \n",
       "477  111         -79      299  235.0  \n",
       "478  443         -36      708   65.0  \n",
       "479   77         -62      127  336.0  \n",
       "480    4          15       19  432.0  \n",
       "481  454         127      812   40.0  \n",
       "\n",
       "[482 rows x 27 columns]"
      ]
     },
     "execution_count": 37,
     "metadata": {},
     "output_type": "execute_result"
    }
   ],
   "source": [
    "# Create a new df that is the sums of stats\n",
    "# Create a new df that is the averages per game of stats\n",
    "\n",
    "# Both of these are one row per player.\n",
    "totals = boxdf.groupby(['PLAYER_NAME','TEAM_NAME'], as_index = False).sum()\n",
    "totals['Rank'] = totals['FANTASY'].rank(ascending = False)\n",
    "totals"
   ]
  },
  {
   "cell_type": "code",
   "execution_count": 38,
   "metadata": {},
   "outputs": [
    {
     "data": {
      "text/html": [
       "<div>\n",
       "<style scoped>\n",
       "    .dataframe tbody tr th:only-of-type {\n",
       "        vertical-align: middle;\n",
       "    }\n",
       "\n",
       "    .dataframe tbody tr th {\n",
       "        vertical-align: top;\n",
       "    }\n",
       "\n",
       "    .dataframe thead th {\n",
       "        text-align: right;\n",
       "    }\n",
       "</style>\n",
       "<table border=\"1\" class=\"dataframe\">\n",
       "  <thead>\n",
       "    <tr style=\"text-align: right;\">\n",
       "      <th></th>\n",
       "      <th>PLAYER_NAME</th>\n",
       "      <th>TEAM_NAME</th>\n",
       "      <th>PLAYER_ID</th>\n",
       "      <th>TEAM_ID</th>\n",
       "      <th>GAME_ID</th>\n",
       "      <th>MIN</th>\n",
       "      <th>FGM</th>\n",
       "      <th>FGA</th>\n",
       "      <th>FG_PCT</th>\n",
       "      <th>FG3M</th>\n",
       "      <th>...</th>\n",
       "      <th>REB</th>\n",
       "      <th>AST</th>\n",
       "      <th>STL</th>\n",
       "      <th>BLK</th>\n",
       "      <th>TOV</th>\n",
       "      <th>PF</th>\n",
       "      <th>PTS</th>\n",
       "      <th>PLUS_MINUS</th>\n",
       "      <th>FANTASY</th>\n",
       "      <th>Rank</th>\n",
       "    </tr>\n",
       "  </thead>\n",
       "  <tbody>\n",
       "    <tr>\n",
       "      <th>0</th>\n",
       "      <td>A.J. Lawson</td>\n",
       "      <td>Minnesota Timberwolves</td>\n",
       "      <td>1630639.0</td>\n",
       "      <td>1.610613e+09</td>\n",
       "      <td>2.220021e+07</td>\n",
       "      <td>2.000000</td>\n",
       "      <td>1.000000</td>\n",
       "      <td>1.000000</td>\n",
       "      <td>1.000000</td>\n",
       "      <td>0.000000</td>\n",
       "      <td>...</td>\n",
       "      <td>1.000000</td>\n",
       "      <td>0.000000</td>\n",
       "      <td>0.000000</td>\n",
       "      <td>0.000000</td>\n",
       "      <td>0.000000</td>\n",
       "      <td>1.000000</td>\n",
       "      <td>2.000000</td>\n",
       "      <td>-5.000000</td>\n",
       "      <td>4.000000</td>\n",
       "      <td>437.5</td>\n",
       "    </tr>\n",
       "    <tr>\n",
       "      <th>1</th>\n",
       "      <td>AJ Green</td>\n",
       "      <td>Milwaukee Bucks</td>\n",
       "      <td>1631260.0</td>\n",
       "      <td>1.610613e+09</td>\n",
       "      <td>2.220027e+07</td>\n",
       "      <td>5.333333</td>\n",
       "      <td>0.777778</td>\n",
       "      <td>1.555556</td>\n",
       "      <td>0.396000</td>\n",
       "      <td>0.666667</td>\n",
       "      <td>...</td>\n",
       "      <td>0.777778</td>\n",
       "      <td>0.222222</td>\n",
       "      <td>0.111111</td>\n",
       "      <td>0.000000</td>\n",
       "      <td>0.111111</td>\n",
       "      <td>0.777778</td>\n",
       "      <td>2.555556</td>\n",
       "      <td>-2.111111</td>\n",
       "      <td>4.666667</td>\n",
       "      <td>428.0</td>\n",
       "    </tr>\n",
       "    <tr>\n",
       "      <th>2</th>\n",
       "      <td>AJ Griffin</td>\n",
       "      <td>Atlanta Hawks</td>\n",
       "      <td>1631100.0</td>\n",
       "      <td>1.610613e+09</td>\n",
       "      <td>2.220021e+07</td>\n",
       "      <td>19.666667</td>\n",
       "      <td>3.809524</td>\n",
       "      <td>8.380952</td>\n",
       "      <td>0.431667</td>\n",
       "      <td>1.571429</td>\n",
       "      <td>...</td>\n",
       "      <td>2.047619</td>\n",
       "      <td>0.857143</td>\n",
       "      <td>1.142857</td>\n",
       "      <td>0.047619</td>\n",
       "      <td>0.761905</td>\n",
       "      <td>1.142857</td>\n",
       "      <td>9.619048</td>\n",
       "      <td>-0.952381</td>\n",
       "      <td>17.428571</td>\n",
       "      <td>216.0</td>\n",
       "    </tr>\n",
       "    <tr>\n",
       "      <th>3</th>\n",
       "      <td>Aaron Gordon</td>\n",
       "      <td>Denver Nuggets</td>\n",
       "      <td>203932.0</td>\n",
       "      <td>1.610613e+09</td>\n",
       "      <td>2.220018e+07</td>\n",
       "      <td>29.428571</td>\n",
       "      <td>6.380952</td>\n",
       "      <td>10.333333</td>\n",
       "      <td>0.596619</td>\n",
       "      <td>1.095238</td>\n",
       "      <td>...</td>\n",
       "      <td>6.714286</td>\n",
       "      <td>2.285714</td>\n",
       "      <td>0.666667</td>\n",
       "      <td>0.809524</td>\n",
       "      <td>1.428571</td>\n",
       "      <td>1.809524</td>\n",
       "      <td>16.619048</td>\n",
       "      <td>5.380952</td>\n",
       "      <td>32.904762</td>\n",
       "      <td>69.0</td>\n",
       "    </tr>\n",
       "    <tr>\n",
       "      <th>4</th>\n",
       "      <td>Aaron Holiday</td>\n",
       "      <td>Atlanta Hawks</td>\n",
       "      <td>1628988.0</td>\n",
       "      <td>1.610613e+09</td>\n",
       "      <td>2.220017e+07</td>\n",
       "      <td>17.727273</td>\n",
       "      <td>1.727273</td>\n",
       "      <td>4.181818</td>\n",
       "      <td>0.405750</td>\n",
       "      <td>0.681818</td>\n",
       "      <td>...</td>\n",
       "      <td>1.545455</td>\n",
       "      <td>1.500000</td>\n",
       "      <td>0.590909</td>\n",
       "      <td>0.227273</td>\n",
       "      <td>0.863636</td>\n",
       "      <td>1.681818</td>\n",
       "      <td>4.681818</td>\n",
       "      <td>0.227273</td>\n",
       "      <td>10.590909</td>\n",
       "      <td>331.0</td>\n",
       "    </tr>\n",
       "    <tr>\n",
       "      <th>...</th>\n",
       "      <td>...</td>\n",
       "      <td>...</td>\n",
       "      <td>...</td>\n",
       "      <td>...</td>\n",
       "      <td>...</td>\n",
       "      <td>...</td>\n",
       "      <td>...</td>\n",
       "      <td>...</td>\n",
       "      <td>...</td>\n",
       "      <td>...</td>\n",
       "      <td>...</td>\n",
       "      <td>...</td>\n",
       "      <td>...</td>\n",
       "      <td>...</td>\n",
       "      <td>...</td>\n",
       "      <td>...</td>\n",
       "      <td>...</td>\n",
       "      <td>...</td>\n",
       "      <td>...</td>\n",
       "      <td>...</td>\n",
       "      <td>...</td>\n",
       "    </tr>\n",
       "    <tr>\n",
       "      <th>477</th>\n",
       "      <td>Zach Collins</td>\n",
       "      <td>San Antonio Spurs</td>\n",
       "      <td>1628380.0</td>\n",
       "      <td>1.610613e+09</td>\n",
       "      <td>2.220015e+07</td>\n",
       "      <td>18.857143</td>\n",
       "      <td>3.214286</td>\n",
       "      <td>6.785714</td>\n",
       "      <td>0.493786</td>\n",
       "      <td>0.714286</td>\n",
       "      <td>...</td>\n",
       "      <td>5.357143</td>\n",
       "      <td>2.714286</td>\n",
       "      <td>0.642857</td>\n",
       "      <td>1.000000</td>\n",
       "      <td>2.000000</td>\n",
       "      <td>3.500000</td>\n",
       "      <td>7.928571</td>\n",
       "      <td>-5.642857</td>\n",
       "      <td>21.357143</td>\n",
       "      <td>173.0</td>\n",
       "    </tr>\n",
       "    <tr>\n",
       "      <th>478</th>\n",
       "      <td>Zach LaVine</td>\n",
       "      <td>Chicago Bulls</td>\n",
       "      <td>203897.0</td>\n",
       "      <td>1.610613e+09</td>\n",
       "      <td>2.220020e+07</td>\n",
       "      <td>34.250000</td>\n",
       "      <td>7.750000</td>\n",
       "      <td>18.350000</td>\n",
       "      <td>0.415100</td>\n",
       "      <td>2.950000</td>\n",
       "      <td>...</td>\n",
       "      <td>4.700000</td>\n",
       "      <td>4.250000</td>\n",
       "      <td>1.300000</td>\n",
       "      <td>0.050000</td>\n",
       "      <td>2.350000</td>\n",
       "      <td>2.400000</td>\n",
       "      <td>22.150000</td>\n",
       "      <td>-1.800000</td>\n",
       "      <td>35.400000</td>\n",
       "      <td>50.0</td>\n",
       "    </tr>\n",
       "    <tr>\n",
       "      <th>479</th>\n",
       "      <td>Zeke Nnaji</td>\n",
       "      <td>Denver Nuggets</td>\n",
       "      <td>1630192.0</td>\n",
       "      <td>1.610613e+09</td>\n",
       "      <td>2.220020e+07</td>\n",
       "      <td>9.944444</td>\n",
       "      <td>1.833333</td>\n",
       "      <td>3.111111</td>\n",
       "      <td>0.542067</td>\n",
       "      <td>0.166667</td>\n",
       "      <td>...</td>\n",
       "      <td>1.388889</td>\n",
       "      <td>0.222222</td>\n",
       "      <td>0.166667</td>\n",
       "      <td>0.166667</td>\n",
       "      <td>0.500000</td>\n",
       "      <td>1.444444</td>\n",
       "      <td>4.277778</td>\n",
       "      <td>-3.444444</td>\n",
       "      <td>7.055556</td>\n",
       "      <td>381.0</td>\n",
       "    </tr>\n",
       "    <tr>\n",
       "      <th>480</th>\n",
       "      <td>Ziaire Williams</td>\n",
       "      <td>Memphis Grizzlies</td>\n",
       "      <td>1630533.0</td>\n",
       "      <td>1.610613e+09</td>\n",
       "      <td>2.220037e+07</td>\n",
       "      <td>19.000000</td>\n",
       "      <td>2.000000</td>\n",
       "      <td>9.000000</td>\n",
       "      <td>0.222000</td>\n",
       "      <td>0.000000</td>\n",
       "      <td>...</td>\n",
       "      <td>6.000000</td>\n",
       "      <td>3.000000</td>\n",
       "      <td>2.000000</td>\n",
       "      <td>0.000000</td>\n",
       "      <td>0.000000</td>\n",
       "      <td>3.000000</td>\n",
       "      <td>4.000000</td>\n",
       "      <td>15.000000</td>\n",
       "      <td>19.000000</td>\n",
       "      <td>200.0</td>\n",
       "    </tr>\n",
       "    <tr>\n",
       "      <th>481</th>\n",
       "      <td>Zion Williamson</td>\n",
       "      <td>New Orleans Pelicans</td>\n",
       "      <td>1629627.0</td>\n",
       "      <td>1.610613e+09</td>\n",
       "      <td>2.220019e+07</td>\n",
       "      <td>32.157895</td>\n",
       "      <td>9.157895</td>\n",
       "      <td>15.368421</td>\n",
       "      <td>0.602842</td>\n",
       "      <td>0.157895</td>\n",
       "      <td>...</td>\n",
       "      <td>7.210526</td>\n",
       "      <td>4.315789</td>\n",
       "      <td>1.263158</td>\n",
       "      <td>0.631579</td>\n",
       "      <td>2.789474</td>\n",
       "      <td>2.210526</td>\n",
       "      <td>23.894737</td>\n",
       "      <td>6.684211</td>\n",
       "      <td>42.736842</td>\n",
       "      <td>20.0</td>\n",
       "    </tr>\n",
       "  </tbody>\n",
       "</table>\n",
       "<p>482 rows × 27 columns</p>\n",
       "</div>"
      ],
      "text/plain": [
       "         PLAYER_NAME               TEAM_NAME  PLAYER_ID       TEAM_ID  \\\n",
       "0        A.J. Lawson  Minnesota Timberwolves  1630639.0  1.610613e+09   \n",
       "1           AJ Green         Milwaukee Bucks  1631260.0  1.610613e+09   \n",
       "2         AJ Griffin           Atlanta Hawks  1631100.0  1.610613e+09   \n",
       "3       Aaron Gordon          Denver Nuggets   203932.0  1.610613e+09   \n",
       "4      Aaron Holiday           Atlanta Hawks  1628988.0  1.610613e+09   \n",
       "..               ...                     ...        ...           ...   \n",
       "477     Zach Collins       San Antonio Spurs  1628380.0  1.610613e+09   \n",
       "478      Zach LaVine           Chicago Bulls   203897.0  1.610613e+09   \n",
       "479       Zeke Nnaji          Denver Nuggets  1630192.0  1.610613e+09   \n",
       "480  Ziaire Williams       Memphis Grizzlies  1630533.0  1.610613e+09   \n",
       "481  Zion Williamson    New Orleans Pelicans  1629627.0  1.610613e+09   \n",
       "\n",
       "          GAME_ID        MIN       FGM        FGA    FG_PCT      FG3M  ...  \\\n",
       "0    2.220021e+07   2.000000  1.000000   1.000000  1.000000  0.000000  ...   \n",
       "1    2.220027e+07   5.333333  0.777778   1.555556  0.396000  0.666667  ...   \n",
       "2    2.220021e+07  19.666667  3.809524   8.380952  0.431667  1.571429  ...   \n",
       "3    2.220018e+07  29.428571  6.380952  10.333333  0.596619  1.095238  ...   \n",
       "4    2.220017e+07  17.727273  1.727273   4.181818  0.405750  0.681818  ...   \n",
       "..            ...        ...       ...        ...       ...       ...  ...   \n",
       "477  2.220015e+07  18.857143  3.214286   6.785714  0.493786  0.714286  ...   \n",
       "478  2.220020e+07  34.250000  7.750000  18.350000  0.415100  2.950000  ...   \n",
       "479  2.220020e+07   9.944444  1.833333   3.111111  0.542067  0.166667  ...   \n",
       "480  2.220037e+07  19.000000  2.000000   9.000000  0.222000  0.000000  ...   \n",
       "481  2.220019e+07  32.157895  9.157895  15.368421  0.602842  0.157895  ...   \n",
       "\n",
       "          REB       AST       STL       BLK       TOV        PF        PTS  \\\n",
       "0    1.000000  0.000000  0.000000  0.000000  0.000000  1.000000   2.000000   \n",
       "1    0.777778  0.222222  0.111111  0.000000  0.111111  0.777778   2.555556   \n",
       "2    2.047619  0.857143  1.142857  0.047619  0.761905  1.142857   9.619048   \n",
       "3    6.714286  2.285714  0.666667  0.809524  1.428571  1.809524  16.619048   \n",
       "4    1.545455  1.500000  0.590909  0.227273  0.863636  1.681818   4.681818   \n",
       "..        ...       ...       ...       ...       ...       ...        ...   \n",
       "477  5.357143  2.714286  0.642857  1.000000  2.000000  3.500000   7.928571   \n",
       "478  4.700000  4.250000  1.300000  0.050000  2.350000  2.400000  22.150000   \n",
       "479  1.388889  0.222222  0.166667  0.166667  0.500000  1.444444   4.277778   \n",
       "480  6.000000  3.000000  2.000000  0.000000  0.000000  3.000000   4.000000   \n",
       "481  7.210526  4.315789  1.263158  0.631579  2.789474  2.210526  23.894737   \n",
       "\n",
       "     PLUS_MINUS    FANTASY   Rank  \n",
       "0     -5.000000   4.000000  437.5  \n",
       "1     -2.111111   4.666667  428.0  \n",
       "2     -0.952381  17.428571  216.0  \n",
       "3      5.380952  32.904762   69.0  \n",
       "4      0.227273  10.590909  331.0  \n",
       "..          ...        ...    ...  \n",
       "477   -5.642857  21.357143  173.0  \n",
       "478   -1.800000  35.400000   50.0  \n",
       "479   -3.444444   7.055556  381.0  \n",
       "480   15.000000  19.000000  200.0  \n",
       "481    6.684211  42.736842   20.0  \n",
       "\n",
       "[482 rows x 27 columns]"
      ]
     },
     "execution_count": 38,
     "metadata": {},
     "output_type": "execute_result"
    }
   ],
   "source": [
    "\n",
    "means = boxdf.groupby(['PLAYER_NAME', 'TEAM_NAME'], as_index = False).mean()\n",
    "means['Rank'] = means['FANTASY'].rank(ascending = False)\n",
    "means"
   ]
  },
  {
   "cell_type": "code",
   "execution_count": 39,
   "metadata": {},
   "outputs": [
    {
     "data": {
      "text/plain": [
       "19.569505424854892"
      ]
     },
     "execution_count": 39,
     "metadata": {},
     "output_type": "execute_result"
    }
   ],
   "source": [
    "means['MIN'].mean()"
   ]
  },
  {
   "cell_type": "code",
   "execution_count": 40,
   "metadata": {},
   "outputs": [
    {
     "data": {
      "text/plain": [
       "Text(0.5, 0, 'Total Turnovers')"
      ]
     },
     "execution_count": 40,
     "metadata": {},
     "output_type": "execute_result"
    },
    {
     "data": {
      "image/png": "[encoded data removed]",
      "text/plain": [
       "<Figure size 432x288 with 1 Axes>"
      ]
     },
     "metadata": {
      "needs_background": "light"
     },
     "output_type": "display_data"
    }
   ],
   "source": [
    "# Scatterplot for assists vs. turnovers\n",
    "fig = plt.figure()\n",
    "ax = fig.add_subplot(111)\n",
    "ax.scatter(totals['TOV'], totals['AST'])\n",
    "plt.axhline(y = totals['AST'].mean(), color = 'g', label = 'Average Total Turnovers')\n",
    "plt.axvline(x = totals['TOV'].mean(), color = 'r')\n",
    "plt.ylabel('Total Assists')\n",
    "plt.xlabel('Total Turnovers')\n",
    "\n",
    "# Need to put in a minutes minimum\n",
    "# For the app:choose which team to filter by"
   ]
  },
  {
   "cell_type": "code",
   "execution_count": 41,
   "metadata": {},
   "outputs": [
    {
     "data": {
      "application/vnd.plotly.v1+json": {
       "config": {
        "plotlyServerURL": "https://plot.ly"
       },
       "data": [
        {
         "customdata": [
          [
           "A.J. Lawson",
           "Minnesota Timberwolves"
          ],
          [
           "AJ Green",
           "Milwaukee Bucks"
          ],
          [
           "AJ Griffin",
           "Atlanta Hawks"
          ],
          [
           "Aaron Gordon",
           "Denver Nuggets"
          ],
          [
           "Aaron Holiday",
           "Atlanta Hawks"
          ],
          [
           "Aaron Nesmith",
           "Indiana Pacers"
          ],
          [
           "Aaron Wiggins",
           "Oklahoma City Thunder"
          ],
          [
           "Admiral Schofield",
           "Orlando Magic"
          ],
          [
           "Al Horford",
           "Boston Celtics"
          ],
          [
           "Alec Burks",
           "Detroit Pistons"
          ],
          [
           "Aleksej Pokusevski",
           "Oklahoma City Thunder"
          ],
          [
           "Alex Caruso",
           "Chicago Bulls"
          ],
          [
           "Alex Len",
           "Sacramento Kings"
          ],
          [
           "Alize Johnson",
           "San Antonio Spurs"
          ],
          [
           "Alperen Sengun",
           "Houston Rockets"
          ],
          [
           "Amir Coffey",
           "LA Clippers"
          ],
          [
           "Andre Drummond",
           "Chicago Bulls"
          ],
          [
           "Andrew Nembhard",
           "Indiana Pacers"
          ],
          [
           "Andrew Wiggins",
           "Golden State Warriors"
          ],
          [
           "Anfernee Simons",
           "Portland Trail Blazers"
          ],
          [
           "Anthony Davis",
           "Los Angeles Lakers"
          ],
          [
           "Anthony Edwards",
           "Minnesota Timberwolves"
          ],
          [
           "Anthony Gill",
           "Washington Wizards"
          ],
          [
           "Anthony Lamb",
           "Golden State Warriors"
          ],
          [
           "Austin Reaves",
           "Los Angeles Lakers"
          ],
          [
           "Austin Rivers",
           "Minnesota Timberwolves"
          ],
          [
           "Ayo Dosunmu",
           "Chicago Bulls"
          ],
          [
           "Bam Adebayo",
           "Miami Heat"
          ],
          [
           "Ben Simmons",
           "Brooklyn Nets"
          ],
          [
           "Bennedict Mathurin",
           "Indiana Pacers"
          ],
          [
           "Bismack Biyombo",
           "Phoenix Suns"
          ],
          [
           "Blake Griffin",
           "Boston Celtics"
          ],
          [
           "Blake Wesley",
           "San Antonio Spurs"
          ],
          [
           "Boban Marjanovic",
           "Houston Rockets"
          ],
          [
           "Bobby Portis",
           "Milwaukee Bucks"
          ],
          [
           "Bogdan Bogdanovic",
           "Atlanta Hawks"
          ],
          [
           "Bojan Bogdanovic",
           "Detroit Pistons"
          ],
          [
           "Bol Bol",
           "Orlando Magic"
          ],
          [
           "Bones Hyland",
           "Denver Nuggets"
          ],
          [
           "Bradley Beal",
           "Washington Wizards"
          ],
          [
           "Brandon Boston Jr.",
           "LA Clippers"
          ],
          [
           "Brandon Clarke",
           "Memphis Grizzlies"
          ],
          [
           "Brandon Ingram",
           "New Orleans Pelicans"
          ],
          [
           "Braxton Key",
           "Detroit Pistons"
          ],
          [
           "Brook Lopez",
           "Milwaukee Bucks"
          ],
          [
           "Bruce Brown",
           "Denver Nuggets"
          ],
          [
           "Bruno Fernando",
           "Houston Rockets"
          ],
          [
           "Bryce McGowens",
           "Charlotte Hornets"
          ],
          [
           "Bryn Forbes",
           "Minnesota Timberwolves"
          ],
          [
           "Buddy Boeheim",
           "Detroit Pistons"
          ],
          [
           "Buddy Hield",
           "Indiana Pacers"
          ],
          [
           "CJ McCollum",
           "New Orleans Pelicans"
          ],
          [
           "Cade Cunningham",
           "Detroit Pistons"
          ],
          [
           "Caleb Houstan",
           "Orlando Magic"
          ],
          [
           "Caleb Martin",
           "Miami Heat"
          ],
          [
           "Cam Reddish",
           "New York Knicks"
          ],
          [
           "Cam Thomas",
           "Brooklyn Nets"
          ],
          [
           "Cameron Johnson",
           "Phoenix Suns"
          ],
          [
           "Cameron Payne",
           "Phoenix Suns"
          ],
          [
           "Caris LeVert",
           "Cleveland Cavaliers"
          ],
          [
           "Cedi Osman",
           "Cleveland Cavaliers"
          ],
          [
           "Charles Bassey",
           "San Antonio Spurs"
          ],
          [
           "Chima Moneke",
           "Sacramento Kings"
          ],
          [
           "Chimezie Metu",
           "Sacramento Kings"
          ],
          [
           "Chris Boucher",
           "Toronto Raptors"
          ],
          [
           "Chris Duarte",
           "Indiana Pacers"
          ],
          [
           "Chris Paul",
           "Phoenix Suns"
          ],
          [
           "Christian Braun",
           "Denver Nuggets"
          ],
          [
           "Christian Koloko",
           "Toronto Raptors"
          ],
          [
           "Christian Wood",
           "Dallas Mavericks"
          ],
          [
           "Chuma Okeke",
           "Orlando Magic"
          ],
          [
           "Clint Capela",
           "Atlanta Hawks"
          ],
          [
           "Coby White",
           "Chicago Bulls"
          ],
          [
           "Cody Martin",
           "Charlotte Hornets"
          ],
          [
           "Cole Anthony",
           "Orlando Magic"
          ],
          [
           "Cole Swider",
           "Los Angeles Lakers"
          ],
          [
           "Collin Sexton",
           "Utah Jazz"
          ],
          [
           "Corey Kispert",
           "Washington Wizards"
          ],
          [
           "Cory Joseph",
           "Detroit Pistons"
          ],
          [
           "D'Angelo Russell",
           "Minnesota Timberwolves"
          ],
          [
           "Daishen Nix",
           "Houston Rockets"
          ],
          [
           "Dalano Banton",
           "Toronto Raptors"
          ],
          [
           "Dalen Terry",
           "Chicago Bulls"
          ],
          [
           "Damian Jones",
           "Los Angeles Lakers"
          ],
          [
           "Damian Lillard",
           "Portland Trail Blazers"
          ],
          [
           "Damion Lee",
           "Phoenix Suns"
          ],
          [
           "Daniel Gafford",
           "Washington Wizards"
          ],
          [
           "Danuel House Jr.",
           "Philadelphia 76ers"
          ],
          [
           "Dario Saric",
           "Phoenix Suns"
          ],
          [
           "Darius Bazley",
           "Oklahoma City Thunder"
          ],
          [
           "Darius Garland",
           "Cleveland Cavaliers"
          ],
          [
           "David Duke Jr.",
           "Brooklyn Nets"
          ],
          [
           "David Roddy",
           "Memphis Grizzlies"
          ],
          [
           "Davion Mitchell",
           "Sacramento Kings"
          ],
          [
           "Davis Bertans",
           "Dallas Mavericks"
          ],
          [
           "Davon Reed",
           "Denver Nuggets"
          ],
          [
           "Day'Ron Sharpe",
           "Brooklyn Nets"
          ],
          [
           "De'Aaron Fox",
           "Sacramento Kings"
          ],
          [
           "De'Andre Hunter",
           "Atlanta Hawks"
          ],
          [
           "De'Anthony Melton",
           "Philadelphia 76ers"
          ],
          [
           "DeAndre Jordan",
           "Denver Nuggets"
          ],
          [
           "DeMar DeRozan",
           "Chicago Bulls"
          ],
          [
           "Dean Wade",
           "Cleveland Cavaliers"
          ],
          [
           "Deandre Ayton",
           "Phoenix Suns"
          ],
          [
           "Dejounte Murray",
           "Atlanta Hawks"
          ],
          [
           "Delon Wright",
           "Washington Wizards"
          ],
          [
           "Deni Avdija",
           "Washington Wizards"
          ],
          [
           "Dennis Schroder",
           "Los Angeles Lakers"
          ],
          [
           "Dennis Smith Jr.",
           "Charlotte Hornets"
          ],
          [
           "Dereon Seabron",
           "New Orleans Pelicans"
          ],
          [
           "Derrick Jones Jr.",
           "Chicago Bulls"
          ],
          [
           "Derrick Rose",
           "New York Knicks"
          ],
          [
           "Derrick White",
           "Boston Celtics"
          ],
          [
           "Desmond Bane",
           "Memphis Grizzlies"
          ],
          [
           "Devin Booker",
           "Phoenix Suns"
          ],
          [
           "Devin Vassell",
           "San Antonio Spurs"
          ],
          [
           "Devon Dotson",
           "Washington Wizards"
          ],
          [
           "Devonte' Graham",
           "New Orleans Pelicans"
          ],
          [
           "Dewayne Dedmon",
           "Miami Heat"
          ],
          [
           "Dillon Brooks",
           "Memphis Grizzlies"
          ],
          [
           "Domantas Sabonis",
           "Sacramento Kings"
          ],
          [
           "Dominick Barlow",
           "San Antonio Spurs"
          ],
          [
           "Donovan Mitchell",
           "Cleveland Cavaliers"
          ],
          [
           "Donte DiVincenzo",
           "Golden State Warriors"
          ],
          [
           "Dorian Finney-Smith",
           "Dallas Mavericks"
          ],
          [
           "Doug McDermott",
           "San Antonio Spurs"
          ],
          [
           "Draymond Green",
           "Golden State Warriors"
          ],
          [
           "Drew Eubanks",
           "Portland Trail Blazers"
          ],
          [
           "Dru Smith",
           "Miami Heat"
          ],
          [
           "Duane Washington Jr.",
           "Phoenix Suns"
          ],
          [
           "Duncan Robinson",
           "Miami Heat"
          ],
          [
           "Dwight Powell",
           "Dallas Mavericks"
          ],
          [
           "Dyson Daniels",
           "New Orleans Pelicans"
          ],
          [
           "Edmond Sumner",
           "Brooklyn Nets"
          ],
          [
           "Eric Gordon",
           "Houston Rockets"
          ],
          [
           "Eugene Omoruyi",
           "Oklahoma City Thunder"
          ],
          [
           "Evan Fournier",
           "New York Knicks"
          ],
          [
           "Evan Mobley",
           "Cleveland Cavaliers"
          ],
          [
           "Facundo Campazzo",
           "Dallas Mavericks"
          ],
          [
           "Frank Kaminsky",
           "Atlanta Hawks"
          ],
          [
           "Frank Ntilikina",
           "Dallas Mavericks"
          ],
          [
           "Franz Wagner",
           "Orlando Magic"
          ],
          [
           "Fred VanVleet",
           "Toronto Raptors"
          ],
          [
           "Furkan Korkmaz",
           "Philadelphia 76ers"
          ],
          [
           "Gabe Vincent",
           "Miami Heat"
          ],
          [
           "Garrett Temple",
           "New Orleans Pelicans"
          ],
          [
           "Garrison Mathews",
           "Houston Rockets"
          ],
          [
           "Gary Harris",
           "Orlando Magic"
          ],
          [
           "Gary Trent Jr.",
           "Toronto Raptors"
          ],
          [
           "George Hill",
           "Milwaukee Bucks"
          ],
          [
           "Georges Niang",
           "Philadelphia 76ers"
          ],
          [
           "Giannis Antetokounmpo",
           "Milwaukee Bucks"
          ],
          [
           "Goga Bitadze",
           "Indiana Pacers"
          ],
          [
           "Goran Dragic",
           "Chicago Bulls"
          ],
          [
           "Gordon Hayward",
           "Charlotte Hornets"
          ],
          [
           "Gorgui Dieng",
           "San Antonio Spurs"
          ],
          [
           "Grant Williams",
           "Boston Celtics"
          ],
          [
           "Grayson Allen",
           "Milwaukee Bucks"
          ],
          [
           "Greg Brown III",
           "Portland Trail Blazers"
          ],
          [
           "Hamidou Diallo",
           "Detroit Pistons"
          ],
          [
           "Harrison Barnes",
           "Sacramento Kings"
          ],
          [
           "Haywood Highsmith",
           "Miami Heat"
          ],
          [
           "Herbert Jones",
           "New Orleans Pelicans"
          ],
          [
           "Immanuel Quickley",
           "New York Knicks"
          ],
          [
           "Isaac Okoro",
           "Cleveland Cavaliers"
          ],
          [
           "Isaiah Hartenstein",
           "New York Knicks"
          ],
          [
           "Isaiah Jackson",
           "Indiana Pacers"
          ],
          [
           "Isaiah Joe",
           "Oklahoma City Thunder"
          ],
          [
           "Isaiah Livers",
           "Detroit Pistons"
          ],
          [
           "Isaiah Mobley",
           "Cleveland Cavaliers"
          ],
          [
           "Isaiah Roby",
           "San Antonio Spurs"
          ],
          [
           "Isaiah Stewart",
           "Detroit Pistons"
          ],
          [
           "Isaiah Todd",
           "Washington Wizards"
          ],
          [
           "Ish Smith",
           "Denver Nuggets"
          ],
          [
           "Ish Wainright",
           "Phoenix Suns"
          ],
          [
           "Ivica Zubac",
           "LA Clippers"
          ],
          [
           "JD Davison",
           "Boston Celtics"
          ],
          [
           "JT Thor",
           "Charlotte Hornets"
          ],
          [
           "Ja Morant",
           "Memphis Grizzlies"
          ],
          [
           "JaMychal Green",
           "Golden State Warriors"
          ],
          [
           "JaVale McGee",
           "Dallas Mavericks"
          ],
          [
           "Jabari Smith Jr.",
           "Houston Rockets"
          ],
          [
           "Jabari Walker",
           "Portland Trail Blazers"
          ],
          [
           "Jack White",
           "Denver Nuggets"
          ],
          [
           "Jaden Hardy",
           "Dallas Mavericks"
          ],
          [
           "Jaden Ivey",
           "Detroit Pistons"
          ],
          [
           "Jaden McDaniels",
           "Minnesota Timberwolves"
          ],
          [
           "Jaden Springer",
           "Philadelphia 76ers"
          ],
          [
           "Jae'Sean Tate",
           "Houston Rockets"
          ],
          [
           "Jake LaRavia",
           "Memphis Grizzlies"
          ],
          [
           "Jakob Poeltl",
           "San Antonio Spurs"
          ],
          [
           "Jalen Brunson",
           "New York Knicks"
          ],
          [
           "Jalen Duren",
           "Detroit Pistons"
          ],
          [
           "Jalen Green",
           "Houston Rockets"
          ],
          [
           "Jalen Johnson",
           "Atlanta Hawks"
          ],
          [
           "Jalen McDaniels",
           "Charlotte Hornets"
          ],
          [
           "Jalen Smith",
           "Indiana Pacers"
          ],
          [
           "Jalen Suggs",
           "Orlando Magic"
          ],
          [
           "Jalen Williams",
           "Oklahoma City Thunder"
          ],
          [
           "Jamal Cain",
           "Miami Heat"
          ],
          [
           "Jamal Murray",
           "Denver Nuggets"
          ],
          [
           "James Bouknight",
           "Charlotte Hornets"
          ],
          [
           "James Harden",
           "Philadelphia 76ers"
          ],
          [
           "James Johnson",
           "Indiana Pacers"
          ],
          [
           "James Wiseman",
           "Golden State Warriors"
          ],
          [
           "Jaren Jackson Jr.",
           "Memphis Grizzlies"
          ],
          [
           "Jarred Vanderbilt",
           "Utah Jazz"
          ],
          [
           "Jarrett Allen",
           "Cleveland Cavaliers"
          ],
          [
           "Jarrett Culver",
           "Atlanta Hawks"
          ],
          [
           "Jason Preston",
           "LA Clippers"
          ],
          [
           "Javonte Green",
           "Chicago Bulls"
          ],
          [
           "Jaxson Hayes",
           "New Orleans Pelicans"
          ],
          [
           "Jaylen Brown",
           "Boston Celtics"
          ],
          [
           "Jaylen Nowell",
           "Minnesota Timberwolves"
          ],
          [
           "Jaylin Williams",
           "Oklahoma City Thunder"
          ],
          [
           "Jayson Tatum",
           "Boston Celtics"
          ],
          [
           "Jeff Dowtin Jr.",
           "Toronto Raptors"
          ],
          [
           "Jeff Green",
           "Denver Nuggets"
          ],
          [
           "Jerami Grant",
           "Portland Trail Blazers"
          ],
          [
           "Jeremiah Robinson-Earl",
           "Oklahoma City Thunder"
          ],
          [
           "Jeremy Sochan",
           "San Antonio Spurs"
          ],
          [
           "Jericho Sims",
           "New York Knicks"
          ],
          [
           "Jevon Carter",
           "Milwaukee Bucks"
          ],
          [
           "Jimmy Butler",
           "Miami Heat"
          ],
          [
           "Jock Landale",
           "Phoenix Suns"
          ],
          [
           "Joe Harris",
           "Brooklyn Nets"
          ],
          [
           "Joel Embiid",
           "Philadelphia 76ers"
          ],
          [
           "John Butler Jr.",
           "Portland Trail Blazers"
          ],
          [
           "John Collins",
           "Atlanta Hawks"
          ],
          [
           "John Konchar",
           "Memphis Grizzlies"
          ],
          [
           "John Wall",
           "LA Clippers"
          ],
          [
           "Johnny Davis",
           "Washington Wizards"
          ],
          [
           "Jonas Valanciunas",
           "New Orleans Pelicans"
          ],
          [
           "Jonathan Kuminga",
           "Golden State Warriors"
          ],
          [
           "Jordan Clarkson",
           "Utah Jazz"
          ],
          [
           "Jordan Goodwin",
           "Washington Wizards"
          ],
          [
           "Jordan Hall",
           "San Antonio Spurs"
          ],
          [
           "Jordan McLaughlin",
           "Minnesota Timberwolves"
          ],
          [
           "Jordan Nwora",
           "Milwaukee Bucks"
          ],
          [
           "Jordan Poole",
           "Golden State Warriors"
          ],
          [
           "Jordan Schakel",
           "Washington Wizards"
          ],
          [
           "Jose Alvarado",
           "New Orleans Pelicans"
          ],
          [
           "Josh Christopher",
           "Houston Rockets"
          ],
          [
           "Josh Giddey",
           "Oklahoma City Thunder"
          ],
          [
           "Josh Green",
           "Dallas Mavericks"
          ],
          [
           "Josh Hart",
           "Portland Trail Blazers"
          ],
          [
           "Josh Minott",
           "Minnesota Timberwolves"
          ],
          [
           "Josh Okogie",
           "Phoenix Suns"
          ],
          [
           "Josh Richardson",
           "San Antonio Spurs"
          ],
          [
           "Joshua Primo",
           "San Antonio Spurs"
          ],
          [
           "Jrue Holiday",
           "Milwaukee Bucks"
          ],
          [
           "Juan Toscano-Anderson",
           "Los Angeles Lakers"
          ],
          [
           "Juancho Hernangomez",
           "Toronto Raptors"
          ],
          [
           "Julian Champagnie",
           "Philadelphia 76ers"
          ],
          [
           "Julius Randle",
           "New York Knicks"
          ],
          [
           "Justin Champagnie",
           "Toronto Raptors"
          ],
          [
           "Justin Holiday",
           "Atlanta Hawks"
          ],
          [
           "Justin Jackson",
           "Boston Celtics"
          ],
          [
           "Justise Winslow",
           "Portland Trail Blazers"
          ],
          [
           "Jusuf Nurkic",
           "Portland Trail Blazers"
          ],
          [
           "KZ Okpala",
           "Sacramento Kings"
          ],
          [
           "Kai Jones",
           "Charlotte Hornets"
          ],
          [
           "Karl-Anthony Towns",
           "Minnesota Timberwolves"
          ],
          [
           "Kawhi Leonard",
           "LA Clippers"
          ],
          [
           "Keegan Murray",
           "Sacramento Kings"
          ],
          [
           "Keita Bates-Diop",
           "San Antonio Spurs"
          ],
          [
           "Keldon Johnson",
           "San Antonio Spurs"
          ],
          [
           "Kelly Olynyk",
           "Utah Jazz"
          ],
          [
           "Kelly Oubre Jr.",
           "Charlotte Hornets"
          ],
          [
           "Kendall Brown",
           "Indiana Pacers"
          ],
          [
           "Kendrick Nunn",
           "Los Angeles Lakers"
          ],
          [
           "Kennedy Chandler",
           "Memphis Grizzlies"
          ],
          [
           "Kenneth Lofton Jr.",
           "Memphis Grizzlies"
          ],
          [
           "Kenrich Williams",
           "Oklahoma City Thunder"
          ],
          [
           "Kentavious Caldwell-Pope",
           "Denver Nuggets"
          ],
          [
           "Kenyon Martin Jr.",
           "Houston Rockets"
          ],
          [
           "Keon Ellis",
           "Sacramento Kings"
          ],
          [
           "Keon Johnson",
           "Portland Trail Blazers"
          ],
          [
           "Kessler Edwards",
           "Brooklyn Nets"
          ],
          [
           "Kevin Durant",
           "Brooklyn Nets"
          ],
          [
           "Kevin Huerter",
           "Sacramento Kings"
          ],
          [
           "Kevin Knox II",
           "Detroit Pistons"
          ],
          [
           "Kevin Love",
           "Cleveland Cavaliers"
          ],
          [
           "Kevin Porter Jr.",
           "Houston Rockets"
          ],
          [
           "Kevon Harris",
           "Orlando Magic"
          ],
          [
           "Kevon Looney",
           "Golden State Warriors"
          ],
          [
           "Khem Birch",
           "Toronto Raptors"
          ],
          [
           "Khris Middleton",
           "Milwaukee Bucks"
          ],
          [
           "Killian Hayes",
           "Detroit Pistons"
          ],
          [
           "Klay Thompson",
           "Golden State Warriors"
          ],
          [
           "Kristaps Porzingis",
           "Washington Wizards"
          ],
          [
           "Kyle Anderson",
           "Minnesota Timberwolves"
          ],
          [
           "Kyle Kuzma",
           "Washington Wizards"
          ],
          [
           "Kyle Lowry",
           "Miami Heat"
          ],
          [
           "Kyrie Irving",
           "Brooklyn Nets"
          ],
          [
           "LaMelo Ball",
           "Charlotte Hornets"
          ],
          [
           "Lamar Stevens",
           "Cleveland Cavaliers"
          ],
          [
           "Landry Shamet",
           "Phoenix Suns"
          ],
          [
           "Larry Nance Jr.",
           "New Orleans Pelicans"
          ],
          [
           "Lauri Markkanen",
           "Utah Jazz"
          ],
          [
           "LeBron James",
           "Los Angeles Lakers"
          ],
          [
           "Leandro Bolmaro",
           "Utah Jazz"
          ],
          [
           "Lindy Waters III",
           "Oklahoma City Thunder"
          ],
          [
           "Lonnie Walker IV",
           "Los Angeles Lakers"
          ],
          [
           "Luguentz Dort",
           "Oklahoma City Thunder"
          ],
          [
           "Luka Doncic",
           "Dallas Mavericks"
          ],
          [
           "Luka Garza",
           "Minnesota Timberwolves"
          ],
          [
           "Luke Kennard",
           "LA Clippers"
          ],
          [
           "Luke Kornet",
           "Boston Celtics"
          ],
          [
           "Malachi Flynn",
           "Toronto Raptors"
          ],
          [
           "Malaki Branham",
           "San Antonio Spurs"
          ],
          [
           "Malcolm Brogdon",
           "Boston Celtics"
          ],
          [
           "Malcolm Hill",
           "Chicago Bulls"
          ],
          [
           "Malik Beasley",
           "Utah Jazz"
          ],
          [
           "Malik Monk",
           "Sacramento Kings"
          ],
          [
           "Mamadi Diakite",
           "Cleveland Cavaliers"
          ],
          [
           "MarJon Beauchamp",
           "Milwaukee Bucks"
          ],
          [
           "Marcus Morris Sr.",
           "LA Clippers"
          ],
          [
           "Marcus Smart",
           "Boston Celtics"
          ],
          [
           "Mark Williams",
           "Charlotte Hornets"
          ],
          [
           "Markelle Fultz",
           "Orlando Magic"
          ],
          [
           "Markieff Morris",
           "Brooklyn Nets"
          ],
          [
           "Marko Simonovic",
           "Chicago Bulls"
          ],
          [
           "Marvin Bagley III",
           "Detroit Pistons"
          ],
          [
           "Mason Plumlee",
           "Charlotte Hornets"
          ],
          [
           "Matisse Thybulle",
           "Philadelphia 76ers"
          ],
          [
           "Matt Ryan",
           "Los Angeles Lakers"
          ],
          [
           "Matthew Dellavedova",
           "Sacramento Kings"
          ],
          [
           "Max Christie",
           "Los Angeles Lakers"
          ],
          [
           "Max Strus",
           "Miami Heat"
          ],
          [
           "Maxi Kleber",
           "Dallas Mavericks"
          ],
          [
           "McKinley Wright IV",
           "Dallas Mavericks"
          ],
          [
           "Mfiondu Kabengele",
           "Boston Celtics"
          ],
          [
           "Micah Potter",
           "Utah Jazz"
          ],
          [
           "Michael Foster Jr.",
           "Philadelphia 76ers"
          ],
          [
           "Michael Porter Jr.",
           "Denver Nuggets"
          ],
          [
           "Mikal Bridges",
           "Phoenix Suns"
          ],
          [
           "Mike Conley",
           "Utah Jazz"
          ],
          [
           "Mike Muscala",
           "Oklahoma City Thunder"
          ],
          [
           "Miles McBride",
           "New York Knicks"
          ],
          [
           "Mitchell Robinson",
           "New York Knicks"
          ],
          [
           "Mo Bamba",
           "Orlando Magic"
          ],
          [
           "Monte Morris",
           "Washington Wizards"
          ],
          [
           "Montrezl Harrell",
           "Philadelphia 76ers"
          ],
          [
           "Moritz Wagner",
           "Orlando Magic"
          ],
          [
           "Moses Brown",
           "LA Clippers"
          ],
          [
           "Moses Moody",
           "Golden State Warriors"
          ],
          [
           "Moussa Diabate",
           "LA Clippers"
          ],
          [
           "Myles Turner",
           "Indiana Pacers"
          ],
          [
           "Naji Marshall",
           "New Orleans Pelicans"
          ],
          [
           "Nassir Little",
           "Portland Trail Blazers"
          ],
          [
           "Nathan Knight",
           "Minnesota Timberwolves"
          ],
          [
           "Naz Reid",
           "Minnesota Timberwolves"
          ],
          [
           "Nerlens Noel",
           "Detroit Pistons"
          ],
          [
           "Nic Claxton",
           "Brooklyn Nets"
          ],
          [
           "Nick Richards",
           "Charlotte Hornets"
          ],
          [
           "Nickeil Alexander-Walker",
           "Utah Jazz"
          ],
          [
           "Nicolas Batum",
           "LA Clippers"
          ],
          [
           "Nikola Jokic",
           "Denver Nuggets"
          ],
          [
           "Nikola Jovic",
           "Miami Heat"
          ],
          [
           "Nikola Vucevic",
           "Chicago Bulls"
          ],
          [
           "Noah Vonleh",
           "Boston Celtics"
          ],
          [
           "Norman Powell",
           "LA Clippers"
          ],
          [
           "O.G. Anunoby",
           "Toronto Raptors"
          ],
          [
           "Obi Toppin",
           "New York Knicks"
          ],
          [
           "Ochai Agbaji",
           "Utah Jazz"
          ],
          [
           "Onyeka Okongwu",
           "Atlanta Hawks"
          ],
          [
           "Orlando Robinson",
           "Miami Heat"
          ],
          [
           "Oshae Brissett",
           "Indiana Pacers"
          ],
          [
           "Otto Porter Jr.",
           "Toronto Raptors"
          ],
          [
           "Ousmane Dieng",
           "Oklahoma City Thunder"
          ],
          [
           "P.J. Tucker",
           "Philadelphia 76ers"
          ],
          [
           "P.J. Washington",
           "Charlotte Hornets"
          ],
          [
           "Paolo Banchero",
           "Orlando Magic"
          ],
          [
           "Pascal Siakam",
           "Toronto Raptors"
          ],
          [
           "Pat Connaughton",
           "Milwaukee Bucks"
          ],
          [
           "Patrick Baldwin Jr.",
           "Golden State Warriors"
          ],
          [
           "Patrick Beverley",
           "Los Angeles Lakers"
          ],
          [
           "Patrick Williams",
           "Chicago Bulls"
          ],
          [
           "Patty Mills",
           "Brooklyn Nets"
          ],
          [
           "Paul George",
           "LA Clippers"
          ],
          [
           "Paul Reed",
           "Philadelphia 76ers"
          ],
          [
           "Payton Pritchard",
           "Boston Celtics"
          ],
          [
           "Peyton Watson",
           "Denver Nuggets"
          ],
          [
           "Precious Achiuwa",
           "Toronto Raptors"
          ],
          [
           "Quentin Grimes",
           "New York Knicks"
          ],
          [
           "R.J. Hampton",
           "Orlando Magic"
          ],
          [
           "RJ Barrett",
           "New York Knicks"
          ],
          [
           "Raul Neto",
           "Cleveland Cavaliers"
          ],
          [
           "Reggie Bullock",
           "Dallas Mavericks"
          ],
          [
           "Reggie Jackson",
           "LA Clippers"
          ],
          [
           "Richaun Holmes",
           "Sacramento Kings"
          ],
          [
           "Robert Covington",
           "LA Clippers"
          ],
          [
           "Robin Lopez",
           "Cleveland Cavaliers"
          ],
          [
           "Rodney McGruder",
           "Detroit Pistons"
          ],
          [
           "Romeo Langford",
           "San Antonio Spurs"
          ],
          [
           "Ron Harper Jr.",
           "Toronto Raptors"
          ],
          [
           "Royce O'Neale",
           "Brooklyn Nets"
          ],
          [
           "Rudy Gay",
           "Utah Jazz"
          ],
          [
           "Rudy Gobert",
           "Minnesota Timberwolves"
          ],
          [
           "Rui Hachimura",
           "Washington Wizards"
          ],
          [
           "Russell Westbrook",
           "Los Angeles Lakers"
          ],
          [
           "Ryan Arcidiacono",
           "New York Knicks"
          ],
          [
           "Ryan Rollins",
           "Golden State Warriors"
          ],
          [
           "Saben Lee",
           "Philadelphia 76ers"
          ],
          [
           "Saddiq Bey",
           "Detroit Pistons"
          ],
          [
           "Sam Hauser",
           "Boston Celtics"
          ],
          [
           "Sandro Mamukelashvili",
           "Milwaukee Bucks"
          ],
          [
           "Santi Aldama",
           "Memphis Grizzlies"
          ],
          [
           "Scottie Barnes",
           "Toronto Raptors"
          ],
          [
           "Scotty Pippen Jr.",
           "Los Angeles Lakers"
          ],
          [
           "Serge Ibaka",
           "Milwaukee Bucks"
          ],
          [
           "Seth Curry",
           "Brooklyn Nets"
          ],
          [
           "Shaedon Sharpe",
           "Portland Trail Blazers"
          ],
          [
           "Shai Gilgeous-Alexander",
           "Oklahoma City Thunder"
          ],
          [
           "Shake Milton",
           "Philadelphia 76ers"
          ],
          [
           "Simone Fontecchio",
           "Utah Jazz"
          ],
          [
           "Spencer Dinwiddie",
           "Dallas Mavericks"
          ],
          [
           "Stephen Curry",
           "Golden State Warriors"
          ],
          [
           "Steven Adams",
           "Memphis Grizzlies"
          ],
          [
           "Svi Mykhailiuk",
           "New York Knicks"
          ],
          [
           "T.J. McConnell",
           "Indiana Pacers"
          ],
          [
           "T.J. Warren",
           "Brooklyn Nets"
          ],
          [
           "Taj Gibson",
           "Washington Wizards"
          ],
          [
           "Talen Horton-Tucker",
           "Utah Jazz"
          ],
          [
           "Tari Eason",
           "Houston Rockets"
          ],
          [
           "Taurean Prince",
           "Minnesota Timberwolves"
          ],
          [
           "Terance Mann",
           "LA Clippers"
          ],
          [
           "Terence Davis",
           "Sacramento Kings"
          ],
          [
           "Terrence Ross",
           "Orlando Magic"
          ],
          [
           "Terry Rozier",
           "Charlotte Hornets"
          ],
          [
           "Terry Taylor",
           "Indiana Pacers"
          ],
          [
           "Thaddeus Young",
           "Toronto Raptors"
          ],
          [
           "Thanasis Antetokounmpo",
           "Milwaukee Bucks"
          ],
          [
           "Theo Maledon",
           "Charlotte Hornets"
          ],
          [
           "Theo Pinson",
           "Dallas Mavericks"
          ],
          [
           "Thomas Bryant",
           "Los Angeles Lakers"
          ],
          [
           "Tim Hardaway Jr.",
           "Dallas Mavericks"
          ],
          [
           "Tobias Harris",
           "Philadelphia 76ers"
          ],
          [
           "Tony Bradley",
           "Chicago Bulls"
          ],
          [
           "Torrey Craig",
           "Phoenix Suns"
          ],
          [
           "Trae Young",
           "Atlanta Hawks"
          ],
          [
           "Tre Jones",
           "San Antonio Spurs"
          ],
          [
           "Tre Mann",
           "Oklahoma City Thunder"
          ],
          [
           "Trendon Watford",
           "Portland Trail Blazers"
          ],
          [
           "Trent Forrest",
           "Atlanta Hawks"
          ],
          [
           "Trevelin Queen",
           "Indiana Pacers"
          ],
          [
           "Trevor Hudgins",
           "Houston Rockets"
          ],
          [
           "Trevor Keels",
           "New York Knicks"
          ],
          [
           "Trey Lyles",
           "Sacramento Kings"
          ],
          [
           "Trey Murphy III",
           "New Orleans Pelicans"
          ],
          [
           "Troy Brown Jr.",
           "Los Angeles Lakers"
          ],
          [
           "Ty Jerome",
           "Golden State Warriors"
          ],
          [
           "TyTy Washington Jr.",
           "Houston Rockets"
          ],
          [
           "Tyler Dorsey",
           "Dallas Mavericks"
          ],
          [
           "Tyler Herro",
           "Miami Heat"
          ],
          [
           "Tyrese Haliburton",
           "Indiana Pacers"
          ],
          [
           "Tyrese Martin",
           "Atlanta Hawks"
          ],
          [
           "Tyrese Maxey",
           "Philadelphia 76ers"
          ],
          [
           "Tyus Jones",
           "Memphis Grizzlies"
          ],
          [
           "Udoka Azubuike",
           "Utah Jazz"
          ],
          [
           "Udonis Haslem",
           "Miami Heat"
          ],
          [
           "Usman Garuba",
           "Houston Rockets"
          ],
          [
           "Vernon Carey Jr.",
           "Washington Wizards"
          ],
          [
           "Victor Oladipo",
           "Miami Heat"
          ],
          [
           "Vince Williams Jr.",
           "Memphis Grizzlies"
          ],
          [
           "Vit Krejci",
           "Atlanta Hawks"
          ],
          [
           "Vlatko Cancar",
           "Denver Nuggets"
          ],
          [
           "Walker Kessler",
           "Utah Jazz"
          ],
          [
           "Wendell Carter Jr.",
           "Orlando Magic"
          ],
          [
           "Wendell Moore Jr.",
           "Minnesota Timberwolves"
          ],
          [
           "Wenyen Gabriel",
           "Los Angeles Lakers"
          ],
          [
           "Wesley Matthews",
           "Milwaukee Bucks"
          ],
          [
           "Will Barton",
           "Washington Wizards"
          ],
          [
           "Willy Hernangomez",
           "New Orleans Pelicans"
          ],
          [
           "Xavier Tillman",
           "Memphis Grizzlies"
          ],
          [
           "Yuta Watanabe",
           "Brooklyn Nets"
          ],
          [
           "Zach Collins",
           "San Antonio Spurs"
          ],
          [
           "Zach LaVine",
           "Chicago Bulls"
          ],
          [
           "Zeke Nnaji",
           "Denver Nuggets"
          ],
          [
           "Ziaire Williams",
           "Memphis Grizzlies"
          ],
          [
           "Zion Williamson",
           "New Orleans Pelicans"
          ]
         ],
         "hovertemplate": "TOV=%{x}<br>AST=%{y}<br>PLAYER_NAME=%{customdata[0]}<br>TEAM_NAME=%{customdata[1]}<extra></extra>",
         "legendgroup": "",
         "marker": {
          "color": "#636efa",
          "symbol": "circle"
         },
         "mode": "markers",
         "name": "",
         "orientation": "v",
         "showlegend": false,
         "type": "scatter",
         "x": [
          0,
          1,
          16,
          30,
          19,
          21,
          13,
          4,
          15,
          14,
          31,
          33,
          0,
          3,
          49,
          10,
          21,
          28,
          30,
          48,
          40,
          79,
          4,
          20,
          24,
          6,
          35,
          72,
          39,
          46,
          21,
          6,
          2,
          2,
          29,
          5,
          60,
          56,
          30,
          51,
          3,
          30,
          42,
          0,
          29,
          44,
          5,
          3,
          5,
          0,
          54,
          42,
          39,
          6,
          29,
          15,
          15,
          2,
          47,
          39,
          24,
          19,
          2,
          13,
          15,
          8,
          15,
          6,
          14,
          51,
          9,
          22,
          14,
          0,
          11,
          0,
          48,
          12,
          9,
          66,
          31,
          12,
          4,
          7,
          46,
          19,
          23,
          13,
          6,
          12,
          60,
          9,
          18,
          24,
          2,
          12,
          8,
          56,
          28,
          40,
          25,
          50,
          7,
          43,
          64,
          4,
          33,
          14,
          23,
          0,
          8,
          17,
          24,
          27,
          62,
          30,
          0,
          14,
          13,
          38,
          57,
          0,
          70,
          24,
          23,
          20,
          55,
          17,
          1,
          9,
          12,
          19,
          13,
          23,
          38,
          5,
          14,
          51,
          3,
          3,
          2,
          69,
          36,
          10,
          26,
          3,
          7,
          9,
          25,
          18,
          18,
          73,
          10,
          30,
          28,
          11,
          20,
          25,
          3,
          21,
          27,
          12,
          21,
          36,
          17,
          23,
          23,
          9,
          13,
          0,
          11,
          21,
          0,
          12,
          3,
          57,
          1,
          10,
          79,
          22,
          16,
          26,
          4,
          0,
          2,
          62,
          34,
          0,
          5,
          15,
          48,
          46,
          26,
          80,
          10,
          33,
          30,
          47,
          32,
          2,
          40,
          18,
          33,
          2,
          8,
          15,
          39,
          31,
          5,
          2,
          13,
          3,
          72,
          22,
          2,
          66,
          1,
          17,
          44,
          15,
          31,
          8,
          33,
          30,
          16,
          15,
          66,
          0,
          30,
          18,
          47,
          1,
          46,
          27,
          72,
          17,
          7,
          14,
          20,
          78,
          0,
          32,
          12,
          71,
          17,
          38,
          0,
          10,
          29,
          11,
          60,
          9,
          10,
          0,
          66,
          0,
          11,
          0,
          34,
          51,
          3,
          8,
          65,
          10,
          31,
          17,
          50,
          62,
          29,
          2,
          25,
          8,
          1,
          8,
          30,
          28,
          0,
          13,
          1,
          89,
          35,
          11,
          23,
          89,
          14,
          11,
          4,
          3,
          45,
          33,
          47,
          26,
          61,
          63,
          40,
          11,
          6,
          16,
          22,
          56,
          58,
          3,
          0,
          21,
          35,
          84,
          0,
          15,
          11,
          9,
          11,
          38,
          0,
          26,
          42,
          5,
          18,
          21,
          50,
          2,
          11,
          8,
          0,
          15,
          47,
          3,
          3,
          4,
          3,
          28,
          12,
          0,
          0,
          0,
          0,
          18,
          27,
          25,
          7,
          4,
          10,
          18,
          21,
          13,
          16,
          4,
          20,
          3,
          35,
          21,
          14,
          2,
          15,
          3,
          34,
          22,
          12,
          18,
          68,
          9,
          48,
          10,
          39,
          64,
          19,
          0,
          22,
          1,
          9,
          4,
          7,
          23,
          46,
          55,
          36,
          1,
          1,
          15,
          37,
          7,
          64,
          16,
          12,
          0,
          15,
          16,
          19,
          58,
          6,
          9,
          60,
          5,
          13,
          12,
          3,
          10,
          0,
          45,
          10,
          34,
          22,
          83,
          1,
          12,
          3,
          28,
          7,
          4,
          15,
          56,
          1,
          8,
          20,
          17,
          78,
          38,
          8,
          37,
          72,
          49,
          1,
          40,
          2,
          4,
          34,
          19,
          21,
          28,
          15,
          27,
          43,
          4,
          18,
          4,
          26,
          1,
          5,
          22,
          29,
          0,
          14,
          80,
          47,
          23,
          16,
          2,
          3,
          0,
          0,
          17,
          18,
          21,
          4,
          0,
          0,
          43,
          61,
          0,
          30,
          27,
          2,
          0,
          19,
          1,
          0,
          0,
          3,
          10,
          15,
          39,
          4,
          14,
          6,
          25,
          11,
          7,
          5,
          28,
          47,
          9,
          0,
          53
         ],
         "xaxis": "x",
         "y": [
          0,
          2,
          18,
          48,
          33,
          25,
          30,
          10,
          55,
          23,
          39,
          94,
          2,
          0,
          46,
          30,
          15,
          82,
          48,
          100,
          54,
          96,
          11,
          28,
          47,
          11,
          66,
          75,
          99,
          38,
          16,
          9,
          4,
          1,
          55,
          3,
          64,
          28,
          55,
          97,
          3,
          30,
          70,
          0,
          28,
          109,
          10,
          10,
          9,
          0,
          65,
          118,
          72,
          16,
          46,
          20,
          30,
          14,
          129,
          94,
          42,
          20,
          1,
          15,
          13,
          9,
          97,
          15,
          11,
          29,
          26,
          16,
          24,
          0,
          32,
          1,
          79,
          29,
          62,
          158,
          54,
          23,
          5,
          4,
          83,
          33,
          10,
          17,
          12,
          18,
          150,
          9,
          18,
          52,
          4,
          9,
          9,
          124,
          23,
          74,
          19,
          111,
          17,
          47,
          156,
          13,
          61,
          36,
          85,
          0,
          9,
          42,
          86,
          57,
          144,
          68,
          2,
          51,
          12,
          63,
          151,
          3,
          112,
          41,
          26,
          29,
          162,
          19,
          2,
          11,
          22,
          11,
          34,
          23,
          51,
          4,
          22,
          60,
          9,
          7,
          4,
          95,
          122,
          13,
          56,
          3,
          9,
          12,
          32,
          60,
          26,
          111,
          15,
          74,
          48,
          19,
          45,
          55,
          0,
          23,
          43,
          10,
          35,
          75,
          15,
          20,
          24,
          18,
          13,
          0,
          26,
          27,
          0,
          25,
          10,
          32,
          1,
          8,
          160,
          16,
          4,
          17,
          9,
          0,
          1,
          93,
          27,
          0,
          10,
          16,
          69,
          156,
          14,
          95,
          22,
          58,
          27,
          76,
          53,
          5,
          99,
          26,
          97,
          5,
          11,
          2,
          67,
          23,
          5,
          5,
          18,
          5,
          85,
          50,
          5,
          102,
          8,
          20,
          64,
          22,
          40,
          7,
          85,
          90,
          15,
          40,
          79,
          1,
          28,
          32,
          113,
          2,
          48,
          20,
          131,
          48,
          11,
          64,
          23,
          118,
          1,
          79,
          10,
          119,
          28,
          93,
          1,
          15,
          51,
          18,
          141,
          8,
          13,
          0,
          88,
          1,
          17,
          2,
          78,
          59,
          8,
          4,
          111,
          22,
          19,
          16,
          68,
          87,
          31,
          3,
          25,
          21,
          3,
          29,
          48,
          33,
          0,
          10,
          2,
          143,
          74,
          7,
          43,
          134,
          10,
          72,
          4,
          18,
          135,
          51,
          62,
          52,
          83,
          151,
          83,
          21,
          5,
          18,
          37,
          58,
          109,
          3,
          2,
          36,
          56,
          200,
          0,
          10,
          15,
          18,
          20,
          77,
          0,
          40,
          95,
          2,
          6,
          45,
          168,
          0,
          20,
          15,
          0,
          8,
          103,
          8,
          4,
          11,
          5,
          39,
          20,
          2,
          0,
          1,
          0,
          20,
          80,
          134,
          14,
          21,
          14,
          23,
          114,
          10,
          21,
          1,
          12,
          1,
          27,
          46,
          18,
          0,
          13,
          3,
          31,
          16,
          25,
          37,
          186,
          10,
          68,
          5,
          33,
          53,
          26,
          1,
          24,
          1,
          11,
          8,
          20,
          24,
          61,
          70,
          106,
          4,
          0,
          45,
          19,
          21,
          81,
          12,
          16,
          0,
          16,
          26,
          32,
          71,
          17,
          21,
          111,
          0,
          20,
          8,
          7,
          9,
          0,
          121,
          10,
          18,
          17,
          169,
          2,
          3,
          2,
          40,
          19,
          3,
          34,
          108,
          0,
          4,
          40,
          11,
          139,
          72,
          7,
          120,
          162,
          52,
          0,
          91,
          3,
          4,
          62,
          20,
          21,
          49,
          30,
          29,
          98,
          6,
          43,
          2,
          57,
          2,
          8,
          45,
          59,
          0,
          30,
          218,
          158,
          38,
          25,
          9,
          2,
          0,
          0,
          13,
          32,
          20,
          21,
          0,
          0,
          72,
          254,
          0,
          66,
          113,
          3,
          0,
          23,
          0,
          2,
          2,
          9,
          15,
          14,
          49,
          3,
          13,
          10,
          62,
          5,
          8,
          13,
          38,
          85,
          4,
          3,
          82
         ],
         "yaxis": "y"
        }
       ],
       "layout": {
        "height": 500,
        "legend": {
         "tracegroupgap": 0
        },
        "template": {
         "data": {
          "bar": [
           {
            "error_x": {
             "color": "#2a3f5f"
            },
            "error_y": {
             "color": "#2a3f5f"
            },
            "marker": {
             "line": {
              "color": "#E5ECF6",
              "width": 0.5
             },
             "pattern": {
              "fillmode": "overlay",
              "size": 10,
              "solidity": 0.2
             }
            },
            "type": "bar"
           }
          ],
          "barpolar": [
           {
            "marker": {
             "line": {
              "color": "#E5ECF6",
              "width": 0.5
             },
             "pattern": {
              "fillmode": "overlay",
              "size": 10,
              "solidity": 0.2
             }
            },
            "type": "barpolar"
           }
          ],
          "carpet": [
           {
            "aaxis": {
             "endlinecolor": "#2a3f5f",
             "gridcolor": "white",
             "linecolor": "white",
             "minorgridcolor": "white",
             "startlinecolor": "#2a3f5f"
            },
            "baxis": {
             "endlinecolor": "#2a3f5f",
             "gridcolor": "white",
             "linecolor": "white",
             "minorgridcolor": "white",
             "startlinecolor": "#2a3f5f"
            },
            "type": "carpet"
           }
          ],
          "choropleth": [
           {
            "colorbar": {
             "outlinewidth": 0,
             "ticks": ""
            },
            "type": "choropleth"
           }
          ],
          "contour": [
           {
            "colorbar": {
             "outlinewidth": 0,
             "ticks": ""
            },
            "colorscale": [
             [
              0,
              "#0d0887"
             ],
             [
              0.1111111111111111,
              "#46039f"
             ],
             [
              0.2222222222222222,
              "#7201a8"
             ],
             [
              0.3333333333333333,
              "#9c179e"
             ],
             [
              0.4444444444444444,
              "#bd3786"
             ],
             [
              0.5555555555555556,
              "#d8576b"
             ],
             [
              0.6666666666666666,
              "#ed7953"
             ],
             [
              0.7777777777777778,
              "#fb9f3a"
             ],
             [
              0.8888888888888888,
              "#fdca26"
             ],
             [
              1,
              "#f0f921"
             ]
            ],
            "type": "contour"
           }
          ],
          "contourcarpet": [
           {
            "colorbar": {
             "outlinewidth": 0,
             "ticks": ""
            },
            "type": "contourcarpet"
           }
          ],
          "heatmap": [
           {
            "colorbar": {
             "outlinewidth": 0,
             "ticks": ""
            },
            "colorscale": [
             [
              0,
              "#0d0887"
             ],
             [
              0.1111111111111111,
              "#46039f"
             ],
             [
              0.2222222222222222,
              "#7201a8"
             ],
             [
              0.3333333333333333,
              "#9c179e"
             ],
             [
              0.4444444444444444,
              "#bd3786"
             ],
             [
              0.5555555555555556,
              "#d8576b"
             ],
             [
              0.6666666666666666,
              "#ed7953"
             ],
             [
              0.7777777777777778,
              "#fb9f3a"
             ],
             [
              0.8888888888888888,
              "#fdca26"
             ],
             [
              1,
              "#f0f921"
             ]
            ],
            "type": "heatmap"
           }
          ],
          "heatmapgl": [
           {
            "colorbar": {
             "outlinewidth": 0,
             "ticks": ""
            },
            "colorscale": [
             [
              0,
              "#0d0887"
             ],
             [
              0.1111111111111111,
              "#46039f"
             ],
             [
              0.2222222222222222,
              "#7201a8"
             ],
             [
              0.3333333333333333,
              "#9c179e"
             ],
             [
              0.4444444444444444,
              "#bd3786"
             ],
             [
              0.5555555555555556,
              "#d8576b"
             ],
             [
              0.6666666666666666,
              "#ed7953"
             ],
             [
              0.7777777777777778,
              "#fb9f3a"
             ],
             [
              0.8888888888888888,
              "#fdca26"
             ],
             [
              1,
              "#f0f921"
             ]
            ],
            "type": "heatmapgl"
           }
          ],
          "histogram": [
           {
            "marker": {
             "pattern": {
              "fillmode": "overlay",
              "size": 10,
              "solidity": 0.2
             }
            },
            "type": "histogram"
           }
          ],
          "histogram2d": [
           {
            "colorbar": {
             "outlinewidth": 0,
             "ticks": ""
            },
            "colorscale": [
             [
              0,
              "#0d0887"
             ],
             [
              0.1111111111111111,
              "#46039f"
             ],
             [
              0.2222222222222222,
              "#7201a8"
             ],
             [
              0.3333333333333333,
              "#9c179e"
             ],
             [
              0.4444444444444444,
              "#bd3786"
             ],
             [
              0.5555555555555556,
              "#d8576b"
             ],
             [
              0.6666666666666666,
              "#ed7953"
             ],
             [
              0.7777777777777778,
              "#fb9f3a"
             ],
             [
              0.8888888888888888,
              "#fdca26"
             ],
             [
              1,
              "#f0f921"
             ]
            ],
            "type": "histogram2d"
           }
          ],
          "histogram2dcontour": [
           {
            "colorbar": {
             "outlinewidth": 0,
             "ticks": ""
            },
            "colorscale": [
             [
              0,
              "#0d0887"
             ],
             [
              0.1111111111111111,
              "#46039f"
             ],
             [
              0.2222222222222222,
              "#7201a8"
             ],
             [
              0.3333333333333333,
              "#9c179e"
             ],
             [
              0.4444444444444444,
              "#bd3786"
             ],
             [
              0.5555555555555556,
              "#d8576b"
             ],
             [
              0.6666666666666666,
              "#ed7953"
             ],
             [
              0.7777777777777778,
              "#fb9f3a"
             ],
             [
              0.8888888888888888,
              "#fdca26"
             ],
             [
              1,
              "#f0f921"
             ]
            ],
            "type": "histogram2dcontour"
           }
          ],
          "mesh3d": [
           {
            "colorbar": {
             "outlinewidth": 0,
             "ticks": ""
            },
            "type": "mesh3d"
           }
          ],
          "parcoords": [
           {
            "line": {
             "colorbar": {
              "outlinewidth": 0,
              "ticks": ""
             }
            },
            "type": "parcoords"
           }
          ],
          "pie": [
           {
            "automargin": true,
            "type": "pie"
           }
          ],
          "scatter": [
           {
            "fillpattern": {
             "fillmode": "overlay",
             "size": 10,
             "solidity": 0.2
            },
            "type": "scatter"
           }
          ],
          "scatter3d": [
           {
            "line": {
             "colorbar": {
              "outlinewidth": 0,
              "ticks": ""
             }
            },
            "marker": {
             "colorbar": {
              "outlinewidth": 0,
              "ticks": ""
             }
            },
            "type": "scatter3d"
           }
          ],
          "scattercarpet": [
           {
            "marker": {
             "colorbar": {
              "outlinewidth": 0,
              "ticks": ""
             }
            },
            "type": "scattercarpet"
           }
          ],
          "scattergeo": [
           {
            "marker": {
             "colorbar": {
              "outlinewidth": 0,
              "ticks": ""
             }
            },
            "type": "scattergeo"
           }
          ],
          "scattergl": [
           {
            "marker": {
             "colorbar": {
              "outlinewidth": 0,
              "ticks": ""
             }
            },
            "type": "scattergl"
           }
          ],
          "scattermapbox": [
           {
            "marker": {
             "colorbar": {
              "outlinewidth": 0,
              "ticks": ""
             }
            },
            "type": "scattermapbox"
           }
          ],
          "scatterpolar": [
           {
            "marker": {
             "colorbar": {
              "outlinewidth": 0,
              "ticks": ""
             }
            },
            "type": "scatterpolar"
           }
          ],
          "scatterpolargl": [
           {
            "marker": {
             "colorbar": {
              "outlinewidth": 0,
              "ticks": ""
             }
            },
            "type": "scatterpolargl"
           }
          ],
          "scatterternary": [
           {
            "marker": {
             "colorbar": {
              "outlinewidth": 0,
              "ticks": ""
             }
            },
            "type": "scatterternary"
           }
          ],
          "surface": [
           {
            "colorbar": {
             "outlinewidth": 0,
             "ticks": ""
            },
            "colorscale": [
             [
              0,
              "#0d0887"
             ],
             [
              0.1111111111111111,
              "#46039f"
             ],
             [
              0.2222222222222222,
              "#7201a8"
             ],
             [
              0.3333333333333333,
              "#9c179e"
             ],
             [
              0.4444444444444444,
              "#bd3786"
             ],
             [
              0.5555555555555556,
              "#d8576b"
             ],
             [
              0.6666666666666666,
              "#ed7953"
             ],
             [
              0.7777777777777778,
              "#fb9f3a"
             ],
             [
              0.8888888888888888,
              "#fdca26"
             ],
             [
              1,
              "#f0f921"
             ]
            ],
            "type": "surface"
           }
          ],
          "table": [
           {
            "cells": {
             "fill": {
              "color": "#EBF0F8"
             },
             "line": {
              "color": "white"
             }
            },
            "header": {
             "fill": {
              "color": "#C8D4E3"
             },
             "line": {
              "color": "white"
             }
            },
            "type": "table"
           }
          ]
         },
         "layout": {
          "annotationdefaults": {
           "arrowcolor": "#2a3f5f",
           "arrowhead": 0,
           "arrowwidth": 1
          },
          "autotypenumbers": "strict",
          "coloraxis": {
           "colorbar": {
            "outlinewidth": 0,
            "ticks": ""
           }
          },
          "colorscale": {
           "diverging": [
            [
             0,
             "#8e0152"
            ],
            [
             0.1,
             "#c51b7d"
            ],
            [
             0.2,
             "#de77ae"
            ],
            [
             0.3,
             "#f1b6da"
            ],
            [
             0.4,
             "#fde0ef"
            ],
            [
             0.5,
             "#f7f7f7"
            ],
            [
             0.6,
             "#e6f5d0"
            ],
            [
             0.7,
             "#b8e186"
            ],
            [
             0.8,
             "#7fbc41"
            ],
            [
             0.9,
             "#4d9221"
            ],
            [
             1,
             "#276419"
            ]
           ],
           "sequential": [
            [
             0,
             "#0d0887"
            ],
            [
             0.1111111111111111,
             "#46039f"
            ],
            [
             0.2222222222222222,
             "#7201a8"
            ],
            [
             0.3333333333333333,
             "#9c179e"
            ],
            [
             0.4444444444444444,
             "#bd3786"
            ],
            [
             0.5555555555555556,
             "#d8576b"
            ],
            [
             0.6666666666666666,
             "#ed7953"
            ],
            [
             0.7777777777777778,
             "#fb9f3a"
            ],
            [
             0.8888888888888888,
             "#fdca26"
            ],
            [
             1,
             "#f0f921"
            ]
           ],
           "sequentialminus": [
            [
             0,
             "#0d0887"
            ],
            [
             0.1111111111111111,
             "#46039f"
            ],
            [
             0.2222222222222222,
             "#7201a8"
            ],
            [
             0.3333333333333333,
             "#9c179e"
            ],
            [
             0.4444444444444444,
             "#bd3786"
            ],
            [
             0.5555555555555556,
             "#d8576b"
            ],
            [
             0.6666666666666666,
             "#ed7953"
            ],
            [
             0.7777777777777778,
             "#fb9f3a"
            ],
            [
             0.8888888888888888,
             "#fdca26"
            ],
            [
             1,
             "#f0f921"
            ]
           ]
          },
          "colorway": [
           "#636efa",
           "#EF553B",
           "#00cc96",
           "#ab63fa",
           "#FFA15A",
           "#19d3f3",
           "#FF6692",
           "#B6E880",
           "#FF97FF",
           "#FECB52"
          ],
          "font": {
           "color": "#2a3f5f"
          },
          "geo": {
           "bgcolor": "white",
           "lakecolor": "white",
           "landcolor": "#E5ECF6",
           "showlakes": true,
           "showland": true,
           "subunitcolor": "white"
          },
          "hoverlabel": {
           "align": "left"
          },
          "hovermode": "closest",
          "mapbox": {
           "style": "light"
          },
          "paper_bgcolor": "white",
          "plot_bgcolor": "#E5ECF6",
          "polar": {
           "angularaxis": {
            "gridcolor": "white",
            "linecolor": "white",
            "ticks": ""
           },
           "bgcolor": "#E5ECF6",
           "radialaxis": {
            "gridcolor": "white",
            "linecolor": "white",
            "ticks": ""
           }
          },
          "scene": {
           "xaxis": {
            "backgroundcolor": "#E5ECF6",
            "gridcolor": "white",
            "gridwidth": 2,
            "linecolor": "white",
            "showbackground": true,
            "ticks": "",
            "zerolinecolor": "white"
           },
           "yaxis": {
            "backgroundcolor": "#E5ECF6",
            "gridcolor": "white",
            "gridwidth": 2,
            "linecolor": "white",
            "showbackground": true,
            "ticks": "",
            "zerolinecolor": "white"
           },
           "zaxis": {
            "backgroundcolor": "#E5ECF6",
            "gridcolor": "white",
            "gridwidth": 2,
            "linecolor": "white",
            "showbackground": true,
            "ticks": "",
            "zerolinecolor": "white"
           }
          },
          "shapedefaults": {
           "line": {
            "color": "#2a3f5f"
           }
          },
          "ternary": {
           "aaxis": {
            "gridcolor": "white",
            "linecolor": "white",
            "ticks": ""
           },
           "baxis": {
            "gridcolor": "white",
            "linecolor": "white",
            "ticks": ""
           },
           "bgcolor": "#E5ECF6",
           "caxis": {
            "gridcolor": "white",
            "linecolor": "white",
            "ticks": ""
           }
          },
          "title": {
           "x": 0.05
          },
          "xaxis": {
           "automargin": true,
           "gridcolor": "white",
           "linecolor": "white",
           "ticks": "",
           "title": {
            "standoff": 15
           },
           "zerolinecolor": "white",
           "zerolinewidth": 2
          },
          "yaxis": {
           "automargin": true,
           "gridcolor": "white",
           "linecolor": "white",
           "ticks": "",
           "title": {
            "standoff": 15
           },
           "zerolinecolor": "white",
           "zerolinewidth": 2
          }
         }
        },
        "title": {
         "text": "Total Assists vs. Total Turnovers"
        },
        "width": 500,
        "xaxis": {
         "anchor": "y",
         "domain": [
          0,
          1
         ],
         "title": {
          "text": "TOV"
         }
        },
        "yaxis": {
         "anchor": "x",
         "domain": [
          0,
          1
         ],
         "title": {
          "text": "AST"
         }
        }
       }
      }
     },
     "metadata": {},
     "output_type": "display_data"
    }
   ],
   "source": [
    "fig = px.scatter(totals, x = 'TOV', y ='AST',\n",
    "    title = 'Total Assists vs. Total Turnovers',\n",
    "    hover_data = ['PLAYER_NAME', 'TEAM_NAME'], \n",
    "    width = 500, height = 500)\n",
    "fig.show()\n",
    "# fig.to_html(full_html = False, include_plotlyjs = 'cdn')"
   ]
  },
  {
   "cell_type": "code",
   "execution_count": 42,
   "metadata": {},
   "outputs": [
    {
     "data": {
      "text/plain": [
       "Text(0, 0.5, 'Average points scored')"
      ]
     },
     "execution_count": 42,
     "metadata": {},
     "output_type": "execute_result"
    },
    {
     "data": {
      "image/png": "[encoded data removed]",
      "text/plain": [
       "<Figure size 432x288 with 1 Axes>"
      ]
     },
     "metadata": {
      "needs_background": "light"
     },
     "output_type": "display_data"
    }
   ],
   "source": [
    "# Scatterplot for points vs. mins (maybe with a minimum minutes threshold)\n",
    "fig = plt.figure()\n",
    "ax = fig.add_subplot(111)\n",
    "# ax2 = fig.add_subplot()\n",
    "ax.scatter(means['MIN'], means['PTS'])\n",
    "plt.xlabel('Average minutes played')\n",
    "plt.ylabel('Average points scored')\n"
   ]
  },
  {
   "cell_type": "markdown",
   "metadata": {},
   "source": [
    "Things to make dynamic here:\n",
    "- Category (can be points, rebounds, assists, fantasy points, etc)\n",
    "- updating category should also update the average bar\n",
    "- top n players (from like 3 to 25) With a selection bar?\n",
    "- Counts vs average? or both?"
   ]
  },
  {
   "cell_type": "code",
   "execution_count": 43,
   "metadata": {},
   "outputs": [
    {
     "data": {
      "text/plain": [
       "<matplotlib.lines.Line2D at 0x2c955ab5d90>"
      ]
     },
     "execution_count": 43,
     "metadata": {},
     "output_type": "execute_result"
    },
    {
     "data": {
      "image/png": "[encoded data removed]",
      "text/plain": [
       "<Figure size 432x288 with 1 Axes>"
      ]
     },
     "metadata": {
      "needs_background": "light"
     },
     "output_type": "display_data"
    }
   ],
   "source": [
    "# Top 15 most points average (with the league average included)\n",
    "fig = plt.figure()\n",
    "ax = fig.add_subplot(111)\n",
    "sns.set_style('dark')\n",
    "plt.title('NBA Points Leaders')\n",
    "plt.xlabel('Points Per Game')\n",
    "plt.ylabel('Player Name')\n",
    "# Get a list of top 15 average points, and the average points\n",
    "points = means['PTS'].sort_values(ascending = False).head(10)\n",
    "ax.barh(means.iloc[points.index]['PLAYER_NAME'], points)\n",
    "ax.axvline(means['PTS'].mean(), color = 'r')"
   ]
  },
  {
   "cell_type": "code",
   "execution_count": 44,
   "metadata": {},
   "outputs": [
    {
     "data": {
      "text/plain": [
       "<matplotlib.lines.Line2D at 0x2c955b14f10>"
      ]
     },
     "execution_count": 44,
     "metadata": {},
     "output_type": "execute_result"
    },
    {
     "data": {
      "image/png": "[encoded data removed]",
      "text/plain": [
       "<Figure size 432x288 with 1 Axes>"
      ]
     },
     "metadata": {},
     "output_type": "display_data"
    }
   ],
   "source": [
    "fig = plt.figure()\n",
    "ax = fig.add_subplot(111)\n",
    "sns.set_style('dark')\n",
    "plt.title('NBA Rebounds Leaders')\n",
    "plt.xlabel('Rebounds Per Game')\n",
    "plt.ylabel('Player Name')\n",
    "# Get a list of top 15 average points, and the average points\n",
    "rebounds = means['REB'].sort_values(ascending = False).head(10)\n",
    "ax.barh(means.iloc[rebounds.index]['PLAYER_NAME'], rebounds)\n",
    "ax.axvline(means['REB'].mean(), color = 'r')"
   ]
  },
  {
   "cell_type": "code",
   "execution_count": 45,
   "metadata": {},
   "outputs": [
    {
     "data": {
      "text/plain": [
       "<matplotlib.lines.Line2D at 0x2c955bec4f0>"
      ]
     },
     "execution_count": 45,
     "metadata": {},
     "output_type": "execute_result"
    },
    {
     "data": {
      "image/png": "[encoded data removed]",
      "text/plain": [
       "<Figure size 432x288 with 1 Axes>"
      ]
     },
     "metadata": {},
     "output_type": "display_data"
    }
   ],
   "source": [
    "fig = plt.figure()\n",
    "ax = fig.add_subplot(111)\n",
    "sns.set_style('dark')\n",
    "plt.title('NBA Assists Leaders')\n",
    "plt.xlabel('Assists Per Game')\n",
    "plt.ylabel('Player Name')\n",
    "# Get a list of top 15 average points, and the average points\n",
    "assists = means['AST'].sort_values(ascending = False).head(10)\n",
    "ax.barh(means.iloc[assists.index]['PLAYER_NAME'], assists)\n",
    "ax.axvline(means['AST'].mean(), color = 'r')"
   ]
  },
  {
   "cell_type": "code",
   "execution_count": 46,
   "metadata": {},
   "outputs": [
    {
     "data": {
      "text/plain": [
       "<matplotlib.lines.Line2D at 0x2c955af6430>"
      ]
     },
     "execution_count": 46,
     "metadata": {},
     "output_type": "execute_result"
    },
    {
     "data": {
      "image/png": "[encoded data removed]",
      "text/plain": [
       "<Figure size 432x288 with 1 Axes>"
      ]
     },
     "metadata": {},
     "output_type": "display_data"
    }
   ],
   "source": [
    "fig = plt.figure()\n",
    "ax = fig.add_subplot(111)\n",
    "sns.set_style('dark')\n",
    "plt.title('NBA Fantasy Points Leaders')\n",
    "plt.xlabel('Fantasy Points Per Game')\n",
    "plt.ylabel('Player Name')\n",
    "# Get a list of top 15 average points, and the average points\n",
    "points = means['FANTASY'].sort_values(ascending = False).head(10)\n",
    "ax.barh(means.iloc[points.index]['PLAYER_NAME'], points)\n",
    "ax.axvline(means['FANTASY'].mean(), color = 'r')"
   ]
  },
  {
   "cell_type": "code",
   "execution_count": 47,
   "metadata": {},
   "outputs": [
    {
     "data": {
      "text/plain": [
       "<matplotlib.lines.Line2D at 0x2c9552af190>"
      ]
     },
     "execution_count": 47,
     "metadata": {},
     "output_type": "execute_result"
    },
    {
     "data": {
      "image/png": "[encoded data removed]",
      "text/plain": [
       "<Figure size 432x288 with 1 Axes>"
      ]
     },
     "metadata": {},
     "output_type": "display_data"
    }
   ],
   "source": [
    "# Top 10 most points total (with the league average included)\n",
    "fig = plt.figure()\n",
    "ax = fig.add_subplot(111)\n",
    "sns.set_style('dark')\n",
    "plt.title('NBA Total Points Leaders')\n",
    "plt.xlabel('Total Points')\n",
    "plt.ylabel('Player Name')\n",
    "# Get a list of top 10 total points and the player names\n",
    "points = totals['PTS'].sort_values(ascending = False).head(10)\n",
    "ax.barh(totals.iloc[points.index]['PLAYER_NAME'], points)\n",
    "ax.axvline(totals['PTS'].mean(), color = 'r')"
   ]
  },
  {
   "cell_type": "code",
   "execution_count": 48,
   "metadata": {},
   "outputs": [
    {
     "data": {
      "text/plain": [
       "<matplotlib.lines.Line2D at 0x2c955d600d0>"
      ]
     },
     "execution_count": 48,
     "metadata": {},
     "output_type": "execute_result"
    },
    {
     "data": {
      "image/png": "[encoded data removed]",
      "text/plain": [
       "<Figure size 432x288 with 1 Axes>"
      ]
     },
     "metadata": {},
     "output_type": "display_data"
    }
   ],
   "source": [
    "# Top 10 most fantasy points average (with the league average included)\n",
    "fig = plt.figure()\n",
    "ax = fig.add_subplot(111)\n",
    "sns.set_style('dark')\n",
    "plt.title('NBA Total Fantasy Leaders')\n",
    "plt.xlabel('Total Fantasy Points')\n",
    "plt.ylabel('Player Name')\n",
    "# Get a list of top 15 average points, and the average points\n",
    "fpoints = totals['FANTASY'].sort_values(ascending = False).head(10)\n",
    "ax.barh(totals.iloc[fpoints.index]['PLAYER_NAME'], fpoints)\n",
    "ax.axvline(totals['FANTASY'].mean(), color = 'r')"
   ]
  },
  {
   "cell_type": "code",
   "execution_count": 49,
   "metadata": {},
   "outputs": [
    {
     "data": {
      "text/plain": [
       "<matplotlib.lines.Line2D at 0x2c955b72a30>"
      ]
     },
     "execution_count": 49,
     "metadata": {},
     "output_type": "execute_result"
    },
    {
     "data": {
      "image/png": "[encoded data removed]",
      "text/plain": [
       "<Figure size 432x288 with 1 Axes>"
      ]
     },
     "metadata": {},
     "output_type": "display_data"
    }
   ],
   "source": [
    "# Top 10 most fantasy points average (with the league average included)\n",
    "fig = plt.figure()\n",
    "ax = fig.add_subplot(111)\n",
    "sns.set_style('dark')\n",
    "plt.title('NBA Total Rebounds Leaders')\n",
    "plt.xlabel('Total Rebounds')\n",
    "plt.ylabel('Player Name')\n",
    "# Get a list of top 15 average points, and the average points\n",
    "rebounds = totals['REB'].sort_values(ascending = False).head(10)\n",
    "ax.barh(totals.iloc[rebounds.index]['PLAYER_NAME'], rebounds)\n",
    "ax.axvline(totals['REB'].mean(), color = 'r')"
   ]
  },
  {
   "cell_type": "code",
   "execution_count": 50,
   "metadata": {},
   "outputs": [
    {
     "data": {
      "text/plain": [
       "<matplotlib.lines.Line2D at 0x2c955d603a0>"
      ]
     },
     "execution_count": 50,
     "metadata": {},
     "output_type": "execute_result"
    },
    {
     "data": {
      "image/png": "[encoded data removed]",
      "text/plain": [
       "<Figure size 432x288 with 1 Axes>"
      ]
     },
     "metadata": {},
     "output_type": "display_data"
    }
   ],
   "source": [
    "# Top 10 most fantasy points average (with the league average included)\n",
    "fig = plt.figure()\n",
    "ax = fig.add_subplot(111)\n",
    "sns.set_style('dark')\n",
    "plt.title('NBA Total Assist Leaders')\n",
    "plt.xlabel('Total Assists')\n",
    "plt.ylabel('Player Name')\n",
    "# Get a list of top 15 average points, and the average points\n",
    "fpoints = totals['AST'].sort_values(ascending = False).head(10)\n",
    "ax.barh(totals.iloc[fpoints.index]['PLAYER_NAME'], fpoints)\n",
    "ax.axvline(totals['AST'].mean(), color = 'r')"
   ]
  },
  {
   "cell_type": "code",
   "execution_count": 51,
   "metadata": {},
   "outputs": [
    {
     "data": {
      "text/plain": [
       "279               Kevin Durant\n",
       "305                Luka Doncic\n",
       "215               Jayson Tatum\n",
       "414    Shai Gilgeous-Alexander\n",
       "418              Stephen Curry\n",
       "114               Devin Booker\n",
       "122           Donovan Mitchell\n",
       "151      Giannis Antetokounmpo\n",
       "441                 Trae Young\n",
       "212               Jaylen Brown\n",
       "Name: PLAYER_NAME, dtype: object"
      ]
     },
     "execution_count": 51,
     "metadata": {},
     "output_type": "execute_result"
    }
   ],
   "source": [
    "means.iloc[points.index]['PLAYER_NAME']"
   ]
  },
  {
   "cell_type": "markdown",
   "metadata": {},
   "source": [
    "Search for a player and compare their stats\n",
    "- show average mins/game\n",
    "- show average fantasy points/game\n",
    "- show their location in boxplot distributions\n"
   ]
  },
  {
   "cell_type": "code",
   "execution_count": 52,
   "metadata": {},
   "outputs": [
    {
     "data": {
      "image/png": "[encoded data removed]",
      "text/plain": [
       "<Figure size 1152x288 with 2 Axes>"
      ]
     },
     "metadata": {},
     "output_type": "display_data"
    }
   ],
   "source": [
    "fig = plt.figure(figsize = (16, 4))\n",
    "ax1 = fig.add_subplot(111)\n",
    "ax2 = fig.add_subplot(122)\n",
    "# Top 15 most rebounds average (with league average included)\n",
    "\n",
    "# Top 15 counts rebounds (with weighted league average included)"
   ]
  },
  {
   "cell_type": "code",
   "execution_count": 53,
   "metadata": {},
   "outputs": [
    {
     "data": {
      "application/vnd.plotly.v1+json": {
       "config": {
        "plotlyServerURL": "https://plot.ly"
       },
       "data": [
        {
         "customdata": [
          [
           "A.J. Lawson",
           "Minnesota Timberwolves",
           2
          ],
          [
           "AJ Green",
           "Milwaukee Bucks",
           0.8750000000000001
          ],
          [
           "AJ Griffin",
           "Atlanta Hawks",
           0.8861985472154963
          ],
          [
           "Aaron Gordon",
           "Denver Nuggets",
           1.1181229773462784
          ],
          [
           "Aaron Holiday",
           "Atlanta Hawks",
           0.5974358974358975
          ],
          [
           "Aaron Nesmith",
           "Indiana Pacers",
           0.7112068965517241
          ],
          [
           "Aaron Wiggins",
           "Oklahoma City Thunder",
           0.7608069164265129
          ],
          [
           "Admiral Schofield",
           "Orlando Magic",
           0.7103825136612022
          ],
          [
           "Al Horford",
           "Boston Celtics",
           0.9125596184419714
          ],
          [
           "Alec Burks",
           "Detroit Pistons",
           1.0517241379310345
          ],
          [
           "Aleksej Pokusevski",
           "Oklahoma City Thunder",
           1.0489795918367346
          ],
          [
           "Alex Caruso",
           "Chicago Bulls",
           0.8498402555910544
          ],
          [
           "Alex Len",
           "Sacramento Kings",
           0.96
          ],
          [
           "Alize Johnson",
           "San Antonio Spurs",
           0.5416666666666666
          ],
          [
           "Alperen Sengun",
           "Houston Rockets",
           1.144901610017889
          ],
          [
           "Amir Coffey",
           "LA Clippers",
           0.4804804804804805
          ],
          [
           "Andre Drummond",
           "Chicago Bulls",
           1.21285140562249
          ],
          [
           "Andrew Nembhard",
           "Indiana Pacers",
           0.9422680412371135
          ],
          [
           "Andrew Wiggins",
           "Golden State Warriors",
           1.130374479889043
          ],
          [
           "Anfernee Simons",
           "Portland Trail Blazers",
           1.0525030525030525
          ],
          [
           "Anthony Davis",
           "Los Angeles Lakers",
           1.7218259629101285
          ],
          [
           "Anthony Edwards",
           "Minnesota Timberwolves",
           1.0672748004561003
          ],
          [
           "Anthony Gill",
           "Washington Wizards",
           0.6311475409836066
          ],
          [
           "Anthony Lamb",
           "Golden State Warriors",
           0.8042813455657492
          ],
          [
           "Austin Reaves",
           "Los Angeles Lakers",
           0.6632653061224489
          ],
          [
           "Austin Rivers",
           "Minnesota Timberwolves",
           0.3989361702127659
          ],
          [
           "Ayo Dosunmu",
           "Chicago Bulls",
           0.7732919254658385
          ],
          [
           "Bam Adebayo",
           "Miami Heat",
           1.0632754342431763
          ],
          [
           "Ben Simmons",
           "Brooklyn Nets",
           1.0842105263157895
          ],
          [
           "Bennedict Mathurin",
           "Indiana Pacers",
           0.7816411682892906
          ],
          [
           "Bismack Biyombo",
           "Phoenix Suns",
           1.0289256198347108
          ],
          [
           "Blake Griffin",
           "Boston Celtics",
           0.7999999999999999
          ],
          [
           "Blake Wesley",
           "San Antonio Spurs",
           1.0869565217391304
          ],
          [
           "Boban Marjanovic",
           "Houston Rockets",
           0.7692307692307693
          ],
          [
           "Bobby Portis",
           "Milwaukee Bucks",
           1.0971786833855801
          ],
          [
           "Bogdan Bogdanovic",
           "Atlanta Hawks",
           0.46376811594202894
          ],
          [
           "Bojan Bogdanovic",
           "Detroit Pistons",
           0.9281288723667905
          ],
          [
           "Bol Bol",
           "Orlando Magic",
           1.1038406827880511
          ],
          [
           "Bones Hyland",
           "Denver Nuggets",
           1.1246290801186944
          ],
          [
           "Bradley Beal",
           "Washington Wizards",
           1.1561514195583595
          ],
          [
           "Brandon Boston Jr.",
           "LA Clippers",
           0.9333333333333333
          ],
          [
           "Brandon Clarke",
           "Memphis Grizzlies",
           1.0349075975359343
          ],
          [
           "Brandon Ingram",
           "New Orleans Pelicans",
           1.1247401247401247
          ],
          [
           "Braxton Key",
           "Detroit Pistons",
           0.6666666666666666
          ],
          [
           "Brook Lopez",
           "Milwaukee Bucks",
           1.1849791376912377
          ],
          [
           "Bruce Brown",
           "Denver Nuggets",
           0.9403606102635228
          ],
          [
           "Bruno Fernando",
           "Houston Rockets",
           1.2545454545454546
          ],
          [
           "Bryce McGowens",
           "Charlotte Hornets",
           0.7364341085271318
          ],
          [
           "Bryn Forbes",
           "Minnesota Timberwolves",
           0.6129032258064515
          ],
          [
           "Buddy Boeheim",
           "Detroit Pistons",
           0
          ],
          [
           "Buddy Hield",
           "Indiana Pacers",
           0.9246231155778895
          ],
          [
           "CJ McCollum",
           "New Orleans Pelicans",
           0.9855282199710564
          ],
          [
           "Cade Cunningham",
           "Detroit Pistons",
           1.050125313283208
          ],
          [
           "Caleb Houstan",
           "Orlando Magic",
           0.47058823529411764
          ],
          [
           "Caleb Martin",
           "Miami Heat",
           0.75
          ],
          [
           "Cam Reddish",
           "New York Knicks",
           0.6849315068493151
          ],
          [
           "Cam Thomas",
           "Brooklyn Nets",
           0.670138888888889
          ],
          [
           "Cameron Johnson",
           "Phoenix Suns",
           1.0544554455445545
          ],
          [
           "Cameron Payne",
           "Phoenix Suns",
           1.0255972696245734
          ],
          [
           "Caris LeVert",
           "Cleveland Cavaliers",
           0.734375
          ],
          [
           "Cedi Osman",
           "Cleveland Cavaliers",
           0.6620689655172414
          ],
          [
           "Charles Bassey",
           "San Antonio Spurs",
           1.2149532710280375
          ],
          [
           "Chima Moneke",
           "Sacramento Kings",
           0
          ],
          [
           "Chimezie Metu",
           "Sacramento Kings",
           1.0379746835443038
          ],
          [
           "Chris Boucher",
           "Toronto Raptors",
           1.0020746887966805
          ],
          [
           "Chris Duarte",
           "Indiana Pacers",
           0.6666666666666666
          ],
          [
           "Chris Paul",
           "Phoenix Suns",
           1.2032258064516128
          ],
          [
           "Christian Braun",
           "Denver Nuggets",
           0.5744680851063829
          ],
          [
           "Christian Koloko",
           "Toronto Raptors",
           0.7395348837209303
          ],
          [
           "Christian Wood",
           "Dallas Mavericks",
           1.0655737704918034
          ],
          [
           "Chuma Okeke",
           "Orlando Magic",
           0.710997442455243
          ],
          [
           "Clint Capela",
           "Atlanta Hawks",
           1.1832543443917853
          ],
          [
           "Coby White",
           "Chicago Bulls",
           0.7306397306397306
          ],
          [
           "Cody Martin",
           "Charlotte Hornets",
           0
          ],
          [
           "Cole Anthony",
           "Orlando Magic",
           0.9878048780487805
          ],
          [
           "Cole Swider",
           "Los Angeles Lakers",
           1
          ],
          [
           "Collin Sexton",
           "Utah Jazz",
           0.8932926829268292
          ],
          [
           "Corey Kispert",
           "Washington Wizards",
           0.7384615384615385
          ],
          [
           "Cory Joseph",
           "Detroit Pistons",
           0.7881619937694704
          ],
          [
           "D'Angelo Russell",
           "Minnesota Timberwolves",
           1.0717131474103585
          ],
          [
           "Daishen Nix",
           "Houston Rockets",
           0.6546546546546546
          ],
          [
           "Dalano Banton",
           "Toronto Raptors",
           1.2233502538071066
          ],
          [
           "Dalen Terry",
           "Chicago Bulls",
           0.6176470588235294
          ],
          [
           "Damian Jones",
           "Los Angeles Lakers",
           0.8813559322033898
          ],
          [
           "Damian Lillard",
           "Portland Trail Blazers",
           1.1306413301662706
          ],
          [
           "Damion Lee",
           "Phoenix Suns",
           0.7810077519379846
          ],
          [
           "Daniel Gafford",
           "Washington Wizards",
           1.173529411764706
          ],
          [
           "Danuel House Jr.",
           "Philadelphia 76ers",
           0.5160493827160494
          ],
          [
           "Dario Saric",
           "Phoenix Suns",
           0.8059701492537313
          ],
          [
           "Darius Bazley",
           "Oklahoma City Thunder",
           1.0607142857142857
          ],
          [
           "Darius Garland",
           "Cleveland Cavaliers",
           1.0921052631578947
          ],
          [
           "David Duke Jr.",
           "Brooklyn Nets",
           0.6237623762376238
          ],
          [
           "David Roddy",
           "Memphis Grizzlies",
           0.5550935550935551
          ],
          [
           "Davion Mitchell",
           "Sacramento Kings",
           0.7020316027088037
          ],
          [
           "Davis Bertans",
           "Dallas Mavericks",
           0.619047619047619
          ],
          [
           "Davon Reed",
           "Denver Nuggets",
           0.44278606965174133
          ],
          [
           "Day'Ron Sharpe",
           "Brooklyn Nets",
           1.0782608695652174
          ],
          [
           "De'Aaron Fox",
           "Sacramento Kings",
           1.3041606886657102
          ],
          [
           "De'Andre Hunter",
           "Atlanta Hawks",
           0.6398763523956723
          ],
          [
           "De'Anthony Melton",
           "Philadelphia 76ers",
           0.9733124018838305
          ],
          [
           "DeAndre Jordan",
           "Denver Nuggets",
           0.9197324414715718
          ],
          [
           "DeMar DeRozan",
           "Chicago Bulls",
           1.1404761904761904
          ],
          [
           "Dean Wade",
           "Cleveland Cavaliers",
           0.6879606879606879
          ],
          [
           "Deandre Ayton",
           "Phoenix Suns",
           1.1929012345679013
          ],
          [
           "Dejounte Murray",
           "Atlanta Hawks",
           1.1889763779527558
          ],
          [
           "Delon Wright",
           "Washington Wizards",
           1.2065217391304348
          ],
          [
           "Deni Avdija",
           "Washington Wizards",
           0.8072487644151566
          ],
          [
           "Dennis Schroder",
           "Los Angeles Lakers",
           0.6793893129770994
          ],
          [
           "Dennis Smith Jr.",
           "Charlotte Hornets",
           1.0833333333333333
          ],
          [
           "Dereon Seabron",
           "New Orleans Pelicans",
           0
          ],
          [
           "Derrick Jones Jr.",
           "Chicago Bulls",
           0.8319672131147541
          ],
          [
           "Derrick Rose",
           "New York Knicks",
           0.9059233449477353
          ],
          [
           "Derrick White",
           "Boston Celtics",
           0.9848254931714718
          ],
          [
           "Desmond Bane",
           "Memphis Grizzlies",
           1.205513784461153
          ],
          [
           "Devin Booker",
           "Phoenix Suns",
           1.2962112514351318
          ],
          [
           "Devin Vassell",
           "San Antonio Spurs",
           1.0598705501618122
          ],
          [
           "Devon Dotson",
           "Washington Wizards",
           0.42857142857142855
          ],
          [
           "Devonte' Graham",
           "New Orleans Pelicans",
           0.863157894736842
          ],
          [
           "Dewayne Dedmon",
           "Miami Heat",
           1.0905349794238683
          ],
          [
           "Dillon Brooks",
           "Memphis Grizzlies",
           0.8457059679767104
          ],
          [
           "Domantas Sabonis",
           "Sacramento Kings",
           1.318918918918919
          ],
          [
           "Dominick Barlow",
           "San Antonio Spurs",
           0.826086956521739
          ],
          [
           "Donovan Mitchell",
           "Cleveland Cavaliers",
           1.2899408284023668
          ],
          [
           "Donte DiVincenzo",
           "Golden State Warriors",
           0.8222222222222223
          ],
          [
           "Dorian Finney-Smith",
           "Dallas Mavericks",
           0.5913705583756345
          ],
          [
           "Doug McDermott",
           "San Antonio Spurs",
           0.7342995169082126
          ],
          [
           "Draymond Green",
           "Golden State Warriors",
           1.0280112044817926
          ],
          [
           "Drew Eubanks",
           "Portland Trail Blazers",
           0.9503916449086162
          ],
          [
           "Dru Smith",
           "Miami Heat",
           0.9347826086956522
          ],
          [
           "Duane Washington Jr.",
           "Phoenix Suns",
           0.5970149253731343
          ],
          [
           "Duncan Robinson",
           "Miami Heat",
           0.5608974358974359
          ],
          [
           "Dwight Powell",
           "Dallas Mavericks",
           0.7679558011049724
          ],
          [
           "Dyson Daniels",
           "New Orleans Pelicans",
           0.8651315789473685
          ],
          [
           "Edmond Sumner",
           "Brooklyn Nets",
           0.8750000000000001
          ],
          [
           "Eric Gordon",
           "Houston Rockets",
           0.6677740863787376
          ],
          [
           "Eugene Omoruyi",
           "Oklahoma City Thunder",
           0.8833333333333333
          ],
          [
           "Evan Fournier",
           "New York Knicks",
           0.6538461538461539
          ],
          [
           "Evan Mobley",
           "Cleveland Cavaliers",
           1.0164512338425382
          ],
          [
           "Facundo Campazzo",
           "Dallas Mavericks",
           0.8269230769230769
          ],
          [
           "Frank Kaminsky",
           "Atlanta Hawks",
           0.7014925373134328
          ],
          [
           "Frank Ntilikina",
           "Dallas Mavericks",
           0.7250000000000001
          ],
          [
           "Franz Wagner",
           "Orlando Magic",
           0.8870967741935484
          ],
          [
           "Fred VanVleet",
           "Toronto Raptors",
           0.9868995633187773
          ],
          [
           "Furkan Korkmaz",
           "Philadelphia 76ers",
           0.6309523809523809
          ],
          [
           "Gabe Vincent",
           "Miami Heat",
           0.6963906581740976
          ],
          [
           "Garrett Temple",
           "New Orleans Pelicans",
           0.8571428571428572
          ],
          [
           "Garrison Mathews",
           "Houston Rockets",
           0.6701388888888888
          ],
          [
           "Gary Harris",
           "Orlando Magic",
           0.7435897435897435
          ],
          [
           "Gary Trent Jr.",
           "Toronto Raptors",
           0.8321060382916053
          ],
          [
           "George Hill",
           "Milwaukee Bucks",
           0.5892116182572614
          ],
          [
           "Georges Niang",
           "Philadelphia 76ers",
           0.8691796008869179
          ],
          [
           "Giannis Antetokounmpo",
           "Milwaukee Bucks",
           1.5945537065052953
          ],
          [
           "Goga Bitadze",
           "Indiana Pacers",
           1.041958041958042
          ],
          [
           "Goran Dragic",
           "Chicago Bulls",
           0.8651399491094148
          ],
          [
           "Gordon Hayward",
           "Charlotte Hornets",
           0.8338028169014085
          ],
          [
           "Gorgui Dieng",
           "San Antonio Spurs",
           0.9914529914529914
          ],
          [
           "Grant Williams",
           "Boston Celtics",
           0.7804532577903683
          ],
          [
           "Grayson Allen",
           "Milwaukee Bucks",
           0.8298245614035088
          ],
          [
           "Greg Brown III",
           "Portland Trail Blazers",
           0.7999999999999999
          ],
          [
           "Hamidou Diallo",
           "Detroit Pistons",
           0.7433862433862435
          ],
          [
           "Harrison Barnes",
           "Sacramento Kings",
           0.7911931818181818
          ],
          [
           "Haywood Highsmith",
           "Miami Heat",
           0.567741935483871
          ],
          [
           "Herbert Jones",
           "New Orleans Pelicans",
           0.8145833333333333
          ],
          [
           "Immanuel Quickley",
           "New York Knicks",
           0.9213286713286712
          ],
          [
           "Isaac Okoro",
           "Cleveland Cavaliers",
           0.45010615711252655
          ],
          [
           "Isaiah Hartenstein",
           "New York Knicks",
           0.9634615384615384
          ],
          [
           "Isaiah Jackson",
           "Indiana Pacers",
           1.098984771573604
          ],
          [
           "Isaiah Joe",
           "Oklahoma City Thunder",
           1.2721518987341771
          ],
          [
           "Isaiah Livers",
           "Detroit Pistons",
           0.62004662004662
          ],
          [
           "Isaiah Mobley",
           "Cleveland Cavaliers",
           1
          ],
          [
           "Isaiah Roby",
           "San Antonio Spurs",
           0.8937007874015749
          ],
          [
           "Isaiah Stewart",
           "Detroit Pistons",
           0.9222423146473779
          ],
          [
           "Isaiah Todd",
           "Washington Wizards",
           0
          ],
          [
           "Ish Smith",
           "Denver Nuggets",
           0.8666666666666667
          ],
          [
           "Ish Wainright",
           "Phoenix Suns",
           0.879032258064516
          ],
          [
           "Ivica Zubac",
           "LA Clippers",
           0.9698870765370138
          ],
          [
           "JD Davison",
           "Boston Celtics",
           0.5555555555555556
          ],
          [
           "JT Thor",
           "Charlotte Hornets",
           0.5359477124183007
          ],
          [
           "Ja Morant",
           "Memphis Grizzlies",
           1.393371757925072
          ],
          [
           "JaMychal Green",
           "Golden State Warriors",
           0.8463768115942029
          ],
          [
           "JaVale McGee",
           "Dallas Mavericks",
           0.9014084507042254
          ],
          [
           "Jabari Smith Jr.",
           "Houston Rockets",
           0.7388167388167388
          ],
          [
           "Jabari Walker",
           "Portland Trail Blazers",
           0.6571428571428571
          ],
          [
           "Jack White",
           "Denver Nuggets",
           0.5769230769230769
          ],
          [
           "Jaden Hardy",
           "Dallas Mavericks",
           0.7368421052631579
          ],
          [
           "Jaden Ivey",
           "Detroit Pistons",
           0.847124824684432
          ],
          [
           "Jaden McDaniels",
           "Minnesota Timberwolves",
           0.842948717948718
          ],
          [
           "Jaden Springer",
           "Philadelphia 76ers",
           2.75
          ],
          [
           "Jae'Sean Tate",
           "Houston Rockets",
           0.8970588235294117
          ],
          [
           "Jake LaRavia",
           "Memphis Grizzlies",
           0.6406779661016949
          ],
          [
           "Jakob Poeltl",
           "San Antonio Spurs",
           1.2266910420475319
          ],
          [
           "Jalen Brunson",
           "New York Knicks",
           1.17103620474407
          ],
          [
           "Jalen Duren",
           "Detroit Pistons",
           0.8400770712909442
          ],
          [
           "Jalen Green",
           "Houston Rockets",
           0.8423586040914561
          ],
          [
           "Jalen Johnson",
           "Atlanta Hawks",
           0.8604651162790697
          ],
          [
           "Jalen McDaniels",
           "Charlotte Hornets",
           0.8802395209580839
          ],
          [
           "Jalen Smith",
           "Indiana Pacers",
           0.9769503546099291
          ],
          [
           "Jalen Suggs",
           "Orlando Magic",
           0.9481481481481482
          ],
          [
           "Jalen Williams",
           "Oklahoma City Thunder",
           0.7936802973977695
          ],
          [
           "Jamal Cain",
           "Miami Heat",
           0.8526315789473684
          ],
          [
           "Jamal Murray",
           "Denver Nuggets",
           1.0383973288814692
          ],
          [
           "James Bouknight",
           "Charlotte Hornets",
           0.5644171779141104
          ],
          [
           "James Harden",
           "Philadelphia 76ers",
           1.2926829268292683
          ],
          [
           "James Johnson",
           "Indiana Pacers",
           0.5806451612903226
          ],
          [
           "James Wiseman",
           "Golden State Warriors",
           0.9673202614379085
          ],
          [
           "Jaren Jackson Jr.",
           "Memphis Grizzlies",
           1.478813559322034
          ],
          [
           "Jarred Vanderbilt",
           "Utah Jazz",
           1.0358306188925082
          ],
          [
           "Jarrett Allen",
           "Cleveland Cavaliers",
           1.0102739726027399
          ],
          [
           "Jarrett Culver",
           "Atlanta Hawks",
           0.7431192660550459
          ],
          [
           "Jason Preston",
           "LA Clippers",
           0.8148148148148148
          ],
          [
           "Javonte Green",
           "Chicago Bulls",
           1.010989010989011
          ],
          [
           "Jaxson Hayes",
           "New Orleans Pelicans",
           0.5076923076923077
          ],
          [
           "Jaylen Brown",
           "Boston Celtics",
           1.1698564593301435
          ],
          [
           "Jaylen Nowell",
           "Minnesota Timberwolves",
           1.0270880361173815
          ],
          [
           "Jaylin Williams",
           "Oklahoma City Thunder",
           0.7608695652173912
          ],
          [
           "Jayson Tatum",
           "Boston Celtics",
           1.4057971014492752
          ],
          [
           "Jeff Dowtin Jr.",
           "Toronto Raptors",
           0.7313432835820896
          ],
          [
           "Jeff Green",
           "Denver Nuggets",
           0.6607142857142857
          ],
          [
           "Jerami Grant",
           "Portland Trail Blazers",
           0.998799519807923
          ],
          [
           "Jeremiah Robinson-Earl",
           "Oklahoma City Thunder",
           0.9289827255278312
          ],
          [
           "Jeremy Sochan",
           "San Antonio Spurs",
           0.7414141414141415
          ],
          [
           "Jericho Sims",
           "New York Knicks",
           1.1441441441441442
          ],
          [
           "Jevon Carter",
           "Milwaukee Bucks",
           0.8878504672897196
          ],
          [
           "Jimmy Butler",
           "Miami Heat",
           1.2274436090225562
          ],
          [
           "Jock Landale",
           "Phoenix Suns",
           1.0671641791044777
          ],
          [
           "Joe Harris",
           "Brooklyn Nets",
           0.665079365079365
          ],
          [
           "Joel Embiid",
           "Philadelphia 76ers",
           1.530035335689046
          ],
          [
           "John Butler Jr.",
           "Portland Trail Blazers",
           0.6
          ],
          [
           "John Collins",
           "Atlanta Hawks",
           0.9163059163059163
          ],
          [
           "John Konchar",
           "Memphis Grizzlies",
           0.8159126365054602
          ],
          [
           "John Wall",
           "LA Clippers",
           1.1201814058956916
          ],
          [
           "Johnny Davis",
           "Washington Wizards",
           0.3333333333333333
          ],
          [
           "Jonas Valanciunas",
           "New Orleans Pelicans",
           1.1272401433691757
          ],
          [
           "Jonathan Kuminga",
           "Golden State Warriors",
           0.6628895184135977
          ],
          [
           "Jordan Clarkson",
           "Utah Jazz",
           0.9535423925667829
          ],
          [
           "Jordan Goodwin",
           "Washington Wizards",
           1.010989010989011
          ],
          [
           "Jordan Hall",
           "San Antonio Spurs",
           0.5058823529411764
          ],
          [
           "Jordan McLaughlin",
           "Minnesota Timberwolves",
           0.9507042253521126
          ],
          [
           "Jordan Nwora",
           "Milwaukee Bucks",
           0.635
          ],
          [
           "Jordan Poole",
           "Golden State Warriors",
           0.9929278642149929
          ],
          [
           "Jordan Schakel",
           "Washington Wizards",
           1.6666666666666667
          ],
          [
           "Jose Alvarado",
           "New Orleans Pelicans",
           1.047244094488189
          ],
          [
           "Josh Christopher",
           "Houston Rockets",
           0.7024793388429752
          ],
          [
           "Josh Giddey",
           "Oklahoma City Thunder",
           0.9940209267563527
          ],
          [
           "Josh Green",
           "Dallas Mavericks",
           0.765072765072765
          ],
          [
           "Josh Hart",
           "Portland Trail Blazers",
           0.819693094629156
          ],
          [
           "Josh Minott",
           "Minnesota Timberwolves",
           2.8
          ],
          [
           "Josh Okogie",
           "Phoenix Suns",
           0.9281437125748503
          ],
          [
           "Josh Richardson",
           "San Antonio Spurs",
           0.7917737789203084
          ],
          [
           "Joshua Primo",
           "San Antonio Spurs",
           0.6382978723404256
          ],
          [
           "Jrue Holiday",
           "Milwaukee Bucks",
           1.2552504038772212
          ],
          [
           "Juan Toscano-Anderson",
           "Los Angeles Lakers",
           0.5034013605442177
          ],
          [
           "Juancho Hernangomez",
           "Toronto Raptors",
           0.7426470588235294
          ],
          [
           "Julian Champagnie",
           "Philadelphia 76ers",
           0.3333333333333333
          ],
          [
           "Julius Randle",
           "New York Knicks",
           1.0734939759036144
          ],
          [
           "Justin Champagnie",
           "Toronto Raptors",
           1.5
          ],
          [
           "Justin Holiday",
           "Atlanta Hawks",
           0.5609756097560975
          ],
          [
           "Justin Jackson",
           "Boston Celtics",
           0.4893617021276595
          ],
          [
           "Justise Winslow",
           "Portland Trail Blazers",
           0.7701149425287356
          ],
          [
           "Jusuf Nurkic",
           "Portland Trail Blazers",
           1.0512
          ],
          [
           "KZ Okpala",
           "Sacramento Kings",
           0.6449275362318841
          ],
          [
           "Kai Jones",
           "Charlotte Hornets",
           0.76
          ],
          [
           "Karl-Anthony Towns",
           "Minnesota Timberwolves",
           1.1974612129760227
          ],
          [
           "Kawhi Leonard",
           "LA Clippers",
           0.8176470588235295
          ],
          [
           "Keegan Murray",
           "Sacramento Kings",
           0.7176470588235294
          ],
          [
           "Keita Bates-Diop",
           "San Antonio Spurs",
           0.794486215538847
          ],
          [
           "Keldon Johnson",
           "San Antonio Spurs",
           0.8920056100981768
          ],
          [
           "Kelly Olynyk",
           "Utah Jazz",
           1.0431937172774868
          ],
          [
           "Kelly Oubre Jr.",
           "Charlotte Hornets",
           1.0012210012210012
          ],
          [
           "Kendall Brown",
           "Indiana Pacers",
           0.825
          ],
          [
           "Kendrick Nunn",
           "Los Angeles Lakers",
           0.5338078291814947
          ],
          [
           "Kennedy Chandler",
           "Memphis Grizzlies",
           0.8301886792452831
          ],
          [
           "Kenneth Lofton Jr.",
           "Memphis Grizzlies",
           0.7368421052631579
          ],
          [
           "Kenrich Williams",
           "Oklahoma City Thunder",
           0.7962529274004684
          ],
          [
           "Kentavious Caldwell-Pope",
           "Denver Nuggets",
           0.7458100558659218
          ],
          [
           "Kenyon Martin Jr.",
           "Houston Rockets",
           0.8355932203389831
          ],
          [
           "Keon Ellis",
           "Sacramento Kings",
           0.3333333333333333
          ],
          [
           "Keon Johnson",
           "Portland Trail Blazers",
           0.6542056074766355
          ],
          [
           "Kessler Edwards",
           "Brooklyn Nets",
           0.5365853658536586
          ],
          [
           "Kevin Durant",
           "Brooklyn Nets",
           1.4443288241415193
          ],
          [
           "Kevin Huerter",
           "Sacramento Kings",
           0.9234972677595629
          ],
          [
           "Kevin Knox II",
           "Detroit Pistons",
           0.7242647058823529
          ],
          [
           "Kevin Love",
           "Cleveland Cavaliers",
           1.038961038961039
          ],
          [
           "Kevin Porter Jr.",
           "Houston Rockets",
           0.967459324155194
          ],
          [
           "Kevon Harris",
           "Orlando Magic",
           0.5822222222222222
          ],
          [
           "Kevon Looney",
           "Golden State Warriors",
           1.001703577512777
          ],
          [
           "Khem Birch",
           "Toronto Raptors",
           0.7608695652173914
          ],
          [
           "Khris Middleton",
           "Milwaukee Bucks",
           0.951219512195122
          ],
          [
           "Killian Hayes",
           "Detroit Pistons",
           0.9228441754916793
          ],
          [
           "Klay Thompson",
           "Golden State Warriors",
           0.9199372056514914
          ],
          [
           "Kristaps Porzingis",
           "Washington Wizards",
           1.271099744245524
          ],
          [
           "Kyle Anderson",
           "Minnesota Timberwolves",
           0.933806146572104
          ],
          [
           "Kyle Kuzma",
           "Washington Wizards",
           0.968636911942099
          ],
          [
           "Kyle Lowry",
           "Miami Heat",
           0.9086908690869087
          ],
          [
           "Kyrie Irving",
           "Brooklyn Nets",
           1.1797583081570995
          ],
          [
           "LaMelo Ball",
           "Charlotte Hornets",
           1.0606060606060606
          ],
          [
           "Lamar Stevens",
           "Cleveland Cavaliers",
           0.6045627376425855
          ],
          [
           "Landry Shamet",
           "Phoenix Suns",
           0.6867469879518072
          ],
          [
           "Larry Nance Jr.",
           "New Orleans Pelicans",
           1.066532258064516
          ],
          [
           "Lauri Markkanen",
           "Utah Jazz",
           1.144154370034052
          ],
          [
           "LeBron James",
           "Los Angeles Lakers",
           1.3527454242928452
          ],
          [
           "Leandro Bolmaro",
           "Utah Jazz",
           0.6086956521739131
          ],
          [
           "Lindy Waters III",
           "Oklahoma City Thunder",
           0.7000000000000001
          ],
          [
           "Lonnie Walker IV",
           "Los Angeles Lakers",
           0.8229813664596273
          ],
          [
           "Luguentz Dort",
           "Oklahoma City Thunder",
           0.826086956521739
          ],
          [
           "Luka Doncic",
           "Dallas Mavericks",
           1.665879574970484
          ],
          [
           "Luka Garza",
           "Minnesota Timberwolves",
           0.8
          ],
          [
           "Luke Kennard",
           "LA Clippers",
           0.658307210031348
          ],
          [
           "Luke Kornet",
           "Boston Celtics",
           1.0943396226415096
          ],
          [
           "Malachi Flynn",
           "Toronto Raptors",
           0.9371428571428572
          ],
          [
           "Malaki Branham",
           "San Antonio Spurs",
           0.4947368421052631
          ],
          [
           "Malcolm Brogdon",
           "Boston Celtics",
           1.1425531914893619
          ],
          [
           "Malcolm Hill",
           "Chicago Bulls",
           1
          ],
          [
           "Malik Beasley",
           "Utah Jazz",
           0.8899721448467968
          ],
          [
           "Malik Monk",
           "Sacramento Kings",
           1.1779497098646035
          ],
          [
           "Mamadi Diakite",
           "Cleveland Cavaliers",
           0.7142857142857142
          ],
          [
           "MarJon Beauchamp",
           "Milwaukee Bucks",
           0.5407725321888412
          ],
          [
           "Marcus Morris Sr.",
           "LA Clippers",
           0.8502906976744186
          ],
          [
           "Marcus Smart",
           "Boston Celtics",
           0.9621621621621622
          ],
          [
           "Mark Williams",
           "Charlotte Hornets",
           1.3333333333333333
          ],
          [
           "Markelle Fultz",
           "Orlando Magic",
           0.746031746031746
          ],
          [
           "Markieff Morris",
           "Brooklyn Nets",
           0.8301886792452832
          ],
          [
           "Marko Simonovic",
           "Chicago Bulls",
           -0.5
          ],
          [
           "Marvin Bagley III",
           "Detroit Pistons",
           0.972972972972973
          ],
          [
           "Mason Plumlee",
           "Charlotte Hornets",
           0.9639769452449568
          ],
          [
           "Matisse Thybulle",
           "Philadelphia 76ers",
           0.5991189427312775
          ],
          [
           "Matt Ryan",
           "Los Angeles Lakers",
           0.4923076923076923
          ],
          [
           "Matthew Dellavedova",
           "Sacramento Kings",
           0.5245901639344263
          ],
          [
           "Max Christie",
           "Los Angeles Lakers",
           0.5952380952380952
          ],
          [
           "Max Strus",
           "Miami Heat",
           0.75
          ],
          [
           "Maxi Kleber",
           "Dallas Mavericks",
           0.6282306163021869
          ],
          [
           "McKinley Wright IV",
           "Dallas Mavericks",
           2
          ],
          [
           "Mfiondu Kabengele",
           "Boston Celtics",
           0.75
          ],
          [
           "Micah Potter",
           "Utah Jazz",
           1
          ],
          [
           "Michael Foster Jr.",
           "Philadelphia 76ers",
           0
          ],
          [
           "Michael Porter Jr.",
           "Denver Nuggets",
           0.9763440860215054
          ],
          [
           "Mikal Bridges",
           "Phoenix Suns",
           0.9627959413754228
          ],
          [
           "Mike Conley",
           "Utah Jazz",
           1.0563380281690142
          ],
          [
           "Mike Muscala",
           "Oklahoma City Thunder",
           0.9807692307692307
          ],
          [
           "Miles McBride",
           "New York Knicks",
           0.6636363636363636
          ],
          [
           "Mitchell Robinson",
           "New York Knicks",
           1.1022443890274314
          ],
          [
           "Mo Bamba",
           "Orlando Magic",
           0.9544235924932977
          ],
          [
           "Monte Morris",
           "Washington Wizards",
           0.9273927392739274
          ],
          [
           "Montrezl Harrell",
           "Philadelphia 76ers",
           0.8166666666666668
          ],
          [
           "Moritz Wagner",
           "Orlando Magic",
           0.941747572815534
          ],
          [
           "Moses Brown",
           "LA Clippers",
           1.3189655172413792
          ],
          [
           "Moses Moody",
           "Golden State Warriors",
           0.5526315789473684
          ],
          [
           "Moussa Diabate",
           "LA Clippers",
           0.9259259259259258
          ],
          [
           "Myles Turner",
           "Indiana Pacers",
           1.3460144927536233
          ],
          [
           "Naji Marshall",
           "New Orleans Pelicans",
           0.7982456140350878
          ],
          [
           "Nassir Little",
           "Portland Trail Blazers",
           0.6894409937888198
          ],
          [
           "Nathan Knight",
           "Minnesota Timberwolves",
           0.6666666666666666
          ],
          [
           "Naz Reid",
           "Minnesota Timberwolves",
           1.1789883268482488
          ],
          [
           "Nerlens Noel",
           "Detroit Pistons",
           0.8387096774193548
          ],
          [
           "Nic Claxton",
           "Brooklyn Nets",
           1.2011412268188302
          ],
          [
           "Nick Richards",
           "Charlotte Hornets",
           1.010548523206751
          ],
          [
           "Nickeil Alexander-Walker",
           "Utah Jazz",
           0.9826589595375722
          ],
          [
           "Nicolas Batum",
           "LA Clippers",
           0.8214285714285715
          ],
          [
           "Nikola Jokic",
           "Denver Nuggets",
           1.6976401179941003
          ],
          [
           "Nikola Jovic",
           "Miami Heat",
           0.7159763313609467
          ],
          [
           "Nikola Vucevic",
           "Chicago Bulls",
           1.0880829015544042
          ],
          [
           "Noah Vonleh",
           "Boston Celtics",
           0.6153846153846154
          ],
          [
           "Norman Powell",
           "LA Clippers",
           0.8576576576576577
          ],
          [
           "O.G. Anunoby",
           "Toronto Raptors",
           1.0186813186813186
          ],
          [
           "Obi Toppin",
           "New York Knicks",
           0.8504672897196262
          ],
          [
           "Ochai Agbaji",
           "Utah Jazz",
           0.5352112676056338
          ],
          [
           "Onyeka Okongwu",
           "Atlanta Hawks",
           0.9695121951219512
          ],
          [
           "Orlando Robinson",
           "Miami Heat",
           0.825
          ],
          [
           "Oshae Brissett",
           "Indiana Pacers",
           0.7724358974358975
          ],
          [
           "Otto Porter Jr.",
           "Toronto Raptors",
           0.8231292517006803
          ],
          [
           "Ousmane Dieng",
           "Oklahoma City Thunder",
           0.7385321100917431
          ],
          [
           "P.J. Tucker",
           "Philadelphia 76ers",
           0.4067055393586006
          ],
          [
           "P.J. Washington",
           "Charlotte Hornets",
           0.8667496886674969
          ],
          [
           "Paolo Banchero",
           "Orlando Magic",
           0.945121951219512
          ],
          [
           "Pascal Siakam",
           "Toronto Raptors",
           1.3892100192678227
          ],
          [
           "Pat Connaughton",
           "Milwaukee Bucks",
           0.64
          ],
          [
           "Patrick Baldwin Jr.",
           "Golden State Warriors",
           1.04
          ],
          [
           "Patrick Beverley",
           "Los Angeles Lakers",
           0.569620253164557
          ],
          [
           "Patrick Williams",
           "Chicago Bulls",
           0.7149681528662419
          ],
          [
           "Patty Mills",
           "Brooklyn Nets",
           0.75
          ],
          [
           "Paul George",
           "LA Clippers",
           1.132569558101473
          ],
          [
           "Paul Reed",
           "Philadelphia 76ers",
           1.2007874015748032
          ],
          [
           "Payton Pritchard",
           "Boston Celtics",
           0.7529411764705882
          ],
          [
           "Peyton Watson",
           "Denver Nuggets",
           0.4
          ],
          [
           "Precious Achiuwa",
           "Toronto Raptors",
           0.8448979591836734
          ],
          [
           "Quentin Grimes",
           "New York Knicks",
           0.7269938650306749
          ],
          [
           "R.J. Hampton",
           "Orlando Magic",
           0.8492307692307692
          ],
          [
           "RJ Barrett",
           "New York Knicks",
           0.7282479141835518
          ],
          [
           "Raul Neto",
           "Cleveland Cavaliers",
           0.7794117647058824
          ],
          [
           "Reggie Bullock",
           "Dallas Mavericks",
           0.4151857835218094
          ],
          [
           "Reggie Jackson",
           "LA Clippers",
           0.721419185282523
          ],
          [
           "Richaun Holmes",
           "Sacramento Kings",
           0.5826771653543307
          ],
          [
           "Robert Covington",
           "LA Clippers",
           0.9263565891472868
          ],
          [
           "Robin Lopez",
           "Cleveland Cavaliers",
           0.5780346820809249
          ],
          [
           "Rodney McGruder",
           "Detroit Pistons",
           0.45588235294117646
          ],
          [
           "Romeo Langford",
           "San Antonio Spurs",
           0.5957446808510639
          ],
          [
           "Ron Harper Jr.",
           "Toronto Raptors",
           1.125
          ],
          [
           "Royce O'Neale",
           "Brooklyn Nets",
           0.76931330472103
          ],
          [
           "Rudy Gay",
           "Utah Jazz",
           0.7171717171717172
          ],
          [
           "Rudy Gobert",
           "Minnesota Timberwolves",
           1.0837070254110612
          ],
          [
           "Rui Hachimura",
           "Washington Wizards",
           0.8053333333333333
          ],
          [
           "Russell Westbrook",
           "Los Angeles Lakers",
           1.0854037267080745
          ],
          [
           "Ryan Arcidiacono",
           "New York Knicks",
           0.5625
          ],
          [
           "Ryan Rollins",
           "Golden State Warriors",
           0.04651162790697674
          ],
          [
           "Saben Lee",
           "Philadelphia 76ers",
           1
          ],
          [
           "Saddiq Bey",
           "Detroit Pistons",
           0.7976710334788937
          ],
          [
           "Sam Hauser",
           "Boston Celtics",
           0.8732057416267943
          ],
          [
           "Sandro Mamukelashvili",
           "Milwaukee Bucks",
           0.6363636363636365
          ],
          [
           "Santi Aldama",
           "Memphis Grizzlies",
           0.9900662251655629
          ],
          [
           "Scottie Barnes",
           "Toronto Raptors",
           0.9958677685950414
          ],
          [
           "Scotty Pippen Jr.",
           "Los Angeles Lakers",
           0
          ],
          [
           "Serge Ibaka",
           "Milwaukee Bucks",
           0.74375
          ],
          [
           "Seth Curry",
           "Brooklyn Nets",
           0.8402203856749312
          ],
          [
           "Shaedon Sharpe",
           "Portland Trail Blazers",
           0.6038961038961039
          ],
          [
           "Shai Gilgeous-Alexander",
           "Oklahoma City Thunder",
           1.47323600973236
          ],
          [
           "Shake Milton",
           "Philadelphia 76ers",
           0.8989690721649485
          ],
          [
           "Simone Fontecchio",
           "Utah Jazz",
           0.7619047619047619
          ],
          [
           "Spencer Dinwiddie",
           "Dallas Mavericks",
           1.0277044854881268
          ],
          [
           "Stephen Curry",
           "Golden State Warriors",
           1.5555555555555554
          ],
          [
           "Steven Adams",
           "Memphis Grizzlies",
           0.946515397082658
          ],
          [
           "Svi Mykhailiuk",
           "New York Knicks",
           0.8888888888888888
          ],
          [
           "T.J. McConnell",
           "Indiana Pacers",
           1.0231362467866323
          ],
          [
           "T.J. Warren",
           "Brooklyn Nets",
           0.5652173913043478
          ],
          [
           "Taj Gibson",
           "Washington Wizards",
           0.9540229885057472
          ],
          [
           "Talen Horton-Tucker",
           "Utah Jazz",
           0.9289099526066351
          ],
          [
           "Tari Eason",
           "Houston Rockets",
           1.1086474501108645
          ],
          [
           "Taurean Prince",
           "Minnesota Timberwolves",
           0.6951566951566951
          ],
          [
           "Terance Mann",
           "LA Clippers",
           0.8292253521126761
          ],
          [
           "Terence Davis",
           "Sacramento Kings",
           1.2337164750957854
          ],
          [
           "Terrence Ross",
           "Orlando Magic",
           0.6199999999999999
          ],
          [
           "Terry Rozier",
           "Charlotte Hornets",
           0.9076682316118936
          ],
          [
           "Terry Taylor",
           "Indiana Pacers",
           0.5555555555555556
          ],
          [
           "Thaddeus Young",
           "Toronto Raptors",
           0.9525065963060687
          ],
          [
           "Thanasis Antetokounmpo",
           "Milwaukee Bucks",
           0.32608695652173914
          ],
          [
           "Theo Maledon",
           "Charlotte Hornets",
           0.883905013192612
          ],
          [
           "Theo Pinson",
           "Dallas Mavericks",
           0.6086956521739131
          ],
          [
           "Thomas Bryant",
           "Los Angeles Lakers",
           1.2592592592592593
          ],
          [
           "Tim Hardaway Jr.",
           "Dallas Mavericks",
           0.8566493955094991
          ],
          [
           "Tobias Harris",
           "Philadelphia 76ers",
           1.0053191489361704
          ],
          [
           "Tony Bradley",
           "Chicago Bulls",
           1.357142857142857
          ],
          [
           "Torrey Craig",
           "Phoenix Suns",
           0.8627450980392156
          ],
          [
           "Trae Young",
           "Atlanta Hawks",
           1.2133168927250308
          ],
          [
           "Tre Jones",
           "San Antonio Spurs",
           1.014388489208633
          ],
          [
           "Tre Mann",
           "Oklahoma City Thunder",
           0.7469135802469136
          ],
          [
           "Trendon Watford",
           "Portland Trail Blazers",
           0.7178571428571429
          ],
          [
           "Trent Forrest",
           "Atlanta Hawks",
           0.6290322580645161
          ],
          [
           "Trevelin Queen",
           "Indiana Pacers",
           0.3
          ],
          [
           "Trevor Hudgins",
           "Houston Rockets",
           1.25
          ],
          [
           "Trevor Keels",
           "New York Knicks",
           0
          ],
          [
           "Trey Lyles",
           "Sacramento Kings",
           0.784
          ],
          [
           "Trey Murphy III",
           "New Orleans Pelicans",
           0.9730586370839936
          ],
          [
           "Troy Brown Jr.",
           "Los Angeles Lakers",
           0.6308851224105462
          ],
          [
           "Ty Jerome",
           "Golden State Warriors",
           0.718562874251497
          ],
          [
           "TyTy Washington Jr.",
           "Houston Rockets",
           0
          ],
          [
           "Tyler Dorsey",
           "Dallas Mavericks",
           4
          ],
          [
           "Tyler Herro",
           "Miami Heat",
           1.0592334494773519
          ],
          [
           "Tyrese Haliburton",
           "Indiana Pacers",
           1.5235602094240837
          ],
          [
           "Tyrese Martin",
           "Atlanta Hawks",
           0.7619047619047619
          ],
          [
           "Tyrese Maxey",
           "Philadelphia 76ers",
           1.0055045871559631
          ],
          [
           "Tyus Jones",
           "Memphis Grizzlies",
           0.9377104377104377
          ],
          [
           "Udoka Azubuike",
           "Utah Jazz",
           1.5757575757575757
          ],
          [
           "Udonis Haslem",
           "Miami Heat",
           0.4166666666666667
          ],
          [
           "Usman Garuba",
           "Houston Rockets",
           1.0267062314540059
          ],
          [
           "Vernon Carey Jr.",
           "Washington Wizards",
           -0.6
          ],
          [
           "Victor Oladipo",
           "Miami Heat",
           0.5789473684210527
          ],
          [
           "Vince Williams Jr.",
           "Memphis Grizzlies",
           0.7999999999999999
          ],
          [
           "Vit Krejci",
           "Atlanta Hawks",
           0.6075949367088608
          ],
          [
           "Vlatko Cancar",
           "Denver Nuggets",
           0.8585858585858586
          ],
          [
           "Walker Kessler",
           "Utah Jazz",
           1.2670157068062828
          ],
          [
           "Wendell Carter Jr.",
           "Orlando Magic",
           0.973630831643002
          ],
          [
           "Wendell Moore Jr.",
           "Minnesota Timberwolves",
           0.5800000000000001
          ],
          [
           "Wenyen Gabriel",
           "Los Angeles Lakers",
           0.9926470588235294
          ],
          [
           "Wesley Matthews",
           "Milwaukee Bucks",
           0.5090252707581228
          ],
          [
           "Will Barton",
           "Washington Wizards",
           0.7271062271062272
          ],
          [
           "Willy Hernangomez",
           "New Orleans Pelicans",
           0.95
          ],
          [
           "Xavier Tillman",
           "Memphis Grizzlies",
           0.84375
          ],
          [
           "Yuta Watanabe",
           "Brooklyn Nets",
           0.96484375
          ],
          [
           "Zach Collins",
           "San Antonio Spurs",
           1.1325757575757576
          ],
          [
           "Zach LaVine",
           "Chicago Bulls",
           1.0335766423357664
          ],
          [
           "Zeke Nnaji",
           "Denver Nuggets",
           0.7094972067039106
          ],
          [
           "Ziaire Williams",
           "Memphis Grizzlies",
           1
          ],
          [
           "Zion Williamson",
           "New Orleans Pelicans",
           1.3289689034369887
          ]
         ],
         "hovertemplate": "MIN=%{x}<br>FANTASY=%{y}<br>PLAYER_NAME=%{customdata[0]}<br>TEAM_NAME=%{customdata[1]}<br>RATE=%{customdata[2]}<extra></extra>",
         "legendgroup": "",
         "marker": {
          "color": "#636efa",
          "symbol": "circle"
         },
         "mode": "markers",
         "name": "",
         "orientation": "v",
         "showlegend": false,
         "type": "scatter",
         "x": [
          2,
          5.333333333333333,
          19.666666666666668,
          29.428571428571427,
          17.727272727272727,
          22.095238095238095,
          19.27777777777778,
          12.2,
          31.45,
          20.714285714285715,
          22.272727272727273,
          26.083333333333332,
          3.125,
          8,
          26.61904761904762,
          15.136363636363637,
          13.833333333333334,
          24.25,
          32.77272727272727,
          37.22727272727273,
          33.38095238095238,
          36.541666666666664,
          11.619047619047619,
          18.166666666666668,
          28.583333333333332,
          13.428571428571429,
          28,
          35.04347826086956,
          27.941176470588236,
          28.76,
          12.1,
          14,
          11.5,
          3.7142857142857144,
          26.583333333333332,
          23,
          31.03846153846154,
          27.03846153846154,
          21.0625,
          35.22222222222222,
          8.571428571428571,
          19.48,
          32.06666666666667,
          3,
          31.26086956521739,
          30.041666666666668,
          13.75,
          12.9,
          10.333333333333334,
          1,
          31.84,
          34.55,
          33.25,
          18.61904761904762,
          32.166666666666664,
          21.9,
          14.4,
          25.25,
          25.47826086956522,
          30.476190476190474,
          23.2,
          15.285714285714286,
          4,
          12.473684210526315,
          22.952380952380953,
          19.666666666666668,
          28.181818181818183,
          12.818181818181818,
          17.2,
          26.142857142857142,
          21.72222222222222,
          27.52173913043478,
          18.5625,
          1,
          27.333333333333332,
          2,
          24.296296296296298,
          26.764705882352942,
          15.285714285714286,
          31.375,
          15.136363636363637,
          10.368421052631579,
          3.4,
          9.076923076923077,
          35.083333333333336,
          20.64,
          13.6,
          18.40909090909091,
          12.181818181818182,
          15.555555555555555,
          36,
          7.769230769230769,
          19.24,
          19.26086956521739,
          7,
          11.166666666666666,
          7.666666666666667,
          31.681818181818183,
          30.80952380952381,
          28.954545454545453,
          15.736842105263158,
          35,
          23.941176470588236,
          28.17391304347826,
          35.56,
          23,
          24.28,
          23.818181818181817,
          28,
          1.5,
          12.842105263157896,
          13.666666666666666,
          25.346153846153847,
          33.25,
          34.84,
          32.526315789473685,
          10.5,
          15.833333333333334,
          12.15,
          31.227272727272727,
          32.17391304347826,
          7.666666666666667,
          36.73913043478261,
          17.5,
          32.833333333333336,
          20.7,
          31.043478260869566,
          17.40909090909091,
          11.5,
          8.933333333333334,
          17.333333333333332,
          17.238095238095237,
          19,
          15.238095238095237,
          30.1,
          13.333333333333334,
          20,
          34.04,
          6.5,
          6.090909090909091,
          5.714285714285714,
          33.38461538461539,
          36.1578947368421,
          12.923076923076923,
          24.789473684210527,
          7.777777777777778,
          13.714285714285714,
          26,
          30.863636363636363,
          20.083333333333332,
          19.608695652173914,
          33.05,
          9.533333333333333,
          17.08695652173913,
          32.27272727272727,
          10.636363636363637,
          28.24,
          27.142857142857142,
          7.142857142857143,
          15.12,
          30.608695652173914,
          19.375,
          28.235294117647058,
          22.88,
          18.84,
          20.8,
          16.416666666666668,
          8.777777777777779,
          19.5,
          3.5714285714285716,
          13.368421052631579,
          27.65,
          3.25,
          12,
          13.777777777777779,
          30.653846153846153,
          3,
          10.2,
          33.04761904761905,
          15,
          8.875,
          30.130434782608695,
          8.076923076923077,
          3.25,
          3.8,
          31,
          29.714285714285715,
          2,
          22.666666666666668,
          18.4375,
          27.35,
          32.04,
          21.625,
          34.625,
          14.956521739130435,
          26.72,
          23.5,
          28.928571428571427,
          25.61904761904762,
          11.875,
          29.95,
          17.157894736842106,
          36.9,
          8.857142857142858,
          12.75,
          26.22222222222222,
          24.56,
          32.44444444444444,
          18.166666666666668,
          6.75,
          16.545454545454547,
          7.222222222222222,
          34.833333333333336,
          18.458333333333332,
          7.666666666666667,
          35.88,
          7.444444444444445,
          19.764705882352942,
          36.21739130434783,
          21.708333333333332,
          24.75,
          13.058823529411764,
          26.75,
          35.46666666666667,
          12.181818181818182,
          26.25,
          35.375,
          3.75,
          31.5,
          27.869565217391305,
          22.05,
          5.625,
          23.25,
          16.045454545454547,
          31.88888888888889,
          20.22222222222222,
          9.444444444444445,
          16.705882352941178,
          19.047619047619047,
          27.192307692307693,
          3,
          21.166666666666668,
          7.117647058823529,
          30.40909090909091,
          20.041666666666668,
          35.54545454545455,
          5,
          7.9523809523809526,
          22.88235294117647,
          23.5,
          32.578947368421055,
          10.5,
          17,
          3,
          33.2,
          3.3333333333333335,
          17.263157894736842,
          5.222222222222222,
          29,
          29.761904761904763,
          9.2,
          9.375,
          33.76190476190476,
          24.285714285714285,
          28.333333333333332,
          18.136363636363637,
          32.40909090909091,
          28.296296296296298,
          32.76,
          6.666666666666667,
          13.380952380952381,
          11.777777777777779,
          4.75,
          20.333333333333332,
          31.130434782608695,
          24.583333333333332,
          1.5,
          17.833333333333332,
          3.4166666666666665,
          36.96153846153846,
          31.82608695652174,
          13.6,
          20.263157894736842,
          34.73913043478261,
          12.5,
          22.576923076923077,
          7.076923076923077,
          27.333333333333332,
          24.48148148148148,
          30.333333333333332,
          32.583333333333336,
          22.263157894736842,
          34.541666666666664,
          36.36,
          36.77777777777778,
          33,
          21.916666666666668,
          16.6,
          22.545454545454547,
          33.88461538461539,
          35.35294117647059,
          5.75,
          14,
          30.666666666666668,
          30.666666666666668,
          36.82608695652174,
          2.5,
          21.266666666666666,
          12.619047619047619,
          10.9375,
          17.272727272727273,
          22.38095238095238,
          0.3333333333333333,
          26.59259259259259,
          22.47826086956522,
          7.636363636363637,
          15.533333333333333,
          29.91304347826087,
          32.17391304347826,
          4,
          25.2,
          10.6,
          2,
          23.785714285714285,
          27.76,
          11.35,
          10.833333333333334,
          6.1,
          11.454545454545455,
          32.869565217391305,
          25.15,
          5,
          8,
          5.5,
          1,
          29.0625,
          35.48,
          29.235294117647058,
          13,
          8.461538461538462,
          23.58823529411765,
          18.65,
          27.545454545454547,
          12,
          25.75,
          6.444444444444445,
          14.476190476190476,
          10.8,
          29.05263157894737,
          20.727272727272727,
          15.333333333333334,
          2.6666666666666665,
          14.277777777777779,
          10.333333333333334,
          28.04,
          18.96,
          10.8125,
          19.384615384615383,
          32.285714285714285,
          15.363636363636363,
          32.166666666666664,
          8.9375,
          25.227272727272727,
          36.4,
          17.12,
          8.875,
          20.5,
          20,
          15.6,
          18.375,
          15.571428571428571,
          28.583333333333332,
          32.12,
          34.526315789473685,
          34.6,
          18.75,
          6.25,
          26.333333333333332,
          26.166666666666668,
          11,
          33.94444444444444,
          12.095238095238095,
          12.142857142857142,
          2.5,
          20.416666666666668,
          21.733333333333334,
          15.476190476190476,
          33.56,
          8.5,
          26.91304347826087,
          29.26923076923077,
          9.76923076923077,
          16.125,
          9.61111111111111,
          8.5,
          18.076923076923077,
          4,
          35.84615384615385,
          15.23076923076923,
          30.40909090909091,
          23.4375,
          28,
          2.6666666666666665,
          6.142857142857143,
          5,
          29.869565217391305,
          16.076923076923077,
          7.333333333333333,
          25.166666666666668,
          33,
          4,
          11.428571428571429,
          22.6875,
          20.08695652173913,
          35.73913043478261,
          24.25,
          9.1875,
          31.583333333333332,
          34.82608695652174,
          26.82608695652174,
          3.375,
          17.681818181818183,
          15.333333333333334,
          6.6923076923076925,
          16.88,
          18.791666666666668,
          19.5,
          21.846153846153847,
          13.05,
          23.91304347826087,
          37.588235294117645,
          8.4,
          17.227272727272727,
          3.8333333333333335,
          16.47826086956522,
          3.2857142857142856,
          16.2,
          25.17391304347826,
          34.18181818181818,
          2.3333333333333335,
          23.181818181818183,
          35.26086956521739,
          30.217391304347824,
          22.09090909090909,
          18.666666666666668,
          7.75,
          10,
          4,
          1,
          13.88888888888889,
          28.681818181818183,
          25.285714285714285,
          15.181818181818182,
          4,
          4,
          33.76470588235294,
          33.21739130434783,
          3,
          36.333333333333336,
          23.76,
          3.6666666666666665,
          6,
          15.318181818181818,
          1.6666666666666667,
          19,
          6.666666666666667,
          6.583333333333333,
          12.375,
          15.916666666666666,
          32.86666666666667,
          7.142857142857143,
          13.6,
          15.38888888888889,
          21.84,
          10,
          10.666666666666666,
          18.285714285714285,
          18.857142857142858,
          34.25,
          9.944444444444445,
          19,
          32.1578947368421
         ],
         "xaxis": "x",
         "y": [
          4,
          4.666666666666667,
          17.428571428571427,
          32.904761904761905,
          10.590909090909092,
          15.714285714285714,
          14.666666666666666,
          8.666666666666666,
          28.7,
          21.785714285714285,
          23.363636363636363,
          22.166666666666668,
          3,
          4.333333333333333,
          30.476190476190474,
          7.2727272727272725,
          16.77777777777778,
          22.85,
          37.04545454545455,
          39.18181818181818,
          57.476190476190474,
          39,
          7.333333333333333,
          14.61111111111111,
          18.958333333333332,
          5.357142857142857,
          21.652173913043477,
          37.26086956521739,
          30.294117647058822,
          22.48,
          12.45,
          11.2,
          12.5,
          2.857142857142857,
          29.166666666666668,
          10.666666666666666,
          28.807692307692307,
          29.846153846153847,
          23.6875,
          40.72222222222222,
          8,
          20.16,
          36.06666666666667,
          2,
          37.04347826086956,
          28.25,
          17.25,
          9.5,
          6.333333333333333,
          0,
          29.44,
          34.05,
          34.916666666666664,
          8.761904761904763,
          24.125,
          15,
          9.65,
          26.625,
          26.130434782608695,
          22.38095238095238,
          15.36,
          18.571428571428573,
          0,
          12.947368421052632,
          23,
          13.11111111111111,
          33.90909090909091,
          7.363636363636363,
          12.72,
          27.857142857142858,
          15.444444444444445,
          32.56521739130435,
          13.5625,
          0,
          27,
          2,
          21.703703703703702,
          19.764705882352942,
          12.047619047619047,
          33.625,
          9.909090909090908,
          12.68421052631579,
          2.1,
          8,
          39.666666666666664,
          16.12,
          15.96,
          9.5,
          9.818181818181818,
          16.5,
          39.31578947368421,
          4.846153846153846,
          10.68,
          13.521739130434783,
          4.333333333333333,
          4.944444444444445,
          8.266666666666667,
          41.31818181818182,
          19.714285714285715,
          28.181818181818183,
          14.473684210526315,
          39.916666666666664,
          16.470588235294116,
          33.608695652173914,
          42.28,
          27.75,
          19.6,
          16.181818181818183,
          30.333333333333332,
          0,
          10.68421052631579,
          12.380952380952381,
          24.96153846153846,
          40.083333333333336,
          45.16,
          34.473684210526315,
          4.5,
          13.666666666666666,
          13.25,
          26.40909090909091,
          42.43478260869565,
          6.333333333333333,
          47.391304347826086,
          14.38888888888889,
          19.416666666666668,
          15.2,
          31.91304347826087,
          16.545454545454547,
          10.75,
          5.333333333333333,
          9.722222222222221,
          13.238095238095237,
          16.4375,
          13.333333333333334,
          20.1,
          11.777777777777779,
          13.076923076923077,
          34.6,
          5.375,
          4.2727272727272725,
          4.142857142857143,
          29.615384615384617,
          35.68421052631579,
          8.153846153846153,
          17.263157894736842,
          6.666666666666667,
          9.19047619047619,
          19.333333333333332,
          25.681818181818183,
          11.833333333333334,
          17.043478260869566,
          52.7,
          9.933333333333334,
          14.782608695652174,
          26.90909090909091,
          10.545454545454545,
          22.04,
          22.523809523809526,
          5.714285714285714,
          11.24,
          24.217391304347824,
          11,
          23,
          21.08,
          8.48,
          20.04,
          18.041666666666668,
          11.166666666666666,
          12.090909090909092,
          3.5714285714285716,
          11.947368421052632,
          25.5,
          0,
          10.4,
          12.11111111111111,
          29.73076923076923,
          1.6666666666666667,
          5.466666666666667,
          46.04761904761905,
          12.695652173913043,
          8,
          22.26086956521739,
          5.3076923076923075,
          1.875,
          2.8,
          26.26086956521739,
          25.047619047619047,
          5.5,
          20.333333333333332,
          11.8125,
          33.55,
          37.52,
          18.166666666666668,
          29.166666666666668,
          12.869565217391305,
          23.52,
          22.958333333333332,
          27.428571428571427,
          20.333333333333332,
          10.125,
          31.1,
          9.68421052631579,
          47.7,
          5.142857142857143,
          12.333333333333334,
          38.77777777777778,
          25.44,
          32.77777777777778,
          13.5,
          5.5,
          16.727272727272727,
          3.6666666666666665,
          40.75,
          18.958333333333332,
          5.833333333333333,
          50.44,
          5.444444444444445,
          13.058823529411764,
          36.17391304347826,
          20.166666666666668,
          18.35,
          14.941176470588236,
          23.75,
          43.53333333333333,
          13,
          17.458333333333332,
          54.125,
          2.25,
          28.863636363636363,
          22.73913043478261,
          24.7,
          1.875,
          26.208333333333332,
          10.636363636363637,
          30.40740740740741,
          20.444444444444443,
          4.777777777777778,
          15.882352941176471,
          12.095238095238095,
          27,
          5,
          22.166666666666668,
          5,
          30.227272727272727,
          15.333333333333334,
          29.136363636363637,
          14,
          7.380952380952381,
          18.11764705882353,
          15,
          40.89473684210526,
          5.285714285714286,
          12.625,
          1,
          35.64,
          5,
          9.68421052631579,
          2.5555555555555554,
          22.333333333333332,
          31.285714285714285,
          5.933333333333334,
          7.125,
          40.42857142857143,
          19.857142857142858,
          20.333333333333332,
          14.409090909090908,
          28.90909090909091,
          29.51851851851852,
          32.8,
          5.5,
          7.142857142857143,
          9.777777777777779,
          3.5,
          16.19047619047619,
          23.217391304347824,
          20.541666666666668,
          0.5,
          11.666666666666666,
          1.8333333333333333,
          53.38461538461539,
          29.391304347826086,
          9.85,
          21.05263157894737,
          33.608695652173914,
          7.277777777777778,
          22.615384615384617,
          5.384615384615385,
          26,
          22.59259259259259,
          27.904761904761905,
          41.416666666666664,
          20.789473684210527,
          33.458333333333336,
          33.04,
          43.388888888888886,
          35,
          13.25,
          11.4,
          24.045454545454547,
          38.76923076923077,
          47.8235294117647,
          3.5,
          9.8,
          25.238095238095237,
          25.333333333333332,
          61.34782608695652,
          2,
          14,
          13.80952380952381,
          10.25,
          8.545454545454545,
          25.571428571428573,
          0.3333333333333333,
          23.666666666666668,
          26.47826086956522,
          5.454545454545454,
          8.4,
          25.434782608695652,
          30.956521739130434,
          5.333333333333333,
          18.8,
          8.8,
          -1,
          23.142857142857142,
          26.76,
          6.8,
          5.333333333333333,
          3.2,
          6.818181818181818,
          24.652173913043477,
          15.8,
          10,
          6,
          5.5,
          0,
          28.375,
          34.16,
          30.88235294117647,
          12.75,
          5.615384615384615,
          26,
          17.8,
          25.545454545454547,
          9.8,
          24.25,
          8.5,
          8,
          10,
          39.10526315789474,
          16.545454545454547,
          10.571428571428571,
          1.7777777777777777,
          16.833333333333332,
          8.666666666666666,
          33.68,
          19.16,
          10.625,
          15.923076923076923,
          54.80952380952381,
          11,
          35,
          5.5,
          21.636363636363637,
          37.08,
          14.56,
          4.75,
          19.875,
          16.5,
          12.05,
          15.125,
          11.5,
          11.625,
          27.84,
          32.63157894736842,
          48.06666666666667,
          12,
          6.5,
          15,
          18.708333333333332,
          8.25,
          38.44444444444444,
          14.523809523809524,
          9.142857142857142,
          1,
          17.25,
          15.8,
          13.142857142857142,
          24.44,
          6.625,
          11.173913043478262,
          21.115384615384617,
          5.6923076923076925,
          14.9375,
          5.555555555555555,
          3.875,
          10.76923076923077,
          4.5,
          27.576923076923077,
          10.923076923076923,
          32.95454545454545,
          18.875,
          30.391304347826086,
          1.5,
          0.2857142857142857,
          5,
          23.82608695652174,
          14.038461538461538,
          4.666666666666667,
          24.916666666666668,
          32.86363636363637,
          0,
          8.5,
          19.0625,
          12.130434782608695,
          52.65217391304348,
          21.8,
          7,
          32.458333333333336,
          54.17391304347826,
          25.391304347826086,
          3,
          18.09090909090909,
          8.666666666666666,
          6.384615384615385,
          15.68,
          20.833333333333332,
          13.555555555555555,
          18.115384615384617,
          16.1,
          14.826086956521738,
          34.11764705882353,
          4.666666666666667,
          16.40909090909091,
          1.25,
          14.565217391304348,
          2,
          20.4,
          21.565217391304348,
          34.36363636363637,
          3.1666666666666665,
          20,
          42.78260869565217,
          30.652173913043477,
          16.5,
          13.4,
          4.875,
          3,
          5,
          0,
          10.88888888888889,
          27.90909090909091,
          15.952380952380953,
          10.909090909090908,
          0,
          16,
          35.76470588235294,
          50.608695652173914,
          2.2857142857142856,
          36.53333333333333,
          22.28,
          5.777777777777778,
          2.5,
          15.727272727272727,
          -1,
          11,
          5.333333333333333,
          4,
          10.625,
          20.166666666666668,
          32,
          4.142857142857143,
          13.5,
          7.833333333333333,
          15.88,
          9.5,
          9,
          17.642857142857142,
          21.357142857142858,
          35.4,
          7.055555555555555,
          19,
          42.73684210526316
         ],
         "yaxis": "y"
        }
       ],
       "layout": {
        "height": 600,
        "legend": {
         "tracegroupgap": 0
        },
        "template": {
         "data": {
          "bar": [
           {
            "error_x": {
             "color": "#2a3f5f"
            },
            "error_y": {
             "color": "#2a3f5f"
            },
            "marker": {
             "line": {
              "color": "#E5ECF6",
              "width": 0.5
             },
             "pattern": {
              "fillmode": "overlay",
              "size": 10,
              "solidity": 0.2
             }
            },
            "type": "bar"
           }
          ],
          "barpolar": [
           {
            "marker": {
             "line": {
              "color": "#E5ECF6",
              "width": 0.5
             },
             "pattern": {
              "fillmode": "overlay",
              "size": 10,
              "solidity": 0.2
             }
            },
            "type": "barpolar"
           }
          ],
          "carpet": [
           {
            "aaxis": {
             "endlinecolor": "#2a3f5f",
             "gridcolor": "white",
             "linecolor": "white",
             "minorgridcolor": "white",
             "startlinecolor": "#2a3f5f"
            },
            "baxis": {
             "endlinecolor": "#2a3f5f",
             "gridcolor": "white",
             "linecolor": "white",
             "minorgridcolor": "white",
             "startlinecolor": "#2a3f5f"
            },
            "type": "carpet"
           }
          ],
          "choropleth": [
           {
            "colorbar": {
             "outlinewidth": 0,
             "ticks": ""
            },
            "type": "choropleth"
           }
          ],
          "contour": [
           {
            "colorbar": {
             "outlinewidth": 0,
             "ticks": ""
            },
            "colorscale": [
             [
              0,
              "#0d0887"
             ],
             [
              0.1111111111111111,
              "#46039f"
             ],
             [
              0.2222222222222222,
              "#7201a8"
             ],
             [
              0.3333333333333333,
              "#9c179e"
             ],
             [
              0.4444444444444444,
              "#bd3786"
             ],
             [
              0.5555555555555556,
              "#d8576b"
             ],
             [
              0.6666666666666666,
              "#ed7953"
             ],
             [
              0.7777777777777778,
              "#fb9f3a"
             ],
             [
              0.8888888888888888,
              "#fdca26"
             ],
             [
              1,
              "#f0f921"
             ]
            ],
            "type": "contour"
           }
          ],
          "contourcarpet": [
           {
            "colorbar": {
             "outlinewidth": 0,
             "ticks": ""
            },
            "type": "contourcarpet"
           }
          ],
          "heatmap": [
           {
            "colorbar": {
             "outlinewidth": 0,
             "ticks": ""
            },
            "colorscale": [
             [
              0,
              "#0d0887"
             ],
             [
              0.1111111111111111,
              "#46039f"
             ],
             [
              0.2222222222222222,
              "#7201a8"
             ],
             [
              0.3333333333333333,
              "#9c179e"
             ],
             [
              0.4444444444444444,
              "#bd3786"
             ],
             [
              0.5555555555555556,
              "#d8576b"
             ],
             [
              0.6666666666666666,
              "#ed7953"
             ],
             [
              0.7777777777777778,
              "#fb9f3a"
             ],
             [
              0.8888888888888888,
              "#fdca26"
             ],
             [
              1,
              "#f0f921"
             ]
            ],
            "type": "heatmap"
           }
          ],
          "heatmapgl": [
           {
            "colorbar": {
             "outlinewidth": 0,
             "ticks": ""
            },
            "colorscale": [
             [
              0,
              "#0d0887"
             ],
             [
              0.1111111111111111,
              "#46039f"
             ],
             [
              0.2222222222222222,
              "#7201a8"
             ],
             [
              0.3333333333333333,
              "#9c179e"
             ],
             [
              0.4444444444444444,
              "#bd3786"
             ],
             [
              0.5555555555555556,
              "#d8576b"
             ],
             [
              0.6666666666666666,
              "#ed7953"
             ],
             [
              0.7777777777777778,
              "#fb9f3a"
             ],
             [
              0.8888888888888888,
              "#fdca26"
             ],
             [
              1,
              "#f0f921"
             ]
            ],
            "type": "heatmapgl"
           }
          ],
          "histogram": [
           {
            "marker": {
             "pattern": {
              "fillmode": "overlay",
              "size": 10,
              "solidity": 0.2
             }
            },
            "type": "histogram"
           }
          ],
          "histogram2d": [
           {
            "colorbar": {
             "outlinewidth": 0,
             "ticks": ""
            },
            "colorscale": [
             [
              0,
              "#0d0887"
             ],
             [
              0.1111111111111111,
              "#46039f"
             ],
             [
              0.2222222222222222,
              "#7201a8"
             ],
             [
              0.3333333333333333,
              "#9c179e"
             ],
             [
              0.4444444444444444,
              "#bd3786"
             ],
             [
              0.5555555555555556,
              "#d8576b"
             ],
             [
              0.6666666666666666,
              "#ed7953"
             ],
             [
              0.7777777777777778,
              "#fb9f3a"
             ],
             [
              0.8888888888888888,
              "#fdca26"
             ],
             [
              1,
              "#f0f921"
             ]
            ],
            "type": "histogram2d"
           }
          ],
          "histogram2dcontour": [
           {
            "colorbar": {
             "outlinewidth": 0,
             "ticks": ""
            },
            "colorscale": [
             [
              0,
              "#0d0887"
             ],
             [
              0.1111111111111111,
              "#46039f"
             ],
             [
              0.2222222222222222,
              "#7201a8"
             ],
             [
              0.3333333333333333,
              "#9c179e"
             ],
             [
              0.4444444444444444,
              "#bd3786"
             ],
             [
              0.5555555555555556,
              "#d8576b"
             ],
             [
              0.6666666666666666,
              "#ed7953"
             ],
             [
              0.7777777777777778,
              "#fb9f3a"
             ],
             [
              0.8888888888888888,
              "#fdca26"
             ],
             [
              1,
              "#f0f921"
             ]
            ],
            "type": "histogram2dcontour"
           }
          ],
          "mesh3d": [
           {
            "colorbar": {
             "outlinewidth": 0,
             "ticks": ""
            },
            "type": "mesh3d"
           }
          ],
          "parcoords": [
           {
            "line": {
             "colorbar": {
              "outlinewidth": 0,
              "ticks": ""
             }
            },
            "type": "parcoords"
           }
          ],
          "pie": [
           {
            "automargin": true,
            "type": "pie"
           }
          ],
          "scatter": [
           {
            "fillpattern": {
             "fillmode": "overlay",
             "size": 10,
             "solidity": 0.2
            },
            "type": "scatter"
           }
          ],
          "scatter3d": [
           {
            "line": {
             "colorbar": {
              "outlinewidth": 0,
              "ticks": ""
             }
            },
            "marker": {
             "colorbar": {
              "outlinewidth": 0,
              "ticks": ""
             }
            },
            "type": "scatter3d"
           }
          ],
          "scattercarpet": [
           {
            "marker": {
             "colorbar": {
              "outlinewidth": 0,
              "ticks": ""
             }
            },
            "type": "scattercarpet"
           }
          ],
          "scattergeo": [
           {
            "marker": {
             "colorbar": {
              "outlinewidth": 0,
              "ticks": ""
             }
            },
            "type": "scattergeo"
           }
          ],
          "scattergl": [
           {
            "marker": {
             "colorbar": {
              "outlinewidth": 0,
              "ticks": ""
             }
            },
            "type": "scattergl"
           }
          ],
          "scattermapbox": [
           {
            "marker": {
             "colorbar": {
              "outlinewidth": 0,
              "ticks": ""
             }
            },
            "type": "scattermapbox"
           }
          ],
          "scatterpolar": [
           {
            "marker": {
             "colorbar": {
              "outlinewidth": 0,
              "ticks": ""
             }
            },
            "type": "scatterpolar"
           }
          ],
          "scatterpolargl": [
           {
            "marker": {
             "colorbar": {
              "outlinewidth": 0,
              "ticks": ""
             }
            },
            "type": "scatterpolargl"
           }
          ],
          "scatterternary": [
           {
            "marker": {
             "colorbar": {
              "outlinewidth": 0,
              "ticks": ""
             }
            },
            "type": "scatterternary"
           }
          ],
          "surface": [
           {
            "colorbar": {
             "outlinewidth": 0,
             "ticks": ""
            },
            "colorscale": [
             [
              0,
              "#0d0887"
             ],
             [
              0.1111111111111111,
              "#46039f"
             ],
             [
              0.2222222222222222,
              "#7201a8"
             ],
             [
              0.3333333333333333,
              "#9c179e"
             ],
             [
              0.4444444444444444,
              "#bd3786"
             ],
             [
              0.5555555555555556,
              "#d8576b"
             ],
             [
              0.6666666666666666,
              "#ed7953"
             ],
             [
              0.7777777777777778,
              "#fb9f3a"
             ],
             [
              0.8888888888888888,
              "#fdca26"
             ],
             [
              1,
              "#f0f921"
             ]
            ],
            "type": "surface"
           }
          ],
          "table": [
           {
            "cells": {
             "fill": {
              "color": "#EBF0F8"
             },
             "line": {
              "color": "white"
             }
            },
            "header": {
             "fill": {
              "color": "#C8D4E3"
             },
             "line": {
              "color": "white"
             }
            },
            "type": "table"
           }
          ]
         },
         "layout": {
          "annotationdefaults": {
           "arrowcolor": "#2a3f5f",
           "arrowhead": 0,
           "arrowwidth": 1
          },
          "autotypenumbers": "strict",
          "coloraxis": {
           "colorbar": {
            "outlinewidth": 0,
            "ticks": ""
           }
          },
          "colorscale": {
           "diverging": [
            [
             0,
             "#8e0152"
            ],
            [
             0.1,
             "#c51b7d"
            ],
            [
             0.2,
             "#de77ae"
            ],
            [
             0.3,
             "#f1b6da"
            ],
            [
             0.4,
             "#fde0ef"
            ],
            [
             0.5,
             "#f7f7f7"
            ],
            [
             0.6,
             "#e6f5d0"
            ],
            [
             0.7,
             "#b8e186"
            ],
            [
             0.8,
             "#7fbc41"
            ],
            [
             0.9,
             "#4d9221"
            ],
            [
             1,
             "#276419"
            ]
           ],
           "sequential": [
            [
             0,
             "#0d0887"
            ],
            [
             0.1111111111111111,
             "#46039f"
            ],
            [
             0.2222222222222222,
             "#7201a8"
            ],
            [
             0.3333333333333333,
             "#9c179e"
            ],
            [
             0.4444444444444444,
             "#bd3786"
            ],
            [
             0.5555555555555556,
             "#d8576b"
            ],
            [
             0.6666666666666666,
             "#ed7953"
            ],
            [
             0.7777777777777778,
             "#fb9f3a"
            ],
            [
             0.8888888888888888,
             "#fdca26"
            ],
            [
             1,
             "#f0f921"
            ]
           ],
           "sequentialminus": [
            [
             0,
             "#0d0887"
            ],
            [
             0.1111111111111111,
             "#46039f"
            ],
            [
             0.2222222222222222,
             "#7201a8"
            ],
            [
             0.3333333333333333,
             "#9c179e"
            ],
            [
             0.4444444444444444,
             "#bd3786"
            ],
            [
             0.5555555555555556,
             "#d8576b"
            ],
            [
             0.6666666666666666,
             "#ed7953"
            ],
            [
             0.7777777777777778,
             "#fb9f3a"
            ],
            [
             0.8888888888888888,
             "#fdca26"
            ],
            [
             1,
             "#f0f921"
            ]
           ]
          },
          "colorway": [
           "#636efa",
           "#EF553B",
           "#00cc96",
           "#ab63fa",
           "#FFA15A",
           "#19d3f3",
           "#FF6692",
           "#B6E880",
           "#FF97FF",
           "#FECB52"
          ],
          "font": {
           "color": "#2a3f5f"
          },
          "geo": {
           "bgcolor": "white",
           "lakecolor": "white",
           "landcolor": "#E5ECF6",
           "showlakes": true,
           "showland": true,
           "subunitcolor": "white"
          },
          "hoverlabel": {
           "align": "left"
          },
          "hovermode": "closest",
          "mapbox": {
           "style": "light"
          },
          "paper_bgcolor": "white",
          "plot_bgcolor": "#E5ECF6",
          "polar": {
           "angularaxis": {
            "gridcolor": "white",
            "linecolor": "white",
            "ticks": ""
           },
           "bgcolor": "#E5ECF6",
           "radialaxis": {
            "gridcolor": "white",
            "linecolor": "white",
            "ticks": ""
           }
          },
          "scene": {
           "xaxis": {
            "backgroundcolor": "#E5ECF6",
            "gridcolor": "white",
            "gridwidth": 2,
            "linecolor": "white",
            "showbackground": true,
            "ticks": "",
            "zerolinecolor": "white"
           },
           "yaxis": {
            "backgroundcolor": "#E5ECF6",
            "gridcolor": "white",
            "gridwidth": 2,
            "linecolor": "white",
            "showbackground": true,
            "ticks": "",
            "zerolinecolor": "white"
           },
           "zaxis": {
            "backgroundcolor": "#E5ECF6",
            "gridcolor": "white",
            "gridwidth": 2,
            "linecolor": "white",
            "showbackground": true,
            "ticks": "",
            "zerolinecolor": "white"
           }
          },
          "shapedefaults": {
           "line": {
            "color": "#2a3f5f"
           }
          },
          "ternary": {
           "aaxis": {
            "gridcolor": "white",
            "linecolor": "white",
            "ticks": ""
           },
           "baxis": {
            "gridcolor": "white",
            "linecolor": "white",
            "ticks": ""
           },
           "bgcolor": "#E5ECF6",
           "caxis": {
            "gridcolor": "white",
            "linecolor": "white",
            "ticks": ""
           }
          },
          "title": {
           "x": 0.05
          },
          "xaxis": {
           "automargin": true,
           "gridcolor": "white",
           "linecolor": "white",
           "ticks": "",
           "title": {
            "standoff": 15
           },
           "zerolinecolor": "white",
           "zerolinewidth": 2
          },
          "yaxis": {
           "automargin": true,
           "gridcolor": "white",
           "linecolor": "white",
           "ticks": "",
           "title": {
            "standoff": 15
           },
           "zerolinecolor": "white",
           "zerolinewidth": 2
          }
         }
        },
        "title": {
         "text": "Average Fantasy Points per Minute"
        },
        "width": 600,
        "xaxis": {
         "anchor": "y",
         "domain": [
          0,
          1
         ],
         "title": {
          "text": "MIN"
         }
        },
        "yaxis": {
         "anchor": "x",
         "domain": [
          0,
          1
         ],
         "title": {
          "text": "FANTASY"
         }
        }
       }
      }
     },
     "metadata": {},
     "output_type": "display_data"
    }
   ],
   "source": [
    "means['RATE'] = means['FANTASY'] / means['MIN']\n",
    "fig = px.scatter(means, x = 'MIN', y ='FANTASY',\n",
    "    title = 'Average Fantasy Points per Minute',\n",
    "    hover_data = ['PLAYER_NAME', 'TEAM_NAME', 'RATE'], \n",
    "    width = 600, height = 600)\n",
    "fig.show()\n",
    "# fig.to_html(full_html = False, include_plotlyjs = 'cdn')"
   ]
  },
  {
   "cell_type": "code",
   "execution_count": 54,
   "metadata": {},
   "outputs": [],
   "source": [
    "adp = pd.read_csv('nba-adp-All.csv')"
   ]
  },
  {
   "cell_type": "code",
   "execution_count": 55,
   "metadata": {},
   "outputs": [
    {
     "data": {
      "text/plain": [
       "Index(['PLAYER_NAME', 'TEAM_NAME', 'PLAYER_ID', 'TEAM_ID', 'GAME_ID', 'MIN',\n",
       "       'FGM', 'FGA', 'FG_PCT', 'FG3M', 'FG3A', 'FG3_PCT', 'FTM', 'FTA',\n",
       "       'FT_PCT', 'OREB', 'DREB', 'REB', 'AST', 'STL', 'BLK', 'TOV', 'PF',\n",
       "       'PTS', 'PLUS_MINUS', 'FANTASY', 'Rank', 'RATE', 'Unnamed: 0', 'Name',\n",
       "       'Team', 'Pos', 'AVG', 'ESPN', 'CBS', 'Yahoo', 'Underdog', 'Fantrax',\n",
       "       'ESPN AAV', 'Status', 'Injury', 'Difference'],\n",
       "      dtype='object')"
      ]
     },
     "execution_count": 55,
     "metadata": {},
     "output_type": "execute_result"
    }
   ],
   "source": [
    "# Join mean data with the average draft position data\n",
    "compare = pd.merge(means, adp, left_on = 'PLAYER_NAME', right_on = 'Name')\n",
    "# Change average draft position column to a float for numerical computations\n",
    "compare['AVG'] = compare['AVG'].astype(float)\n",
    "# Create a new variable that shows the difference between expected rank and actual rank\n",
    "compare['Difference'] = compare['AVG'] - compare['Rank']\n",
    "compare.columns"
   ]
  },
  {
   "cell_type": "code",
   "execution_count": 61,
   "metadata": {},
   "outputs": [
    {
     "data": {
      "application/vnd.plotly.v1+json": {
       "config": {
        "plotlyServerURL": "https://plot.ly"
       },
       "data": [
        {
         "customdata": [
          [
           364.8,
           17.428571428571427,
           "AJ Griffin",
           "Atlanta Hawks"
          ],
          [
           121.1,
           32.904761904761905,
           "Aaron Gordon",
           "Denver Nuggets"
          ],
          [
           364.1,
           15.714285714285714,
           "Aaron Nesmith",
           "Indiana Pacers"
          ],
          [
           140,
           8.666666666666666,
           "Admiral Schofield",
           "Orlando Magic"
          ],
          [
           151.2,
           23.363636363636363,
           "Aleksej Pokusevski",
           "Oklahoma City Thunder"
          ],
          [
           140,
           4.333333333333333,
           "Alize Johnson",
           "San Antonio Spurs"
          ],
          [
           375.1,
           7.2727272727272725,
           "Amir Coffey",
           "LA Clippers"
          ],
          [
           69.2,
           37.04545454545455,
           "Andrew Wiggins",
           "Golden State Warriors"
          ],
          [
           412.9,
           7.333333333333333,
           "Anthony Gill",
           "Washington Wizards"
          ],
          [
           140,
           14.61111111111111,
           "Anthony Lamb",
           "Golden State Warriors"
          ],
          [
           63.4,
           30.294117647058822,
           "Ben Simmons",
           "Brooklyn Nets"
          ],
          [
           106.5,
           29.166666666666668,
           "Bobby Portis",
           "Milwaukee Bucks"
          ],
          [
           126.3,
           28.807692307692307,
           "Bojan Bogdanovic",
           "Detroit Pistons"
          ],
          [
           206.8,
           29.846153846153847,
           "Bol Bol",
           "Orlando Magic"
          ],
          [
           114.3,
           20.16,
           "Brandon Clarke",
           "Memphis Grizzlies"
          ],
          [
           47.8,
           36.06666666666667,
           "Brandon Ingram",
           "New Orleans Pelicans"
          ],
          [
           755.9,
           2,
           "Braxton Key",
           "Detroit Pistons"
          ],
          [
           427.9,
           8.761904761904763,
           "Caleb Houstan",
           "Orlando Magic"
          ],
          [
           181.5,
           24.125,
           "Caleb Martin",
           "Miami Heat"
          ],
          [
           300.5,
           15,
           "Cam Reddish",
           "New York Knicks"
          ],
          [
           125.7,
           26.625,
           "Cameron Johnson",
           "Phoenix Suns"
          ],
          [
           280.2,
           15.36,
           "Cedi Osman",
           "Cleveland Cavaliers"
          ],
          [
           150.4,
           23,
           "Chris Boucher",
           "Toronto Raptors"
          ],
          [
           215.4,
           15.444444444444445,
           "Chuma Okeke",
           "Orlando Magic"
          ],
          [
           297.8,
           9.818181818181818,
           "Dario Saric",
           "Phoenix Suns"
          ],
          [
           151.5,
           16.5,
           "Darius Bazley",
           "Oklahoma City Thunder"
          ],
          [
           364.4,
           10.68,
           "David Roddy",
           "Memphis Grizzlies"
          ],
          [
           345.3,
           4.333333333333333,
           "Davis Bertans",
           "Dallas Mavericks"
          ],
          [
           137,
           19.714285714285715,
           "De'Andre Hunter",
           "Atlanta Hawks"
          ],
          [
           24.8,
           39.916666666666664,
           "DeMar DeRozan",
           "Chicago Bulls"
          ],
          [
           310.2,
           16.470588235294116,
           "Dean Wade",
           "Cleveland Cavaliers"
          ],
          [
           213.6,
           19.6,
           "Deni Avdija",
           "Washington Wizards"
          ],
          [
           79.9,
           34.473684210526315,
           "Devin Vassell",
           "San Antonio Spurs"
          ],
          [
           120.5,
           26.40909090909091,
           "Dillon Brooks",
           "Memphis Grizzlies"
          ],
          [
           142.4,
           19.416666666666668,
           "Dorian Finney-Smith",
           "Dallas Mavericks"
          ],
          [
           239.4,
           15.2,
           "Doug McDermott",
           "San Antonio Spurs"
          ],
          [
           91.2,
           31.91304347826087,
           "Draymond Green",
           "Golden State Warriors"
          ],
          [
           209.9,
           9.722222222222221,
           "Duncan Robinson",
           "Miami Heat"
          ],
          [
           140,
           11.777777777777779,
           "Eugene Omoruyi",
           "Oklahoma City Thunder"
          ],
          [
           43.1,
           34.6,
           "Evan Mobley",
           "Cleveland Cavaliers"
          ],
          [
           84,
           29.615384615384617,
           "Franz Wagner",
           "Orlando Magic"
          ],
          [
           351,
           17.043478260869566,
           "Georges Niang",
           "Philadelphia 76ers"
          ],
          [
           2.4,
           52.7,
           "Giannis Antetokounmpo",
           "Milwaukee Bucks"
          ],
          [
           104.8,
           26.90909090909091,
           "Gordon Hayward",
           "Charlotte Hornets"
          ],
          [
           161.6,
           22.04,
           "Grant Williams",
           "Boston Celtics"
          ],
          [
           115.1,
           24.217391304347824,
           "Harrison Barnes",
           "Sacramento Kings"
          ],
          [
           369.6,
           11,
           "Haywood Highsmith",
           "Miami Heat"
          ],
          [
           120.3,
           23,
           "Herbert Jones",
           "New Orleans Pelicans"
          ],
          [
           259,
           8.48,
           "Isaac Okoro",
           "Cleveland Cavaliers"
          ],
          [
           246.7,
           12.090909090909092,
           "Isaiah Livers",
           "Detroit Pistons"
          ],
          [
           229.5,
           11.947368421052632,
           "Isaiah Roby",
           "San Antonio Spurs"
          ],
          [
           430.9,
           0,
           "Isaiah Todd",
           "Washington Wizards"
          ],
          [
           400.9,
           12.11111111111111,
           "Ish Wainright",
           "Phoenix Suns"
          ],
          [
           315.3,
           5.466666666666667,
           "JT Thor",
           "Charlotte Hornets"
          ],
          [
           370.7,
           12.695652173913043,
           "JaMychal Green",
           "Golden State Warriors"
          ],
          [
           327.8,
           5.3076923076923075,
           "Jabari Walker",
           "Portland Trail Blazers"
          ],
          [
           140,
           1.875,
           "Jack White",
           "Denver Nuggets"
          ],
          [
           144,
           25.047619047619047,
           "Jaden McDaniels",
           "Minnesota Timberwolves"
          ],
          [
           138.6,
           20.333333333333332,
           "Jae'Sean Tate",
           "Houston Rockets"
          ],
          [
           285.2,
           11.8125,
           "Jake LaRavia",
           "Memphis Grizzlies"
          ],
          [
           256,
           12.869565217391305,
           "Jalen Johnson",
           "Atlanta Hawks"
          ],
          [
           239.2,
           23.52,
           "Jalen McDaniels",
           "Charlotte Hornets"
          ],
          [
           113.4,
           22.958333333333332,
           "Jalen Smith",
           "Indiana Pacers"
          ],
          [
           488.4,
           10.125,
           "Jamal Cain",
           "Miami Heat"
          ],
          [
           414.4,
           5.142857142857143,
           "James Johnson",
           "Indiana Pacers"
          ],
          [
           130.5,
           25.44,
           "Jarred Vanderbilt",
           "Utah Jazz"
          ],
          [
           140,
           13.5,
           "Jarrett Culver",
           "Atlanta Hawks"
          ],
          [
           255.1,
           16.727272727272727,
           "Javonte Green",
           "Chicago Bulls"
          ],
          [
           35.1,
           40.75,
           "Jaylen Brown",
           "Boston Celtics"
          ],
          [
           6.6,
           50.44,
           "Jayson Tatum",
           "Boston Celtics"
          ],
          [
           293.5,
           13.058823529411764,
           "Jeff Green",
           "Denver Nuggets"
          ],
          [
           92,
           36.17391304347826,
           "Jerami Grant",
           "Portland Trail Blazers"
          ],
          [
           183,
           18.35,
           "Jeremy Sochan",
           "San Antonio Spurs"
          ],
          [
           31.6,
           43.53333333333333,
           "Jimmy Butler",
           "Miami Heat"
          ],
          [
           73.9,
           28.863636363636363,
           "John Collins",
           "Atlanta Hawks"
          ],
          [
           144.9,
           10.636363636363637,
           "Jonathan Kuminga",
           "Golden State Warriors"
          ],
          [
           284.1,
           12.095238095238095,
           "Jordan Nwora",
           "Milwaukee Bucks"
          ],
          [
           140,
           5,
           "Jordan Schakel",
           "Washington Wizards"
          ],
          [
           312.4,
           15.333333333333334,
           "Josh Green",
           "Dallas Mavericks"
          ],
          [
           114.6,
           29.136363636363637,
           "Josh Hart",
           "Portland Trail Blazers"
          ],
          [
           420,
           14,
           "Josh Minott",
           "Minnesota Timberwolves"
          ],
          [
           380.4,
           7.380952380952381,
           "Josh Okogie",
           "Phoenix Suns"
          ],
          [
           286.4,
           5.285714285714286,
           "Juan Toscano-Anderson",
           "Los Angeles Lakers"
          ],
          [
           272.7,
           12.625,
           "Juancho Hernangomez",
           "Toronto Raptors"
          ],
          [
           447.1,
           1,
           "Julian Champagnie",
           "Philadelphia 76ers"
          ],
          [
           47.2,
           35.64,
           "Julius Randle",
           "New York Knicks"
          ],
          [
           140,
           5,
           "Justin Champagnie",
           "Toronto Raptors"
          ],
          [
           299.8,
           9.68421052631579,
           "Justin Holiday",
           "Atlanta Hawks"
          ],
          [
           140,
           2.5555555555555554,
           "Justin Jackson",
           "Boston Celtics"
          ],
          [
           140,
           2.5555555555555554,
           "Justin Jackson",
           "Boston Celtics"
          ],
          [
           317.2,
           22.333333333333332,
           "Justise Winslow",
           "Portland Trail Blazers"
          ],
          [
           387.9,
           5.933333333333334,
           "KZ Okpala",
           "Sacramento Kings"
          ],
          [
           40.9,
           19.857142857142858,
           "Kawhi Leonard",
           "LA Clippers"
          ],
          [
           87.8,
           20.333333333333332,
           "Keegan Murray",
           "Sacramento Kings"
          ],
          [
           353.8,
           14.409090909090908,
           "Keita Bates-Diop",
           "San Antonio Spurs"
          ],
          [
           64.7,
           28.90909090909091,
           "Keldon Johnson",
           "San Antonio Spurs"
          ],
          [
           140,
           5.5,
           "Kendall Brown",
           "Indiana Pacers"
          ],
          [
           368.3,
           16.19047619047619,
           "Kenrich Williams",
           "Oklahoma City Thunder"
          ],
          [
           355.8,
           1.8333333333333333,
           "Kessler Edwards",
           "Brooklyn Nets"
          ],
          [
           6.3,
           53.38461538461539,
           "Kevin Durant",
           "Brooklyn Nets"
          ],
          [
           140.2,
           21.05263157894737,
           "Kevin Love",
           "Cleveland Cavaliers"
          ],
          [
           48.6,
           41.416666666666664,
           "Kristaps Porzingis",
           "Washington Wizards"
          ],
          [
           170.2,
           20.789473684210527,
           "Kyle Anderson",
           "Minnesota Timberwolves"
          ],
          [
           86.9,
           33.458333333333336,
           "Kyle Kuzma",
           "Washington Wizards"
          ],
          [
           393.8,
           13.25,
           "Lamar Stevens",
           "Cleveland Cavaliers"
          ],
          [
           81.6,
           38.76923076923077,
           "Lauri Markkanen",
           "Utah Jazz"
          ],
          [
           11.3,
           47.8235294117647,
           "LeBron James",
           "Los Angeles Lakers"
          ],
          [
           136.2,
           25.333333333333332,
           "Luguentz Dort",
           "Oklahoma City Thunder"
          ],
          [
           307.9,
           5.454545454545454,
           "Mamadi Diakite",
           "Cleveland Cavaliers"
          ],
          [
           433.4,
           8.4,
           "MarJon Beauchamp",
           "Milwaukee Bucks"
          ],
          [
           340.1,
           8.8,
           "Markieff Morris",
           "Brooklyn Nets"
          ],
          [
           171.8,
           6.8,
           "Matisse Thybulle",
           "Philadelphia 76ers"
          ],
          [
           438.7,
           5.333333333333333,
           "Matt Ryan",
           "Los Angeles Lakers"
          ],
          [
           161.3,
           24.652173913043477,
           "Max Strus",
           "Miami Heat"
          ],
          [
           268.6,
           15.8,
           "Maxi Kleber",
           "Dallas Mavericks"
          ],
          [
           80.8,
           34.16,
           "Mikal Bridges",
           "Phoenix Suns"
          ],
          [
           447,
           10,
           "Moussa Diabate",
           "LA Clippers"
          ],
          [
           373.4,
           16.545454545454547,
           "Naji Marshall",
           "New Orleans Pelicans"
          ],
          [
           212.2,
           10.571428571428571,
           "Nassir Little",
           "Portland Trail Blazers"
          ],
          [
           284.1,
           15.923076923076923,
           "Nicolas Batum",
           "LA Clippers"
          ],
          [
           207.5,
           11,
           "Nikola Jovic",
           "Miami Heat"
          ],
          [
           147.1,
           14.56,
           "Obi Toppin",
           "New York Knicks"
          ],
          [
           183.6,
           12.05,
           "Oshae Brissett",
           "Indiana Pacers"
          ],
          [
           288.7,
           11.5,
           "Ousmane Dieng",
           "Oklahoma City Thunder"
          ],
          [
           201.5,
           11.625,
           "P.J. Tucker",
           "Philadelphia 76ers"
          ],
          [
           105.2,
           27.84,
           "P.J. Washington",
           "Charlotte Hornets"
          ],
          [
           58.2,
           32.63157894736842,
           "Paolo Banchero",
           "Orlando Magic"
          ],
          [
           25.4,
           48.06666666666667,
           "Pascal Siakam",
           "Toronto Raptors"
          ],
          [
           148.2,
           18.708333333333332,
           "Patrick Williams",
           "Chicago Bulls"
          ],
          [
           291,
           14.523809523809524,
           "Paul Reed",
           "Philadelphia 76ers"
          ],
          [
           423.9,
           1,
           "Peyton Watson",
           "Denver Nuggets"
          ],
          [
           251.8,
           11.173913043478262,
           "Reggie Bullock",
           "Dallas Mavericks"
          ],
          [
           147,
           14.9375,
           "Robert Covington",
           "LA Clippers"
          ],
          [
           415,
           10.76923076923077,
           "Romeo Langford",
           "San Antonio Spurs"
          ],
          [
           219.7,
           27.576923076923077,
           "Royce O'Neale",
           "Brooklyn Nets"
          ],
          [
           274.6,
           10.923076923076923,
           "Rudy Gay",
           "Utah Jazz"
          ],
          [
           166.5,
           18.875,
           "Rui Hachimura",
           "Washington Wizards"
          ],
          [
           92.6,
           23.82608695652174,
           "Saddiq Bey",
           "Detroit Pistons"
          ],
          [
           362.8,
           14.038461538461538,
           "Sam Hauser",
           "Boston Celtics"
          ],
          [
           361.6,
           4.666666666666667,
           "Sandro Mamukelashvili",
           "Milwaukee Bucks"
          ],
          [
           156.8,
           24.916666666666668,
           "Santi Aldama",
           "Memphis Grizzlies"
          ],
          [
           43.7,
           32.86363636363637,
           "Scottie Barnes",
           "Toronto Raptors"
          ],
          [
           308.6,
           7,
           "Simone Fontecchio",
           "Utah Jazz"
          ],
          [
           208.3,
           8.666666666666666,
           "T.J. Warren",
           "Brooklyn Nets"
          ],
          [
           158.9,
           15.68,
           "Talen Horton-Tucker",
           "Utah Jazz"
          ],
          [
           134.9,
           20.833333333333332,
           "Tari Eason",
           "Houston Rockets"
          ],
          [
           353.6,
           13.555555555555555,
           "Taurean Prince",
           "Minnesota Timberwolves"
          ],
          [
           313.2,
           14.826086956521738,
           "Terrence Ross",
           "Orlando Magic"
          ],
          [
           338.6,
           4.666666666666667,
           "Terry Taylor",
           "Indiana Pacers"
          ],
          [
           318.2,
           16.40909090909091,
           "Thaddeus Young",
           "Toronto Raptors"
          ],
          [
           279.2,
           1.25,
           "Thanasis Antetokounmpo",
           "Milwaukee Bucks"
          ],
          [
           76.3,
           34.36363636363637,
           "Tobias Harris",
           "Philadelphia 76ers"
          ],
          [
           330.6,
           20,
           "Torrey Craig",
           "Phoenix Suns"
          ],
          [
           296.9,
           13.4,
           "Trendon Watford",
           "Portland Trail Blazers"
          ],
          [
           271.9,
           10.88888888888889,
           "Trey Lyles",
           "Sacramento Kings"
          ],
          [
           140,
           2.2857142857142856,
           "Tyrese Martin",
           "Atlanta Hawks"
          ],
          [
           371.9,
           15.727272727272727,
           "Usman Garuba",
           "Houston Rockets"
          ],
          [
           422.4,
           10.625,
           "Vlatko Cancar",
           "Denver Nuggets"
          ],
          [
           406.9,
           13.5,
           "Wenyen Gabriel",
           "Los Angeles Lakers"
          ],
          [
           141.5,
           15.88,
           "Will Barton",
           "Washington Wizards"
          ],
          [
           337.9,
           9,
           "Xavier Tillman",
           "Memphis Grizzlies"
          ],
          [
           139.7,
           17.642857142857142,
           "Yuta Watanabe",
           "Brooklyn Nets"
          ],
          [
           324.8,
           7.055555555555555,
           "Zeke Nnaji",
           "Denver Nuggets"
          ],
          [
           230.9,
           19,
           "Ziaire Williams",
           "Memphis Grizzlies"
          ],
          [
           26.4,
           42.73684210526316,
           "Zion Williamson",
           "New Orleans Pelicans"
          ]
         ],
         "hovertemplate": "Pos=F<br>Difference=%{x}<br>Rank=%{y}<br>AVG=%{customdata[0]}<br>FANTASY=%{customdata[1]}<br>Name=%{customdata[2]}<br>TEAM_NAME=%{customdata[3]}<extra></extra>",
         "legendgroup": "F",
         "marker": {
          "color": "#636efa",
          "symbol": "circle"
         },
         "mode": "markers",
         "name": "F",
         "orientation": "v",
         "showlegend": true,
         "type": "scatter",
         "x": [
          148.8,
          52.099999999999994,
          119.10000000000002,
          -219,
          3.1999999999999886,
          -292.5,
          -2.8999999999999773,
          27.200000000000003,
          36.89999999999998,
          -120,
          -23.6,
          11,
          26.299999999999997,
          117.80000000000001,
          -72.7,
          1.7999999999999972,
          298.4,
          70.89999999999998,
          40.5,
          47.5,
          9.700000000000003,
          32.19999999999999,
          -1.0999999999999943,
          -31.599999999999994,
          -44.19999999999999,
          -75.5,
          38.39999999999998,
          -87.19999999999999,
          -57,
          -5.199999999999999,
          81.19999999999999,
          18.599999999999994,
          24.900000000000006,
          2.5,
          -53.599999999999994,
          -10.599999999999994,
          14.200000000000003,
          -136.1,
          -168,
          -10.899999999999999,
          -7,
          131,
          -4.6,
          -9.200000000000003,
          -4.400000000000006,
          -24.900000000000006,
          51.60000000000002,
          -31.200000000000003,
          -105,
          -54.30000000000001,
          -75.5,
          -45.10000000000002,
          101.89999999999998,
          -88.69999999999999,
          79.69999999999999,
          -86.19999999999999,
          -320.5,
          11,
          -44.400000000000006,
          -21.80000000000001,
          -32,
          92.19999999999999,
          -39.599999999999994,
          152.39999999999998,
          -1.6000000000000227,
          2.5,
          -135.5,
          32.099999999999994,
          9.100000000000001,
          -3.4000000000000004,
          8.5,
          47,
          -24,
          14.600000000000001,
          -25.099999999999994,
          -183.1,
          -15.899999999999977,
          -279,
          63.39999999999998,
          17.599999999999994,
          151.5,
          6.399999999999977,
          -128.60000000000002,
          -20.30000000000001,
          -20.399999999999977,
          -1.7999999999999972,
          -279,
          -47.69999999999999,
          -311,
          -311,
          156.2,
          -4.100000000000023,
          -151.1,
          -95.2,
          88.80000000000001,
          -33.3,
          -261,
          136.3,
          -106.19999999999999,
          0.2999999999999998,
          -35.80000000000001,
          25.6,
          -7.800000000000011,
          20.900000000000006,
          114.30000000000001,
          44.599999999999994,
          -0.6999999999999993,
          5.199999999999989,
          -97.10000000000002,
          68.39999999999998,
          -15.899999999999977,
          -212.2,
          27.19999999999999,
          24.30000000000001,
          26.100000000000023,
          23.799999999999997,
          109.5,
          148.89999999999998,
          -119.80000000000001,
          45.10000000000002,
          -110.5,
          -114.9,
          -118.4,
          -22.30000000000001,
          -108.5,
          -2.799999999999997,
          -14.799999999999997,
          14.399999999999999,
          -56.80000000000001,
          28,
          -43.60000000000002,
          -63.19999999999999,
          -109,
          92,
          109.69999999999999,
          -45.39999999999998,
          -36.5,
          -50.400000000000006,
          95.80000000000001,
          -66.39999999999998,
          21.80000000000001,
          -26.299999999999997,
          -73.39999999999998,
          -150.7,
          -87.1,
          -42.099999999999994,
          80.60000000000002,
          56.19999999999999,
          -89.39999999999998,
          87.19999999999999,
          -186.8,
          20.299999999999997,
          140.60000000000002,
          19.899999999999977,
          -50.10000000000002,
          -313,
          127.89999999999998,
          92.89999999999998,
          131.39999999999998,
          -99.5,
          -17.100000000000023,
          -74.30000000000001,
          -56.19999999999999,
          30.900000000000006,
          6.399999999999999
         ],
         "xaxis": "x",
         "y": [
          216,
          69,
          245,
          359,
          148,
          432.5,
          378,
          42,
          376,
          260,
          87,
          95.5,
          100,
          89,
          187,
          46,
          457.5,
          357,
          141,
          253,
          116,
          248,
          151.5,
          247,
          342,
          227,
          326,
          432.5,
          194,
          30,
          229,
          195,
          55,
          118,
          196,
          250,
          77,
          346,
          308,
          54,
          91,
          220,
          7,
          114,
          166,
          140,
          318,
          151.5,
          364,
          301,
          305,
          476,
          299,
          404,
          291,
          414,
          460.5,
          133,
          183,
          307,
          288,
          147,
          153,
          336,
          416,
          128,
          275.5,
          223,
          26,
          10,
          285,
          45,
          207,
          17,
          99,
          328,
          300,
          419,
          249,
          97,
          268.5,
          374,
          415,
          293,
          467.5,
          49,
          419,
          347.5,
          451,
          451,
          161,
          392,
          192,
          183,
          265,
          98,
          401,
          232,
          462,
          6,
          176,
          23,
          178,
          66,
          279.5,
          37,
          12,
          131,
          405,
          365,
          356,
          384,
          411.5,
          137,
          242.5,
          57,
          337.5,
          224.5,
          332,
          239,
          318,
          262,
          302,
          311,
          310,
          108,
          73,
          11,
          205,
          263,
          467.5,
          315,
          256,
          323,
          110,
          320,
          203,
          143,
          267,
          428,
          135,
          70,
          382,
          359,
          246,
          177,
          273,
          257,
          428,
          231,
          466,
          56,
          190,
          277,
          322,
          453,
          244,
          329.5,
          275.5,
          241,
          355,
          214,
          381,
          200,
          20
         ],
         "yaxis": "y"
        },
        {
         "customdata": [
          [
           394.5,
           10.590909090909092,
           "Aaron Holiday",
           "Atlanta Hawks"
          ],
          [
           330.4,
           14.666666666666666,
           "Aaron Wiggins",
           "Oklahoma City Thunder"
          ],
          [
           215.8,
           21.785714285714285,
           "Alec Burks",
           "Detroit Pistons"
          ],
          [
           151.3,
           22.166666666666668,
           "Alex Caruso",
           "Chicago Bulls"
          ],
          [
           349.1,
           22.85,
           "Andrew Nembhard",
           "Indiana Pacers"
          ],
          [
           92.7,
           39.18181818181818,
           "Anfernee Simons",
           "Portland Trail Blazers"
          ],
          [
           23.7,
           39,
           "Anthony Edwards",
           "Minnesota Timberwolves"
          ],
          [
           262.6,
           18.958333333333332,
           "Austin Reaves",
           "Los Angeles Lakers"
          ],
          [
           383.8,
           5.357142857142857,
           "Austin Rivers",
           "Minnesota Timberwolves"
          ],
          [
           139.1,
           21.652173913043477,
           "Ayo Dosunmu",
           "Chicago Bulls"
          ],
          [
           124.7,
           22.48,
           "Bennedict Mathurin",
           "Indiana Pacers"
          ],
          [
           305.2,
           12.5,
           "Blake Wesley",
           "San Antonio Spurs"
          ],
          [
           139.9,
           10.666666666666666,
           "Bogdan Bogdanovic",
           "Atlanta Hawks"
          ],
          [
           129.6,
           23.6875,
           "Bones Hyland",
           "Denver Nuggets"
          ],
          [
           33.8,
           40.72222222222222,
           "Bradley Beal",
           "Washington Wizards"
          ],
          [
           151.9,
           28.25,
           "Bruce Brown",
           "Denver Nuggets"
          ],
          [
           139.9,
           9.5,
           "Bryce McGowens",
           "Charlotte Hornets"
          ],
          [
           308,
           6.333333333333333,
           "Bryn Forbes",
           "Minnesota Timberwolves"
          ],
          [
           84.7,
           29.44,
           "Buddy Hield",
           "Indiana Pacers"
          ],
          [
           50.2,
           34.05,
           "CJ McCollum",
           "New Orleans Pelicans"
          ],
          [
           31.7,
           34.916666666666664,
           "Cade Cunningham",
           "Detroit Pistons"
          ],
          [
           267.9,
           9.65,
           "Cam Thomas",
           "Brooklyn Nets"
          ],
          [
           180.9,
           26.130434782608695,
           "Cameron Payne",
           "Phoenix Suns"
          ],
          [
           126.2,
           22.38095238095238,
           "Caris LeVert",
           "Cleveland Cavaliers"
          ],
          [
           125.2,
           13.11111111111111,
           "Chris Duarte",
           "Indiana Pacers"
          ],
          [
           49.7,
           33.90909090909091,
           "Chris Paul",
           "Phoenix Suns"
          ],
          [
           333.1,
           7.363636363636363,
           "Christian Braun",
           "Denver Nuggets"
          ],
          [
           219.2,
           13.5625,
           "Coby White",
           "Chicago Bulls"
          ],
          [
           197.1,
           0,
           "Cody Martin",
           "Charlotte Hornets"
          ],
          [
           118.2,
           27,
           "Cole Anthony",
           "Orlando Magic"
          ],
          [
           84.7,
           21.703703703703702,
           "Collin Sexton",
           "Utah Jazz"
          ],
          [
           323.2,
           19.764705882352942,
           "Corey Kispert",
           "Washington Wizards"
          ],
          [
           359.9,
           12.047619047619047,
           "Cory Joseph",
           "Detroit Pistons"
          ],
          [
           73.5,
           33.625,
           "D'Angelo Russell",
           "Minnesota Timberwolves"
          ],
          [
           420.5,
           9.909090909090908,
           "Daishen Nix",
           "Houston Rockets"
          ],
          [
           307.8,
           12.68421052631579,
           "Dalano Banton",
           "Toronto Raptors"
          ],
          [
           397.4,
           2.1,
           "Dalen Terry",
           "Chicago Bulls"
          ],
          [
           17.4,
           39.666666666666664,
           "Damian Lillard",
           "Portland Trail Blazers"
          ],
          [
           403.9,
           16.12,
           "Damion Lee",
           "Phoenix Suns"
          ],
          [
           35.3,
           39.31578947368421,
           "Darius Garland",
           "Cleveland Cavaliers"
          ],
          [
           146,
           13.521739130434783,
           "Davion Mitchell",
           "Sacramento Kings"
          ],
          [
           388.4,
           4.944444444444445,
           "Davon Reed",
           "Denver Nuggets"
          ],
          [
           37.3,
           41.31818181818182,
           "De'Aaron Fox",
           "Sacramento Kings"
          ],
          [
           144.3,
           28.181818181818183,
           "De'Anthony Melton",
           "Philadelphia 76ers"
          ],
          [
           22.6,
           42.28,
           "Dejounte Murray",
           "Atlanta Hawks"
          ],
          [
           306.2,
           27.75,
           "Delon Wright",
           "Washington Wizards"
          ],
          [
           174.2,
           16.181818181818183,
           "Dennis Schroder",
           "Los Angeles Lakers"
          ],
          [
           192.6,
           12.380952380952381,
           "Derrick Rose",
           "New York Knicks"
          ],
          [
           147.7,
           24.96153846153846,
           "Derrick White",
           "Boston Celtics"
          ],
          [
           58.6,
           40.083333333333336,
           "Desmond Bane",
           "Memphis Grizzlies"
          ],
          [
           17.6,
           45.16,
           "Devin Booker",
           "Phoenix Suns"
          ],
          [
           140,
           4.5,
           "Devon Dotson",
           "Washington Wizards"
          ],
          [
           200.4,
           13.666666666666666,
           "Devonte' Graham",
           "New Orleans Pelicans"
          ],
          [
           27.3,
           47.391304347826086,
           "Donovan Mitchell",
           "Cleveland Cavaliers"
          ],
          [
           222,
           14.38888888888889,
           "Donte DiVincenzo",
           "Golden State Warriors"
          ],
          [
           140,
           10.75,
           "Dru Smith",
           "Miami Heat"
          ],
          [
           242.1,
           16.4375,
           "Dyson Daniels",
           "New Orleans Pelicans"
          ],
          [
           425.4,
           13.333333333333334,
           "Edmond Sumner",
           "Brooklyn Nets"
          ],
          [
           227.6,
           20.1,
           "Eric Gordon",
           "Houston Rockets"
          ],
          [
           150.3,
           13.076923076923077,
           "Evan Fournier",
           "New York Knicks"
          ],
          [
           347.6,
           5.375,
           "Facundo Campazzo",
           "Dallas Mavericks"
          ],
          [
           335.6,
           4.142857142857143,
           "Frank Ntilikina",
           "Dallas Mavericks"
          ],
          [
           38.9,
           35.68421052631579,
           "Fred VanVleet",
           "Toronto Raptors"
          ],
          [
           366.1,
           8.153846153846153,
           "Furkan Korkmaz",
           "Philadelphia 76ers"
          ],
          [
           300.7,
           17.263157894736842,
           "Gabe Vincent",
           "Miami Heat"
          ],
          [
           425.9,
           6.666666666666667,
           "Garrett Temple",
           "New Orleans Pelicans"
          ],
          [
           370.8,
           9.19047619047619,
           "Garrison Mathews",
           "Houston Rockets"
          ],
          [
           314,
           19.333333333333332,
           "Gary Harris",
           "Orlando Magic"
          ],
          [
           333.1,
           11.833333333333334,
           "George Hill",
           "Milwaukee Bucks"
          ],
          [
           319.9,
           14.782608695652174,
           "Goran Dragic",
           "Chicago Bulls"
          ],
          [
           204,
           22.523809523809526,
           "Grayson Allen",
           "Milwaukee Bucks"
          ],
          [
           293.2,
           11.24,
           "Hamidou Diallo",
           "Detroit Pistons"
          ],
          [
           147.6,
           21.08,
           "Immanuel Quickley",
           "New York Knicks"
          ],
          [
           397.1,
           11.166666666666666,
           "Isaiah Joe",
           "Oklahoma City Thunder"
          ],
          [
           298.7,
           10.4,
           "Ish Smith",
           "Denver Nuggets"
          ],
          [
           273.9,
           1.6666666666666667,
           "JD Davison",
           "Boston Celtics"
          ],
          [
           11.6,
           46.04761904761905,
           "Ja Morant",
           "Memphis Grizzlies"
          ],
          [
           298,
           2.8,
           "Jaden Hardy",
           "Dallas Mavericks"
          ],
          [
           115.4,
           26.26086956521739,
           "Jaden Ivey",
           "Detroit Pistons"
          ],
          [
           434,
           5.5,
           "Jaden Springer",
           "Philadelphia 76ers"
          ],
          [
           53,
           37.52,
           "Jalen Brunson",
           "New York Knicks"
          ],
          [
           67.4,
           29.166666666666668,
           "Jalen Green",
           "Houston Rockets"
          ],
          [
           124.5,
           27.428571428571427,
           "Jalen Suggs",
           "Orlando Magic"
          ],
          [
           146,
           20.333333333333332,
           "Jalen Williams",
           "Oklahoma City Thunder"
          ],
          [
           69.4,
           31.1,
           "Jamal Murray",
           "Denver Nuggets"
          ],
          [
           296.2,
           9.68421052631579,
           "James Bouknight",
           "Charlotte Hornets"
          ],
          [
           16.1,
           47.7,
           "James Harden",
           "Philadelphia 76ers"
          ],
          [
           429.4,
           5.5,
           "Jason Preston",
           "LA Clippers"
          ],
          [
           231.4,
           18.958333333333332,
           "Jaylen Nowell",
           "Minnesota Timberwolves"
          ],
          [
           357.6,
           23.75,
           "Jevon Carter",
           "Milwaukee Bucks"
          ],
          [
           186.9,
           17.458333333333332,
           "Joe Harris",
           "Brooklyn Nets"
          ],
          [
           302.4,
           22.73913043478261,
           "John Konchar",
           "Memphis Grizzlies"
          ],
          [
           115.9,
           24.7,
           "John Wall",
           "LA Clippers"
          ],
          [
           260.2,
           1.875,
           "Johnny Davis",
           "Washington Wizards"
          ],
          [
           118.8,
           30.40740740740741,
           "Jordan Clarkson",
           "Utah Jazz"
          ],
          [
           140,
           20.444444444444443,
           "Jordan Goodwin",
           "Washington Wizards"
          ],
          [
           282.9,
           15.882352941176471,
           "Jordan McLaughlin",
           "Minnesota Timberwolves"
          ],
          [
           73,
           27,
           "Jordan Poole",
           "Golden State Warriors"
          ],
          [
           199.2,
           22.166666666666668,
           "Jose Alvarado",
           "New Orleans Pelicans"
          ],
          [
           248.5,
           5,
           "Josh Christopher",
           "Houston Rockets"
          ],
          [
           60,
           30.227272727272727,
           "Josh Giddey",
           "Oklahoma City Thunder"
          ],
          [
           261.1,
           18.11764705882353,
           "Josh Richardson",
           "San Antonio Spurs"
          ],
          [
           151.4,
           15,
           "Joshua Primo",
           "San Antonio Spurs"
          ],
          [
           41.8,
           40.89473684210526,
           "Jrue Holiday",
           "Milwaukee Bucks"
          ],
          [
           154.2,
           7.142857142857143,
           "Kendrick Nunn",
           "Los Angeles Lakers"
          ],
          [
           432.4,
           9.777777777777779,
           "Kennedy Chandler",
           "Memphis Grizzlies"
          ],
          [
           158.4,
           23.217391304347824,
           "Kentavious Caldwell-Pope",
           "Denver Nuggets"
          ],
          [
           353.8,
           11.666666666666666,
           "Keon Johnson",
           "Portland Trail Blazers"
          ],
          [
           141.9,
           29.391304347826086,
           "Kevin Huerter",
           "Sacramento Kings"
          ],
          [
           60.1,
           26,
           "Khris Middleton",
           "Milwaukee Bucks"
          ],
          [
           233.6,
           22.59259259259259,
           "Killian Hayes",
           "Detroit Pistons"
          ],
          [
           74.5,
           27.904761904761905,
           "Klay Thompson",
           "Golden State Warriors"
          ],
          [
           103.9,
           33.04,
           "Kyle Lowry",
           "Miami Heat"
          ],
          [
           25.5,
           43.388888888888886,
           "Kyrie Irving",
           "Brooklyn Nets"
          ],
          [
           16.7,
           35,
           "LaMelo Ball",
           "Charlotte Hornets"
          ],
          [
           334.9,
           11.4,
           "Landry Shamet",
           "Phoenix Suns"
          ],
          [
           140,
           3.5,
           "Leandro Bolmaro",
           "Utah Jazz"
          ],
          [
           3.3,
           61.34782608695652,
           "Luka Doncic",
           "Dallas Mavericks"
          ],
          [
           254,
           14,
           "Luke Kennard",
           "LA Clippers"
          ],
          [
           342.6,
           10.25,
           "Malachi Flynn",
           "Toronto Raptors"
          ],
          [
           345.6,
           8.545454545454545,
           "Malaki Branham",
           "San Antonio Spurs"
          ],
          [
           104.3,
           25.571428571428573,
           "Malcolm Brogdon",
           "Boston Celtics"
          ],
          [
           156,
           23.666666666666668,
           "Malik Beasley",
           "Utah Jazz"
          ],
          [
           154.3,
           26.47826086956522,
           "Malik Monk",
           "Sacramento Kings"
          ],
          [
           95.9,
           30.956521739130434,
           "Marcus Smart",
           "Boston Celtics"
          ],
          [
           150.3,
           18.8,
           "Markelle Fultz",
           "Orlando Magic"
          ],
          [
           140,
           3.2,
           "Matthew Dellavedova",
           "Sacramento Kings"
          ],
          [
           419.4,
           6.818181818181818,
           "Max Christie",
           "Los Angeles Lakers"
          ],
          [
           128.2,
           30.88235294117647,
           "Mike Conley",
           "Utah Jazz"
          ],
          [
           358.1,
           5.615384615384615,
           "Miles McBride",
           "New York Knicks"
          ],
          [
           123.8,
           25.545454545454547,
           "Monte Morris",
           "Washington Wizards"
          ],
          [
           259.3,
           8,
           "Moses Moody",
           "Golden State Warriors"
          ],
          [
           231.2,
           10.625,
           "Nickeil Alexander-Walker",
           "Utah Jazz"
          ],
          [
           139.6,
           21.636363636363637,
           "Norman Powell",
           "LA Clippers"
          ],
          [
           253.5,
           4.75,
           "Ochai Agbaji",
           "Utah Jazz"
          ],
          [
           229.7,
           12,
           "Pat Connaughton",
           "Milwaukee Bucks"
          ],
          [
           152.6,
           15,
           "Patrick Beverley",
           "Los Angeles Lakers"
          ],
          [
           228,
           8.25,
           "Patty Mills",
           "Brooklyn Nets"
          ],
          [
           30,
           38.44444444444444,
           "Paul George",
           "LA Clippers"
          ],
          [
           298.9,
           9.142857142857142,
           "Payton Pritchard",
           "Boston Celtics"
          ],
          [
           226,
           15.8,
           "Quentin Grimes",
           "New York Knicks"
          ],
          [
           356.1,
           13.142857142857142,
           "R.J. Hampton",
           "Orlando Magic"
          ],
          [
           80.4,
           24.44,
           "RJ Barrett",
           "New York Knicks"
          ],
          [
           380.1,
           6.625,
           "Raul Neto",
           "Cleveland Cavaliers"
          ],
          [
           137.9,
           21.115384615384617,
           "Reggie Jackson",
           "LA Clippers"
          ],
          [
           433,
           3.875,
           "Rodney McGruder",
           "Detroit Pistons"
          ],
          [
           80.3,
           30.391304347826086,
           "Russell Westbrook",
           "Los Angeles Lakers"
          ],
          [
           140,
           1.5,
           "Ryan Arcidiacono",
           "New York Knicks"
          ],
          [
           140,
           0.2857142857142857,
           "Ryan Rollins",
           "Golden State Warriors"
          ],
          [
           418.4,
           5,
           "Saben Lee",
           "Philadelphia 76ers"
          ],
          [
           157.1,
           19.0625,
           "Seth Curry",
           "Brooklyn Nets"
          ],
          [
           199.2,
           12.130434782608695,
           "Shaedon Sharpe",
           "Portland Trail Blazers"
          ],
          [
           34.5,
           52.65217391304348,
           "Shai Gilgeous-Alexander",
           "Oklahoma City Thunder"
          ],
          [
           327.7,
           21.8,
           "Shake Milton",
           "Philadelphia 76ers"
          ],
          [
           104.9,
           32.458333333333336,
           "Spencer Dinwiddie",
           "Dallas Mavericks"
          ],
          [
           9.3,
           54.17391304347826,
           "Stephen Curry",
           "Golden State Warriors"
          ],
          [
           392.4,
           3,
           "Svi Mykhailiuk",
           "New York Knicks"
          ],
          [
           214.7,
           18.09090909090909,
           "T.J. McConnell",
           "Indiana Pacers"
          ],
          [
           237.3,
           18.115384615384617,
           "Terance Mann",
           "LA Clippers"
          ],
          [
           326.7,
           16.1,
           "Terence Davis",
           "Sacramento Kings"
          ],
          [
           52.4,
           34.11764705882353,
           "Terry Rozier",
           "Charlotte Hornets"
          ],
          [
           411.4,
           14.565217391304348,
           "Theo Maledon",
           "Charlotte Hornets"
          ],
          [
           425,
           2,
           "Theo Pinson",
           "Dallas Mavericks"
          ],
          [
           10.8,
           42.78260869565217,
           "Trae Young",
           "Atlanta Hawks"
          ],
          [
           101.3,
           30.652173913043477,
           "Tre Jones",
           "San Antonio Spurs"
          ],
          [
           206.3,
           16.5,
           "Tre Mann",
           "Oklahoma City Thunder"
          ],
          [
           140,
           4.875,
           "Trent Forrest",
           "Atlanta Hawks"
          ],
          [
           722.9,
           3,
           "Trevelin Queen",
           "Indiana Pacers"
          ],
          [
           140,
           0,
           "Trevor Keels",
           "New York Knicks"
          ],
          [
           418.9,
           10.909090909090908,
           "Ty Jerome",
           "Golden State Warriors"
          ],
          [
           140,
           16,
           "Tyler Dorsey",
           "Dallas Mavericks"
          ],
          [
           77.2,
           35.76470588235294,
           "Tyler Herro",
           "Miami Heat"
          ],
          [
           16.1,
           50.608695652173914,
           "Tyrese Haliburton",
           "Indiana Pacers"
          ],
          [
           64.8,
           36.53333333333333,
           "Tyrese Maxey",
           "Philadelphia 76ers"
          ],
          [
           174.8,
           22.28,
           "Tyus Jones",
           "Memphis Grizzlies"
          ],
          [
           147.2,
           11,
           "Victor Oladipo",
           "Miami Heat"
          ],
          [
           140,
           4,
           "Vit Krejci",
           "Atlanta Hawks"
          ],
          [
           350.4,
           7.833333333333333,
           "Wesley Matthews",
           "Milwaukee Bucks"
          ],
          [
           40.8,
           35.4,
           "Zach LaVine",
           "Chicago Bulls"
          ]
         ],
         "hovertemplate": "Pos=G<br>Difference=%{x}<br>Rank=%{y}<br>AVG=%{customdata[0]}<br>FANTASY=%{customdata[1]}<br>Name=%{customdata[2]}<br>TEAM_NAME=%{customdata[3]}<extra></extra>",
         "legendgroup": "G",
         "marker": {
          "color": "#EF553B",
          "symbol": "circle"
         },
         "mode": "markers",
         "name": "G",
         "orientation": "v",
         "showlegend": true,
         "type": "scatter",
         "x": [
          63.5,
          71.39999999999998,
          47.80000000000001,
          -13.199999999999989,
          195.10000000000002,
          59.7,
          -11.3,
          61.10000000000002,
          -25.19999999999999,
          -30.900000000000006,
          -34.3,
          11.199999999999989,
          -187.1,
          -15.400000000000006,
          6.799999999999997,
          48.900000000000006,
          -211.1,
          -81.5,
          -8.299999999999997,
          -8.799999999999997,
          -21.3,
          -81.10000000000002,
          59.900000000000006,
          -33.8,
          -157.8,
          -10.299999999999997,
          -41.89999999999998,
          -52.80000000000001,
          -278.9,
          5.700000000000003,
          -84.3,
          130.2,
          56.89999999999998,
          11.5,
          80.5,
          15.800000000000011,
          -57.60000000000002,
          -13.600000000000001,
          169.89999999999998,
          3.299999999999997,
          -128,
          -33.60000000000002,
          13.299999999999997,
          40.30000000000001,
          0.6000000000000014,
          197.2,
          -58.80000000000001,
          -103.4,
          13.699999999999989,
          29.6,
          1.6000000000000014,
          -290.5,
          -70.6,
          13.3,
          -44,
          -184,
          12.099999999999994,
          147.39999999999998,
          39.599999999999994,
          -133.7,
          -60.39999999999998,
          -99.89999999999998,
          -9.100000000000001,
          -1.8999999999999773,
          83.69999999999999,
          40.89999999999998,
          17.80000000000001,
          117,
          27.100000000000023,
          61.89999999999998,
          46,
          -19.80000000000001,
          -27.400000000000006,
          81.10000000000002,
          -35.30000000000001,
          -190.10000000000002,
          -3.4000000000000004,
          -152,
          -3.5999999999999943,
          33,
          14,
          -28.099999999999994,
          13.5,
          -37,
          -9.599999999999994,
          -51.30000000000001,
          3.1000000000000014,
          28.399999999999977,
          29.900000000000006,
          213.60000000000002,
          -28.099999999999994,
          147.39999999999998,
          -20.099999999999994,
          -200.3,
          34.8,
          -40,
          42.89999999999998,
          -39.5,
          34.69999999999999,
          -170.5,
          -28,
          52.10000000000002,
          -101.6,
          16.799999999999997,
          -224.8,
          87.39999999999998,
          9.400000000000006,
          44.80000000000001,
          47.900000000000006,
          -62.4,
          76.6,
          -31.5,
          36.900000000000006,
          7.5,
          -34.8,
          22.899999999999977,
          -302.5,
          2.3,
          -14.5,
          7.600000000000023,
          -15.399999999999977,
          -20.700000000000003,
          10,
          37.30000000000001,
          15.900000000000006,
          -53.69999999999999,
          -304,
          36.39999999999998,
          47.19999999999999,
          -38.89999999999998,
          -2.200000000000003,
          -111.19999999999999,
          -98.30000000000001,
          -31.400000000000006,
          -172.5,
          -74.30000000000001,
          -100.4,
          -139,
          -8,
          -55.10000000000002,
          -16.5,
          74.10000000000002,
          -57.599999999999994,
          -5.899999999999977,
          -36.099999999999994,
          -6,
          -4.700000000000003,
          -325,
          -331,
          -0.6000000000000227,
          -41.900000000000006,
          -98.80000000000001,
          26.5,
          160.7,
          29.900000000000006,
          5.300000000000001,
          -54.60000000000002,
          3.6999999999999886,
          27.30000000000001,
          91.69999999999999,
          -5.600000000000001,
          150.39999999999998,
          -32.5,
          -8.2,
          19.299999999999997,
          -20.69999999999999,
          -283,
          275.9,
          -336,
          97.89999999999998,
          -96,
          30.200000000000003,
          7.100000000000001,
          20.799999999999997,
          12.800000000000011,
          -170.8,
          -297.5,
          -22.600000000000023,
          -9.200000000000003
         ],
         "xaxis": "x",
         "y": [
          331,
          259,
          168,
          164.5,
          154,
          33,
          35,
          201.5,
          409,
          170,
          159,
          294,
          327,
          145,
          27,
          103,
          351,
          389.5,
          93,
          59,
          53,
          349,
          121,
          160,
          283,
          60,
          375,
          272,
          476,
          112.5,
          169,
          193,
          303,
          62,
          340,
          292,
          455,
          31,
          234,
          32,
          274,
          422,
          24,
          104,
          22,
          109,
          233,
          296,
          134,
          29,
          16,
          430.5,
          271,
          14,
          266,
          324,
          230,
          278,
          188,
          284,
          408,
          435.5,
          48,
          368,
          217,
          385,
          353,
          197,
          306,
          258,
          158,
          313,
          175,
          316,
          334,
          464,
          15,
          450,
          119,
          401,
          39,
          95.5,
          111,
          183,
          79,
          347.5,
          13,
          401,
          201.5,
          144,
          215,
          155,
          136,
          460.5,
          84,
          180,
          240,
          112.5,
          164.5,
          419,
          88,
          209,
          253,
          25,
          379,
          345,
          149,
          309,
          94,
          122.5,
          157,
          106,
          67,
          18,
          51.5,
          312,
          442.5,
          1,
          268.5,
          335,
          361,
          125,
          146,
          117,
          80,
          204,
          444,
          383,
          81,
          397,
          126,
          370.5,
          329.5,
          171,
          426,
          304,
          253,
          367,
          38,
          354,
          242.5,
          282,
          138,
          386,
          174,
          439,
          85,
          465,
          471,
          419,
          199,
          298,
          8,
          167,
          75,
          4,
          447,
          211,
          210,
          235,
          58,
          261,
          457.5,
          19,
          82,
          227,
          423,
          447,
          476,
          321,
          236,
          47,
          9,
          44,
          162,
          318,
          437.5,
          373,
          50
         ],
         "yaxis": "y"
        },
        {
         "customdata": [
          [
           103.9,
           28.7,
           "Al Horford",
           "Boston Celtics"
          ],
          [
           331.6,
           3,
           "Alex Len",
           "Sacramento Kings"
          ],
          [
           68.4,
           30.476190476190474,
           "Alperen Sengun",
           "Houston Rockets"
          ],
          [
           147.8,
           16.77777777777778,
           "Andre Drummond",
           "Chicago Bulls"
          ],
          [
           17.7,
           57.476190476190474,
           "Anthony Davis",
           "Los Angeles Lakers"
          ],
          [
           25.9,
           37.26086956521739,
           "Bam Adebayo",
           "Miami Heat"
          ],
          [
           304,
           12.45,
           "Bismack Biyombo",
           "Phoenix Suns"
          ],
          [
           252,
           11.2,
           "Blake Griffin",
           "Boston Celtics"
          ],
          [
           318.7,
           2.857142857142857,
           "Boban Marjanovic",
           "Houston Rockets"
          ],
          [
           139.3,
           37.04347826086956,
           "Brook Lopez",
           "Milwaukee Bucks"
          ],
          [
           354,
           17.25,
           "Bruno Fernando",
           "Houston Rockets"
          ],
          [
           430.4,
           18.571428571428573,
           "Charles Bassey",
           "San Antonio Spurs"
          ],
          [
           333.9,
           12.947368421052632,
           "Chimezie Metu",
           "Sacramento Kings"
          ],
          [
           395.9,
           12.72,
           "Christian Koloko",
           "Toronto Raptors"
          ],
          [
           73.1,
           27.857142857142858,
           "Christian Wood",
           "Dallas Mavericks"
          ],
          [
           84.6,
           32.56521739130435,
           "Clint Capela",
           "Atlanta Hawks"
          ],
          [
           201.7,
           8,
           "Damian Jones",
           "Los Angeles Lakers"
          ],
          [
           160.6,
           15.96,
           "Daniel Gafford",
           "Washington Wizards"
          ],
          [
           241,
           8.266666666666667,
           "Day'Ron Sharpe",
           "Brooklyn Nets"
          ],
          [
           255.2,
           14.473684210526315,
           "DeAndre Jordan",
           "Denver Nuggets"
          ],
          [
           50.6,
           33.608695652173914,
           "Deandre Ayton",
           "Phoenix Suns"
          ],
          [
           287.1,
           13.25,
           "Dewayne Dedmon",
           "Miami Heat"
          ],
          [
           21.8,
           42.43478260869565,
           "Domantas Sabonis",
           "Sacramento Kings"
          ],
          [
           249.3,
           16.545454545454547,
           "Drew Eubanks",
           "Portland Trail Blazers"
          ],
          [
           283.6,
           13.238095238095237,
           "Dwight Powell",
           "Dallas Mavericks"
          ],
          [
           365.4,
           4.2727272727272725,
           "Frank Kaminsky",
           "Atlanta Hawks"
          ],
          [
           289.1,
           9.933333333333334,
           "Goga Bitadze",
           "Indiana Pacers"
          ],
          [
           422.9,
           10.545454545454545,
           "Gorgui Dieng",
           "San Antonio Spurs"
          ],
          [
           145.1,
           20.04,
           "Isaiah Hartenstein",
           "New York Knicks"
          ],
          [
           129.7,
           18.041666666666668,
           "Isaiah Jackson",
           "Indiana Pacers"
          ],
          [
           443.4,
           3.5714285714285716,
           "Isaiah Mobley",
           "Cleveland Cavaliers"
          ],
          [
           134.6,
           25.5,
           "Isaiah Stewart",
           "Detroit Pistons"
          ],
          [
           117.7,
           29.73076923076923,
           "Ivica Zubac",
           "LA Clippers"
          ],
          [
           153.8,
           8,
           "JaVale McGee",
           "Dallas Mavericks"
          ],
          [
           75.1,
           33.55,
           "Jakob Poeltl",
           "San Antonio Spurs"
          ],
          [
           151.2,
           18.166666666666668,
           "Jalen Duren",
           "Detroit Pistons"
          ],
          [
           125.7,
           12.333333333333334,
           "James Wiseman",
           "Golden State Warriors"
          ],
          [
           61.9,
           32.77777777777778,
           "Jarrett Allen",
           "Cleveland Cavaliers"
          ],
          [
           279.2,
           3.6666666666666665,
           "Jaxson Hayes",
           "New Orleans Pelicans"
          ],
          [
           267.1,
           5.833333333333333,
           "Jaylin Williams",
           "Oklahoma City Thunder"
          ],
          [
           207.4,
           20.166666666666668,
           "Jeremiah Robinson-Earl",
           "Oklahoma City Thunder"
          ],
          [
           345.4,
           14.941176470588236,
           "Jericho Sims",
           "New York Knicks"
          ],
          [
           315.4,
           13,
           "Jock Landale",
           "Phoenix Suns"
          ],
          [
           5.1,
           54.125,
           "Joel Embiid",
           "Philadelphia 76ers"
          ],
          [
           60.5,
           26.208333333333332,
           "Jonas Valanciunas",
           "New Orleans Pelicans"
          ],
          [
           74.6,
           31.285714285714285,
           "Jusuf Nurkic",
           "Portland Trail Blazers"
          ],
          [
           381.9,
           7.125,
           "Kai Jones",
           "Charlotte Hornets"
          ],
          [
           11.9,
           40.42857142857143,
           "Karl-Anthony Towns",
           "Minnesota Timberwolves"
          ],
          [
           144.4,
           29.51851851851852,
           "Kelly Olynyk",
           "Utah Jazz"
          ],
          [
           146.2,
           22.615384615384617,
           "Kevon Looney",
           "Golden State Warriors"
          ],
          [
           350.8,
           5.384615384615385,
           "Khem Birch",
           "Toronto Raptors"
          ],
          [
           140,
           2,
           "Luka Garza",
           "Minnesota Timberwolves"
          ],
          [
           359,
           13.80952380952381,
           "Luke Kornet",
           "Boston Celtics"
          ],
          [
           186.4,
           5.333333333333333,
           "Mark Williams",
           "Charlotte Hornets"
          ],
          [
           166,
           -1,
           "Marko Simonovic",
           "Chicago Bulls"
          ],
          [
           154,
           26.76,
           "Mason Plumlee",
           "Charlotte Hornets"
          ],
          [
           371.1,
           6,
           "Mfiondu Kabengele",
           "Boston Celtics"
          ],
          [
           140,
           5.5,
           "Micah Potter",
           "Utah Jazz"
          ],
          [
           327.6,
           12.75,
           "Mike Muscala",
           "Oklahoma City Thunder"
          ],
          [
           108.1,
           26,
           "Mitchell Robinson",
           "New York Knicks"
          ],
          [
           143.2,
           17.8,
           "Mo Bamba",
           "Orlando Magic"
          ],
          [
           154.5,
           9.8,
           "Montrezl Harrell",
           "Philadelphia 76ers"
          ],
          [
           296.4,
           24.25,
           "Moritz Wagner",
           "Orlando Magic"
          ],
          [
           140,
           8.5,
           "Moses Brown",
           "LA Clippers"
          ],
          [
           81.4,
           39.10526315789474,
           "Myles Turner",
           "Indiana Pacers"
          ],
          [
           413.9,
           1.7777777777777777,
           "Nathan Knight",
           "Minnesota Timberwolves"
          ],
          [
           264.5,
           16.833333333333332,
           "Naz Reid",
           "Minnesota Timberwolves"
          ],
          [
           293.5,
           8.666666666666666,
           "Nerlens Noel",
           "Detroit Pistons"
          ],
          [
           284.3,
           19.16,
           "Nick Richards",
           "Charlotte Hornets"
          ],
          [
           1.5,
           54.80952380952381,
           "Nikola Jokic",
           "Denver Nuggets"
          ],
          [
           34.2,
           35,
           "Nikola Vucevic",
           "Chicago Bulls"
          ],
          [
           337.9,
           5.5,
           "Noah Vonleh",
           "Boston Celtics"
          ],
          [
           148.7,
           19.875,
           "Onyeka Okongwu",
           "Atlanta Hawks"
          ],
          [
           140,
           16.5,
           "Orlando Robinson",
           "Miami Heat"
          ],
          [
           154.4,
           17.25,
           "Precious Achiuwa",
           "Toronto Raptors"
          ],
          [
           159.6,
           5.6923076923076925,
           "Richaun Holmes",
           "Sacramento Kings"
          ],
          [
           342.8,
           5.555555555555555,
           "Robin Lopez",
           "Cleveland Cavaliers"
          ],
          [
           30.8,
           32.95454545454545,
           "Rudy Gobert",
           "Minnesota Timberwolves"
          ],
          [
           355.7,
           8.5,
           "Serge Ibaka",
           "Milwaukee Bucks"
          ],
          [
           120.6,
           25.391304347826086,
           "Steven Adams",
           "Memphis Grizzlies"
          ],
          [
           415.4,
           6.384615384615385,
           "Taj Gibson",
           "Washington Wizards"
          ],
          [
           155.8,
           20.4,
           "Thomas Bryant",
           "Los Angeles Lakers"
          ],
          [
           442,
           3.1666666666666665,
           "Tony Bradley",
           "Chicago Bulls"
          ],
          [
           291.4,
           5.777777777777778,
           "Udoka Azubuike",
           "Utah Jazz"
          ],
          [
           140,
           2.5,
           "Udonis Haslem",
           "Miami Heat"
          ],
          [
           149.3,
           20.166666666666668,
           "Walker Kessler",
           "Utah Jazz"
          ],
          [
           290.4,
           9.5,
           "Willy Hernangomez",
           "New Orleans Pelicans"
          ],
          [
           220.4,
           21.357142857142858,
           "Zach Collins",
           "San Antonio Spurs"
          ]
         ],
         "hovertemplate": "Pos=C<br>Difference=%{x}<br>Rank=%{y}<br>AVG=%{customdata[0]}<br>FANTASY=%{customdata[1]}<br>Name=%{customdata[2]}<br>TEAM_NAME=%{customdata[3]}<extra></extra>",
         "legendgroup": "C",
         "marker": {
          "color": "#00cc96",
          "symbol": "circle"
         },
         "mode": "markers",
         "name": "C",
         "orientation": "v",
         "showlegend": true,
         "type": "scatter",
         "x": [
          2.9000000000000057,
          -115.39999999999998,
          -14.599999999999994,
          -74.19999999999999,
          15.7,
          -14.100000000000001,
          9,
          -62,
          -130.3,
          96.30000000000001,
          135.5,
          224.39999999999998,
          46.89999999999998,
          105.89999999999998,
          -33.900000000000006,
          10.599999999999994,
          -168.8,
          -76.4,
          -125,
          -8.800000000000011,
          -12.899999999999999,
          7.600000000000023,
          0.8000000000000007,
          24.80000000000001,
          2.6000000000000227,
          -68.60000000000002,
          -49.89999999999998,
          89.89999999999998,
          -43.900000000000006,
          -82.30000000000001,
          2.3999999999999773,
          7.599999999999994,
          27.700000000000003,
          -216.7,
          10.099999999999994,
          -56.80000000000001,
          -171.3,
          -10.100000000000001,
          -160.8,
          -125.89999999999998,
          21.900000000000006,
          90.39999999999998,
          29.399999999999977,
          0.09999999999999964,
          -59.5,
          -3.4000000000000057,
          1.8999999999999773,
          -16.1,
          52.400000000000006,
          -9.800000000000011,
          -56.19999999999999,
          -317.5,
          89,
          -225.1,
          -315.5,
          39,
          -19.899999999999977,
          -261,
          38.60000000000002,
          -14.400000000000006,
          -69.80000000000001,
          -189,
          157.39999999999998,
          -222.5,
          47.400000000000006,
          -49.10000000000002,
          43.5,
          -65.5,
          86.30000000000001,
          -1.5,
          -17.299999999999997,
          -63.10000000000002,
          -42.30000000000001,
          -87,
          -64.1,
          -236.4,
          -55.19999999999999,
          -37.2,
          -6.800000000000011,
          -9.400000000000006,
          27.399999999999977,
          -25.19999999999999,
          -3,
          -102.60000000000002,
          -312,
          -36.19999999999999,
          -60.60000000000002,
          47.400000000000006
         ],
         "xaxis": "x",
         "y": [
          101,
          447,
          83,
          222,
          2,
          40,
          295,
          314,
          449,
          43,
          218.5,
          206,
          287,
          290,
          107,
          74,
          370.5,
          237,
          366,
          264,
          63.5,
          279.5,
          21,
          224.5,
          281,
          434,
          339,
          333,
          189,
          212,
          441,
          127,
          90,
          370.5,
          65,
          208,
          297,
          72,
          440,
          393,
          185.5,
          255,
          286,
          5,
          120,
          78,
          380,
          28,
          92,
          156,
          407,
          457.5,
          270,
          411.5,
          481.5,
          115,
          391,
          401,
          289,
          122.5,
          213,
          343.5,
          139,
          362.5,
          34,
          463,
          221,
          359,
          198,
          3,
          51.5,
          401,
          191,
          227,
          218.5,
          396,
          398,
          68,
          362.5,
          130,
          388,
          181,
          445,
          394,
          452,
          185.5,
          351,
          173
         ],
         "yaxis": "y"
        }
       ],
       "layout": {
        "height": 500,
        "legend": {
         "title": {
          "text": "Pos"
         },
         "tracegroupgap": 0
        },
        "template": {
         "data": {
          "bar": [
           {
            "error_x": {
             "color": "#2a3f5f"
            },
            "error_y": {
             "color": "#2a3f5f"
            },
            "marker": {
             "line": {
              "color": "#E5ECF6",
              "width": 0.5
             },
             "pattern": {
              "fillmode": "overlay",
              "size": 10,
              "solidity": 0.2
             }
            },
            "type": "bar"
           }
          ],
          "barpolar": [
           {
            "marker": {
             "line": {
              "color": "#E5ECF6",
              "width": 0.5
             },
             "pattern": {
              "fillmode": "overlay",
              "size": 10,
              "solidity": 0.2
             }
            },
            "type": "barpolar"
           }
          ],
          "carpet": [
           {
            "aaxis": {
             "endlinecolor": "#2a3f5f",
             "gridcolor": "white",
             "linecolor": "white",
             "minorgridcolor": "white",
             "startlinecolor": "#2a3f5f"
            },
            "baxis": {
             "endlinecolor": "#2a3f5f",
             "gridcolor": "white",
             "linecolor": "white",
             "minorgridcolor": "white",
             "startlinecolor": "#2a3f5f"
            },
            "type": "carpet"
           }
          ],
          "choropleth": [
           {
            "colorbar": {
             "outlinewidth": 0,
             "ticks": ""
            },
            "type": "choropleth"
           }
          ],
          "contour": [
           {
            "colorbar": {
             "outlinewidth": 0,
             "ticks": ""
            },
            "colorscale": [
             [
              0,
              "#0d0887"
             ],
             [
              0.1111111111111111,
              "#46039f"
             ],
             [
              0.2222222222222222,
              "#7201a8"
             ],
             [
              0.3333333333333333,
              "#9c179e"
             ],
             [
              0.4444444444444444,
              "#bd3786"
             ],
             [
              0.5555555555555556,
              "#d8576b"
             ],
             [
              0.6666666666666666,
              "#ed7953"
             ],
             [
              0.7777777777777778,
              "#fb9f3a"
             ],
             [
              0.8888888888888888,
              "#fdca26"
             ],
             [
              1,
              "#f0f921"
             ]
            ],
            "type": "contour"
           }
          ],
          "contourcarpet": [
           {
            "colorbar": {
             "outlinewidth": 0,
             "ticks": ""
            },
            "type": "contourcarpet"
           }
          ],
          "heatmap": [
           {
            "colorbar": {
             "outlinewidth": 0,
             "ticks": ""
            },
            "colorscale": [
             [
              0,
              "#0d0887"
             ],
             [
              0.1111111111111111,
              "#46039f"
             ],
             [
              0.2222222222222222,
              "#7201a8"
             ],
             [
              0.3333333333333333,
              "#9c179e"
             ],
             [
              0.4444444444444444,
              "#bd3786"
             ],
             [
              0.5555555555555556,
              "#d8576b"
             ],
             [
              0.6666666666666666,
              "#ed7953"
             ],
             [
              0.7777777777777778,
              "#fb9f3a"
             ],
             [
              0.8888888888888888,
              "#fdca26"
             ],
             [
              1,
              "#f0f921"
             ]
            ],
            "type": "heatmap"
           }
          ],
          "heatmapgl": [
           {
            "colorbar": {
             "outlinewidth": 0,
             "ticks": ""
            },
            "colorscale": [
             [
              0,
              "#0d0887"
             ],
             [
              0.1111111111111111,
              "#46039f"
             ],
             [
              0.2222222222222222,
              "#7201a8"
             ],
             [
              0.3333333333333333,
              "#9c179e"
             ],
             [
              0.4444444444444444,
              "#bd3786"
             ],
             [
              0.5555555555555556,
              "#d8576b"
             ],
             [
              0.6666666666666666,
              "#ed7953"
             ],
             [
              0.7777777777777778,
              "#fb9f3a"
             ],
             [
              0.8888888888888888,
              "#fdca26"
             ],
             [
              1,
              "#f0f921"
             ]
            ],
            "type": "heatmapgl"
           }
          ],
          "histogram": [
           {
            "marker": {
             "pattern": {
              "fillmode": "overlay",
              "size": 10,
              "solidity": 0.2
             }
            },
            "type": "histogram"
           }
          ],
          "histogram2d": [
           {
            "colorbar": {
             "outlinewidth": 0,
             "ticks": ""
            },
            "colorscale": [
             [
              0,
              "#0d0887"
             ],
             [
              0.1111111111111111,
              "#46039f"
             ],
             [
              0.2222222222222222,
              "#7201a8"
             ],
             [
              0.3333333333333333,
              "#9c179e"
             ],
             [
              0.4444444444444444,
              "#bd3786"
             ],
             [
              0.5555555555555556,
              "#d8576b"
             ],
             [
              0.6666666666666666,
              "#ed7953"
             ],
             [
              0.7777777777777778,
              "#fb9f3a"
             ],
             [
              0.8888888888888888,
              "#fdca26"
             ],
             [
              1,
              "#f0f921"
             ]
            ],
            "type": "histogram2d"
           }
          ],
          "histogram2dcontour": [
           {
            "colorbar": {
             "outlinewidth": 0,
             "ticks": ""
            },
            "colorscale": [
             [
              0,
              "#0d0887"
             ],
             [
              0.1111111111111111,
              "#46039f"
             ],
             [
              0.2222222222222222,
              "#7201a8"
             ],
             [
              0.3333333333333333,
              "#9c179e"
             ],
             [
              0.4444444444444444,
              "#bd3786"
             ],
             [
              0.5555555555555556,
              "#d8576b"
             ],
             [
              0.6666666666666666,
              "#ed7953"
             ],
             [
              0.7777777777777778,
              "#fb9f3a"
             ],
             [
              0.8888888888888888,
              "#fdca26"
             ],
             [
              1,
              "#f0f921"
             ]
            ],
            "type": "histogram2dcontour"
           }
          ],
          "mesh3d": [
           {
            "colorbar": {
             "outlinewidth": 0,
             "ticks": ""
            },
            "type": "mesh3d"
           }
          ],
          "parcoords": [
           {
            "line": {
             "colorbar": {
              "outlinewidth": 0,
              "ticks": ""
             }
            },
            "type": "parcoords"
           }
          ],
          "pie": [
           {
            "automargin": true,
            "type": "pie"
           }
          ],
          "scatter": [
           {
            "fillpattern": {
             "fillmode": "overlay",
             "size": 10,
             "solidity": 0.2
            },
            "type": "scatter"
           }
          ],
          "scatter3d": [
           {
            "line": {
             "colorbar": {
              "outlinewidth": 0,
              "ticks": ""
             }
            },
            "marker": {
             "colorbar": {
              "outlinewidth": 0,
              "ticks": ""
             }
            },
            "type": "scatter3d"
           }
          ],
          "scattercarpet": [
           {
            "marker": {
             "colorbar": {
              "outlinewidth": 0,
              "ticks": ""
             }
            },
            "type": "scattercarpet"
           }
          ],
          "scattergeo": [
           {
            "marker": {
             "colorbar": {
              "outlinewidth": 0,
              "ticks": ""
             }
            },
            "type": "scattergeo"
           }
          ],
          "scattergl": [
           {
            "marker": {
             "colorbar": {
              "outlinewidth": 0,
              "ticks": ""
             }
            },
            "type": "scattergl"
           }
          ],
          "scattermapbox": [
           {
            "marker": {
             "colorbar": {
              "outlinewidth": 0,
              "ticks": ""
             }
            },
            "type": "scattermapbox"
           }
          ],
          "scatterpolar": [
           {
            "marker": {
             "colorbar": {
              "outlinewidth": 0,
              "ticks": ""
             }
            },
            "type": "scatterpolar"
           }
          ],
          "scatterpolargl": [
           {
            "marker": {
             "colorbar": {
              "outlinewidth": 0,
              "ticks": ""
             }
            },
            "type": "scatterpolargl"
           }
          ],
          "scatterternary": [
           {
            "marker": {
             "colorbar": {
              "outlinewidth": 0,
              "ticks": ""
             }
            },
            "type": "scatterternary"
           }
          ],
          "surface": [
           {
            "colorbar": {
             "outlinewidth": 0,
             "ticks": ""
            },
            "colorscale": [
             [
              0,
              "#0d0887"
             ],
             [
              0.1111111111111111,
              "#46039f"
             ],
             [
              0.2222222222222222,
              "#7201a8"
             ],
             [
              0.3333333333333333,
              "#9c179e"
             ],
             [
              0.4444444444444444,
              "#bd3786"
             ],
             [
              0.5555555555555556,
              "#d8576b"
             ],
             [
              0.6666666666666666,
              "#ed7953"
             ],
             [
              0.7777777777777778,
              "#fb9f3a"
             ],
             [
              0.8888888888888888,
              "#fdca26"
             ],
             [
              1,
              "#f0f921"
             ]
            ],
            "type": "surface"
           }
          ],
          "table": [
           {
            "cells": {
             "fill": {
              "color": "#EBF0F8"
             },
             "line": {
              "color": "white"
             }
            },
            "header": {
             "fill": {
              "color": "#C8D4E3"
             },
             "line": {
              "color": "white"
             }
            },
            "type": "table"
           }
          ]
         },
         "layout": {
          "annotationdefaults": {
           "arrowcolor": "#2a3f5f",
           "arrowhead": 0,
           "arrowwidth": 1
          },
          "autotypenumbers": "strict",
          "coloraxis": {
           "colorbar": {
            "outlinewidth": 0,
            "ticks": ""
           }
          },
          "colorscale": {
           "diverging": [
            [
             0,
             "#8e0152"
            ],
            [
             0.1,
             "#c51b7d"
            ],
            [
             0.2,
             "#de77ae"
            ],
            [
             0.3,
             "#f1b6da"
            ],
            [
             0.4,
             "#fde0ef"
            ],
            [
             0.5,
             "#f7f7f7"
            ],
            [
             0.6,
             "#e6f5d0"
            ],
            [
             0.7,
             "#b8e186"
            ],
            [
             0.8,
             "#7fbc41"
            ],
            [
             0.9,
             "#4d9221"
            ],
            [
             1,
             "#276419"
            ]
           ],
           "sequential": [
            [
             0,
             "#0d0887"
            ],
            [
             0.1111111111111111,
             "#46039f"
            ],
            [
             0.2222222222222222,
             "#7201a8"
            ],
            [
             0.3333333333333333,
             "#9c179e"
            ],
            [
             0.4444444444444444,
             "#bd3786"
            ],
            [
             0.5555555555555556,
             "#d8576b"
            ],
            [
             0.6666666666666666,
             "#ed7953"
            ],
            [
             0.7777777777777778,
             "#fb9f3a"
            ],
            [
             0.8888888888888888,
             "#fdca26"
            ],
            [
             1,
             "#f0f921"
            ]
           ],
           "sequentialminus": [
            [
             0,
             "#0d0887"
            ],
            [
             0.1111111111111111,
             "#46039f"
            ],
            [
             0.2222222222222222,
             "#7201a8"
            ],
            [
             0.3333333333333333,
             "#9c179e"
            ],
            [
             0.4444444444444444,
             "#bd3786"
            ],
            [
             0.5555555555555556,
             "#d8576b"
            ],
            [
             0.6666666666666666,
             "#ed7953"
            ],
            [
             0.7777777777777778,
             "#fb9f3a"
            ],
            [
             0.8888888888888888,
             "#fdca26"
            ],
            [
             1,
             "#f0f921"
            ]
           ]
          },
          "colorway": [
           "#636efa",
           "#EF553B",
           "#00cc96",
           "#ab63fa",
           "#FFA15A",
           "#19d3f3",
           "#FF6692",
           "#B6E880",
           "#FF97FF",
           "#FECB52"
          ],
          "font": {
           "color": "#2a3f5f"
          },
          "geo": {
           "bgcolor": "white",
           "lakecolor": "white",
           "landcolor": "#E5ECF6",
           "showlakes": true,
           "showland": true,
           "subunitcolor": "white"
          },
          "hoverlabel": {
           "align": "left"
          },
          "hovermode": "closest",
          "mapbox": {
           "style": "light"
          },
          "paper_bgcolor": "white",
          "plot_bgcolor": "#E5ECF6",
          "polar": {
           "angularaxis": {
            "gridcolor": "white",
            "linecolor": "white",
            "ticks": ""
           },
           "bgcolor": "#E5ECF6",
           "radialaxis": {
            "gridcolor": "white",
            "linecolor": "white",
            "ticks": ""
           }
          },
          "scene": {
           "xaxis": {
            "backgroundcolor": "#E5ECF6",
            "gridcolor": "white",
            "gridwidth": 2,
            "linecolor": "white",
            "showbackground": true,
            "ticks": "",
            "zerolinecolor": "white"
           },
           "yaxis": {
            "backgroundcolor": "#E5ECF6",
            "gridcolor": "white",
            "gridwidth": 2,
            "linecolor": "white",
            "showbackground": true,
            "ticks": "",
            "zerolinecolor": "white"
           },
           "zaxis": {
            "backgroundcolor": "#E5ECF6",
            "gridcolor": "white",
            "gridwidth": 2,
            "linecolor": "white",
            "showbackground": true,
            "ticks": "",
            "zerolinecolor": "white"
           }
          },
          "shapedefaults": {
           "line": {
            "color": "#2a3f5f"
           }
          },
          "ternary": {
           "aaxis": {
            "gridcolor": "white",
            "linecolor": "white",
            "ticks": ""
           },
           "baxis": {
            "gridcolor": "white",
            "linecolor": "white",
            "ticks": ""
           },
           "bgcolor": "#E5ECF6",
           "caxis": {
            "gridcolor": "white",
            "linecolor": "white",
            "ticks": ""
           }
          },
          "title": {
           "x": 0.05
          },
          "xaxis": {
           "automargin": true,
           "gridcolor": "white",
           "linecolor": "white",
           "ticks": "",
           "title": {
            "standoff": 15
           },
           "zerolinecolor": "white",
           "zerolinewidth": 2
          },
          "yaxis": {
           "automargin": true,
           "gridcolor": "white",
           "linecolor": "white",
           "ticks": "",
           "title": {
            "standoff": 15
           },
           "zerolinecolor": "white",
           "zerolinewidth": 2
          }
         }
        },
        "title": {
         "text": "How Are Players Doing Against Their Expectations?"
        },
        "width": 800,
        "xaxis": {
         "anchor": "y",
         "domain": [
          0,
          1
         ],
         "title": {
          "text": "Difference"
         }
        },
        "yaxis": {
         "anchor": "x",
         "autorange": "reversed",
         "domain": [
          0,
          1
         ],
         "title": {
          "text": "Rank"
         }
        }
       }
      }
     },
     "metadata": {},
     "output_type": "display_data"
    },
    {
     "data": {
      "text/plain": [
       "'<div>                        <script type=\"text/javascript\">window.PlotlyConfig = {MathJaxConfig: \\'local\\'};</script>\\n        <script src=\"https://cdn.plot.ly/plotly-2.12.1.min.js\"></script>                <div id=\"c295f119-f8fd-4c15-a2d1-a5ef547b324d\" class=\"plotly-graph-div\" style=\"height:500px; width:800px;\"></div>            <script type=\"text/javascript\">                                    window.PLOTLYENV=window.PLOTLYENV || {};                                    if (document.getElementById(\"c295f119-f8fd-4c15-a2d1-a5ef547b324d\")) {                    Plotly.newPlot(                        \"c295f119-f8fd-4c15-a2d1-a5ef547b324d\",                        [{\"customdata\":[[364.8,17.428571428571427,\"AJ Griffin\",\"Atlanta Hawks\"],[121.1,32.904761904761905,\"Aaron Gordon\",\"Denver Nuggets\"],[364.1,15.714285714285714,\"Aaron Nesmith\",\"Indiana Pacers\"],[140.0,8.666666666666666,\"Admiral Schofield\",\"Orlando Magic\"],[151.2,23.363636363636363,\"Aleksej Pokusevski\",\"Oklahoma City Thunder\"],[140.0,4.333333333333333,\"Alize Johnson\",\"San Antonio Spurs\"],[375.1,7.2727272727272725,\"Amir Coffey\",\"LA Clippers\"],[69.2,37.04545454545455,\"Andrew Wiggins\",\"Golden State Warriors\"],[412.9,7.333333333333333,\"Anthony Gill\",\"Washington Wizards\"],[140.0,14.61111111111111,\"Anthony Lamb\",\"Golden State Warriors\"],[63.4,30.294117647058822,\"Ben Simmons\",\"Brooklyn Nets\"],[106.5,29.166666666666668,\"Bobby Portis\",\"Milwaukee Bucks\"],[126.3,28.807692307692307,\"Bojan Bogdanovic\",\"Detroit Pistons\"],[206.8,29.846153846153847,\"Bol Bol\",\"Orlando Magic\"],[114.3,20.16,\"Brandon Clarke\",\"Memphis Grizzlies\"],[47.8,36.06666666666667,\"Brandon Ingram\",\"New Orleans Pelicans\"],[755.9,2.0,\"Braxton Key\",\"Detroit Pistons\"],[427.9,8.761904761904763,\"Caleb Houstan\",\"Orlando Magic\"],[181.5,24.125,\"Caleb Martin\",\"Miami Heat\"],[300.5,15.0,\"Cam Reddish\",\"New York Knicks\"],[125.7,26.625,\"Cameron Johnson\",\"Phoenix Suns\"],[280.2,15.36,\"Cedi Osman\",\"Cleveland Cavaliers\"],[150.4,23.0,\"Chris Boucher\",\"Toronto Raptors\"],[215.4,15.444444444444445,\"Chuma Okeke\",\"Orlando Magic\"],[297.8,9.818181818181818,\"Dario Saric\",\"Phoenix Suns\"],[151.5,16.5,\"Darius Bazley\",\"Oklahoma City Thunder\"],[364.4,10.68,\"David Roddy\",\"Memphis Grizzlies\"],[345.3,4.333333333333333,\"Davis Bertans\",\"Dallas Mavericks\"],[137.0,19.714285714285715,\"De\\'Andre Hunter\",\"Atlanta Hawks\"],[24.8,39.916666666666664,\"DeMar DeRozan\",\"Chicago Bulls\"],[310.2,16.470588235294116,\"Dean Wade\",\"Cleveland Cavaliers\"],[213.6,19.6,\"Deni Avdija\",\"Washington Wizards\"],[79.9,34.473684210526315,\"Devin Vassell\",\"San Antonio Spurs\"],[120.5,26.40909090909091,\"Dillon Brooks\",\"Memphis Grizzlies\"],[142.4,19.416666666666668,\"Dorian Finney-Smith\",\"Dallas Mavericks\"],[239.4,15.2,\"Doug McDermott\",\"San Antonio Spurs\"],[91.2,31.91304347826087,\"Draymond Green\",\"Golden State Warriors\"],[209.9,9.722222222222221,\"Duncan Robinson\",\"Miami Heat\"],[140.0,11.777777777777779,\"Eugene Omoruyi\",\"Oklahoma City Thunder\"],[43.1,34.6,\"Evan Mobley\",\"Cleveland Cavaliers\"],[84.0,29.615384615384617,\"Franz Wagner\",\"Orlando Magic\"],[351.0,17.043478260869566,\"Georges Niang\",\"Philadelphia 76ers\"],[2.4,52.7,\"Giannis Antetokounmpo\",\"Milwaukee Bucks\"],[104.8,26.90909090909091,\"Gordon Hayward\",\"Charlotte Hornets\"],[161.6,22.04,\"Grant Williams\",\"Boston Celtics\"],[115.1,24.217391304347824,\"Harrison Barnes\",\"Sacramento Kings\"],[369.6,11.0,\"Haywood Highsmith\",\"Miami Heat\"],[120.3,23.0,\"Herbert Jones\",\"New Orleans Pelicans\"],[259.0,8.48,\"Isaac Okoro\",\"Cleveland Cavaliers\"],[246.7,12.090909090909092,\"Isaiah Livers\",\"Detroit Pistons\"],[229.5,11.947368421052632,\"Isaiah Roby\",\"San Antonio Spurs\"],[430.9,0.0,\"Isaiah Todd\",\"Washington Wizards\"],[400.9,12.11111111111111,\"Ish Wainright\",\"Phoenix Suns\"],[315.3,5.466666666666667,\"JT Thor\",\"Charlotte Hornets\"],[370.7,12.695652173913043,\"JaMychal Green\",\"Golden State Warriors\"],[327.8,5.3076923076923075,\"Jabari Walker\",\"Portland Trail Blazers\"],[140.0,1.875,\"Jack White\",\"Denver Nuggets\"],[144.0,25.047619047619047,\"Jaden McDaniels\",\"Minnesota Timberwolves\"],[138.6,20.333333333333332,\"Jae\\'Sean Tate\",\"Houston Rockets\"],[285.2,11.8125,\"Jake LaRavia\",\"Memphis Grizzlies\"],[256.0,12.869565217391305,\"Jalen Johnson\",\"Atlanta Hawks\"],[239.2,23.52,\"Jalen McDaniels\",\"Charlotte Hornets\"],[113.4,22.958333333333332,\"Jalen Smith\",\"Indiana Pacers\"],[488.4,10.125,\"Jamal Cain\",\"Miami Heat\"],[414.4,5.142857142857143,\"James Johnson\",\"Indiana Pacers\"],[130.5,25.44,\"Jarred Vanderbilt\",\"Utah Jazz\"],[140.0,13.5,\"Jarrett Culver\",\"Atlanta Hawks\"],[255.1,16.727272727272727,\"Javonte Green\",\"Chicago Bulls\"],[35.1,40.75,\"Jaylen Brown\",\"Boston Celtics\"],[6.6,50.44,\"Jayson Tatum\",\"Boston Celtics\"],[293.5,13.058823529411764,\"Jeff Green\",\"Denver Nuggets\"],[92.0,36.17391304347826,\"Jerami Grant\",\"Portland Trail Blazers\"],[183.0,18.35,\"Jeremy Sochan\",\"San Antonio Spurs\"],[31.6,43.53333333333333,\"Jimmy Butler\",\"Miami Heat\"],[73.9,28.863636363636363,\"John Collins\",\"Atlanta Hawks\"],[144.9,10.636363636363637,\"Jonathan Kuminga\",\"Golden State Warriors\"],[284.1,12.095238095238095,\"Jordan Nwora\",\"Milwaukee Bucks\"],[140.0,5.0,\"Jordan Schakel\",\"Washington Wizards\"],[312.4,15.333333333333334,\"Josh Green\",\"Dallas Mavericks\"],[114.6,29.136363636363637,\"Josh Hart\",\"Portland Trail Blazers\"],[420.0,14.0,\"Josh Minott\",\"Minnesota Timberwolves\"],[380.4,7.380952380952381,\"Josh Okogie\",\"Phoenix Suns\"],[286.4,5.285714285714286,\"Juan Toscano-Anderson\",\"Los Angeles Lakers\"],[272.7,12.625,\"Juancho Hernangomez\",\"Toronto Raptors\"],[447.1,1.0,\"Julian Champagnie\",\"Philadelphia 76ers\"],[47.2,35.64,\"Julius Randle\",\"New York Knicks\"],[140.0,5.0,\"Justin Champagnie\",\"Toronto Raptors\"],[299.8,9.68421052631579,\"Justin Holiday\",\"Atlanta Hawks\"],[140.0,2.5555555555555554,\"Justin Jackson\",\"Boston Celtics\"],[140.0,2.5555555555555554,\"Justin Jackson\",\"Boston Celtics\"],[317.2,22.333333333333332,\"Justise Winslow\",\"Portland Trail Blazers\"],[387.9,5.933333333333334,\"KZ Okpala\",\"Sacramento Kings\"],[40.9,19.857142857142858,\"Kawhi Leonard\",\"LA Clippers\"],[87.8,20.333333333333332,\"Keegan Murray\",\"Sacramento Kings\"],[353.8,14.409090909090908,\"Keita Bates-Diop\",\"San Antonio Spurs\"],[64.7,28.90909090909091,\"Keldon Johnson\",\"San Antonio Spurs\"],[140.0,5.5,\"Kendall Brown\",\"Indiana Pacers\"],[368.3,16.19047619047619,\"Kenrich Williams\",\"Oklahoma City Thunder\"],[355.8,1.8333333333333333,\"Kessler Edwards\",\"Brooklyn Nets\"],[6.3,53.38461538461539,\"Kevin Durant\",\"Brooklyn Nets\"],[140.2,21.05263157894737,\"Kevin Love\",\"Cleveland Cavaliers\"],[48.6,41.416666666666664,\"Kristaps Porzingis\",\"Washington Wizards\"],[170.2,20.789473684210527,\"Kyle Anderson\",\"Minnesota Timberwolves\"],[86.9,33.458333333333336,\"Kyle Kuzma\",\"Washington Wizards\"],[393.8,13.25,\"Lamar Stevens\",\"Cleveland Cavaliers\"],[81.6,38.76923076923077,\"Lauri Markkanen\",\"Utah Jazz\"],[11.3,47.8235294117647,\"LeBron James\",\"Los Angeles Lakers\"],[136.2,25.333333333333332,\"Luguentz Dort\",\"Oklahoma City Thunder\"],[307.9,5.454545454545454,\"Mamadi Diakite\",\"Cleveland Cavaliers\"],[433.4,8.4,\"MarJon Beauchamp\",\"Milwaukee Bucks\"],[340.1,8.8,\"Markieff Morris\",\"Brooklyn Nets\"],[171.8,6.8,\"Matisse Thybulle\",\"Philadelphia 76ers\"],[438.7,5.333333333333333,\"Matt Ryan\",\"Los Angeles Lakers\"],[161.3,24.652173913043477,\"Max Strus\",\"Miami Heat\"],[268.6,15.8,\"Maxi Kleber\",\"Dallas Mavericks\"],[80.8,34.16,\"Mikal Bridges\",\"Phoenix Suns\"],[447.0,10.0,\"Moussa Diabate\",\"LA Clippers\"],[373.4,16.545454545454547,\"Naji Marshall\",\"New Orleans Pelicans\"],[212.2,10.571428571428571,\"Nassir Little\",\"Portland Trail Blazers\"],[284.1,15.923076923076923,\"Nicolas Batum\",\"LA Clippers\"],[207.5,11.0,\"Nikola Jovic\",\"Miami Heat\"],[147.1,14.56,\"Obi Toppin\",\"New York Knicks\"],[183.6,12.05,\"Oshae Brissett\",\"Indiana Pacers\"],[288.7,11.5,\"Ousmane Dieng\",\"Oklahoma City Thunder\"],[201.5,11.625,\"P.J. Tucker\",\"Philadelphia 76ers\"],[105.2,27.84,\"P.J. Washington\",\"Charlotte Hornets\"],[58.2,32.63157894736842,\"Paolo Banchero\",\"Orlando Magic\"],[25.4,48.06666666666667,\"Pascal Siakam\",\"Toronto Raptors\"],[148.2,18.708333333333332,\"Patrick Williams\",\"Chicago Bulls\"],[291.0,14.523809523809524,\"Paul Reed\",\"Philadelphia 76ers\"],[423.9,1.0,\"Peyton Watson\",\"Denver Nuggets\"],[251.8,11.173913043478262,\"Reggie Bullock\",\"Dallas Mavericks\"],[147.0,14.9375,\"Robert Covington\",\"LA Clippers\"],[415.0,10.76923076923077,\"Romeo Langford\",\"San Antonio Spurs\"],[219.7,27.576923076923077,\"Royce O\\'Neale\",\"Brooklyn Nets\"],[274.6,10.923076923076923,\"Rudy Gay\",\"Utah Jazz\"],[166.5,18.875,\"Rui Hachimura\",\"Washington Wizards\"],[92.6,23.82608695652174,\"Saddiq Bey\",\"Detroit Pistons\"],[362.8,14.038461538461538,\"Sam Hauser\",\"Boston Celtics\"],[361.6,4.666666666666667,\"Sandro Mamukelashvili\",\"Milwaukee Bucks\"],[156.8,24.916666666666668,\"Santi Aldama\",\"Memphis Grizzlies\"],[43.7,32.86363636363637,\"Scottie Barnes\",\"Toronto Raptors\"],[308.6,7.0,\"Simone Fontecchio\",\"Utah Jazz\"],[208.3,8.666666666666666,\"T.J. Warren\",\"Brooklyn Nets\"],[158.9,15.68,\"Talen Horton-Tucker\",\"Utah Jazz\"],[134.9,20.833333333333332,\"Tari Eason\",\"Houston Rockets\"],[353.6,13.555555555555555,\"Taurean Prince\",\"Minnesota Timberwolves\"],[313.2,14.826086956521738,\"Terrence Ross\",\"Orlando Magic\"],[338.6,4.666666666666667,\"Terry Taylor\",\"Indiana Pacers\"],[318.2,16.40909090909091,\"Thaddeus Young\",\"Toronto Raptors\"],[279.2,1.25,\"Thanasis Antetokounmpo\",\"Milwaukee Bucks\"],[76.3,34.36363636363637,\"Tobias Harris\",\"Philadelphia 76ers\"],[330.6,20.0,\"Torrey Craig\",\"Phoenix Suns\"],[296.9,13.4,\"Trendon Watford\",\"Portland Trail Blazers\"],[271.9,10.88888888888889,\"Trey Lyles\",\"Sacramento Kings\"],[140.0,2.2857142857142856,\"Tyrese Martin\",\"Atlanta Hawks\"],[371.9,15.727272727272727,\"Usman Garuba\",\"Houston Rockets\"],[422.4,10.625,\"Vlatko Cancar\",\"Denver Nuggets\"],[406.9,13.5,\"Wenyen Gabriel\",\"Los Angeles Lakers\"],[141.5,15.88,\"Will Barton\",\"Washington Wizards\"],[337.9,9.0,\"Xavier Tillman\",\"Memphis Grizzlies\"],[139.7,17.642857142857142,\"Yuta Watanabe\",\"Brooklyn Nets\"],[324.8,7.055555555555555,\"Zeke Nnaji\",\"Denver Nuggets\"],[230.9,19.0,\"Ziaire Williams\",\"Memphis Grizzlies\"],[26.4,42.73684210526316,\"Zion Williamson\",\"New Orleans Pelicans\"]],\"hovertemplate\":\"Pos=F<br>Difference=%{x}<br>Rank=%{y}<br>AVG=%{customdata[0]}<br>FANTASY=%{customdata[1]}<br>Name=%{customdata[2]}<br>TEAM_NAME=%{customdata[3]}<extra></extra>\",\"legendgroup\":\"F\",\"marker\":{\"color\":\"#636efa\",\"symbol\":\"circle\"},\"mode\":\"markers\",\"name\":\"F\",\"orientation\":\"v\",\"showlegend\":true,\"x\":[148.8,52.099999999999994,119.10000000000002,-219.0,3.1999999999999886,-292.5,-2.8999999999999773,27.200000000000003,36.89999999999998,-120.0,-23.6,11.0,26.299999999999997,117.80000000000001,-72.7,1.7999999999999972,298.4,70.89999999999998,40.5,47.5,9.700000000000003,32.19999999999999,-1.0999999999999943,-31.599999999999994,-44.19999999999999,-75.5,38.39999999999998,-87.19999999999999,-57.0,-5.199999999999999,81.19999999999999,18.599999999999994,24.900000000000006,2.5,-53.599999999999994,-10.599999999999994,14.200000000000003,-136.1,-168.0,-10.899999999999999,-7.0,131.0,-4.6,-9.200000000000003,-4.400000000000006,-24.900000000000006,51.60000000000002,-31.200000000000003,-105.0,-54.30000000000001,-75.5,-45.10000000000002,101.89999999999998,-88.69999999999999,79.69999999999999,-86.19999999999999,-320.5,11.0,-44.400000000000006,-21.80000000000001,-32.0,92.19999999999999,-39.599999999999994,152.39999999999998,-1.6000000000000227,2.5,-135.5,32.099999999999994,9.100000000000001,-3.4000000000000004,8.5,47.0,-24.0,14.600000000000001,-25.099999999999994,-183.1,-15.899999999999977,-279.0,63.39999999999998,17.599999999999994,151.5,6.399999999999977,-128.60000000000002,-20.30000000000001,-20.399999999999977,-1.7999999999999972,-279.0,-47.69999999999999,-311.0,-311.0,156.2,-4.100000000000023,-151.1,-95.2,88.80000000000001,-33.3,-261.0,136.3,-106.19999999999999,0.2999999999999998,-35.80000000000001,25.6,-7.800000000000011,20.900000000000006,114.30000000000001,44.599999999999994,-0.6999999999999993,5.199999999999989,-97.10000000000002,68.39999999999998,-15.899999999999977,-212.2,27.19999999999999,24.30000000000001,26.100000000000023,23.799999999999997,109.5,148.89999999999998,-119.80000000000001,45.10000000000002,-110.5,-114.9,-118.4,-22.30000000000001,-108.5,-2.799999999999997,-14.799999999999997,14.399999999999999,-56.80000000000001,28.0,-43.60000000000002,-63.19999999999999,-109.0,92.0,109.69999999999999,-45.39999999999998,-36.5,-50.400000000000006,95.80000000000001,-66.39999999999998,21.80000000000001,-26.299999999999997,-73.39999999999998,-150.7,-87.1,-42.099999999999994,80.60000000000002,56.19999999999999,-89.39999999999998,87.19999999999999,-186.8,20.299999999999997,140.60000000000002,19.899999999999977,-50.10000000000002,-313.0,127.89999999999998,92.89999999999998,131.39999999999998,-99.5,-17.100000000000023,-74.30000000000001,-56.19999999999999,30.900000000000006,6.399999999999999],\"xaxis\":\"x\",\"y\":[216.0,69.0,245.0,359.0,148.0,432.5,378.0,42.0,376.0,260.0,87.0,95.5,100.0,89.0,187.0,46.0,457.5,357.0,141.0,253.0,116.0,248.0,151.5,247.0,342.0,227.0,326.0,432.5,194.0,30.0,229.0,195.0,55.0,118.0,196.0,250.0,77.0,346.0,308.0,54.0,91.0,220.0,7.0,114.0,166.0,140.0,318.0,151.5,364.0,301.0,305.0,476.0,299.0,404.0,291.0,414.0,460.5,133.0,183.0,307.0,288.0,147.0,153.0,336.0,416.0,128.0,275.5,223.0,26.0,10.0,285.0,45.0,207.0,17.0,99.0,328.0,300.0,419.0,249.0,97.0,268.5,374.0,415.0,293.0,467.5,49.0,419.0,347.5,451.0,451.0,161.0,392.0,192.0,183.0,265.0,98.0,401.0,232.0,462.0,6.0,176.0,23.0,178.0,66.0,279.5,37.0,12.0,131.0,405.0,365.0,356.0,384.0,411.5,137.0,242.5,57.0,337.5,224.5,332.0,239.0,318.0,262.0,302.0,311.0,310.0,108.0,73.0,11.0,205.0,263.0,467.5,315.0,256.0,323.0,110.0,320.0,203.0,143.0,267.0,428.0,135.0,70.0,382.0,359.0,246.0,177.0,273.0,257.0,428.0,231.0,466.0,56.0,190.0,277.0,322.0,453.0,244.0,329.5,275.5,241.0,355.0,214.0,381.0,200.0,20.0],\"yaxis\":\"y\",\"type\":\"scatter\"},{\"customdata\":[[394.5,10.590909090909092,\"Aaron Holiday\",\"Atlanta Hawks\"],[330.4,14.666666666666666,\"Aaron Wiggins\",\"Oklahoma City Thunder\"],[215.8,21.785714285714285,\"Alec Burks\",\"Detroit Pistons\"],[151.3,22.166666666666668,\"Alex Caruso\",\"Chicago Bulls\"],[349.1,22.85,\"Andrew Nembhard\",\"Indiana Pacers\"],[92.7,39.18181818181818,\"Anfernee Simons\",\"Portland Trail Blazers\"],[23.7,39.0,\"Anthony Edwards\",\"Minnesota Timberwolves\"],[262.6,18.958333333333332,\"Austin Reaves\",\"Los Angeles Lakers\"],[383.8,5.357142857142857,\"Austin Rivers\",\"Minnesota Timberwolves\"],[139.1,21.652173913043477,\"Ayo Dosunmu\",\"Chicago Bulls\"],[124.7,22.48,\"Bennedict Mathurin\",\"Indiana Pacers\"],[305.2,12.5,\"Blake Wesley\",\"San Antonio Spurs\"],[139.9,10.666666666666666,\"Bogdan Bogdanovic\",\"Atlanta Hawks\"],[129.6,23.6875,\"Bones Hyland\",\"Denver Nuggets\"],[33.8,40.72222222222222,\"Bradley Beal\",\"Washington Wizards\"],[151.9,28.25,\"Bruce Brown\",\"Denver Nuggets\"],[139.9,9.5,\"Bryce McGowens\",\"Charlotte Hornets\"],[308.0,6.333333333333333,\"Bryn Forbes\",\"Minnesota Timberwolves\"],[84.7,29.44,\"Buddy Hield\",\"Indiana Pacers\"],[50.2,34.05,\"CJ McCollum\",\"New Orleans Pelicans\"],[31.7,34.916666666666664,\"Cade Cunningham\",\"Detroit Pistons\"],[267.9,9.65,\"Cam Thomas\",\"Brooklyn Nets\"],[180.9,26.130434782608695,\"Cameron Payne\",\"Phoenix Suns\"],[126.2,22.38095238095238,\"Caris LeVert\",\"Cleveland Cavaliers\"],[125.2,13.11111111111111,\"Chris Duarte\",\"Indiana Pacers\"],[49.7,33.90909090909091,\"Chris Paul\",\"Phoenix Suns\"],[333.1,7.363636363636363,\"Christian Braun\",\"Denver Nuggets\"],[219.2,13.5625,\"Coby White\",\"Chicago Bulls\"],[197.1,0.0,\"Cody Martin\",\"Charlotte Hornets\"],[118.2,27.0,\"Cole Anthony\",\"Orlando Magic\"],[84.7,21.703703703703702,\"Collin Sexton\",\"Utah Jazz\"],[323.2,19.764705882352942,\"Corey Kispert\",\"Washington Wizards\"],[359.9,12.047619047619047,\"Cory Joseph\",\"Detroit Pistons\"],[73.5,33.625,\"D\\'Angelo Russell\",\"Minnesota Timberwolves\"],[420.5,9.909090909090908,\"Daishen Nix\",\"Houston Rockets\"],[307.8,12.68421052631579,\"Dalano Banton\",\"Toronto Raptors\"],[397.4,2.1,\"Dalen Terry\",\"Chicago Bulls\"],[17.4,39.666666666666664,\"Damian Lillard\",\"Portland Trail Blazers\"],[403.9,16.12,\"Damion Lee\",\"Phoenix Suns\"],[35.3,39.31578947368421,\"Darius Garland\",\"Cleveland Cavaliers\"],[146.0,13.521739130434783,\"Davion Mitchell\",\"Sacramento Kings\"],[388.4,4.944444444444445,\"Davon Reed\",\"Denver Nuggets\"],[37.3,41.31818181818182,\"De\\'Aaron Fox\",\"Sacramento Kings\"],[144.3,28.181818181818183,\"De\\'Anthony Melton\",\"Philadelphia 76ers\"],[22.6,42.28,\"Dejounte Murray\",\"Atlanta Hawks\"],[306.2,27.75,\"Delon Wright\",\"Washington Wizards\"],[174.2,16.181818181818183,\"Dennis Schroder\",\"Los Angeles Lakers\"],[192.6,12.380952380952381,\"Derrick Rose\",\"New York Knicks\"],[147.7,24.96153846153846,\"Derrick White\",\"Boston Celtics\"],[58.6,40.083333333333336,\"Desmond Bane\",\"Memphis Grizzlies\"],[17.6,45.16,\"Devin Booker\",\"Phoenix Suns\"],[140.0,4.5,\"Devon Dotson\",\"Washington Wizards\"],[200.4,13.666666666666666,\"Devonte\\' Graham\",\"New Orleans Pelicans\"],[27.3,47.391304347826086,\"Donovan Mitchell\",\"Cleveland Cavaliers\"],[222.0,14.38888888888889,\"Donte DiVincenzo\",\"Golden State Warriors\"],[140.0,10.75,\"Dru Smith\",\"Miami Heat\"],[242.1,16.4375,\"Dyson Daniels\",\"New Orleans Pelicans\"],[425.4,13.333333333333334,\"Edmond Sumner\",\"Brooklyn Nets\"],[227.6,20.1,\"Eric Gordon\",\"Houston Rockets\"],[150.3,13.076923076923077,\"Evan Fournier\",\"New York Knicks\"],[347.6,5.375,\"Facundo Campazzo\",\"Dallas Mavericks\"],[335.6,4.142857142857143,\"Frank Ntilikina\",\"Dallas Mavericks\"],[38.9,35.68421052631579,\"Fred VanVleet\",\"Toronto Raptors\"],[366.1,8.153846153846153,\"Furkan Korkmaz\",\"Philadelphia 76ers\"],[300.7,17.263157894736842,\"Gabe Vincent\",\"Miami Heat\"],[425.9,6.666666666666667,\"Garrett Temple\",\"New Orleans Pelicans\"],[370.8,9.19047619047619,\"Garrison Mathews\",\"Houston Rockets\"],[314.0,19.333333333333332,\"Gary Harris\",\"Orlando Magic\"],[333.1,11.833333333333334,\"George Hill\",\"Milwaukee Bucks\"],[319.9,14.782608695652174,\"Goran Dragic\",\"Chicago Bulls\"],[204.0,22.523809523809526,\"Grayson Allen\",\"Milwaukee Bucks\"],[293.2,11.24,\"Hamidou Diallo\",\"Detroit Pistons\"],[147.6,21.08,\"Immanuel Quickley\",\"New York Knicks\"],[397.1,11.166666666666666,\"Isaiah Joe\",\"Oklahoma City Thunder\"],[298.7,10.4,\"Ish Smith\",\"Denver Nuggets\"],[273.9,1.6666666666666667,\"JD Davison\",\"Boston Celtics\"],[11.6,46.04761904761905,\"Ja Morant\",\"Memphis Grizzlies\"],[298.0,2.8,\"Jaden Hardy\",\"Dallas Mavericks\"],[115.4,26.26086956521739,\"Jaden Ivey\",\"Detroit Pistons\"],[434.0,5.5,\"Jaden Springer\",\"Philadelphia 76ers\"],[53.0,37.52,\"Jalen Brunson\",\"New York Knicks\"],[67.4,29.166666666666668,\"Jalen Green\",\"Houston Rockets\"],[124.5,27.428571428571427,\"Jalen Suggs\",\"Orlando Magic\"],[146.0,20.333333333333332,\"Jalen Williams\",\"Oklahoma City Thunder\"],[69.4,31.1,\"Jamal Murray\",\"Denver Nuggets\"],[296.2,9.68421052631579,\"James Bouknight\",\"Charlotte Hornets\"],[16.1,47.7,\"James Harden\",\"Philadelphia 76ers\"],[429.4,5.5,\"Jason Preston\",\"LA Clippers\"],[231.4,18.958333333333332,\"Jaylen Nowell\",\"Minnesota Timberwolves\"],[357.6,23.75,\"Jevon Carter\",\"Milwaukee Bucks\"],[186.9,17.458333333333332,\"Joe Harris\",\"Brooklyn Nets\"],[302.4,22.73913043478261,\"John Konchar\",\"Memphis Grizzlies\"],[115.9,24.7,\"John Wall\",\"LA Clippers\"],[260.2,1.875,\"Johnny Davis\",\"Washington Wizards\"],[118.8,30.40740740740741,\"Jordan Clarkson\",\"Utah Jazz\"],[140.0,20.444444444444443,\"Jordan Goodwin\",\"Washington Wizards\"],[282.9,15.882352941176471,\"Jordan McLaughlin\",\"Minnesota Timberwolves\"],[73.0,27.0,\"Jordan Poole\",\"Golden State Warriors\"],[199.2,22.166666666666668,\"Jose Alvarado\",\"New Orleans Pelicans\"],[248.5,5.0,\"Josh Christopher\",\"Houston Rockets\"],[60.0,30.227272727272727,\"Josh Giddey\",\"Oklahoma City Thunder\"],[261.1,18.11764705882353,\"Josh Richardson\",\"San Antonio Spurs\"],[151.4,15.0,\"Joshua Primo\",\"San Antonio Spurs\"],[41.8,40.89473684210526,\"Jrue Holiday\",\"Milwaukee Bucks\"],[154.2,7.142857142857143,\"Kendrick Nunn\",\"Los Angeles Lakers\"],[432.4,9.777777777777779,\"Kennedy Chandler\",\"Memphis Grizzlies\"],[158.4,23.217391304347824,\"Kentavious Caldwell-Pope\",\"Denver Nuggets\"],[353.8,11.666666666666666,\"Keon Johnson\",\"Portland Trail Blazers\"],[141.9,29.391304347826086,\"Kevin Huerter\",\"Sacramento Kings\"],[60.1,26.0,\"Khris Middleton\",\"Milwaukee Bucks\"],[233.6,22.59259259259259,\"Killian Hayes\",\"Detroit Pistons\"],[74.5,27.904761904761905,\"Klay Thompson\",\"Golden State Warriors\"],[103.9,33.04,\"Kyle Lowry\",\"Miami Heat\"],[25.5,43.388888888888886,\"Kyrie Irving\",\"Brooklyn Nets\"],[16.7,35.0,\"LaMelo Ball\",\"Charlotte Hornets\"],[334.9,11.4,\"Landry Shamet\",\"Phoenix Suns\"],[140.0,3.5,\"Leandro Bolmaro\",\"Utah Jazz\"],[3.3,61.34782608695652,\"Luka Doncic\",\"Dallas Mavericks\"],[254.0,14.0,\"Luke Kennard\",\"LA Clippers\"],[342.6,10.25,\"Malachi Flynn\",\"Toronto Raptors\"],[345.6,8.545454545454545,\"Malaki Branham\",\"San Antonio Spurs\"],[104.3,25.571428571428573,\"Malcolm Brogdon\",\"Boston Celtics\"],[156.0,23.666666666666668,\"Malik Beasley\",\"Utah Jazz\"],[154.3,26.47826086956522,\"Malik Monk\",\"Sacramento Kings\"],[95.9,30.956521739130434,\"Marcus Smart\",\"Boston Celtics\"],[150.3,18.8,\"Markelle Fultz\",\"Orlando Magic\"],[140.0,3.2,\"Matthew Dellavedova\",\"Sacramento Kings\"],[419.4,6.818181818181818,\"Max Christie\",\"Los Angeles Lakers\"],[128.2,30.88235294117647,\"Mike Conley\",\"Utah Jazz\"],[358.1,5.615384615384615,\"Miles McBride\",\"New York Knicks\"],[123.8,25.545454545454547,\"Monte Morris\",\"Washington Wizards\"],[259.3,8.0,\"Moses Moody\",\"Golden State Warriors\"],[231.2,10.625,\"Nickeil Alexander-Walker\",\"Utah Jazz\"],[139.6,21.636363636363637,\"Norman Powell\",\"LA Clippers\"],[253.5,4.75,\"Ochai Agbaji\",\"Utah Jazz\"],[229.7,12.0,\"Pat Connaughton\",\"Milwaukee Bucks\"],[152.6,15.0,\"Patrick Beverley\",\"Los Angeles Lakers\"],[228.0,8.25,\"Patty Mills\",\"Brooklyn Nets\"],[30.0,38.44444444444444,\"Paul George\",\"LA Clippers\"],[298.9,9.142857142857142,\"Payton Pritchard\",\"Boston Celtics\"],[226.0,15.8,\"Quentin Grimes\",\"New York Knicks\"],[356.1,13.142857142857142,\"R.J. Hampton\",\"Orlando Magic\"],[80.4,24.44,\"RJ Barrett\",\"New York Knicks\"],[380.1,6.625,\"Raul Neto\",\"Cleveland Cavaliers\"],[137.9,21.115384615384617,\"Reggie Jackson\",\"LA Clippers\"],[433.0,3.875,\"Rodney McGruder\",\"Detroit Pistons\"],[80.3,30.391304347826086,\"Russell Westbrook\",\"Los Angeles Lakers\"],[140.0,1.5,\"Ryan Arcidiacono\",\"New York Knicks\"],[140.0,0.2857142857142857,\"Ryan Rollins\",\"Golden State Warriors\"],[418.4,5.0,\"Saben Lee\",\"Philadelphia 76ers\"],[157.1,19.0625,\"Seth Curry\",\"Brooklyn Nets\"],[199.2,12.130434782608695,\"Shaedon Sharpe\",\"Portland Trail Blazers\"],[34.5,52.65217391304348,\"Shai Gilgeous-Alexander\",\"Oklahoma City Thunder\"],[327.7,21.8,\"Shake Milton\",\"Philadelphia 76ers\"],[104.9,32.458333333333336,\"Spencer Dinwiddie\",\"Dallas Mavericks\"],[9.3,54.17391304347826,\"Stephen Curry\",\"Golden State Warriors\"],[392.4,3.0,\"Svi Mykhailiuk\",\"New York Knicks\"],[214.7,18.09090909090909,\"T.J. McConnell\",\"Indiana Pacers\"],[237.3,18.115384615384617,\"Terance Mann\",\"LA Clippers\"],[326.7,16.1,\"Terence Davis\",\"Sacramento Kings\"],[52.4,34.11764705882353,\"Terry Rozier\",\"Charlotte Hornets\"],[411.4,14.565217391304348,\"Theo Maledon\",\"Charlotte Hornets\"],[425.0,2.0,\"Theo Pinson\",\"Dallas Mavericks\"],[10.8,42.78260869565217,\"Trae Young\",\"Atlanta Hawks\"],[101.3,30.652173913043477,\"Tre Jones\",\"San Antonio Spurs\"],[206.3,16.5,\"Tre Mann\",\"Oklahoma City Thunder\"],[140.0,4.875,\"Trent Forrest\",\"Atlanta Hawks\"],[722.9,3.0,\"Trevelin Queen\",\"Indiana Pacers\"],[140.0,0.0,\"Trevor Keels\",\"New York Knicks\"],[418.9,10.909090909090908,\"Ty Jerome\",\"Golden State Warriors\"],[140.0,16.0,\"Tyler Dorsey\",\"Dallas Mavericks\"],[77.2,35.76470588235294,\"Tyler Herro\",\"Miami Heat\"],[16.1,50.608695652173914,\"Tyrese Haliburton\",\"Indiana Pacers\"],[64.8,36.53333333333333,\"Tyrese Maxey\",\"Philadelphia 76ers\"],[174.8,22.28,\"Tyus Jones\",\"Memphis Grizzlies\"],[147.2,11.0,\"Victor Oladipo\",\"Miami Heat\"],[140.0,4.0,\"Vit Krejci\",\"Atlanta Hawks\"],[350.4,7.833333333333333,\"Wesley Matthews\",\"Milwaukee Bucks\"],[40.8,35.4,\"Zach LaVine\",\"Chicago Bulls\"]],\"hovertemplate\":\"Pos=G<br>Difference=%{x}<br>Rank=%{y}<br>AVG=%{customdata[0]}<br>FANTASY=%{customdata[1]}<br>Name=%{customdata[2]}<br>TEAM_NAME=%{customdata[3]}<extra></extra>\",\"legendgroup\":\"G\",\"marker\":{\"color\":\"#EF553B\",\"symbol\":\"circle\"},\"mode\":\"markers\",\"name\":\"G\",\"orientation\":\"v\",\"showlegend\":true,\"x\":[63.5,71.39999999999998,47.80000000000001,-13.199999999999989,195.10000000000002,59.7,-11.3,61.10000000000002,-25.19999999999999,-30.900000000000006,-34.3,11.199999999999989,-187.1,-15.400000000000006,6.799999999999997,48.900000000000006,-211.1,-81.5,-8.299999999999997,-8.799999999999997,-21.3,-81.10000000000002,59.900000000000006,-33.8,-157.8,-10.299999999999997,-41.89999999999998,-52.80000000000001,-278.9,5.700000000000003,-84.3,130.2,56.89999999999998,11.5,80.5,15.800000000000011,-57.60000000000002,-13.600000000000001,169.89999999999998,3.299999999999997,-128.0,-33.60000000000002,13.299999999999997,40.30000000000001,0.6000000000000014,197.2,-58.80000000000001,-103.4,13.699999999999989,29.6,1.6000000000000014,-290.5,-70.6,13.3,-44.0,-184.0,12.099999999999994,147.39999999999998,39.599999999999994,-133.7,-60.39999999999998,-99.89999999999998,-9.100000000000001,-1.8999999999999773,83.69999999999999,40.89999999999998,17.80000000000001,117.0,27.100000000000023,61.89999999999998,46.0,-19.80000000000001,-27.400000000000006,81.10000000000002,-35.30000000000001,-190.10000000000002,-3.4000000000000004,-152.0,-3.5999999999999943,33.0,14.0,-28.099999999999994,13.5,-37.0,-9.599999999999994,-51.30000000000001,3.1000000000000014,28.399999999999977,29.900000000000006,213.60000000000002,-28.099999999999994,147.39999999999998,-20.099999999999994,-200.3,34.8,-40.0,42.89999999999998,-39.5,34.69999999999999,-170.5,-28.0,52.10000000000002,-101.6,16.799999999999997,-224.8,87.39999999999998,9.400000000000006,44.80000000000001,47.900000000000006,-62.4,76.6,-31.5,36.900000000000006,7.5,-34.8,22.899999999999977,-302.5,2.3,-14.5,7.600000000000023,-15.399999999999977,-20.700000000000003,10.0,37.30000000000001,15.900000000000006,-53.69999999999999,-304.0,36.39999999999998,47.19999999999999,-38.89999999999998,-2.200000000000003,-111.19999999999999,-98.30000000000001,-31.400000000000006,-172.5,-74.30000000000001,-100.4,-139.0,-8.0,-55.10000000000002,-16.5,74.10000000000002,-57.599999999999994,-5.899999999999977,-36.099999999999994,-6.0,-4.700000000000003,-325.0,-331.0,-0.6000000000000227,-41.900000000000006,-98.80000000000001,26.5,160.7,29.900000000000006,5.300000000000001,-54.60000000000002,3.6999999999999886,27.30000000000001,91.69999999999999,-5.600000000000001,150.39999999999998,-32.5,-8.2,19.299999999999997,-20.69999999999999,-283.0,275.9,-336.0,97.89999999999998,-96.0,30.200000000000003,7.100000000000001,20.799999999999997,12.800000000000011,-170.8,-297.5,-22.600000000000023,-9.200000000000003],\"xaxis\":\"x\",\"y\":[331.0,259.0,168.0,164.5,154.0,33.0,35.0,201.5,409.0,170.0,159.0,294.0,327.0,145.0,27.0,103.0,351.0,389.5,93.0,59.0,53.0,349.0,121.0,160.0,283.0,60.0,375.0,272.0,476.0,112.5,169.0,193.0,303.0,62.0,340.0,292.0,455.0,31.0,234.0,32.0,274.0,422.0,24.0,104.0,22.0,109.0,233.0,296.0,134.0,29.0,16.0,430.5,271.0,14.0,266.0,324.0,230.0,278.0,188.0,284.0,408.0,435.5,48.0,368.0,217.0,385.0,353.0,197.0,306.0,258.0,158.0,313.0,175.0,316.0,334.0,464.0,15.0,450.0,119.0,401.0,39.0,95.5,111.0,183.0,79.0,347.5,13.0,401.0,201.5,144.0,215.0,155.0,136.0,460.5,84.0,180.0,240.0,112.5,164.5,419.0,88.0,209.0,253.0,25.0,379.0,345.0,149.0,309.0,94.0,122.5,157.0,106.0,67.0,18.0,51.5,312.0,442.5,1.0,268.5,335.0,361.0,125.0,146.0,117.0,80.0,204.0,444.0,383.0,81.0,397.0,126.0,370.5,329.5,171.0,426.0,304.0,253.0,367.0,38.0,354.0,242.5,282.0,138.0,386.0,174.0,439.0,85.0,465.0,471.0,419.0,199.0,298.0,8.0,167.0,75.0,4.0,447.0,211.0,210.0,235.0,58.0,261.0,457.5,19.0,82.0,227.0,423.0,447.0,476.0,321.0,236.0,47.0,9.0,44.0,162.0,318.0,437.5,373.0,50.0],\"yaxis\":\"y\",\"type\":\"scatter\"},{\"customdata\":[[103.9,28.7,\"Al Horford\",\"Boston Celtics\"],[331.6,3.0,\"Alex Len\",\"Sacramento Kings\"],[68.4,30.476190476190474,\"Alperen Sengun\",\"Houston Rockets\"],[147.8,16.77777777777778,\"Andre Drummond\",\"Chicago Bulls\"],[17.7,57.476190476190474,\"Anthony Davis\",\"Los Angeles Lakers\"],[25.9,37.26086956521739,\"Bam Adebayo\",\"Miami Heat\"],[304.0,12.45,\"Bismack Biyombo\",\"Phoenix Suns\"],[252.0,11.2,\"Blake Griffin\",\"Boston Celtics\"],[318.7,2.857142857142857,\"Boban Marjanovic\",\"Houston Rockets\"],[139.3,37.04347826086956,\"Brook Lopez\",\"Milwaukee Bucks\"],[354.0,17.25,\"Bruno Fernando\",\"Houston Rockets\"],[430.4,18.571428571428573,\"Charles Bassey\",\"San Antonio Spurs\"],[333.9,12.947368421052632,\"Chimezie Metu\",\"Sacramento Kings\"],[395.9,12.72,\"Christian Koloko\",\"Toronto Raptors\"],[73.1,27.857142857142858,\"Christian Wood\",\"Dallas Mavericks\"],[84.6,32.56521739130435,\"Clint Capela\",\"Atlanta Hawks\"],[201.7,8.0,\"Damian Jones\",\"Los Angeles Lakers\"],[160.6,15.96,\"Daniel Gafford\",\"Washington Wizards\"],[241.0,8.266666666666667,\"Day\\'Ron Sharpe\",\"Brooklyn Nets\"],[255.2,14.473684210526315,\"DeAndre Jordan\",\"Denver Nuggets\"],[50.6,33.608695652173914,\"Deandre Ayton\",\"Phoenix Suns\"],[287.1,13.25,\"Dewayne Dedmon\",\"Miami Heat\"],[21.8,42.43478260869565,\"Domantas Sabonis\",\"Sacramento Kings\"],[249.3,16.545454545454547,\"Drew Eubanks\",\"Portland Trail Blazers\"],[283.6,13.238095238095237,\"Dwight Powell\",\"Dallas Mavericks\"],[365.4,4.2727272727272725,\"Frank Kaminsky\",\"Atlanta Hawks\"],[289.1,9.933333333333334,\"Goga Bitadze\",\"Indiana Pacers\"],[422.9,10.545454545454545,\"Gorgui Dieng\",\"San Antonio Spurs\"],[145.1,20.04,\"Isaiah Hartenstein\",\"New York Knicks\"],[129.7,18.041666666666668,\"Isaiah Jackson\",\"Indiana Pacers\"],[443.4,3.5714285714285716,\"Isaiah Mobley\",\"Cleveland Cavaliers\"],[134.6,25.5,\"Isaiah Stewart\",\"Detroit Pistons\"],[117.7,29.73076923076923,\"Ivica Zubac\",\"LA Clippers\"],[153.8,8.0,\"JaVale McGee\",\"Dallas Mavericks\"],[75.1,33.55,\"Jakob Poeltl\",\"San Antonio Spurs\"],[151.2,18.166666666666668,\"Jalen Duren\",\"Detroit Pistons\"],[125.7,12.333333333333334,\"James Wiseman\",\"Golden State Warriors\"],[61.9,32.77777777777778,\"Jarrett Allen\",\"Cleveland Cavaliers\"],[279.2,3.6666666666666665,\"Jaxson Hayes\",\"New Orleans Pelicans\"],[267.1,5.833333333333333,\"Jaylin Williams\",\"Oklahoma City Thunder\"],[207.4,20.166666666666668,\"Jeremiah Robinson-Earl\",\"Oklahoma City Thunder\"],[345.4,14.941176470588236,\"Jericho Sims\",\"New York Knicks\"],[315.4,13.0,\"Jock Landale\",\"Phoenix Suns\"],[5.1,54.125,\"Joel Embiid\",\"Philadelphia 76ers\"],[60.5,26.208333333333332,\"Jonas Valanciunas\",\"New Orleans Pelicans\"],[74.6,31.285714285714285,\"Jusuf Nurkic\",\"Portland Trail Blazers\"],[381.9,7.125,\"Kai Jones\",\"Charlotte Hornets\"],[11.9,40.42857142857143,\"Karl-Anthony Towns\",\"Minnesota Timberwolves\"],[144.4,29.51851851851852,\"Kelly Olynyk\",\"Utah Jazz\"],[146.2,22.615384615384617,\"Kevon Looney\",\"Golden State Warriors\"],[350.8,5.384615384615385,\"Khem Birch\",\"Toronto Raptors\"],[140.0,2.0,\"Luka Garza\",\"Minnesota Timberwolves\"],[359.0,13.80952380952381,\"Luke Kornet\",\"Boston Celtics\"],[186.4,5.333333333333333,\"Mark Williams\",\"Charlotte Hornets\"],[166.0,-1.0,\"Marko Simonovic\",\"Chicago Bulls\"],[154.0,26.76,\"Mason Plumlee\",\"Charlotte Hornets\"],[371.1,6.0,\"Mfiondu Kabengele\",\"Boston Celtics\"],[140.0,5.5,\"Micah Potter\",\"Utah Jazz\"],[327.6,12.75,\"Mike Muscala\",\"Oklahoma City Thunder\"],[108.1,26.0,\"Mitchell Robinson\",\"New York Knicks\"],[143.2,17.8,\"Mo Bamba\",\"Orlando Magic\"],[154.5,9.8,\"Montrezl Harrell\",\"Philadelphia 76ers\"],[296.4,24.25,\"Moritz Wagner\",\"Orlando Magic\"],[140.0,8.5,\"Moses Brown\",\"LA Clippers\"],[81.4,39.10526315789474,\"Myles Turner\",\"Indiana Pacers\"],[413.9,1.7777777777777777,\"Nathan Knight\",\"Minnesota Timberwolves\"],[264.5,16.833333333333332,\"Naz Reid\",\"Minnesota Timberwolves\"],[293.5,8.666666666666666,\"Nerlens Noel\",\"Detroit Pistons\"],[284.3,19.16,\"Nick Richards\",\"Charlotte Hornets\"],[1.5,54.80952380952381,\"Nikola Jokic\",\"Denver Nuggets\"],[34.2,35.0,\"Nikola Vucevic\",\"Chicago Bulls\"],[337.9,5.5,\"Noah Vonleh\",\"Boston Celtics\"],[148.7,19.875,\"Onyeka Okongwu\",\"Atlanta Hawks\"],[140.0,16.5,\"Orlando Robinson\",\"Miami Heat\"],[154.4,17.25,\"Precious Achiuwa\",\"Toronto Raptors\"],[159.6,5.6923076923076925,\"Richaun Holmes\",\"Sacramento Kings\"],[342.8,5.555555555555555,\"Robin Lopez\",\"Cleveland Cavaliers\"],[30.8,32.95454545454545,\"Rudy Gobert\",\"Minnesota Timberwolves\"],[355.7,8.5,\"Serge Ibaka\",\"Milwaukee Bucks\"],[120.6,25.391304347826086,\"Steven Adams\",\"Memphis Grizzlies\"],[415.4,6.384615384615385,\"Taj Gibson\",\"Washington Wizards\"],[155.8,20.4,\"Thomas Bryant\",\"Los Angeles Lakers\"],[442.0,3.1666666666666665,\"Tony Bradley\",\"Chicago Bulls\"],[291.4,5.777777777777778,\"Udoka Azubuike\",\"Utah Jazz\"],[140.0,2.5,\"Udonis Haslem\",\"Miami Heat\"],[149.3,20.166666666666668,\"Walker Kessler\",\"Utah Jazz\"],[290.4,9.5,\"Willy Hernangomez\",\"New Orleans Pelicans\"],[220.4,21.357142857142858,\"Zach Collins\",\"San Antonio Spurs\"]],\"hovertemplate\":\"Pos=C<br>Difference=%{x}<br>Rank=%{y}<br>AVG=%{customdata[0]}<br>FANTASY=%{customdata[1]}<br>Name=%{customdata[2]}<br>TEAM_NAME=%{customdata[3]}<extra></extra>\",\"legendgroup\":\"C\",\"marker\":{\"color\":\"#00cc96\",\"symbol\":\"circle\"},\"mode\":\"markers\",\"name\":\"C\",\"orientation\":\"v\",\"showlegend\":true,\"x\":[2.9000000000000057,-115.39999999999998,-14.599999999999994,-74.19999999999999,15.7,-14.100000000000001,9.0,-62.0,-130.3,96.30000000000001,135.5,224.39999999999998,46.89999999999998,105.89999999999998,-33.900000000000006,10.599999999999994,-168.8,-76.4,-125.0,-8.800000000000011,-12.899999999999999,7.600000000000023,0.8000000000000007,24.80000000000001,2.6000000000000227,-68.60000000000002,-49.89999999999998,89.89999999999998,-43.900000000000006,-82.30000000000001,2.3999999999999773,7.599999999999994,27.700000000000003,-216.7,10.099999999999994,-56.80000000000001,-171.3,-10.100000000000001,-160.8,-125.89999999999998,21.900000000000006,90.39999999999998,29.399999999999977,0.09999999999999964,-59.5,-3.4000000000000057,1.8999999999999773,-16.1,52.400000000000006,-9.800000000000011,-56.19999999999999,-317.5,89.0,-225.1,-315.5,39.0,-19.899999999999977,-261.0,38.60000000000002,-14.400000000000006,-69.80000000000001,-189.0,157.39999999999998,-222.5,47.400000000000006,-49.10000000000002,43.5,-65.5,86.30000000000001,-1.5,-17.299999999999997,-63.10000000000002,-42.30000000000001,-87.0,-64.1,-236.4,-55.19999999999999,-37.2,-6.800000000000011,-9.400000000000006,27.399999999999977,-25.19999999999999,-3.0,-102.60000000000002,-312.0,-36.19999999999999,-60.60000000000002,47.400000000000006],\"xaxis\":\"x\",\"y\":[101.0,447.0,83.0,222.0,2.0,40.0,295.0,314.0,449.0,43.0,218.5,206.0,287.0,290.0,107.0,74.0,370.5,237.0,366.0,264.0,63.5,279.5,21.0,224.5,281.0,434.0,339.0,333.0,189.0,212.0,441.0,127.0,90.0,370.5,65.0,208.0,297.0,72.0,440.0,393.0,185.5,255.0,286.0,5.0,120.0,78.0,380.0,28.0,92.0,156.0,407.0,457.5,270.0,411.5,481.5,115.0,391.0,401.0,289.0,122.5,213.0,343.5,139.0,362.5,34.0,463.0,221.0,359.0,198.0,3.0,51.5,401.0,191.0,227.0,218.5,396.0,398.0,68.0,362.5,130.0,388.0,181.0,445.0,394.0,452.0,185.5,351.0,173.0],\"yaxis\":\"y\",\"type\":\"scatter\"}],                        {\"template\":{\"data\":{\"histogram2dcontour\":[{\"type\":\"histogram2dcontour\",\"colorbar\":{\"outlinewidth\":0,\"ticks\":\"\"},\"colorscale\":[[0.0,\"#0d0887\"],[0.1111111111111111,\"#46039f\"],[0.2222222222222222,\"#7201a8\"],[0.3333333333333333,\"#9c179e\"],[0.4444444444444444,\"#bd3786\"],[0.5555555555555556,\"#d8576b\"],[0.6666666666666666,\"#ed7953\"],[0.7777777777777778,\"#fb9f3a\"],[0.8888888888888888,\"#fdca26\"],[1.0,\"#f0f921\"]]}],\"choropleth\":[{\"type\":\"choropleth\",\"colorbar\":{\"outlinewidth\":0,\"ticks\":\"\"}}],\"histogram2d\":[{\"type\":\"histogram2d\",\"colorbar\":{\"outlinewidth\":0,\"ticks\":\"\"},\"colorscale\":[[0.0,\"#0d0887\"],[0.1111111111111111,\"#46039f\"],[0.2222222222222222,\"#7201a8\"],[0.3333333333333333,\"#9c179e\"],[0.4444444444444444,\"#bd3786\"],[0.5555555555555556,\"#d8576b\"],[0.6666666666666666,\"#ed7953\"],[0.7777777777777778,\"#fb9f3a\"],[0.8888888888888888,\"#fdca26\"],[1.0,\"#f0f921\"]]}],\"heatmap\":[{\"type\":\"heatmap\",\"colorbar\":{\"outlinewidth\":0,\"ticks\":\"\"},\"colorscale\":[[0.0,\"#0d0887\"],[0.1111111111111111,\"#46039f\"],[0.2222222222222222,\"#7201a8\"],[0.3333333333333333,\"#9c179e\"],[0.4444444444444444,\"#bd3786\"],[0.5555555555555556,\"#d8576b\"],[0.6666666666666666,\"#ed7953\"],[0.7777777777777778,\"#fb9f3a\"],[0.8888888888888888,\"#fdca26\"],[1.0,\"#f0f921\"]]}],\"heatmapgl\":[{\"type\":\"heatmapgl\",\"colorbar\":{\"outlinewidth\":0,\"ticks\":\"\"},\"colorscale\":[[0.0,\"#0d0887\"],[0.1111111111111111,\"#46039f\"],[0.2222222222222222,\"#7201a8\"],[0.3333333333333333,\"#9c179e\"],[0.4444444444444444,\"#bd3786\"],[0.5555555555555556,\"#d8576b\"],[0.6666666666666666,\"#ed7953\"],[0.7777777777777778,\"#fb9f3a\"],[0.8888888888888888,\"#fdca26\"],[1.0,\"#f0f921\"]]}],\"contourcarpet\":[{\"type\":\"contourcarpet\",\"colorbar\":{\"outlinewidth\":0,\"ticks\":\"\"}}],\"contour\":[{\"type\":\"contour\",\"colorbar\":{\"outlinewidth\":0,\"ticks\":\"\"},\"colorscale\":[[0.0,\"#0d0887\"],[0.1111111111111111,\"#46039f\"],[0.2222222222222222,\"#7201a8\"],[0.3333333333333333,\"#9c179e\"],[0.4444444444444444,\"#bd3786\"],[0.5555555555555556,\"#d8576b\"],[0.6666666666666666,\"#ed7953\"],[0.7777777777777778,\"#fb9f3a\"],[0.8888888888888888,\"#fdca26\"],[1.0,\"#f0f921\"]]}],\"surface\":[{\"type\":\"surface\",\"colorbar\":{\"outlinewidth\":0,\"ticks\":\"\"},\"colorscale\":[[0.0,\"#0d0887\"],[0.1111111111111111,\"#46039f\"],[0.2222222222222222,\"#7201a8\"],[0.3333333333333333,\"#9c179e\"],[0.4444444444444444,\"#bd3786\"],[0.5555555555555556,\"#d8576b\"],[0.6666666666666666,\"#ed7953\"],[0.7777777777777778,\"#fb9f3a\"],[0.8888888888888888,\"#fdca26\"],[1.0,\"#f0f921\"]]}],\"mesh3d\":[{\"type\":\"mesh3d\",\"colorbar\":{\"outlinewidth\":0,\"ticks\":\"\"}}],\"scatter\":[{\"fillpattern\":{\"fillmode\":\"overlay\",\"size\":10,\"solidity\":0.2},\"type\":\"scatter\"}],\"parcoords\":[{\"type\":\"parcoords\",\"line\":{\"colorbar\":{\"outlinewidth\":0,\"ticks\":\"\"}}}],\"scatterpolargl\":[{\"type\":\"scatterpolargl\",\"marker\":{\"colorbar\":{\"outlinewidth\":0,\"ticks\":\"\"}}}],\"bar\":[{\"error_x\":{\"color\":\"#2a3f5f\"},\"error_y\":{\"color\":\"#2a3f5f\"},\"marker\":{\"line\":{\"color\":\"#E5ECF6\",\"width\":0.5},\"pattern\":{\"fillmode\":\"overlay\",\"size\":10,\"solidity\":0.2}},\"type\":\"bar\"}],\"scattergeo\":[{\"type\":\"scattergeo\",\"marker\":{\"colorbar\":{\"outlinewidth\":0,\"ticks\":\"\"}}}],\"scatterpolar\":[{\"type\":\"scatterpolar\",\"marker\":{\"colorbar\":{\"outlinewidth\":0,\"ticks\":\"\"}}}],\"histogram\":[{\"marker\":{\"pattern\":{\"fillmode\":\"overlay\",\"size\":10,\"solidity\":0.2}},\"type\":\"histogram\"}],\"scattergl\":[{\"type\":\"scattergl\",\"marker\":{\"colorbar\":{\"outlinewidth\":0,\"ticks\":\"\"}}}],\"scatter3d\":[{\"type\":\"scatter3d\",\"line\":{\"colorbar\":{\"outlinewidth\":0,\"ticks\":\"\"}},\"marker\":{\"colorbar\":{\"outlinewidth\":0,\"ticks\":\"\"}}}],\"scattermapbox\":[{\"type\":\"scattermapbox\",\"marker\":{\"colorbar\":{\"outlinewidth\":0,\"ticks\":\"\"}}}],\"scatterternary\":[{\"type\":\"scatterternary\",\"marker\":{\"colorbar\":{\"outlinewidth\":0,\"ticks\":\"\"}}}],\"scattercarpet\":[{\"type\":\"scattercarpet\",\"marker\":{\"colorbar\":{\"outlinewidth\":0,\"ticks\":\"\"}}}],\"carpet\":[{\"aaxis\":{\"endlinecolor\":\"#2a3f5f\",\"gridcolor\":\"white\",\"linecolor\":\"white\",\"minorgridcolor\":\"white\",\"startlinecolor\":\"#2a3f5f\"},\"baxis\":{\"endlinecolor\":\"#2a3f5f\",\"gridcolor\":\"white\",\"linecolor\":\"white\",\"minorgridcolor\":\"white\",\"startlinecolor\":\"#2a3f5f\"},\"type\":\"carpet\"}],\"table\":[{\"cells\":{\"fill\":{\"color\":\"#EBF0F8\"},\"line\":{\"color\":\"white\"}},\"header\":{\"fill\":{\"color\":\"#C8D4E3\"},\"line\":{\"color\":\"white\"}},\"type\":\"table\"}],\"barpolar\":[{\"marker\":{\"line\":{\"color\":\"#E5ECF6\",\"width\":0.5},\"pattern\":{\"fillmode\":\"overlay\",\"size\":10,\"solidity\":0.2}},\"type\":\"barpolar\"}],\"pie\":[{\"automargin\":true,\"type\":\"pie\"}]},\"layout\":{\"autotypenumbers\":\"strict\",\"colorway\":[\"#636efa\",\"#EF553B\",\"#00cc96\",\"#ab63fa\",\"#FFA15A\",\"#19d3f3\",\"#FF6692\",\"#B6E880\",\"#FF97FF\",\"#FECB52\"],\"font\":{\"color\":\"#2a3f5f\"},\"hovermode\":\"closest\",\"hoverlabel\":{\"align\":\"left\"},\"paper_bgcolor\":\"white\",\"plot_bgcolor\":\"#E5ECF6\",\"polar\":{\"bgcolor\":\"#E5ECF6\",\"angularaxis\":{\"gridcolor\":\"white\",\"linecolor\":\"white\",\"ticks\":\"\"},\"radialaxis\":{\"gridcolor\":\"white\",\"linecolor\":\"white\",\"ticks\":\"\"}},\"ternary\":{\"bgcolor\":\"#E5ECF6\",\"aaxis\":{\"gridcolor\":\"white\",\"linecolor\":\"white\",\"ticks\":\"\"},\"baxis\":{\"gridcolor\":\"white\",\"linecolor\":\"white\",\"ticks\":\"\"},\"caxis\":{\"gridcolor\":\"white\",\"linecolor\":\"white\",\"ticks\":\"\"}},\"coloraxis\":{\"colorbar\":{\"outlinewidth\":0,\"ticks\":\"\"}},\"colorscale\":{\"sequential\":[[0.0,\"#0d0887\"],[0.1111111111111111,\"#46039f\"],[0.2222222222222222,\"#7201a8\"],[0.3333333333333333,\"#9c179e\"],[0.4444444444444444,\"#bd3786\"],[0.5555555555555556,\"#d8576b\"],[0.6666666666666666,\"#ed7953\"],[0.7777777777777778,\"#fb9f3a\"],[0.8888888888888888,\"#fdca26\"],[1.0,\"#f0f921\"]],\"sequentialminus\":[[0.0,\"#0d0887\"],[0.1111111111111111,\"#46039f\"],[0.2222222222222222,\"#7201a8\"],[0.3333333333333333,\"#9c179e\"],[0.4444444444444444,\"#bd3786\"],[0.5555555555555556,\"#d8576b\"],[0.6666666666666666,\"#ed7953\"],[0.7777777777777778,\"#fb9f3a\"],[0.8888888888888888,\"#fdca26\"],[1.0,\"#f0f921\"]],\"diverging\":[[0,\"#8e0152\"],[0.1,\"#c51b7d\"],[0.2,\"#de77ae\"],[0.3,\"#f1b6da\"],[0.4,\"#fde0ef\"],[0.5,\"#f7f7f7\"],[0.6,\"#e6f5d0\"],[0.7,\"#b8e186\"],[0.8,\"#7fbc41\"],[0.9,\"#4d9221\"],[1,\"#276419\"]]},\"xaxis\":{\"gridcolor\":\"white\",\"linecolor\":\"white\",\"ticks\":\"\",\"title\":{\"standoff\":15},\"zerolinecolor\":\"white\",\"automargin\":true,\"zerolinewidth\":2},\"yaxis\":{\"gridcolor\":\"white\",\"linecolor\":\"white\",\"ticks\":\"\",\"title\":{\"standoff\":15},\"zerolinecolor\":\"white\",\"automargin\":true,\"zerolinewidth\":2},\"scene\":{\"xaxis\":{\"backgroundcolor\":\"#E5ECF6\",\"gridcolor\":\"white\",\"linecolor\":\"white\",\"showbackground\":true,\"ticks\":\"\",\"zerolinecolor\":\"white\",\"gridwidth\":2},\"yaxis\":{\"backgroundcolor\":\"#E5ECF6\",\"gridcolor\":\"white\",\"linecolor\":\"white\",\"showbackground\":true,\"ticks\":\"\",\"zerolinecolor\":\"white\",\"gridwidth\":2},\"zaxis\":{\"backgroundcolor\":\"#E5ECF6\",\"gridcolor\":\"white\",\"linecolor\":\"white\",\"showbackground\":true,\"ticks\":\"\",\"zerolinecolor\":\"white\",\"gridwidth\":2}},\"shapedefaults\":{\"line\":{\"color\":\"#2a3f5f\"}},\"annotationdefaults\":{\"arrowcolor\":\"#2a3f5f\",\"arrowhead\":0,\"arrowwidth\":1},\"geo\":{\"bgcolor\":\"white\",\"landcolor\":\"#E5ECF6\",\"subunitcolor\":\"white\",\"showland\":true,\"showlakes\":true,\"lakecolor\":\"white\"},\"title\":{\"x\":0.05},\"mapbox\":{\"style\":\"light\"}}},\"xaxis\":{\"anchor\":\"y\",\"domain\":[0.0,1.0],\"title\":{\"text\":\"Difference\"}},\"yaxis\":{\"anchor\":\"x\",\"domain\":[0.0,1.0],\"title\":{\"text\":\"Rank\"},\"autorange\":\"reversed\"},\"legend\":{\"title\":{\"text\":\"Pos\"},\"tracegroupgap\":0},\"title\":{\"text\":\"How Are Players Doing Against Their Expectations?\"},\"height\":500,\"width\":800},                        {\"responsive\": true}                    )                };                            </script>        </div>'"
      ]
     },
     "execution_count": 61,
     "metadata": {},
     "output_type": "execute_result"
    }
   ],
   "source": [
    "chart = px.scatter(data_frame = compare, x = 'Difference', y = 'Rank',\n",
    "color = 'Pos', title = 'How Are Players Doing Against Their Expectations?',\n",
    "hover_data = ['AVG', 'FANTASY', 'Name', 'TEAM_NAME'],\n",
    "height = 500, width = 800)\n",
    "chart.update_yaxes(autorange = 'reversed')\n",
    "chart.show()\n",
    "chart.to_html(full_html = False, include_plotlyjs = 'cdn')"
   ]
  }
 ],
 "metadata": {
  "kernelspec": {
   "display_name": "Python 3.9.7 ('base')",
   "language": "python",
   "name": "python3"
  },
  "language_info": {
   "codemirror_mode": {
    "name": "ipython",
    "version": 3
   },
   "file_extension": ".py",
   "mimetype": "text/x-python",
   "name": "python",
   "nbconvert_exporter": "python",
   "pygments_lexer": "ipython3",
   "version": "3.9.7 (default, Sep 16 2021, 16:59:28) [MSC v.1916 64 bit (AMD64)]"
  },
  "orig_nbformat": 4,
  "vscode": {
   "interpreter": {
    "hash": "f9b66c5a3f4d504968e7c23ed073d920cce91d6e0d9896db397b1ddec9f4c1bf"
   }
  }
 },
 "nbformat": 4,
 "nbformat_minor": 2
}
