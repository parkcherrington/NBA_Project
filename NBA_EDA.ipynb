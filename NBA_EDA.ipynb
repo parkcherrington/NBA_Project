{
 "cells": [
  {
   "cell_type": "code",
   "execution_count": 70,
   "metadata": {},
   "outputs": [],
   "source": [
    "import pandas as pd\n",
    "import numpy as np\n",
    "import matplotlib.pyplot as plt\n",
    "import plotly.express as px\n",
    "import seaborn as sns"
   ]
  },
  {
   "cell_type": "markdown",
   "metadata": {},
   "source": [
    "App Ideas:\n",
    "- Create new fantasy variable that calculates ESPN fantasy points\n",
    "- Plot/show 10 players with highest average points, rebs, fantasy points, etc (interactable)\n",
    "- Look up a player, show best games\n",
    "- Look up a team?\n",
    "- Compare two players?\n",
    "\n",
    "Graph Ideas:\n",
    "- Team wins line chart\n",
    "- Each team ppg vs league average\n",
    "- Assist vs turnover scatterplot (plotly?)\n",
    "- FPoints vs mins"
   ]
  },
  {
   "cell_type": "code",
   "execution_count": 71,
   "metadata": {},
   "outputs": [
    {
     "data": {
      "text/plain": [
       "Index(['PLAYER_ID', 'PLAYER_NAME', 'TEAM_ID', 'TEAM_ABBREVIATION', 'TEAM_NAME',\n",
       "       'GAME_ID', 'GAME_DATE', 'MATCHUP', 'WL', 'MIN', 'FGM', 'FGA', 'FG_PCT',\n",
       "       'FG3M', 'FG3A', 'FG3_PCT', 'FTM', 'FTA', 'FT_PCT', 'OREB', 'DREB',\n",
       "       'REB', 'AST', 'STL', 'BLK', 'TOV', 'PF', 'PTS', 'PLUS_MINUS',\n",
       "       'FANTASY'],\n",
       "      dtype='object')"
      ]
     },
     "execution_count": 71,
     "metadata": {},
     "output_type": "execute_result"
    }
   ],
   "source": [
    "# Read in the data scraped above\n",
    "boxdf = pd.read_csv('boxScores.csv')\n",
    "boxdf.columns\n"
   ]
  },
  {
   "cell_type": "code",
   "execution_count": 72,
   "metadata": {},
   "outputs": [
    {
     "data": {
      "text/html": [
       "<div>\n",
       "<style scoped>\n",
       "    .dataframe tbody tr th:only-of-type {\n",
       "        vertical-align: middle;\n",
       "    }\n",
       "\n",
       "    .dataframe tbody tr th {\n",
       "        vertical-align: top;\n",
       "    }\n",
       "\n",
       "    .dataframe thead th {\n",
       "        text-align: right;\n",
       "    }\n",
       "</style>\n",
       "<table border=\"1\" class=\"dataframe\">\n",
       "  <thead>\n",
       "    <tr style=\"text-align: right;\">\n",
       "      <th></th>\n",
       "      <th>PLAYER_NAME</th>\n",
       "      <th>TEAM_NAME</th>\n",
       "      <th>PLAYER_ID</th>\n",
       "      <th>TEAM_ID</th>\n",
       "      <th>GAME_ID</th>\n",
       "      <th>MIN</th>\n",
       "      <th>FGM</th>\n",
       "      <th>FGA</th>\n",
       "      <th>FG_PCT</th>\n",
       "      <th>FG3M</th>\n",
       "      <th>...</th>\n",
       "      <th>REB</th>\n",
       "      <th>AST</th>\n",
       "      <th>STL</th>\n",
       "      <th>BLK</th>\n",
       "      <th>TOV</th>\n",
       "      <th>PF</th>\n",
       "      <th>PTS</th>\n",
       "      <th>PLUS_MINUS</th>\n",
       "      <th>FANTASY</th>\n",
       "      <th>Rank</th>\n",
       "    </tr>\n",
       "  </thead>\n",
       "  <tbody>\n",
       "    <tr>\n",
       "      <th>0</th>\n",
       "      <td>A.J. Lawson</td>\n",
       "      <td>Minnesota Timberwolves</td>\n",
       "      <td>1630639</td>\n",
       "      <td>1610612750</td>\n",
       "      <td>22200212</td>\n",
       "      <td>2</td>\n",
       "      <td>1</td>\n",
       "      <td>1</td>\n",
       "      <td>1.000</td>\n",
       "      <td>0</td>\n",
       "      <td>...</td>\n",
       "      <td>1</td>\n",
       "      <td>0</td>\n",
       "      <td>0</td>\n",
       "      <td>0</td>\n",
       "      <td>0</td>\n",
       "      <td>1</td>\n",
       "      <td>2</td>\n",
       "      <td>-5</td>\n",
       "      <td>4</td>\n",
       "      <td>440.0</td>\n",
       "    </tr>\n",
       "    <tr>\n",
       "      <th>1</th>\n",
       "      <td>AJ Green</td>\n",
       "      <td>Milwaukee Bucks</td>\n",
       "      <td>3262520</td>\n",
       "      <td>3221225498</td>\n",
       "      <td>44400249</td>\n",
       "      <td>17</td>\n",
       "      <td>1</td>\n",
       "      <td>4</td>\n",
       "      <td>0.250</td>\n",
       "      <td>1</td>\n",
       "      <td>...</td>\n",
       "      <td>3</td>\n",
       "      <td>1</td>\n",
       "      <td>1</td>\n",
       "      <td>0</td>\n",
       "      <td>0</td>\n",
       "      <td>2</td>\n",
       "      <td>3</td>\n",
       "      <td>-13</td>\n",
       "      <td>11</td>\n",
       "      <td>418.5</td>\n",
       "    </tr>\n",
       "    <tr>\n",
       "      <th>2</th>\n",
       "      <td>AJ Griffin</td>\n",
       "      <td>Atlanta Hawks</td>\n",
       "      <td>17942100</td>\n",
       "      <td>17716740107</td>\n",
       "      <td>244201492</td>\n",
       "      <td>145</td>\n",
       "      <td>30</td>\n",
       "      <td>62</td>\n",
       "      <td>4.712</td>\n",
       "      <td>12</td>\n",
       "      <td>...</td>\n",
       "      <td>19</td>\n",
       "      <td>7</td>\n",
       "      <td>7</td>\n",
       "      <td>0</td>\n",
       "      <td>7</td>\n",
       "      <td>10</td>\n",
       "      <td>75</td>\n",
       "      <td>-2</td>\n",
       "      <td>132</td>\n",
       "      <td>281.0</td>\n",
       "    </tr>\n",
       "    <tr>\n",
       "      <th>3</th>\n",
       "      <td>Aaron Gordon</td>\n",
       "      <td>Denver Nuggets</td>\n",
       "      <td>2651116</td>\n",
       "      <td>20937965659</td>\n",
       "      <td>288601304</td>\n",
       "      <td>378</td>\n",
       "      <td>72</td>\n",
       "      <td>125</td>\n",
       "      <td>7.152</td>\n",
       "      <td>11</td>\n",
       "      <td>...</td>\n",
       "      <td>89</td>\n",
       "      <td>33</td>\n",
       "      <td>7</td>\n",
       "      <td>11</td>\n",
       "      <td>16</td>\n",
       "      <td>19</td>\n",
       "      <td>188</td>\n",
       "      <td>70</td>\n",
       "      <td>393</td>\n",
       "      <td>102.5</td>\n",
       "    </tr>\n",
       "    <tr>\n",
       "      <th>4</th>\n",
       "      <td>Aaron Holiday</td>\n",
       "      <td>Atlanta Hawks</td>\n",
       "      <td>24434820</td>\n",
       "      <td>24159191055</td>\n",
       "      <td>333001708</td>\n",
       "      <td>280</td>\n",
       "      <td>28</td>\n",
       "      <td>67</td>\n",
       "      <td>5.962</td>\n",
       "      <td>8</td>\n",
       "      <td>...</td>\n",
       "      <td>22</td>\n",
       "      <td>25</td>\n",
       "      <td>11</td>\n",
       "      <td>3</td>\n",
       "      <td>12</td>\n",
       "      <td>26</td>\n",
       "      <td>72</td>\n",
       "      <td>12</td>\n",
       "      <td>172</td>\n",
       "      <td>253.0</td>\n",
       "    </tr>\n",
       "    <tr>\n",
       "      <th>...</th>\n",
       "      <td>...</td>\n",
       "      <td>...</td>\n",
       "      <td>...</td>\n",
       "      <td>...</td>\n",
       "      <td>...</td>\n",
       "      <td>...</td>\n",
       "      <td>...</td>\n",
       "      <td>...</td>\n",
       "      <td>...</td>\n",
       "      <td>...</td>\n",
       "      <td>...</td>\n",
       "      <td>...</td>\n",
       "      <td>...</td>\n",
       "      <td>...</td>\n",
       "      <td>...</td>\n",
       "      <td>...</td>\n",
       "      <td>...</td>\n",
       "      <td>...</td>\n",
       "      <td>...</td>\n",
       "      <td>...</td>\n",
       "      <td>...</td>\n",
       "    </tr>\n",
       "    <tr>\n",
       "      <th>459</th>\n",
       "      <td>Yuta Watanabe</td>\n",
       "      <td>Brooklyn Nets</td>\n",
       "      <td>21178807</td>\n",
       "      <td>20937965763</td>\n",
       "      <td>288601505</td>\n",
       "      <td>231</td>\n",
       "      <td>36</td>\n",
       "      <td>60</td>\n",
       "      <td>6.923</td>\n",
       "      <td>20</td>\n",
       "      <td>...</td>\n",
       "      <td>38</td>\n",
       "      <td>10</td>\n",
       "      <td>3</td>\n",
       "      <td>7</td>\n",
       "      <td>4</td>\n",
       "      <td>14</td>\n",
       "      <td>98</td>\n",
       "      <td>-17</td>\n",
       "      <td>217</td>\n",
       "      <td>212.5</td>\n",
       "    </tr>\n",
       "    <tr>\n",
       "      <th>460</th>\n",
       "      <td>Zach Collins</td>\n",
       "      <td>San Antonio Spurs</td>\n",
       "      <td>14655420</td>\n",
       "      <td>14495514831</td>\n",
       "      <td>199800578</td>\n",
       "      <td>158</td>\n",
       "      <td>31</td>\n",
       "      <td>59</td>\n",
       "      <td>4.830</td>\n",
       "      <td>7</td>\n",
       "      <td>...</td>\n",
       "      <td>42</td>\n",
       "      <td>25</td>\n",
       "      <td>6</td>\n",
       "      <td>11</td>\n",
       "      <td>17</td>\n",
       "      <td>27</td>\n",
       "      <td>75</td>\n",
       "      <td>-17</td>\n",
       "      <td>208</td>\n",
       "      <td>219.5</td>\n",
       "    </tr>\n",
       "    <tr>\n",
       "      <th>461</th>\n",
       "      <td>Zach LaVine</td>\n",
       "      <td>Chicago Bulls</td>\n",
       "      <td>2446764</td>\n",
       "      <td>19327352892</td>\n",
       "      <td>266401519</td>\n",
       "      <td>398</td>\n",
       "      <td>86</td>\n",
       "      <td>207</td>\n",
       "      <td>4.905</td>\n",
       "      <td>34</td>\n",
       "      <td>...</td>\n",
       "      <td>47</td>\n",
       "      <td>48</td>\n",
       "      <td>13</td>\n",
       "      <td>1</td>\n",
       "      <td>26</td>\n",
       "      <td>27</td>\n",
       "      <td>248</td>\n",
       "      <td>-37</td>\n",
       "      <td>386</td>\n",
       "      <td>108.0</td>\n",
       "    </tr>\n",
       "    <tr>\n",
       "      <th>462</th>\n",
       "      <td>Zeke Nnaji</td>\n",
       "      <td>Denver Nuggets</td>\n",
       "      <td>16301920</td>\n",
       "      <td>16106127430</td>\n",
       "      <td>222001180</td>\n",
       "      <td>76</td>\n",
       "      <td>14</td>\n",
       "      <td>22</td>\n",
       "      <td>4.381</td>\n",
       "      <td>1</td>\n",
       "      <td>...</td>\n",
       "      <td>11</td>\n",
       "      <td>1</td>\n",
       "      <td>3</td>\n",
       "      <td>0</td>\n",
       "      <td>4</td>\n",
       "      <td>15</td>\n",
       "      <td>33</td>\n",
       "      <td>-41</td>\n",
       "      <td>56</td>\n",
       "      <td>349.5</td>\n",
       "    </tr>\n",
       "    <tr>\n",
       "      <th>463</th>\n",
       "      <td>Zion Williamson</td>\n",
       "      <td>New Orleans Pelicans</td>\n",
       "      <td>17925897</td>\n",
       "      <td>17716740140</td>\n",
       "      <td>244201209</td>\n",
       "      <td>356</td>\n",
       "      <td>99</td>\n",
       "      <td>175</td>\n",
       "      <td>6.476</td>\n",
       "      <td>3</td>\n",
       "      <td>...</td>\n",
       "      <td>70</td>\n",
       "      <td>43</td>\n",
       "      <td>12</td>\n",
       "      <td>3</td>\n",
       "      <td>30</td>\n",
       "      <td>30</td>\n",
       "      <td>259</td>\n",
       "      <td>33</td>\n",
       "      <td>418</td>\n",
       "      <td>90.0</td>\n",
       "    </tr>\n",
       "  </tbody>\n",
       "</table>\n",
       "<p>464 rows × 27 columns</p>\n",
       "</div>"
      ],
      "text/plain": [
       "         PLAYER_NAME               TEAM_NAME  PLAYER_ID      TEAM_ID  \\\n",
       "0        A.J. Lawson  Minnesota Timberwolves    1630639   1610612750   \n",
       "1           AJ Green         Milwaukee Bucks    3262520   3221225498   \n",
       "2         AJ Griffin           Atlanta Hawks   17942100  17716740107   \n",
       "3       Aaron Gordon          Denver Nuggets    2651116  20937965659   \n",
       "4      Aaron Holiday           Atlanta Hawks   24434820  24159191055   \n",
       "..               ...                     ...        ...          ...   \n",
       "459    Yuta Watanabe           Brooklyn Nets   21178807  20937965763   \n",
       "460     Zach Collins       San Antonio Spurs   14655420  14495514831   \n",
       "461      Zach LaVine           Chicago Bulls    2446764  19327352892   \n",
       "462       Zeke Nnaji          Denver Nuggets   16301920  16106127430   \n",
       "463  Zion Williamson    New Orleans Pelicans   17925897  17716740140   \n",
       "\n",
       "       GAME_ID  MIN  FGM  FGA  FG_PCT  FG3M  ...  REB  AST  STL  BLK  TOV  PF  \\\n",
       "0     22200212    2    1    1   1.000     0  ...    1    0    0    0    0   1   \n",
       "1     44400249   17    1    4   0.250     1  ...    3    1    1    0    0   2   \n",
       "2    244201492  145   30   62   4.712    12  ...   19    7    7    0    7  10   \n",
       "3    288601304  378   72  125   7.152    11  ...   89   33    7   11   16  19   \n",
       "4    333001708  280   28   67   5.962     8  ...   22   25   11    3   12  26   \n",
       "..         ...  ...  ...  ...     ...   ...  ...  ...  ...  ...  ...  ...  ..   \n",
       "459  288601505  231   36   60   6.923    20  ...   38   10    3    7    4  14   \n",
       "460  199800578  158   31   59   4.830     7  ...   42   25    6   11   17  27   \n",
       "461  266401519  398   86  207   4.905    34  ...   47   48   13    1   26  27   \n",
       "462  222001180   76   14   22   4.381     1  ...   11    1    3    0    4  15   \n",
       "463  244201209  356   99  175   6.476     3  ...   70   43   12    3   30  30   \n",
       "\n",
       "     PTS  PLUS_MINUS  FANTASY   Rank  \n",
       "0      2          -5        4  440.0  \n",
       "1      3         -13       11  418.5  \n",
       "2     75          -2      132  281.0  \n",
       "3    188          70      393  102.5  \n",
       "4     72          12      172  253.0  \n",
       "..   ...         ...      ...    ...  \n",
       "459   98         -17      217  212.5  \n",
       "460   75         -17      208  219.5  \n",
       "461  248         -37      386  108.0  \n",
       "462   33         -41       56  349.5  \n",
       "463  259          33      418   90.0  \n",
       "\n",
       "[464 rows x 27 columns]"
      ]
     },
     "execution_count": 72,
     "metadata": {},
     "output_type": "execute_result"
    }
   ],
   "source": [
    "# Create a new df that is the sums of stats\n",
    "# Create a new df that is the averages per game of stats\n",
    "\n",
    "# Both of these are one row per player.\n",
    "totals = boxdf.groupby(['PLAYER_NAME','TEAM_NAME'], as_index = False).sum()\n",
    "totals['Rank'] = totals['FANTASY'].rank(ascending = False)\n",
    "totals"
   ]
  },
  {
   "cell_type": "code",
   "execution_count": 73,
   "metadata": {},
   "outputs": [
    {
     "data": {
      "text/html": [
       "<div>\n",
       "<style scoped>\n",
       "    .dataframe tbody tr th:only-of-type {\n",
       "        vertical-align: middle;\n",
       "    }\n",
       "\n",
       "    .dataframe tbody tr th {\n",
       "        vertical-align: top;\n",
       "    }\n",
       "\n",
       "    .dataframe thead th {\n",
       "        text-align: right;\n",
       "    }\n",
       "</style>\n",
       "<table border=\"1\" class=\"dataframe\">\n",
       "  <thead>\n",
       "    <tr style=\"text-align: right;\">\n",
       "      <th></th>\n",
       "      <th>PLAYER_NAME</th>\n",
       "      <th>TEAM_NAME</th>\n",
       "      <th>PLAYER_ID</th>\n",
       "      <th>TEAM_ID</th>\n",
       "      <th>GAME_ID</th>\n",
       "      <th>MIN</th>\n",
       "      <th>FGM</th>\n",
       "      <th>FGA</th>\n",
       "      <th>FG_PCT</th>\n",
       "      <th>FG3M</th>\n",
       "      <th>...</th>\n",
       "      <th>DREB</th>\n",
       "      <th>REB</th>\n",
       "      <th>AST</th>\n",
       "      <th>STL</th>\n",
       "      <th>BLK</th>\n",
       "      <th>TOV</th>\n",
       "      <th>PF</th>\n",
       "      <th>PTS</th>\n",
       "      <th>PLUS_MINUS</th>\n",
       "      <th>FANTASY</th>\n",
       "    </tr>\n",
       "  </thead>\n",
       "  <tbody>\n",
       "    <tr>\n",
       "      <th>0</th>\n",
       "      <td>A.J. Lawson</td>\n",
       "      <td>Minnesota Timberwolves</td>\n",
       "      <td>1630639.0</td>\n",
       "      <td>1.610613e+09</td>\n",
       "      <td>2.220021e+07</td>\n",
       "      <td>2.000000</td>\n",
       "      <td>1.000000</td>\n",
       "      <td>1.000000</td>\n",
       "      <td>1.000000</td>\n",
       "      <td>0.000000</td>\n",
       "      <td>...</td>\n",
       "      <td>1.000000</td>\n",
       "      <td>1.000000</td>\n",
       "      <td>0.000000</td>\n",
       "      <td>0.000000</td>\n",
       "      <td>0.000000</td>\n",
       "      <td>0.000000</td>\n",
       "      <td>1.000000</td>\n",
       "      <td>2.000000</td>\n",
       "      <td>-5.000000</td>\n",
       "      <td>4.000000</td>\n",
       "    </tr>\n",
       "    <tr>\n",
       "      <th>1</th>\n",
       "      <td>AJ Green</td>\n",
       "      <td>Milwaukee Bucks</td>\n",
       "      <td>1631260.0</td>\n",
       "      <td>1.610613e+09</td>\n",
       "      <td>2.220012e+07</td>\n",
       "      <td>8.500000</td>\n",
       "      <td>0.500000</td>\n",
       "      <td>2.000000</td>\n",
       "      <td>0.250000</td>\n",
       "      <td>0.500000</td>\n",
       "      <td>...</td>\n",
       "      <td>1.000000</td>\n",
       "      <td>1.500000</td>\n",
       "      <td>0.500000</td>\n",
       "      <td>0.500000</td>\n",
       "      <td>0.000000</td>\n",
       "      <td>0.000000</td>\n",
       "      <td>1.000000</td>\n",
       "      <td>1.500000</td>\n",
       "      <td>-6.500000</td>\n",
       "      <td>5.500000</td>\n",
       "    </tr>\n",
       "    <tr>\n",
       "      <th>2</th>\n",
       "      <td>AJ Griffin</td>\n",
       "      <td>Atlanta Hawks</td>\n",
       "      <td>1631100.0</td>\n",
       "      <td>1.610613e+09</td>\n",
       "      <td>2.220014e+07</td>\n",
       "      <td>13.181818</td>\n",
       "      <td>2.727273</td>\n",
       "      <td>5.636364</td>\n",
       "      <td>0.428364</td>\n",
       "      <td>1.090909</td>\n",
       "      <td>...</td>\n",
       "      <td>1.000000</td>\n",
       "      <td>1.727273</td>\n",
       "      <td>0.636364</td>\n",
       "      <td>0.636364</td>\n",
       "      <td>0.000000</td>\n",
       "      <td>0.636364</td>\n",
       "      <td>0.909091</td>\n",
       "      <td>6.818182</td>\n",
       "      <td>-0.181818</td>\n",
       "      <td>12.000000</td>\n",
       "    </tr>\n",
       "    <tr>\n",
       "      <th>3</th>\n",
       "      <td>Aaron Gordon</td>\n",
       "      <td>Denver Nuggets</td>\n",
       "      <td>203932.0</td>\n",
       "      <td>1.610613e+09</td>\n",
       "      <td>2.220010e+07</td>\n",
       "      <td>29.076923</td>\n",
       "      <td>5.538462</td>\n",
       "      <td>9.615385</td>\n",
       "      <td>0.550154</td>\n",
       "      <td>0.846154</td>\n",
       "      <td>...</td>\n",
       "      <td>4.615385</td>\n",
       "      <td>6.846154</td>\n",
       "      <td>2.538462</td>\n",
       "      <td>0.538462</td>\n",
       "      <td>0.846154</td>\n",
       "      <td>1.230769</td>\n",
       "      <td>1.461538</td>\n",
       "      <td>14.461538</td>\n",
       "      <td>5.384615</td>\n",
       "      <td>30.230769</td>\n",
       "    </tr>\n",
       "    <tr>\n",
       "      <th>4</th>\n",
       "      <td>Aaron Holiday</td>\n",
       "      <td>Atlanta Hawks</td>\n",
       "      <td>1628988.0</td>\n",
       "      <td>1.610613e+09</td>\n",
       "      <td>2.220011e+07</td>\n",
       "      <td>18.666667</td>\n",
       "      <td>1.866667</td>\n",
       "      <td>4.466667</td>\n",
       "      <td>0.397467</td>\n",
       "      <td>0.533333</td>\n",
       "      <td>...</td>\n",
       "      <td>1.066667</td>\n",
       "      <td>1.466667</td>\n",
       "      <td>1.666667</td>\n",
       "      <td>0.733333</td>\n",
       "      <td>0.200000</td>\n",
       "      <td>0.800000</td>\n",
       "      <td>1.733333</td>\n",
       "      <td>4.800000</td>\n",
       "      <td>0.800000</td>\n",
       "      <td>11.466667</td>\n",
       "    </tr>\n",
       "    <tr>\n",
       "      <th>...</th>\n",
       "      <td>...</td>\n",
       "      <td>...</td>\n",
       "      <td>...</td>\n",
       "      <td>...</td>\n",
       "      <td>...</td>\n",
       "      <td>...</td>\n",
       "      <td>...</td>\n",
       "      <td>...</td>\n",
       "      <td>...</td>\n",
       "      <td>...</td>\n",
       "      <td>...</td>\n",
       "      <td>...</td>\n",
       "      <td>...</td>\n",
       "      <td>...</td>\n",
       "      <td>...</td>\n",
       "      <td>...</td>\n",
       "      <td>...</td>\n",
       "      <td>...</td>\n",
       "      <td>...</td>\n",
       "      <td>...</td>\n",
       "      <td>...</td>\n",
       "    </tr>\n",
       "    <tr>\n",
       "      <th>459</th>\n",
       "      <td>Yuta Watanabe</td>\n",
       "      <td>Brooklyn Nets</td>\n",
       "      <td>1629139.0</td>\n",
       "      <td>1.610613e+09</td>\n",
       "      <td>2.220012e+07</td>\n",
       "      <td>17.769231</td>\n",
       "      <td>2.769231</td>\n",
       "      <td>4.615385</td>\n",
       "      <td>0.532538</td>\n",
       "      <td>1.538462</td>\n",
       "      <td>...</td>\n",
       "      <td>2.153846</td>\n",
       "      <td>2.923077</td>\n",
       "      <td>0.769231</td>\n",
       "      <td>0.230769</td>\n",
       "      <td>0.538462</td>\n",
       "      <td>0.307692</td>\n",
       "      <td>1.076923</td>\n",
       "      <td>7.538462</td>\n",
       "      <td>-1.307692</td>\n",
       "      <td>16.692308</td>\n",
       "    </tr>\n",
       "    <tr>\n",
       "      <th>460</th>\n",
       "      <td>Zach Collins</td>\n",
       "      <td>San Antonio Spurs</td>\n",
       "      <td>1628380.0</td>\n",
       "      <td>1.610613e+09</td>\n",
       "      <td>2.220006e+07</td>\n",
       "      <td>17.555556</td>\n",
       "      <td>3.444444</td>\n",
       "      <td>6.555556</td>\n",
       "      <td>0.536667</td>\n",
       "      <td>0.777778</td>\n",
       "      <td>...</td>\n",
       "      <td>3.333333</td>\n",
       "      <td>4.666667</td>\n",
       "      <td>2.777778</td>\n",
       "      <td>0.666667</td>\n",
       "      <td>1.222222</td>\n",
       "      <td>1.888889</td>\n",
       "      <td>3.000000</td>\n",
       "      <td>8.333333</td>\n",
       "      <td>-1.888889</td>\n",
       "      <td>23.111111</td>\n",
       "    </tr>\n",
       "    <tr>\n",
       "      <th>461</th>\n",
       "      <td>Zach LaVine</td>\n",
       "      <td>Chicago Bulls</td>\n",
       "      <td>203897.0</td>\n",
       "      <td>1.610613e+09</td>\n",
       "      <td>2.220013e+07</td>\n",
       "      <td>33.166667</td>\n",
       "      <td>7.166667</td>\n",
       "      <td>17.250000</td>\n",
       "      <td>0.408750</td>\n",
       "      <td>2.833333</td>\n",
       "      <td>...</td>\n",
       "      <td>3.416667</td>\n",
       "      <td>3.916667</td>\n",
       "      <td>4.000000</td>\n",
       "      <td>1.083333</td>\n",
       "      <td>0.083333</td>\n",
       "      <td>2.166667</td>\n",
       "      <td>2.250000</td>\n",
       "      <td>20.666667</td>\n",
       "      <td>-3.083333</td>\n",
       "      <td>32.166667</td>\n",
       "    </tr>\n",
       "    <tr>\n",
       "      <th>462</th>\n",
       "      <td>Zeke Nnaji</td>\n",
       "      <td>Denver Nuggets</td>\n",
       "      <td>1630192.0</td>\n",
       "      <td>1.610613e+09</td>\n",
       "      <td>2.220012e+07</td>\n",
       "      <td>7.600000</td>\n",
       "      <td>1.400000</td>\n",
       "      <td>2.200000</td>\n",
       "      <td>0.547625</td>\n",
       "      <td>0.100000</td>\n",
       "      <td>...</td>\n",
       "      <td>0.400000</td>\n",
       "      <td>1.100000</td>\n",
       "      <td>0.100000</td>\n",
       "      <td>0.300000</td>\n",
       "      <td>0.000000</td>\n",
       "      <td>0.400000</td>\n",
       "      <td>1.500000</td>\n",
       "      <td>3.300000</td>\n",
       "      <td>-4.100000</td>\n",
       "      <td>5.600000</td>\n",
       "    </tr>\n",
       "    <tr>\n",
       "      <th>463</th>\n",
       "      <td>Zion Williamson</td>\n",
       "      <td>New Orleans Pelicans</td>\n",
       "      <td>1629627.0</td>\n",
       "      <td>1.610613e+09</td>\n",
       "      <td>2.220011e+07</td>\n",
       "      <td>32.363636</td>\n",
       "      <td>9.000000</td>\n",
       "      <td>15.909091</td>\n",
       "      <td>0.588727</td>\n",
       "      <td>0.272727</td>\n",
       "      <td>...</td>\n",
       "      <td>4.272727</td>\n",
       "      <td>6.363636</td>\n",
       "      <td>3.909091</td>\n",
       "      <td>1.090909</td>\n",
       "      <td>0.272727</td>\n",
       "      <td>2.727273</td>\n",
       "      <td>2.727273</td>\n",
       "      <td>23.545455</td>\n",
       "      <td>3.000000</td>\n",
       "      <td>38.000000</td>\n",
       "    </tr>\n",
       "  </tbody>\n",
       "</table>\n",
       "<p>464 rows × 26 columns</p>\n",
       "</div>"
      ],
      "text/plain": [
       "         PLAYER_NAME               TEAM_NAME  PLAYER_ID       TEAM_ID  \\\n",
       "0        A.J. Lawson  Minnesota Timberwolves  1630639.0  1.610613e+09   \n",
       "1           AJ Green         Milwaukee Bucks  1631260.0  1.610613e+09   \n",
       "2         AJ Griffin           Atlanta Hawks  1631100.0  1.610613e+09   \n",
       "3       Aaron Gordon          Denver Nuggets   203932.0  1.610613e+09   \n",
       "4      Aaron Holiday           Atlanta Hawks  1628988.0  1.610613e+09   \n",
       "..               ...                     ...        ...           ...   \n",
       "459    Yuta Watanabe           Brooklyn Nets  1629139.0  1.610613e+09   \n",
       "460     Zach Collins       San Antonio Spurs  1628380.0  1.610613e+09   \n",
       "461      Zach LaVine           Chicago Bulls   203897.0  1.610613e+09   \n",
       "462       Zeke Nnaji          Denver Nuggets  1630192.0  1.610613e+09   \n",
       "463  Zion Williamson    New Orleans Pelicans  1629627.0  1.610613e+09   \n",
       "\n",
       "          GAME_ID        MIN       FGM        FGA    FG_PCT      FG3M  ...  \\\n",
       "0    2.220021e+07   2.000000  1.000000   1.000000  1.000000  0.000000  ...   \n",
       "1    2.220012e+07   8.500000  0.500000   2.000000  0.250000  0.500000  ...   \n",
       "2    2.220014e+07  13.181818  2.727273   5.636364  0.428364  1.090909  ...   \n",
       "3    2.220010e+07  29.076923  5.538462   9.615385  0.550154  0.846154  ...   \n",
       "4    2.220011e+07  18.666667  1.866667   4.466667  0.397467  0.533333  ...   \n",
       "..            ...        ...       ...        ...       ...       ...  ...   \n",
       "459  2.220012e+07  17.769231  2.769231   4.615385  0.532538  1.538462  ...   \n",
       "460  2.220006e+07  17.555556  3.444444   6.555556  0.536667  0.777778  ...   \n",
       "461  2.220013e+07  33.166667  7.166667  17.250000  0.408750  2.833333  ...   \n",
       "462  2.220012e+07   7.600000  1.400000   2.200000  0.547625  0.100000  ...   \n",
       "463  2.220011e+07  32.363636  9.000000  15.909091  0.588727  0.272727  ...   \n",
       "\n",
       "         DREB       REB       AST       STL       BLK       TOV        PF  \\\n",
       "0    1.000000  1.000000  0.000000  0.000000  0.000000  0.000000  1.000000   \n",
       "1    1.000000  1.500000  0.500000  0.500000  0.000000  0.000000  1.000000   \n",
       "2    1.000000  1.727273  0.636364  0.636364  0.000000  0.636364  0.909091   \n",
       "3    4.615385  6.846154  2.538462  0.538462  0.846154  1.230769  1.461538   \n",
       "4    1.066667  1.466667  1.666667  0.733333  0.200000  0.800000  1.733333   \n",
       "..        ...       ...       ...       ...       ...       ...       ...   \n",
       "459  2.153846  2.923077  0.769231  0.230769  0.538462  0.307692  1.076923   \n",
       "460  3.333333  4.666667  2.777778  0.666667  1.222222  1.888889  3.000000   \n",
       "461  3.416667  3.916667  4.000000  1.083333  0.083333  2.166667  2.250000   \n",
       "462  0.400000  1.100000  0.100000  0.300000  0.000000  0.400000  1.500000   \n",
       "463  4.272727  6.363636  3.909091  1.090909  0.272727  2.727273  2.727273   \n",
       "\n",
       "           PTS  PLUS_MINUS    FANTASY  \n",
       "0     2.000000   -5.000000   4.000000  \n",
       "1     1.500000   -6.500000   5.500000  \n",
       "2     6.818182   -0.181818  12.000000  \n",
       "3    14.461538    5.384615  30.230769  \n",
       "4     4.800000    0.800000  11.466667  \n",
       "..         ...         ...        ...  \n",
       "459   7.538462   -1.307692  16.692308  \n",
       "460   8.333333   -1.888889  23.111111  \n",
       "461  20.666667   -3.083333  32.166667  \n",
       "462   3.300000   -4.100000   5.600000  \n",
       "463  23.545455    3.000000  38.000000  \n",
       "\n",
       "[464 rows x 26 columns]"
      ]
     },
     "execution_count": 73,
     "metadata": {},
     "output_type": "execute_result"
    }
   ],
   "source": [
    "\n",
    "means = boxdf.groupby(['PLAYER_NAME', 'TEAM_NAME'], as_index = False).mean()\n",
    "means"
   ]
  },
  {
   "cell_type": "code",
   "execution_count": 74,
   "metadata": {},
   "outputs": [
    {
     "data": {
      "text/plain": [
       "19.3436155974125"
      ]
     },
     "execution_count": 74,
     "metadata": {},
     "output_type": "execute_result"
    }
   ],
   "source": [
    "means['MIN'].mean()"
   ]
  },
  {
   "cell_type": "code",
   "execution_count": 75,
   "metadata": {},
   "outputs": [
    {
     "data": {
      "text/plain": [
       "Text(0.5, 0, 'Total Turnovers')"
      ]
     },
     "execution_count": 75,
     "metadata": {},
     "output_type": "execute_result"
    },
    {
     "data": {
      "image/png": "[encoded data removed]",
      "text/plain": [
       "<Figure size 432x288 with 1 Axes>"
      ]
     },
     "metadata": {},
     "output_type": "display_data"
    }
   ],
   "source": [
    "# Scatterplot for assists vs. turnovers\n",
    "fig = plt.figure()\n",
    "ax = fig.add_subplot(111)\n",
    "ax.scatter(totals['TOV'], totals['AST'])\n",
    "plt.axhline(y = totals['AST'].mean(), color = 'g', label = 'Average Total Turnovers')\n",
    "plt.axvline(x = totals['TOV'].mean(), color = 'r')\n",
    "plt.ylabel('Total Assists')\n",
    "plt.xlabel('Total Turnovers')\n",
    "\n",
    "# Need to put in a minutes minimum\n",
    "# For the app:choose which team to filter by"
   ]
  },
  {
   "cell_type": "code",
   "execution_count": 93,
   "metadata": {},
   "outputs": [
    {
     "data": {
      "application/vnd.plotly.v1+json": {
       "config": {
        "plotlyServerURL": "https://plot.ly"
       },
       "data": [
        {
         "customdata": [
          [
           "A.J. Lawson",
           "Minnesota Timberwolves"
          ],
          [
           "AJ Green",
           "Milwaukee Bucks"
          ],
          [
           "AJ Griffin",
           "Atlanta Hawks"
          ],
          [
           "Aaron Gordon",
           "Denver Nuggets"
          ],
          [
           "Aaron Holiday",
           "Atlanta Hawks"
          ],
          [
           "Aaron Nesmith",
           "Indiana Pacers"
          ],
          [
           "Aaron Wiggins",
           "Oklahoma City Thunder"
          ],
          [
           "Admiral Schofield",
           "Orlando Magic"
          ],
          [
           "Al Horford",
           "Boston Celtics"
          ],
          [
           "Alec Burks",
           "Detroit Pistons"
          ],
          [
           "Aleksej Pokusevski",
           "Oklahoma City Thunder"
          ],
          [
           "Alex Caruso",
           "Chicago Bulls"
          ],
          [
           "Alex Len",
           "Sacramento Kings"
          ],
          [
           "Alperen Sengun",
           "Houston Rockets"
          ],
          [
           "Amir Coffey",
           "LA Clippers"
          ],
          [
           "Andre Drummond",
           "Chicago Bulls"
          ],
          [
           "Andrew Nembhard",
           "Indiana Pacers"
          ],
          [
           "Andrew Wiggins",
           "Golden State Warriors"
          ],
          [
           "Anfernee Simons",
           "Portland Trail Blazers"
          ],
          [
           "Anthony Davis",
           "Los Angeles Lakers"
          ],
          [
           "Anthony Edwards",
           "Minnesota Timberwolves"
          ],
          [
           "Anthony Gill",
           "Washington Wizards"
          ],
          [
           "Anthony Lamb",
           "Golden State Warriors"
          ],
          [
           "Austin Reaves",
           "Los Angeles Lakers"
          ],
          [
           "Austin Rivers",
           "Minnesota Timberwolves"
          ],
          [
           "Ayo Dosunmu",
           "Chicago Bulls"
          ],
          [
           "Bam Adebayo",
           "Miami Heat"
          ],
          [
           "Ben Simmons",
           "Brooklyn Nets"
          ],
          [
           "Bennedict Mathurin",
           "Indiana Pacers"
          ],
          [
           "Bismack Biyombo",
           "Phoenix Suns"
          ],
          [
           "Blake Griffin",
           "Boston Celtics"
          ],
          [
           "Blake Wesley",
           "San Antonio Spurs"
          ],
          [
           "Boban Marjanovic",
           "Houston Rockets"
          ],
          [
           "Bobby Portis",
           "Milwaukee Bucks"
          ],
          [
           "Bojan Bogdanovic",
           "Detroit Pistons"
          ],
          [
           "Bol Bol",
           "Orlando Magic"
          ],
          [
           "Bones Hyland",
           "Denver Nuggets"
          ],
          [
           "Bradley Beal",
           "Washington Wizards"
          ],
          [
           "Brandon Boston Jr.",
           "LA Clippers"
          ],
          [
           "Brandon Clarke",
           "Memphis Grizzlies"
          ],
          [
           "Brandon Ingram",
           "New Orleans Pelicans"
          ],
          [
           "Braxton Key",
           "Detroit Pistons"
          ],
          [
           "Brook Lopez",
           "Milwaukee Bucks"
          ],
          [
           "Bruce Brown",
           "Denver Nuggets"
          ],
          [
           "Bruno Fernando",
           "Houston Rockets"
          ],
          [
           "Bryce McGowens",
           "Charlotte Hornets"
          ],
          [
           "Bryn Forbes",
           "Minnesota Timberwolves"
          ],
          [
           "Buddy Boeheim",
           "Detroit Pistons"
          ],
          [
           "Buddy Hield",
           "Indiana Pacers"
          ],
          [
           "CJ McCollum",
           "New Orleans Pelicans"
          ],
          [
           "Cade Cunningham",
           "Detroit Pistons"
          ],
          [
           "Caleb Houstan",
           "Orlando Magic"
          ],
          [
           "Caleb Martin",
           "Miami Heat"
          ],
          [
           "Cam Reddish",
           "New York Knicks"
          ],
          [
           "Cam Thomas",
           "Brooklyn Nets"
          ],
          [
           "Cameron Johnson",
           "Phoenix Suns"
          ],
          [
           "Cameron Payne",
           "Phoenix Suns"
          ],
          [
           "Caris LeVert",
           "Cleveland Cavaliers"
          ],
          [
           "Cedi Osman",
           "Cleveland Cavaliers"
          ],
          [
           "Charles Bassey",
           "San Antonio Spurs"
          ],
          [
           "Chima Moneke",
           "Sacramento Kings"
          ],
          [
           "Chimezie Metu",
           "Sacramento Kings"
          ],
          [
           "Chris Boucher",
           "Toronto Raptors"
          ],
          [
           "Chris Duarte",
           "Indiana Pacers"
          ],
          [
           "Chris Paul",
           "Phoenix Suns"
          ],
          [
           "Christian Braun",
           "Denver Nuggets"
          ],
          [
           "Christian Koloko",
           "Toronto Raptors"
          ],
          [
           "Christian Wood",
           "Dallas Mavericks"
          ],
          [
           "Chuma Okeke",
           "Orlando Magic"
          ],
          [
           "Clint Capela",
           "Atlanta Hawks"
          ],
          [
           "Coby White",
           "Chicago Bulls"
          ],
          [
           "Cody Martin",
           "Charlotte Hornets"
          ],
          [
           "Cole Anthony",
           "Orlando Magic"
          ],
          [
           "Cole Swider",
           "Los Angeles Lakers"
          ],
          [
           "Collin Sexton",
           "Utah Jazz"
          ],
          [
           "Corey Kispert",
           "Washington Wizards"
          ],
          [
           "Cory Joseph",
           "Detroit Pistons"
          ],
          [
           "D'Angelo Russell",
           "Minnesota Timberwolves"
          ],
          [
           "Daishen Nix",
           "Houston Rockets"
          ],
          [
           "Dalano Banton",
           "Toronto Raptors"
          ],
          [
           "Dalen Terry",
           "Chicago Bulls"
          ],
          [
           "Damian Jones",
           "Los Angeles Lakers"
          ],
          [
           "Damian Lillard",
           "Portland Trail Blazers"
          ],
          [
           "Damion Lee",
           "Phoenix Suns"
          ],
          [
           "Daniel Gafford",
           "Washington Wizards"
          ],
          [
           "Danuel House Jr.",
           "Philadelphia 76ers"
          ],
          [
           "Dario Saric",
           "Phoenix Suns"
          ],
          [
           "Darius Bazley",
           "Oklahoma City Thunder"
          ],
          [
           "Darius Garland",
           "Cleveland Cavaliers"
          ],
          [
           "David Duke Jr.",
           "Brooklyn Nets"
          ],
          [
           "David Roddy",
           "Memphis Grizzlies"
          ],
          [
           "Davion Mitchell",
           "Sacramento Kings"
          ],
          [
           "Davis Bertans",
           "Dallas Mavericks"
          ],
          [
           "Davon Reed",
           "Denver Nuggets"
          ],
          [
           "Day'Ron Sharpe",
           "Brooklyn Nets"
          ],
          [
           "De'Aaron Fox",
           "Sacramento Kings"
          ],
          [
           "De'Andre Hunter",
           "Atlanta Hawks"
          ],
          [
           "De'Anthony Melton",
           "Philadelphia 76ers"
          ],
          [
           "DeAndre Jordan",
           "Denver Nuggets"
          ],
          [
           "DeMar DeRozan",
           "Chicago Bulls"
          ],
          [
           "Dean Wade",
           "Cleveland Cavaliers"
          ],
          [
           "Deandre Ayton",
           "Phoenix Suns"
          ],
          [
           "Dejounte Murray",
           "Atlanta Hawks"
          ],
          [
           "Delon Wright",
           "Washington Wizards"
          ],
          [
           "Deni Avdija",
           "Washington Wizards"
          ],
          [
           "Dennis Schroder",
           "Los Angeles Lakers"
          ],
          [
           "Dennis Smith Jr.",
           "Charlotte Hornets"
          ],
          [
           "Dereon Seabron",
           "New Orleans Pelicans"
          ],
          [
           "Derrick Jones Jr.",
           "Chicago Bulls"
          ],
          [
           "Derrick Rose",
           "New York Knicks"
          ],
          [
           "Derrick White",
           "Boston Celtics"
          ],
          [
           "Desmond Bane",
           "Memphis Grizzlies"
          ],
          [
           "Devin Booker",
           "Phoenix Suns"
          ],
          [
           "Devin Vassell",
           "San Antonio Spurs"
          ],
          [
           "Devonte' Graham",
           "New Orleans Pelicans"
          ],
          [
           "Dewayne Dedmon",
           "Miami Heat"
          ],
          [
           "Dillon Brooks",
           "Memphis Grizzlies"
          ],
          [
           "Domantas Sabonis",
           "Sacramento Kings"
          ],
          [
           "Dominick Barlow",
           "San Antonio Spurs"
          ],
          [
           "Donovan Mitchell",
           "Cleveland Cavaliers"
          ],
          [
           "Donte DiVincenzo",
           "Golden State Warriors"
          ],
          [
           "Dorian Finney-Smith",
           "Dallas Mavericks"
          ],
          [
           "Doug McDermott",
           "San Antonio Spurs"
          ],
          [
           "Draymond Green",
           "Golden State Warriors"
          ],
          [
           "Drew Eubanks",
           "Portland Trail Blazers"
          ],
          [
           "Dru Smith",
           "Miami Heat"
          ],
          [
           "Duane Washington Jr.",
           "Phoenix Suns"
          ],
          [
           "Duncan Robinson",
           "Miami Heat"
          ],
          [
           "Dwight Powell",
           "Dallas Mavericks"
          ],
          [
           "Dyson Daniels",
           "New Orleans Pelicans"
          ],
          [
           "Edmond Sumner",
           "Brooklyn Nets"
          ],
          [
           "Eric Gordon",
           "Houston Rockets"
          ],
          [
           "Eugene Omoruyi",
           "Oklahoma City Thunder"
          ],
          [
           "Evan Fournier",
           "New York Knicks"
          ],
          [
           "Evan Mobley",
           "Cleveland Cavaliers"
          ],
          [
           "Facundo Campazzo",
           "Dallas Mavericks"
          ],
          [
           "Frank Kaminsky",
           "Atlanta Hawks"
          ],
          [
           "Frank Ntilikina",
           "Dallas Mavericks"
          ],
          [
           "Franz Wagner",
           "Orlando Magic"
          ],
          [
           "Fred VanVleet",
           "Toronto Raptors"
          ],
          [
           "Furkan Korkmaz",
           "Philadelphia 76ers"
          ],
          [
           "Gabe Vincent",
           "Miami Heat"
          ],
          [
           "Garrett Temple",
           "New Orleans Pelicans"
          ],
          [
           "Garrison Mathews",
           "Houston Rockets"
          ],
          [
           "Gary Harris",
           "Orlando Magic"
          ],
          [
           "Gary Trent Jr.",
           "Toronto Raptors"
          ],
          [
           "George Hill",
           "Milwaukee Bucks"
          ],
          [
           "Georges Niang",
           "Philadelphia 76ers"
          ],
          [
           "Giannis Antetokounmpo",
           "Milwaukee Bucks"
          ],
          [
           "Goga Bitadze",
           "Indiana Pacers"
          ],
          [
           "Goran Dragic",
           "Chicago Bulls"
          ],
          [
           "Gordon Hayward",
           "Charlotte Hornets"
          ],
          [
           "Gorgui Dieng",
           "San Antonio Spurs"
          ],
          [
           "Grant Williams",
           "Boston Celtics"
          ],
          [
           "Grayson Allen",
           "Milwaukee Bucks"
          ],
          [
           "Greg Brown III",
           "Portland Trail Blazers"
          ],
          [
           "Hamidou Diallo",
           "Detroit Pistons"
          ],
          [
           "Harrison Barnes",
           "Sacramento Kings"
          ],
          [
           "Haywood Highsmith",
           "Miami Heat"
          ],
          [
           "Herbert Jones",
           "New Orleans Pelicans"
          ],
          [
           "Immanuel Quickley",
           "New York Knicks"
          ],
          [
           "Isaac Okoro",
           "Cleveland Cavaliers"
          ],
          [
           "Isaiah Hartenstein",
           "New York Knicks"
          ],
          [
           "Isaiah Jackson",
           "Indiana Pacers"
          ],
          [
           "Isaiah Joe",
           "Oklahoma City Thunder"
          ],
          [
           "Isaiah Livers",
           "Detroit Pistons"
          ],
          [
           "Isaiah Mobley",
           "Cleveland Cavaliers"
          ],
          [
           "Isaiah Roby",
           "San Antonio Spurs"
          ],
          [
           "Isaiah Stewart",
           "Detroit Pistons"
          ],
          [
           "Isaiah Todd",
           "Washington Wizards"
          ],
          [
           "Ish Smith",
           "Denver Nuggets"
          ],
          [
           "Ish Wainright",
           "Phoenix Suns"
          ],
          [
           "Ivica Zubac",
           "LA Clippers"
          ],
          [
           "JD Davison",
           "Boston Celtics"
          ],
          [
           "JT Thor",
           "Charlotte Hornets"
          ],
          [
           "Ja Morant",
           "Memphis Grizzlies"
          ],
          [
           "JaMychal Green",
           "Golden State Warriors"
          ],
          [
           "JaVale McGee",
           "Dallas Mavericks"
          ],
          [
           "Jabari Smith Jr.",
           "Houston Rockets"
          ],
          [
           "Jabari Walker",
           "Portland Trail Blazers"
          ],
          [
           "Jack White",
           "Denver Nuggets"
          ],
          [
           "Jaden Hardy",
           "Dallas Mavericks"
          ],
          [
           "Jaden Ivey",
           "Detroit Pistons"
          ],
          [
           "Jaden McDaniels",
           "Minnesota Timberwolves"
          ],
          [
           "Jaden Springer",
           "Philadelphia 76ers"
          ],
          [
           "Jae'Sean Tate",
           "Houston Rockets"
          ],
          [
           "Jake LaRavia",
           "Memphis Grizzlies"
          ],
          [
           "Jakob Poeltl",
           "San Antonio Spurs"
          ],
          [
           "Jalen Brunson",
           "New York Knicks"
          ],
          [
           "Jalen Duren",
           "Detroit Pistons"
          ],
          [
           "Jalen Green",
           "Houston Rockets"
          ],
          [
           "Jalen Johnson",
           "Atlanta Hawks"
          ],
          [
           "Jalen McDaniels",
           "Charlotte Hornets"
          ],
          [
           "Jalen Smith",
           "Indiana Pacers"
          ],
          [
           "Jalen Suggs",
           "Orlando Magic"
          ],
          [
           "Jalen Williams",
           "Oklahoma City Thunder"
          ],
          [
           "Jamal Cain",
           "Miami Heat"
          ],
          [
           "Jamal Murray",
           "Denver Nuggets"
          ],
          [
           "James Bouknight",
           "Charlotte Hornets"
          ],
          [
           "James Harden",
           "Philadelphia 76ers"
          ],
          [
           "James Johnson",
           "Indiana Pacers"
          ],
          [
           "James Wiseman",
           "Golden State Warriors"
          ],
          [
           "Jaren Jackson Jr.",
           "Memphis Grizzlies"
          ],
          [
           "Jarred Vanderbilt",
           "Utah Jazz"
          ],
          [
           "Jarrett Allen",
           "Cleveland Cavaliers"
          ],
          [
           "Jarrett Culver",
           "Atlanta Hawks"
          ],
          [
           "Jason Preston",
           "LA Clippers"
          ],
          [
           "Javonte Green",
           "Chicago Bulls"
          ],
          [
           "Jaxson Hayes",
           "New Orleans Pelicans"
          ],
          [
           "Jaylen Brown",
           "Boston Celtics"
          ],
          [
           "Jaylen Nowell",
           "Minnesota Timberwolves"
          ],
          [
           "Jaylin Williams",
           "Oklahoma City Thunder"
          ],
          [
           "Jayson Tatum",
           "Boston Celtics"
          ],
          [
           "Jeff Dowtin Jr.",
           "Toronto Raptors"
          ],
          [
           "Jeff Green",
           "Denver Nuggets"
          ],
          [
           "Jerami Grant",
           "Portland Trail Blazers"
          ],
          [
           "Jeremiah Robinson-Earl",
           "Oklahoma City Thunder"
          ],
          [
           "Jeremy Sochan",
           "San Antonio Spurs"
          ],
          [
           "Jericho Sims",
           "New York Knicks"
          ],
          [
           "Jevon Carter",
           "Milwaukee Bucks"
          ],
          [
           "Jimmy Butler",
           "Miami Heat"
          ],
          [
           "Jock Landale",
           "Phoenix Suns"
          ],
          [
           "Joe Harris",
           "Brooklyn Nets"
          ],
          [
           "Joel Embiid",
           "Philadelphia 76ers"
          ],
          [
           "John Butler Jr.",
           "Portland Trail Blazers"
          ],
          [
           "John Collins",
           "Atlanta Hawks"
          ],
          [
           "John Konchar",
           "Memphis Grizzlies"
          ],
          [
           "John Wall",
           "LA Clippers"
          ],
          [
           "Johnny Davis",
           "Washington Wizards"
          ],
          [
           "Jonas Valanciunas",
           "New Orleans Pelicans"
          ],
          [
           "Jonathan Kuminga",
           "Golden State Warriors"
          ],
          [
           "Jordan Clarkson",
           "Utah Jazz"
          ],
          [
           "Jordan Goodwin",
           "Washington Wizards"
          ],
          [
           "Jordan Hall",
           "San Antonio Spurs"
          ],
          [
           "Jordan McLaughlin",
           "Minnesota Timberwolves"
          ],
          [
           "Jordan Nwora",
           "Milwaukee Bucks"
          ],
          [
           "Jordan Poole",
           "Golden State Warriors"
          ],
          [
           "Jordan Schakel",
           "Washington Wizards"
          ],
          [
           "Jose Alvarado",
           "New Orleans Pelicans"
          ],
          [
           "Josh Christopher",
           "Houston Rockets"
          ],
          [
           "Josh Giddey",
           "Oklahoma City Thunder"
          ],
          [
           "Josh Green",
           "Dallas Mavericks"
          ],
          [
           "Josh Hart",
           "Portland Trail Blazers"
          ],
          [
           "Josh Okogie",
           "Phoenix Suns"
          ],
          [
           "Josh Richardson",
           "San Antonio Spurs"
          ],
          [
           "Joshua Primo",
           "San Antonio Spurs"
          ],
          [
           "Jrue Holiday",
           "Milwaukee Bucks"
          ],
          [
           "Juan Toscano-Anderson",
           "Los Angeles Lakers"
          ],
          [
           "Juancho Hernangomez",
           "Toronto Raptors"
          ],
          [
           "Julius Randle",
           "New York Knicks"
          ],
          [
           "Justin Champagnie",
           "Toronto Raptors"
          ],
          [
           "Justin Holiday",
           "Atlanta Hawks"
          ],
          [
           "Justin Jackson",
           "Boston Celtics"
          ],
          [
           "Justise Winslow",
           "Portland Trail Blazers"
          ],
          [
           "Jusuf Nurkic",
           "Portland Trail Blazers"
          ],
          [
           "KZ Okpala",
           "Sacramento Kings"
          ],
          [
           "Kai Jones",
           "Charlotte Hornets"
          ],
          [
           "Karl-Anthony Towns",
           "Minnesota Timberwolves"
          ],
          [
           "Kawhi Leonard",
           "LA Clippers"
          ],
          [
           "Keegan Murray",
           "Sacramento Kings"
          ],
          [
           "Keita Bates-Diop",
           "San Antonio Spurs"
          ],
          [
           "Keldon Johnson",
           "San Antonio Spurs"
          ],
          [
           "Kelly Olynyk",
           "Utah Jazz"
          ],
          [
           "Kelly Oubre Jr.",
           "Charlotte Hornets"
          ],
          [
           "Kendrick Nunn",
           "Los Angeles Lakers"
          ],
          [
           "Kennedy Chandler",
           "Memphis Grizzlies"
          ],
          [
           "Kenneth Lofton Jr.",
           "Memphis Grizzlies"
          ],
          [
           "Kenrich Williams",
           "Oklahoma City Thunder"
          ],
          [
           "Kentavious Caldwell-Pope",
           "Denver Nuggets"
          ],
          [
           "Kenyon Martin Jr.",
           "Houston Rockets"
          ],
          [
           "Keon Ellis",
           "Sacramento Kings"
          ],
          [
           "Keon Johnson",
           "Portland Trail Blazers"
          ],
          [
           "Kessler Edwards",
           "Brooklyn Nets"
          ],
          [
           "Kevin Durant",
           "Brooklyn Nets"
          ],
          [
           "Kevin Huerter",
           "Sacramento Kings"
          ],
          [
           "Kevin Knox II",
           "Detroit Pistons"
          ],
          [
           "Kevin Love",
           "Cleveland Cavaliers"
          ],
          [
           "Kevin Porter Jr.",
           "Houston Rockets"
          ],
          [
           "Kevon Harris",
           "Orlando Magic"
          ],
          [
           "Kevon Looney",
           "Golden State Warriors"
          ],
          [
           "Khem Birch",
           "Toronto Raptors"
          ],
          [
           "Killian Hayes",
           "Detroit Pistons"
          ],
          [
           "Klay Thompson",
           "Golden State Warriors"
          ],
          [
           "Kristaps Porzingis",
           "Washington Wizards"
          ],
          [
           "Kyle Anderson",
           "Minnesota Timberwolves"
          ],
          [
           "Kyle Kuzma",
           "Washington Wizards"
          ],
          [
           "Kyle Lowry",
           "Miami Heat"
          ],
          [
           "Kyrie Irving",
           "Brooklyn Nets"
          ],
          [
           "LaMelo Ball",
           "Charlotte Hornets"
          ],
          [
           "Lamar Stevens",
           "Cleveland Cavaliers"
          ],
          [
           "Landry Shamet",
           "Phoenix Suns"
          ],
          [
           "Larry Nance Jr.",
           "New Orleans Pelicans"
          ],
          [
           "Lauri Markkanen",
           "Utah Jazz"
          ],
          [
           "LeBron James",
           "Los Angeles Lakers"
          ],
          [
           "Leandro Bolmaro",
           "Utah Jazz"
          ],
          [
           "Lindy Waters III",
           "Oklahoma City Thunder"
          ],
          [
           "Lonnie Walker IV",
           "Los Angeles Lakers"
          ],
          [
           "Luguentz Dort",
           "Oklahoma City Thunder"
          ],
          [
           "Luka Doncic",
           "Dallas Mavericks"
          ],
          [
           "Luke Kennard",
           "LA Clippers"
          ],
          [
           "Luke Kornet",
           "Boston Celtics"
          ],
          [
           "Malachi Flynn",
           "Toronto Raptors"
          ],
          [
           "Malaki Branham",
           "San Antonio Spurs"
          ],
          [
           "Malcolm Brogdon",
           "Boston Celtics"
          ],
          [
           "Malcolm Hill",
           "Chicago Bulls"
          ],
          [
           "Malik Beasley",
           "Utah Jazz"
          ],
          [
           "Malik Monk",
           "Sacramento Kings"
          ],
          [
           "Mamadi Diakite",
           "Cleveland Cavaliers"
          ],
          [
           "MarJon Beauchamp",
           "Milwaukee Bucks"
          ],
          [
           "Marcus Morris Sr.",
           "LA Clippers"
          ],
          [
           "Marcus Smart",
           "Boston Celtics"
          ],
          [
           "Mark Williams",
           "Charlotte Hornets"
          ],
          [
           "Markieff Morris",
           "Brooklyn Nets"
          ],
          [
           "Marko Simonovic",
           "Chicago Bulls"
          ],
          [
           "Marvin Bagley III",
           "Detroit Pistons"
          ],
          [
           "Mason Plumlee",
           "Charlotte Hornets"
          ],
          [
           "Matisse Thybulle",
           "Philadelphia 76ers"
          ],
          [
           "Matt Ryan",
           "Los Angeles Lakers"
          ],
          [
           "Matthew Dellavedova",
           "Sacramento Kings"
          ],
          [
           "Max Christie",
           "Los Angeles Lakers"
          ],
          [
           "Max Strus",
           "Miami Heat"
          ],
          [
           "Maxi Kleber",
           "Dallas Mavericks"
          ],
          [
           "McKinley Wright IV",
           "Dallas Mavericks"
          ],
          [
           "Micah Potter",
           "Utah Jazz"
          ],
          [
           "Michael Porter Jr.",
           "Denver Nuggets"
          ],
          [
           "Mikal Bridges",
           "Phoenix Suns"
          ],
          [
           "Mike Conley",
           "Utah Jazz"
          ],
          [
           "Mike Muscala",
           "Oklahoma City Thunder"
          ],
          [
           "Miles McBride",
           "New York Knicks"
          ],
          [
           "Mitchell Robinson",
           "New York Knicks"
          ],
          [
           "Mo Bamba",
           "Orlando Magic"
          ],
          [
           "Monte Morris",
           "Washington Wizards"
          ],
          [
           "Montrezl Harrell",
           "Philadelphia 76ers"
          ],
          [
           "Moses Brown",
           "LA Clippers"
          ],
          [
           "Moses Moody",
           "Golden State Warriors"
          ],
          [
           "Moussa Diabate",
           "LA Clippers"
          ],
          [
           "Myles Turner",
           "Indiana Pacers"
          ],
          [
           "Naji Marshall",
           "New Orleans Pelicans"
          ],
          [
           "Nassir Little",
           "Portland Trail Blazers"
          ],
          [
           "Nathan Knight",
           "Minnesota Timberwolves"
          ],
          [
           "Naz Reid",
           "Minnesota Timberwolves"
          ],
          [
           "Nerlens Noel",
           "Detroit Pistons"
          ],
          [
           "Nic Claxton",
           "Brooklyn Nets"
          ],
          [
           "Nick Richards",
           "Charlotte Hornets"
          ],
          [
           "Nickeil Alexander-Walker",
           "Utah Jazz"
          ],
          [
           "Nicolas Batum",
           "LA Clippers"
          ],
          [
           "Nikola Jokic",
           "Denver Nuggets"
          ],
          [
           "Nikola Jovic",
           "Miami Heat"
          ],
          [
           "Nikola Vucevic",
           "Chicago Bulls"
          ],
          [
           "Noah Vonleh",
           "Boston Celtics"
          ],
          [
           "Norman Powell",
           "LA Clippers"
          ],
          [
           "O.G. Anunoby",
           "Toronto Raptors"
          ],
          [
           "Obi Toppin",
           "New York Knicks"
          ],
          [
           "Ochai Agbaji",
           "Utah Jazz"
          ],
          [
           "Onyeka Okongwu",
           "Atlanta Hawks"
          ],
          [
           "Orlando Robinson",
           "Miami Heat"
          ],
          [
           "Oshae Brissett",
           "Indiana Pacers"
          ],
          [
           "Otto Porter Jr.",
           "Toronto Raptors"
          ],
          [
           "Ousmane Dieng",
           "Oklahoma City Thunder"
          ],
          [
           "P.J. Tucker",
           "Philadelphia 76ers"
          ],
          [
           "P.J. Washington",
           "Charlotte Hornets"
          ],
          [
           "Paolo Banchero",
           "Orlando Magic"
          ],
          [
           "Pascal Siakam",
           "Toronto Raptors"
          ],
          [
           "Patrick Baldwin Jr.",
           "Golden State Warriors"
          ],
          [
           "Patrick Beverley",
           "Los Angeles Lakers"
          ],
          [
           "Patrick Williams",
           "Chicago Bulls"
          ],
          [
           "Patty Mills",
           "Brooklyn Nets"
          ],
          [
           "Paul George",
           "LA Clippers"
          ],
          [
           "Paul Reed",
           "Philadelphia 76ers"
          ],
          [
           "Payton Pritchard",
           "Boston Celtics"
          ],
          [
           "Peyton Watson",
           "Denver Nuggets"
          ],
          [
           "Precious Achiuwa",
           "Toronto Raptors"
          ],
          [
           "Quentin Grimes",
           "New York Knicks"
          ],
          [
           "R.J. Hampton",
           "Orlando Magic"
          ],
          [
           "RJ Barrett",
           "New York Knicks"
          ],
          [
           "Raul Neto",
           "Cleveland Cavaliers"
          ],
          [
           "Reggie Bullock",
           "Dallas Mavericks"
          ],
          [
           "Reggie Jackson",
           "LA Clippers"
          ],
          [
           "Richaun Holmes",
           "Sacramento Kings"
          ],
          [
           "Robert Covington",
           "LA Clippers"
          ],
          [
           "Robin Lopez",
           "Cleveland Cavaliers"
          ],
          [
           "Rodney McGruder",
           "Detroit Pistons"
          ],
          [
           "Romeo Langford",
           "San Antonio Spurs"
          ],
          [
           "Ron Harper Jr.",
           "Toronto Raptors"
          ],
          [
           "Royce O'Neale",
           "Brooklyn Nets"
          ],
          [
           "Rudy Gay",
           "Utah Jazz"
          ],
          [
           "Rudy Gobert",
           "Minnesota Timberwolves"
          ],
          [
           "Rui Hachimura",
           "Washington Wizards"
          ],
          [
           "Russell Westbrook",
           "Los Angeles Lakers"
          ],
          [
           "Ryan Arcidiacono",
           "New York Knicks"
          ],
          [
           "Ryan Rollins",
           "Golden State Warriors"
          ],
          [
           "Saddiq Bey",
           "Detroit Pistons"
          ],
          [
           "Sam Hauser",
           "Boston Celtics"
          ],
          [
           "Sandro Mamukelashvili",
           "Milwaukee Bucks"
          ],
          [
           "Santi Aldama",
           "Memphis Grizzlies"
          ],
          [
           "Scottie Barnes",
           "Toronto Raptors"
          ],
          [
           "Scotty Pippen Jr.",
           "Los Angeles Lakers"
          ],
          [
           "Serge Ibaka",
           "Milwaukee Bucks"
          ],
          [
           "Seth Curry",
           "Brooklyn Nets"
          ],
          [
           "Shaedon Sharpe",
           "Portland Trail Blazers"
          ],
          [
           "Shai Gilgeous-Alexander",
           "Oklahoma City Thunder"
          ],
          [
           "Shake Milton",
           "Philadelphia 76ers"
          ],
          [
           "Simone Fontecchio",
           "Utah Jazz"
          ],
          [
           "Spencer Dinwiddie",
           "Dallas Mavericks"
          ],
          [
           "Stephen Curry",
           "Golden State Warriors"
          ],
          [
           "Steven Adams",
           "Memphis Grizzlies"
          ],
          [
           "Svi Mykhailiuk",
           "New York Knicks"
          ],
          [
           "T.J. McConnell",
           "Indiana Pacers"
          ],
          [
           "Taj Gibson",
           "Washington Wizards"
          ],
          [
           "Talen Horton-Tucker",
           "Utah Jazz"
          ],
          [
           "Tari Eason",
           "Houston Rockets"
          ],
          [
           "Taurean Prince",
           "Minnesota Timberwolves"
          ],
          [
           "Terance Mann",
           "LA Clippers"
          ],
          [
           "Terence Davis",
           "Sacramento Kings"
          ],
          [
           "Terrence Ross",
           "Orlando Magic"
          ],
          [
           "Terry Rozier",
           "Charlotte Hornets"
          ],
          [
           "Terry Taylor",
           "Indiana Pacers"
          ],
          [
           "Thaddeus Young",
           "Toronto Raptors"
          ],
          [
           "Thanasis Antetokounmpo",
           "Milwaukee Bucks"
          ],
          [
           "Theo Maledon",
           "Charlotte Hornets"
          ],
          [
           "Theo Pinson",
           "Dallas Mavericks"
          ],
          [
           "Thomas Bryant",
           "Los Angeles Lakers"
          ],
          [
           "Tim Hardaway Jr.",
           "Dallas Mavericks"
          ],
          [
           "Tobias Harris",
           "Philadelphia 76ers"
          ],
          [
           "Tony Bradley",
           "Chicago Bulls"
          ],
          [
           "Torrey Craig",
           "Phoenix Suns"
          ],
          [
           "Trae Young",
           "Atlanta Hawks"
          ],
          [
           "Tre Jones",
           "San Antonio Spurs"
          ],
          [
           "Tre Mann",
           "Oklahoma City Thunder"
          ],
          [
           "Trendon Watford",
           "Portland Trail Blazers"
          ],
          [
           "Trent Forrest",
           "Atlanta Hawks"
          ],
          [
           "Trevor Hudgins",
           "Houston Rockets"
          ],
          [
           "Trevor Keels",
           "New York Knicks"
          ],
          [
           "Trey Lyles",
           "Sacramento Kings"
          ],
          [
           "Trey Murphy III",
           "New Orleans Pelicans"
          ],
          [
           "Troy Brown Jr.",
           "Los Angeles Lakers"
          ],
          [
           "Ty Jerome",
           "Golden State Warriors"
          ],
          [
           "TyTy Washington Jr.",
           "Houston Rockets"
          ],
          [
           "Tyler Dorsey",
           "Dallas Mavericks"
          ],
          [
           "Tyler Herro",
           "Miami Heat"
          ],
          [
           "Tyrese Haliburton",
           "Indiana Pacers"
          ],
          [
           "Tyrese Martin",
           "Atlanta Hawks"
          ],
          [
           "Tyrese Maxey",
           "Philadelphia 76ers"
          ],
          [
           "Tyus Jones",
           "Memphis Grizzlies"
          ],
          [
           "Udoka Azubuike",
           "Utah Jazz"
          ],
          [
           "Udonis Haslem",
           "Miami Heat"
          ],
          [
           "Usman Garuba",
           "Houston Rockets"
          ],
          [
           "Vernon Carey Jr.",
           "Washington Wizards"
          ],
          [
           "Vince Williams Jr.",
           "Memphis Grizzlies"
          ],
          [
           "Vit Krejci",
           "Atlanta Hawks"
          ],
          [
           "Vlatko Cancar",
           "Denver Nuggets"
          ],
          [
           "Walker Kessler",
           "Utah Jazz"
          ],
          [
           "Wendell Carter Jr.",
           "Orlando Magic"
          ],
          [
           "Wendell Moore Jr.",
           "Minnesota Timberwolves"
          ],
          [
           "Wenyen Gabriel",
           "Los Angeles Lakers"
          ],
          [
           "Wesley Matthews",
           "Milwaukee Bucks"
          ],
          [
           "Will Barton",
           "Washington Wizards"
          ],
          [
           "Willy Hernangomez",
           "New Orleans Pelicans"
          ],
          [
           "Xavier Tillman",
           "Memphis Grizzlies"
          ],
          [
           "Yuta Watanabe",
           "Brooklyn Nets"
          ],
          [
           "Zach Collins",
           "San Antonio Spurs"
          ],
          [
           "Zach LaVine",
           "Chicago Bulls"
          ],
          [
           "Zeke Nnaji",
           "Denver Nuggets"
          ],
          [
           "Zion Williamson",
           "New Orleans Pelicans"
          ]
         ],
         "hovertemplate": "TOV=%{x}<br>AST=%{y}<br>PLAYER_NAME=%{customdata[0]}<br>TEAM_NAME=%{customdata[1]}<extra></extra>",
         "legendgroup": "",
         "marker": {
          "color": "#636efa",
          "symbol": "circle"
         },
         "mode": "markers",
         "name": "",
         "orientation": "v",
         "showlegend": false,
         "type": "scatter",
         "x": [
          0,
          0,
          7,
          16,
          12,
          10,
          10,
          1,
          12,
          3,
          21,
          27,
          0,
          30,
          4,
          16,
          12,
          21,
          27,
          23,
          44,
          2,
          10,
          14,
          1,
          26,
          50,
          23,
          32,
          7,
          4,
          2,
          2,
          15,
          35,
          33,
          22,
          32,
          0,
          19,
          33,
          0,
          22,
          24,
          1,
          1,
          3,
          0,
          28,
          34,
          39,
          4,
          17,
          11,
          11,
          2,
          27,
          28,
          12,
          14,
          2,
          7,
          14,
          8,
          15,
          5,
          11,
          31,
          9,
          16,
          7,
          0,
          8,
          0,
          27,
          6,
          5,
          43,
          19,
          10,
          4,
          5,
          40,
          9,
          17,
          6,
          4,
          6,
          31,
          9,
          9,
          17,
          0,
          8,
          8,
          36,
          19,
          16,
          19,
          34,
          4,
          30,
          35,
          4,
          22,
          1,
          21,
          0,
          3,
          16,
          11,
          27,
          39,
          19,
          7,
          8,
          18,
          32,
          0,
          45,
          12,
          15,
          17,
          36,
          12,
          0,
          2,
          9,
          9,
          3,
          18,
          27,
          4,
          14,
          32,
          3,
          1,
          1,
          44,
          17,
          2,
          22,
          0,
          5,
          0,
          14,
          12,
          12,
          45,
          7,
          22,
          22,
          7,
          13,
          20,
          2,
          12,
          14,
          4,
          12,
          22,
          13,
          16,
          15,
          4,
          9,
          0,
          4,
          16,
          0,
          4,
          0,
          37,
          1,
          9,
          53,
          13,
          13,
          17,
          2,
          0,
          2,
          41,
          22,
          0,
          5,
          9,
          39,
          28,
          15,
          49,
          7,
          24,
          21,
          39,
          17,
          0,
          28,
          16,
          26,
          1,
          8,
          4,
          27,
          19,
          0,
          0,
          10,
          1,
          50,
          13,
          2,
          38,
          1,
          16,
          30,
          9,
          19,
          4,
          21,
          22,
          12,
          10,
          47,
          0,
          21,
          8,
          24,
          1,
          26,
          13,
          41,
          8,
          6,
          8,
          13,
          46,
          0,
          20,
          8,
          45,
          10,
          25,
          6,
          28,
          11,
          34,
          8,
          5,
          50,
          0,
          8,
          0,
          15,
          28,
          0,
          0,
          43,
          4,
          19,
          14,
          41,
          45,
          21,
          16,
          6,
          0,
          6,
          17,
          20,
          0,
          13,
          0,
          52,
          20,
          5,
          17,
          60,
          8,
          7,
          2,
          26,
          22,
          26,
          11,
          43,
          38,
          19,
          11,
          1,
          8,
          17,
          33,
          34,
          2,
          0,
          14,
          17,
          44,
          15,
          7,
          5,
          3,
          23,
          0,
          14,
          23,
          1,
          15,
          13,
          23,
          2,
          7,
          0,
          4,
          32,
          2,
          3,
          3,
          2,
          18,
          8,
          0,
          0,
          15,
          19,
          25,
          7,
          0,
          5,
          11,
          13,
          5,
          1,
          15,
          0,
          17,
          15,
          10,
          2,
          7,
          3,
          23,
          13,
          5,
          14,
          41,
          4,
          37,
          9,
          28,
          38,
          16,
          0,
          9,
          1,
          4,
          4,
          3,
          17,
          29,
          33,
          24,
          0,
          13,
          24,
          4,
          58,
          3,
          10,
          0,
          15,
          2,
          13,
          34,
          4,
          7,
          34,
          5,
          7,
          4,
          0,
          5,
          0,
          22,
          10,
          20,
          22,
          49,
          0,
          7,
          24,
          3,
          1,
          10,
          33,
          1,
          8,
          6,
          11,
          48,
          15,
          4,
          23,
          41,
          34,
          1,
          24,
          2,
          18,
          15,
          13,
          12,
          8,
          20,
          26,
          1,
          8,
          2,
          17,
          0,
          0,
          15,
          15,
          0,
          11,
          48,
          29,
          13,
          8,
          0,
          0,
          0,
          12,
          11,
          10,
          2,
          0,
          0,
          21,
          40,
          0,
          30,
          17,
          2,
          0,
          14,
          0,
          0,
          0,
          1,
          9,
          39,
          1,
          9,
          6,
          18,
          5,
          7,
          4,
          17,
          26,
          4,
          30
         ],
         "xaxis": "x",
         "y": [
          0,
          1,
          7,
          33,
          25,
          15,
          26,
          3,
          31,
          8,
          23,
          60,
          0,
          28,
          8,
          8,
          41,
          34,
          49,
          32,
          58,
          9,
          12,
          27,
          2,
          45,
          47,
          63,
          29,
          6,
          6,
          4,
          1,
          31,
          40,
          10,
          41,
          65,
          0,
          22,
          54,
          0,
          16,
          64,
          9,
          1,
          8,
          0,
          43,
          102,
          72,
          5,
          30,
          16,
          23,
          14,
          54,
          74,
          27,
          13,
          1,
          9,
          9,
          9,
          94,
          15,
          8,
          12,
          25,
          10,
          14,
          0,
          17,
          1,
          31,
          15,
          29,
          93,
          29,
          17,
          5,
          3,
          70,
          15,
          8,
          11,
          7,
          17,
          70,
          6,
          10,
          28,
          0,
          1,
          9,
          83,
          14,
          38,
          12,
          68,
          11,
          27,
          114,
          13,
          32,
          2,
          80,
          0,
          8,
          36,
          54,
          57,
          91,
          40,
          34,
          8,
          30,
          83,
          3,
          76,
          13,
          11,
          18,
          101,
          12,
          0,
          7,
          21,
          8,
          9,
          20,
          41,
          2,
          22,
          35,
          8,
          4,
          3,
          74,
          76,
          3,
          47,
          1,
          5,
          1,
          20,
          39,
          10,
          64,
          12,
          61,
          40,
          13,
          25,
          31,
          0,
          14,
          30,
          2,
          25,
          51,
          6,
          13,
          17,
          6,
          9,
          0,
          15,
          19,
          0,
          2,
          0,
          23,
          1,
          8,
          99,
          10,
          3,
          12,
          8,
          0,
          1,
          67,
          18,
          0,
          10,
          9,
          59,
          108,
          4,
          55,
          10,
          39,
          18,
          60,
          37,
          1,
          58,
          23,
          90,
          4,
          11,
          0,
          44,
          16,
          0,
          0,
          14,
          3,
          52,
          32,
          3,
          72,
          4,
          19,
          36,
          11,
          28,
          5,
          54,
          79,
          11,
          29,
          49,
          0,
          14,
          18,
          59,
          2,
          34,
          8,
          79,
          26,
          8,
          49,
          16,
          72,
          1,
          47,
          7,
          74,
          14,
          64,
          3,
          46,
          18,
          83,
          5,
          10,
          51,
          0,
          15,
          1,
          42,
          26,
          3,
          2,
          78,
          8,
          13,
          11,
          50,
          51,
          20,
          15,
          12,
          1,
          23,
          35,
          24,
          0,
          10,
          2,
          83,
          47,
          2,
          39,
          87,
          6,
          50,
          3,
          62,
          31,
          40,
          30,
          52,
          98,
          41,
          21,
          2,
          11,
          33,
          40,
          69,
          2,
          2,
          22,
          36,
          113,
          8,
          14,
          9,
          8,
          43,
          0,
          19,
          59,
          0,
          6,
          31,
          99,
          0,
          9,
          0,
          1,
          68,
          8,
          3,
          8,
          4,
          29,
          11,
          2,
          1,
          19,
          51,
          131,
          10,
          3,
          8,
          16,
          80,
          5,
          0,
          9,
          1,
          14,
          25,
          13,
          0,
          4,
          3,
          20,
          12,
          10,
          20,
          116,
          2,
          47,
          4,
          22,
          31,
          18,
          1,
          16,
          0,
          3,
          8,
          15,
          13,
          34,
          40,
          69,
          0,
          35,
          13,
          15,
          68,
          1,
          12,
          0,
          16,
          2,
          17,
          48,
          13,
          16,
          65,
          0,
          9,
          3,
          1,
          3,
          0,
          69,
          10,
          13,
          17,
          98,
          1,
          2,
          27,
          10,
          1,
          15,
          74,
          0,
          4,
          14,
          5,
          89,
          20,
          2,
          73,
          99,
          36,
          0,
          44,
          4,
          44,
          16,
          18,
          23,
          21,
          22,
          54,
          5,
          19,
          2,
          34,
          1,
          0,
          32,
          40,
          0,
          22,
          130,
          100,
          29,
          14,
          5,
          0,
          0,
          10,
          21,
          10,
          15,
          0,
          0,
          26,
          143,
          0,
          66,
          63,
          1,
          0,
          17,
          0,
          2,
          1,
          2,
          11,
          49,
          0,
          8,
          8,
          37,
          1,
          6,
          10,
          25,
          48,
          1,
          43
         ],
         "yaxis": "y"
        }
       ],
       "layout": {
        "height": 500,
        "legend": {
         "tracegroupgap": 0
        },
        "template": {
         "data": {
          "bar": [
           {
            "error_x": {
             "color": "#2a3f5f"
            },
            "error_y": {
             "color": "#2a3f5f"
            },
            "marker": {
             "line": {
              "color": "#E5ECF6",
              "width": 0.5
             },
             "pattern": {
              "fillmode": "overlay",
              "size": 10,
              "solidity": 0.2
             }
            },
            "type": "bar"
           }
          ],
          "barpolar": [
           {
            "marker": {
             "line": {
              "color": "#E5ECF6",
              "width": 0.5
             },
             "pattern": {
              "fillmode": "overlay",
              "size": 10,
              "solidity": 0.2
             }
            },
            "type": "barpolar"
           }
          ],
          "carpet": [
           {
            "aaxis": {
             "endlinecolor": "#2a3f5f",
             "gridcolor": "white",
             "linecolor": "white",
             "minorgridcolor": "white",
             "startlinecolor": "#2a3f5f"
            },
            "baxis": {
             "endlinecolor": "#2a3f5f",
             "gridcolor": "white",
             "linecolor": "white",
             "minorgridcolor": "white",
             "startlinecolor": "#2a3f5f"
            },
            "type": "carpet"
           }
          ],
          "choropleth": [
           {
            "colorbar": {
             "outlinewidth": 0,
             "ticks": ""
            },
            "type": "choropleth"
           }
          ],
          "contour": [
           {
            "colorbar": {
             "outlinewidth": 0,
             "ticks": ""
            },
            "colorscale": [
             [
              0,
              "#0d0887"
             ],
             [
              0.1111111111111111,
              "#46039f"
             ],
             [
              0.2222222222222222,
              "#7201a8"
             ],
             [
              0.3333333333333333,
              "#9c179e"
             ],
             [
              0.4444444444444444,
              "#bd3786"
             ],
             [
              0.5555555555555556,
              "#d8576b"
             ],
             [
              0.6666666666666666,
              "#ed7953"
             ],
             [
              0.7777777777777778,
              "#fb9f3a"
             ],
             [
              0.8888888888888888,
              "#fdca26"
             ],
             [
              1,
              "#f0f921"
             ]
            ],
            "type": "contour"
           }
          ],
          "contourcarpet": [
           {
            "colorbar": {
             "outlinewidth": 0,
             "ticks": ""
            },
            "type": "contourcarpet"
           }
          ],
          "heatmap": [
           {
            "colorbar": {
             "outlinewidth": 0,
             "ticks": ""
            },
            "colorscale": [
             [
              0,
              "#0d0887"
             ],
             [
              0.1111111111111111,
              "#46039f"
             ],
             [
              0.2222222222222222,
              "#7201a8"
             ],
             [
              0.3333333333333333,
              "#9c179e"
             ],
             [
              0.4444444444444444,
              "#bd3786"
             ],
             [
              0.5555555555555556,
              "#d8576b"
             ],
             [
              0.6666666666666666,
              "#ed7953"
             ],
             [
              0.7777777777777778,
              "#fb9f3a"
             ],
             [
              0.8888888888888888,
              "#fdca26"
             ],
             [
              1,
              "#f0f921"
             ]
            ],
            "type": "heatmap"
           }
          ],
          "heatmapgl": [
           {
            "colorbar": {
             "outlinewidth": 0,
             "ticks": ""
            },
            "colorscale": [
             [
              0,
              "#0d0887"
             ],
             [
              0.1111111111111111,
              "#46039f"
             ],
             [
              0.2222222222222222,
              "#7201a8"
             ],
             [
              0.3333333333333333,
              "#9c179e"
             ],
             [
              0.4444444444444444,
              "#bd3786"
             ],
             [
              0.5555555555555556,
              "#d8576b"
             ],
             [
              0.6666666666666666,
              "#ed7953"
             ],
             [
              0.7777777777777778,
              "#fb9f3a"
             ],
             [
              0.8888888888888888,
              "#fdca26"
             ],
             [
              1,
              "#f0f921"
             ]
            ],
            "type": "heatmapgl"
           }
          ],
          "histogram": [
           {
            "marker": {
             "pattern": {
              "fillmode": "overlay",
              "size": 10,
              "solidity": 0.2
             }
            },
            "type": "histogram"
           }
          ],
          "histogram2d": [
           {
            "colorbar": {
             "outlinewidth": 0,
             "ticks": ""
            },
            "colorscale": [
             [
              0,
              "#0d0887"
             ],
             [
              0.1111111111111111,
              "#46039f"
             ],
             [
              0.2222222222222222,
              "#7201a8"
             ],
             [
              0.3333333333333333,
              "#9c179e"
             ],
             [
              0.4444444444444444,
              "#bd3786"
             ],
             [
              0.5555555555555556,
              "#d8576b"
             ],
             [
              0.6666666666666666,
              "#ed7953"
             ],
             [
              0.7777777777777778,
              "#fb9f3a"
             ],
             [
              0.8888888888888888,
              "#fdca26"
             ],
             [
              1,
              "#f0f921"
             ]
            ],
            "type": "histogram2d"
           }
          ],
          "histogram2dcontour": [
           {
            "colorbar": {
             "outlinewidth": 0,
             "ticks": ""
            },
            "colorscale": [
             [
              0,
              "#0d0887"
             ],
             [
              0.1111111111111111,
              "#46039f"
             ],
             [
              0.2222222222222222,
              "#7201a8"
             ],
             [
              0.3333333333333333,
              "#9c179e"
             ],
             [
              0.4444444444444444,
              "#bd3786"
             ],
             [
              0.5555555555555556,
              "#d8576b"
             ],
             [
              0.6666666666666666,
              "#ed7953"
             ],
             [
              0.7777777777777778,
              "#fb9f3a"
             ],
             [
              0.8888888888888888,
              "#fdca26"
             ],
             [
              1,
              "#f0f921"
             ]
            ],
            "type": "histogram2dcontour"
           }
          ],
          "mesh3d": [
           {
            "colorbar": {
             "outlinewidth": 0,
             "ticks": ""
            },
            "type": "mesh3d"
           }
          ],
          "parcoords": [
           {
            "line": {
             "colorbar": {
              "outlinewidth": 0,
              "ticks": ""
             }
            },
            "type": "parcoords"
           }
          ],
          "pie": [
           {
            "automargin": true,
            "type": "pie"
           }
          ],
          "scatter": [
           {
            "fillpattern": {
             "fillmode": "overlay",
             "size": 10,
             "solidity": 0.2
            },
            "type": "scatter"
           }
          ],
          "scatter3d": [
           {
            "line": {
             "colorbar": {
              "outlinewidth": 0,
              "ticks": ""
             }
            },
            "marker": {
             "colorbar": {
              "outlinewidth": 0,
              "ticks": ""
             }
            },
            "type": "scatter3d"
           }
          ],
          "scattercarpet": [
           {
            "marker": {
             "colorbar": {
              "outlinewidth": 0,
              "ticks": ""
             }
            },
            "type": "scattercarpet"
           }
          ],
          "scattergeo": [
           {
            "marker": {
             "colorbar": {
              "outlinewidth": 0,
              "ticks": ""
             }
            },
            "type": "scattergeo"
           }
          ],
          "scattergl": [
           {
            "marker": {
             "colorbar": {
              "outlinewidth": 0,
              "ticks": ""
             }
            },
            "type": "scattergl"
           }
          ],
          "scattermapbox": [
           {
            "marker": {
             "colorbar": {
              "outlinewidth": 0,
              "ticks": ""
             }
            },
            "type": "scattermapbox"
           }
          ],
          "scatterpolar": [
           {
            "marker": {
             "colorbar": {
              "outlinewidth": 0,
              "ticks": ""
             }
            },
            "type": "scatterpolar"
           }
          ],
          "scatterpolargl": [
           {
            "marker": {
             "colorbar": {
              "outlinewidth": 0,
              "ticks": ""
             }
            },
            "type": "scatterpolargl"
           }
          ],
          "scatterternary": [
           {
            "marker": {
             "colorbar": {
              "outlinewidth": 0,
              "ticks": ""
             }
            },
            "type": "scatterternary"
           }
          ],
          "surface": [
           {
            "colorbar": {
             "outlinewidth": 0,
             "ticks": ""
            },
            "colorscale": [
             [
              0,
              "#0d0887"
             ],
             [
              0.1111111111111111,
              "#46039f"
             ],
             [
              0.2222222222222222,
              "#7201a8"
             ],
             [
              0.3333333333333333,
              "#9c179e"
             ],
             [
              0.4444444444444444,
              "#bd3786"
             ],
             [
              0.5555555555555556,
              "#d8576b"
             ],
             [
              0.6666666666666666,
              "#ed7953"
             ],
             [
              0.7777777777777778,
              "#fb9f3a"
             ],
             [
              0.8888888888888888,
              "#fdca26"
             ],
             [
              1,
              "#f0f921"
             ]
            ],
            "type": "surface"
           }
          ],
          "table": [
           {
            "cells": {
             "fill": {
              "color": "#EBF0F8"
             },
             "line": {
              "color": "white"
             }
            },
            "header": {
             "fill": {
              "color": "#C8D4E3"
             },
             "line": {
              "color": "white"
             }
            },
            "type": "table"
           }
          ]
         },
         "layout": {
          "annotationdefaults": {
           "arrowcolor": "#2a3f5f",
           "arrowhead": 0,
           "arrowwidth": 1
          },
          "autotypenumbers": "strict",
          "coloraxis": {
           "colorbar": {
            "outlinewidth": 0,
            "ticks": ""
           }
          },
          "colorscale": {
           "diverging": [
            [
             0,
             "#8e0152"
            ],
            [
             0.1,
             "#c51b7d"
            ],
            [
             0.2,
             "#de77ae"
            ],
            [
             0.3,
             "#f1b6da"
            ],
            [
             0.4,
             "#fde0ef"
            ],
            [
             0.5,
             "#f7f7f7"
            ],
            [
             0.6,
             "#e6f5d0"
            ],
            [
             0.7,
             "#b8e186"
            ],
            [
             0.8,
             "#7fbc41"
            ],
            [
             0.9,
             "#4d9221"
            ],
            [
             1,
             "#276419"
            ]
           ],
           "sequential": [
            [
             0,
             "#0d0887"
            ],
            [
             0.1111111111111111,
             "#46039f"
            ],
            [
             0.2222222222222222,
             "#7201a8"
            ],
            [
             0.3333333333333333,
             "#9c179e"
            ],
            [
             0.4444444444444444,
             "#bd3786"
            ],
            [
             0.5555555555555556,
             "#d8576b"
            ],
            [
             0.6666666666666666,
             "#ed7953"
            ],
            [
             0.7777777777777778,
             "#fb9f3a"
            ],
            [
             0.8888888888888888,
             "#fdca26"
            ],
            [
             1,
             "#f0f921"
            ]
           ],
           "sequentialminus": [
            [
             0,
             "#0d0887"
            ],
            [
             0.1111111111111111,
             "#46039f"
            ],
            [
             0.2222222222222222,
             "#7201a8"
            ],
            [
             0.3333333333333333,
             "#9c179e"
            ],
            [
             0.4444444444444444,
             "#bd3786"
            ],
            [
             0.5555555555555556,
             "#d8576b"
            ],
            [
             0.6666666666666666,
             "#ed7953"
            ],
            [
             0.7777777777777778,
             "#fb9f3a"
            ],
            [
             0.8888888888888888,
             "#fdca26"
            ],
            [
             1,
             "#f0f921"
            ]
           ]
          },
          "colorway": [
           "#636efa",
           "#EF553B",
           "#00cc96",
           "#ab63fa",
           "#FFA15A",
           "#19d3f3",
           "#FF6692",
           "#B6E880",
           "#FF97FF",
           "#FECB52"
          ],
          "font": {
           "color": "#2a3f5f"
          },
          "geo": {
           "bgcolor": "white",
           "lakecolor": "white",
           "landcolor": "#E5ECF6",
           "showlakes": true,
           "showland": true,
           "subunitcolor": "white"
          },
          "hoverlabel": {
           "align": "left"
          },
          "hovermode": "closest",
          "mapbox": {
           "style": "light"
          },
          "paper_bgcolor": "white",
          "plot_bgcolor": "#E5ECF6",
          "polar": {
           "angularaxis": {
            "gridcolor": "white",
            "linecolor": "white",
            "ticks": ""
           },
           "bgcolor": "#E5ECF6",
           "radialaxis": {
            "gridcolor": "white",
            "linecolor": "white",
            "ticks": ""
           }
          },
          "scene": {
           "xaxis": {
            "backgroundcolor": "#E5ECF6",
            "gridcolor": "white",
            "gridwidth": 2,
            "linecolor": "white",
            "showbackground": true,
            "ticks": "",
            "zerolinecolor": "white"
           },
           "yaxis": {
            "backgroundcolor": "#E5ECF6",
            "gridcolor": "white",
            "gridwidth": 2,
            "linecolor": "white",
            "showbackground": true,
            "ticks": "",
            "zerolinecolor": "white"
           },
           "zaxis": {
            "backgroundcolor": "#E5ECF6",
            "gridcolor": "white",
            "gridwidth": 2,
            "linecolor": "white",
            "showbackground": true,
            "ticks": "",
            "zerolinecolor": "white"
           }
          },
          "shapedefaults": {
           "line": {
            "color": "#2a3f5f"
           }
          },
          "ternary": {
           "aaxis": {
            "gridcolor": "white",
            "linecolor": "white",
            "ticks": ""
           },
           "baxis": {
            "gridcolor": "white",
            "linecolor": "white",
            "ticks": ""
           },
           "bgcolor": "#E5ECF6",
           "caxis": {
            "gridcolor": "white",
            "linecolor": "white",
            "ticks": ""
           }
          },
          "title": {
           "x": 0.05
          },
          "xaxis": {
           "automargin": true,
           "gridcolor": "white",
           "linecolor": "white",
           "ticks": "",
           "title": {
            "standoff": 15
           },
           "zerolinecolor": "white",
           "zerolinewidth": 2
          },
          "yaxis": {
           "automargin": true,
           "gridcolor": "white",
           "linecolor": "white",
           "ticks": "",
           "title": {
            "standoff": 15
           },
           "zerolinecolor": "white",
           "zerolinewidth": 2
          }
         }
        },
        "title": {
         "text": "Total Assists vs. Total Turnovers"
        },
        "width": 500,
        "xaxis": {
         "anchor": "y",
         "domain": [
          0,
          1
         ],
         "title": {
          "text": "TOV"
         }
        },
        "yaxis": {
         "anchor": "x",
         "domain": [
          0,
          1
         ],
         "title": {
          "text": "AST"
         }
        }
       }
      }
     },
     "metadata": {},
     "output_type": "display_data"
    }
   ],
   "source": [
    "fig = px.scatter(totals, x = 'TOV', y ='AST',\n",
    "    title = 'Total Assists vs. Total Turnovers',\n",
    "    hover_data = ['PLAYER_NAME', 'TEAM_NAME'], \n",
    "    width = 500, height = 500)\n",
    "fig.show()\n",
    "# fig.to_html(full_html = False, include_plotlyjs = 'cdn')"
   ]
  },
  {
   "cell_type": "code",
   "execution_count": 77,
   "metadata": {},
   "outputs": [
    {
     "data": {
      "text/plain": [
       "Text(0, 0.5, 'Average points scored')"
      ]
     },
     "execution_count": 77,
     "metadata": {},
     "output_type": "execute_result"
    },
    {
     "data": {
      "image/png": "[encoded data removed]",
      "text/plain": [
       "<Figure size 432x288 with 1 Axes>"
      ]
     },
     "metadata": {},
     "output_type": "display_data"
    }
   ],
   "source": [
    "# Scatterplot for points vs. mins (maybe with a minimum minutes threshold)\n",
    "fig = plt.figure()\n",
    "ax = fig.add_subplot(111)\n",
    "# ax2 = fig.add_subplot()\n",
    "ax.scatter(means['MIN'], means['PTS'])\n",
    "plt.xlabel('Average minutes played')\n",
    "plt.ylabel('Average points scored')\n"
   ]
  },
  {
   "cell_type": "markdown",
   "metadata": {},
   "source": [
    "Things to make dynamic here:\n",
    "- Category (can be points, rebounds, assists, fantasy points, etc)\n",
    "- updating category should also update the average bar\n",
    "- top n players (from like 3 to 25) With a selection bar?\n",
    "- Counts vs average? or both?"
   ]
  },
  {
   "cell_type": "code",
   "execution_count": 78,
   "metadata": {},
   "outputs": [
    {
     "data": {
      "text/plain": [
       "<matplotlib.lines.Line2D at 0x27566dd8610>"
      ]
     },
     "execution_count": 78,
     "metadata": {},
     "output_type": "execute_result"
    },
    {
     "data": {
      "image/png": "[encoded data removed]",
      "text/plain": [
       "<Figure size 432x288 with 1 Axes>"
      ]
     },
     "metadata": {},
     "output_type": "display_data"
    }
   ],
   "source": [
    "# Top 15 most points average (with the league average included)\n",
    "fig = plt.figure()\n",
    "ax = fig.add_subplot(111)\n",
    "sns.set_style('dark')\n",
    "plt.title('NBA Points Leaders')\n",
    "plt.xlabel('Points Per Game')\n",
    "plt.ylabel('Player Name')\n",
    "# Get a list of top 15 average points, and the average points\n",
    "points = means['PTS'].sort_values(ascending = False).head(10)\n",
    "ax.barh(means.iloc[points.index]['PLAYER_NAME'], points)\n",
    "ax.axvline(means['PTS'].mean(), color = 'r')"
   ]
  },
  {
   "cell_type": "code",
   "execution_count": 84,
   "metadata": {},
   "outputs": [
    {
     "data": {
      "text/plain": [
       "<matplotlib.lines.Line2D at 0x27566dad190>"
      ]
     },
     "execution_count": 84,
     "metadata": {},
     "output_type": "execute_result"
    },
    {
     "data": {
      "image/png": "[encoded data removed]",
      "text/plain": [
       "<Figure size 432x288 with 1 Axes>"
      ]
     },
     "metadata": {},
     "output_type": "display_data"
    }
   ],
   "source": [
    "fig = plt.figure()\n",
    "ax = fig.add_subplot(111)\n",
    "sns.set_style('dark')\n",
    "plt.title('NBA Rebounds Leaders')\n",
    "plt.xlabel('Rebounds Per Game')\n",
    "plt.ylabel('Player Name')\n",
    "# Get a list of top 15 average points, and the average points\n",
    "rebounds = means['REB'].sort_values(ascending = False).head(10)\n",
    "ax.barh(means.iloc[rebounds.index]['PLAYER_NAME'], rebounds)\n",
    "ax.axvline(means['REB'].mean(), color = 'r')"
   ]
  },
  {
   "cell_type": "code",
   "execution_count": 85,
   "metadata": {},
   "outputs": [
    {
     "data": {
      "text/plain": [
       "<matplotlib.lines.Line2D at 0x275669e14f0>"
      ]
     },
     "execution_count": 85,
     "metadata": {},
     "output_type": "execute_result"
    },
    {
     "data": {
      "image/png": "[encoded data removed]",
      "text/plain": [
       "<Figure size 432x288 with 1 Axes>"
      ]
     },
     "metadata": {},
     "output_type": "display_data"
    }
   ],
   "source": [
    "fig = plt.figure()\n",
    "ax = fig.add_subplot(111)\n",
    "sns.set_style('dark')\n",
    "plt.title('NBA Assists Leaders')\n",
    "plt.xlabel('Assists Per Game')\n",
    "plt.ylabel('Player Name')\n",
    "# Get a list of top 15 average points, and the average points\n",
    "assists = means['AST'].sort_values(ascending = False).head(10)\n",
    "ax.barh(means.iloc[assists.index]['PLAYER_NAME'], assists)\n",
    "ax.axvline(means['AST'].mean(), color = 'r')"
   ]
  },
  {
   "cell_type": "code",
   "execution_count": 86,
   "metadata": {},
   "outputs": [
    {
     "data": {
      "text/plain": [
       "<matplotlib.lines.Line2D at 0x27566e9f6a0>"
      ]
     },
     "execution_count": 86,
     "metadata": {},
     "output_type": "execute_result"
    },
    {
     "data": {
      "image/png": "[encoded data removed]",
      "text/plain": [
       "<Figure size 432x288 with 1 Axes>"
      ]
     },
     "metadata": {},
     "output_type": "display_data"
    }
   ],
   "source": [
    "fig = plt.figure()\n",
    "ax = fig.add_subplot(111)\n",
    "sns.set_style('dark')\n",
    "plt.title('NBA Fantasy Points Leaders')\n",
    "plt.xlabel('Fantasy Points Per Game')\n",
    "plt.ylabel('Player Name')\n",
    "# Get a list of top 15 average points, and the average points\n",
    "points = means['FANTASY'].sort_values(ascending = False).head(10)\n",
    "ax.barh(means.iloc[points.index]['PLAYER_NAME'], points)\n",
    "ax.axvline(means['FANTASY'].mean(), color = 'r')"
   ]
  },
  {
   "cell_type": "code",
   "execution_count": 79,
   "metadata": {},
   "outputs": [
    {
     "data": {
      "text/plain": [
       "<matplotlib.lines.Line2D at 0x27566cff430>"
      ]
     },
     "execution_count": 79,
     "metadata": {},
     "output_type": "execute_result"
    },
    {
     "data": {
      "image/png": "[encoded data removed]",
      "text/plain": [
       "<Figure size 432x288 with 1 Axes>"
      ]
     },
     "metadata": {},
     "output_type": "display_data"
    }
   ],
   "source": [
    "# Top 10 most points total (with the league average included)\n",
    "fig = plt.figure()\n",
    "ax = fig.add_subplot(111)\n",
    "sns.set_style('dark')\n",
    "plt.title('NBA Total Points Leaders')\n",
    "plt.xlabel('Total Points')\n",
    "plt.ylabel('Player Name')\n",
    "# Get a list of top 10 total points and the player names\n",
    "points = totals['PTS'].sort_values(ascending = False).head(10)\n",
    "ax.barh(totals.iloc[points.index]['PLAYER_NAME'], points)\n",
    "ax.axvline(totals['PTS'].mean(), color = 'r')"
   ]
  },
  {
   "cell_type": "code",
   "execution_count": 87,
   "metadata": {},
   "outputs": [
    {
     "data": {
      "text/plain": [
       "<matplotlib.lines.Line2D at 0x27566c22e80>"
      ]
     },
     "execution_count": 87,
     "metadata": {},
     "output_type": "execute_result"
    },
    {
     "data": {
      "image/png": "[encoded data removed]",
      "text/plain": [
       "<Figure size 432x288 with 1 Axes>"
      ]
     },
     "metadata": {},
     "output_type": "display_data"
    }
   ],
   "source": [
    "# Top 10 most fantasy points average (with the league average included)\n",
    "fig = plt.figure()\n",
    "ax = fig.add_subplot(111)\n",
    "sns.set_style('dark')\n",
    "plt.title('NBA Total Fantasy Leaders')\n",
    "plt.xlabel('Total Fantasy Points')\n",
    "plt.ylabel('Player Name')\n",
    "# Get a list of top 15 average points, and the average points\n",
    "fpoints = totals['FANTASY'].sort_values(ascending = False).head(10)\n",
    "ax.barh(totals.iloc[fpoints.index]['PLAYER_NAME'], fpoints)\n",
    "ax.axvline(totals['FANTASY'].mean(), color = 'r')"
   ]
  },
  {
   "cell_type": "code",
   "execution_count": 90,
   "metadata": {},
   "outputs": [
    {
     "data": {
      "text/plain": [
       "<matplotlib.lines.Line2D at 0x27566c15eb0>"
      ]
     },
     "execution_count": 90,
     "metadata": {},
     "output_type": "execute_result"
    },
    {
     "data": {
      "image/png": "[encoded data removed]",
      "text/plain": [
       "<Figure size 432x288 with 1 Axes>"
      ]
     },
     "metadata": {},
     "output_type": "display_data"
    }
   ],
   "source": [
    "# Top 10 most fantasy points average (with the league average included)\n",
    "fig = plt.figure()\n",
    "ax = fig.add_subplot(111)\n",
    "sns.set_style('dark')\n",
    "plt.title('NBA Total Rebounds Leaders')\n",
    "plt.xlabel('Total Rebounds')\n",
    "plt.ylabel('Player Name')\n",
    "# Get a list of top 15 average points, and the average points\n",
    "rebounds = totals['REB'].sort_values(ascending = False).head(10)\n",
    "ax.barh(totals.iloc[rebounds.index]['PLAYER_NAME'], rebounds)\n",
    "ax.axvline(totals['REB'].mean(), color = 'r')"
   ]
  },
  {
   "cell_type": "code",
   "execution_count": 91,
   "metadata": {},
   "outputs": [
    {
     "data": {
      "text/plain": [
       "<matplotlib.lines.Line2D at 0x27566b8c1c0>"
      ]
     },
     "execution_count": 91,
     "metadata": {},
     "output_type": "execute_result"
    },
    {
     "data": {
      "image/png": "[encoded data removed]",
      "text/plain": [
       "<Figure size 432x288 with 1 Axes>"
      ]
     },
     "metadata": {},
     "output_type": "display_data"
    }
   ],
   "source": [
    "# Top 10 most fantasy points average (with the league average included)\n",
    "fig = plt.figure()\n",
    "ax = fig.add_subplot(111)\n",
    "sns.set_style('dark')\n",
    "plt.title('NBA Total Assist Leaders')\n",
    "plt.xlabel('Total Assists')\n",
    "plt.ylabel('Player Name')\n",
    "# Get a list of top 15 average points, and the average points\n",
    "fpoints = totals['AST'].sort_values(ascending = False).head(10)\n",
    "ax.barh(totals.iloc[fpoints.index]['PLAYER_NAME'], fpoints)\n",
    "ax.axvline(totals['AST'].mean(), color = 'r')"
   ]
  },
  {
   "cell_type": "code",
   "execution_count": 81,
   "metadata": {},
   "outputs": [
    {
     "data": {
      "text/plain": [
       "273               Kevin Durant\n",
       "212               Jayson Tatum\n",
       "404              Stephen Curry\n",
       "298                Luka Doncic\n",
       "400    Shai Gilgeous-Alexander\n",
       "112               Devin Booker\n",
       "119           Donovan Mitchell\n",
       "99               DeMar DeRozan\n",
       "175                  Ja Morant\n",
       "209               Jaylen Brown\n",
       "Name: PLAYER_NAME, dtype: object"
      ]
     },
     "execution_count": 81,
     "metadata": {},
     "output_type": "execute_result"
    }
   ],
   "source": [
    "means.iloc[points.index]['PLAYER_NAME']"
   ]
  },
  {
   "cell_type": "markdown",
   "metadata": {},
   "source": [
    "Search for a player and compare their stats\n",
    "- show average mins/game\n",
    "- show average fantasy points/game\n",
    "- show their location in boxplot distributions\n"
   ]
  },
  {
   "cell_type": "code",
   "execution_count": 82,
   "metadata": {},
   "outputs": [
    {
     "data": {
      "image/png": "[encoded data removed]",
      "text/plain": [
       "<Figure size 1152x288 with 2 Axes>"
      ]
     },
     "metadata": {},
     "output_type": "display_data"
    }
   ],
   "source": [
    "fig = plt.figure(figsize = (16, 4))\n",
    "ax1 = fig.add_subplot(111)\n",
    "ax2 = fig.add_subplot(122)\n",
    "# Top 15 most rebounds average (with league average included)\n",
    "\n",
    "# Top 15 counts rebounds (with weighted league average included)"
   ]
  },
  {
   "cell_type": "code",
   "execution_count": 92,
   "metadata": {},
   "outputs": [
    {
     "data": {
      "application/vnd.plotly.v1+json": {
       "config": {
        "plotlyServerURL": "https://plot.ly"
       },
       "data": [
        {
         "customdata": [
          [
           "A.J. Lawson",
           "Minnesota Timberwolves",
           2
          ],
          [
           "AJ Green",
           "Milwaukee Bucks",
           0.6470588235294118
          ],
          [
           "AJ Griffin",
           "Atlanta Hawks",
           0.9103448275862069
          ],
          [
           "Aaron Gordon",
           "Denver Nuggets",
           1.0396825396825398
          ],
          [
           "Aaron Holiday",
           "Atlanta Hawks",
           0.6142857142857142
          ],
          [
           "Aaron Nesmith",
           "Indiana Pacers",
           0.6683673469387754
          ],
          [
           "Aaron Wiggins",
           "Oklahoma City Thunder",
           0.7446043165467626
          ],
          [
           "Admiral Schofield",
           "Orlando Magic",
           0.6274509803921569
          ],
          [
           "Al Horford",
           "Boston Celtics",
           0.9160493827160494
          ],
          [
           "Alec Burks",
           "Detroit Pistons",
           1.1071428571428572
          ],
          [
           "Aleksej Pokusevski",
           "Oklahoma City Thunder",
           1.1526479750778815
          ],
          [
           "Alex Caruso",
           "Chicago Bulls",
           0.8242574257425742
          ],
          [
           "Alex Len",
           "Sacramento Kings",
           0.5333333333333333
          ],
          [
           "Alperen Sengun",
           "Houston Rockets",
           1.1752021563342319
          ],
          [
           "Amir Coffey",
           "LA Clippers",
           0.4406779661016949
          ],
          [
           "Andre Drummond",
           "Chicago Bulls",
           1.207317073170732
          ],
          [
           "Andrew Nembhard",
           "Indiana Pacers",
           0.8984962406015038
          ],
          [
           "Andrew Wiggins",
           "Golden State Warriors",
           1.0685483870967742
          ],
          [
           "Anfernee Simons",
           "Portland Trail Blazers",
           0.935064935064935
          ],
          [
           "Anthony Davis",
           "Los Angeles Lakers",
           1.5111607142857144
          ],
          [
           "Anthony Edwards",
           "Minnesota Timberwolves",
           0.9705882352941178
          ],
          [
           "Anthony Gill",
           "Washington Wizards",
           0.6416184971098265
          ],
          [
           "Anthony Lamb",
           "Golden State Warriors",
           0.8765432098765432
          ],
          [
           "Austin Reaves",
           "Los Angeles Lakers",
           0.6528497409326425
          ],
          [
           "Austin Rivers",
           "Minnesota Timberwolves",
           0.34883720930232553
          ],
          [
           "Ayo Dosunmu",
           "Chicago Bulls",
           0.8026905829596412
          ],
          [
           "Bam Adebayo",
           "Miami Heat",
           1.024439918533605
          ],
          [
           "Ben Simmons",
           "Brooklyn Nets",
           0.9763513513513513
          ],
          [
           "Bennedict Mathurin",
           "Indiana Pacers",
           0.9128205128205128
          ],
          [
           "Bismack Biyombo",
           "Phoenix Suns",
           1.1846153846153846
          ],
          [
           "Blake Griffin",
           "Boston Celtics",
           0.7051282051282052
          ],
          [
           "Blake Wesley",
           "San Antonio Spurs",
           1.0869565217391304
          ],
          [
           "Boban Marjanovic",
           "Houston Rockets",
           0.6499999999999999
          ],
          [
           "Bobby Portis",
           "Milwaukee Bucks",
           1.085995085995086
          ],
          [
           "Bojan Bogdanovic",
           "Detroit Pistons",
           0.9050279329608939
          ],
          [
           "Bol Bol",
           "Orlando Magic",
           1.1506172839506172
          ],
          [
           "Bones Hyland",
           "Denver Nuggets",
           1.1186440677966103
          ],
          [
           "Bradley Beal",
           "Washington Wizards",
           1.1014851485148516
          ],
          [
           "Brandon Boston Jr.",
           "LA Clippers",
           0.888888888888889
          ],
          [
           "Brandon Clarke",
           "Memphis Grizzlies",
           1.0614886731391586
          ],
          [
           "Brandon Ingram",
           "New Orleans Pelicans",
           1.095
          ],
          [
           "Braxton Key",
           "Detroit Pistons",
           0.8571428571428571
          ],
          [
           "Brook Lopez",
           "Milwaukee Bucks",
           1.1603375527426159
          ],
          [
           "Bruce Brown",
           "Denver Nuggets",
           0.9515738498789346
          ],
          [
           "Bruno Fernando",
           "Houston Rockets",
           1.4864864864864864
          ],
          [
           "Bryce McGowens",
           "Charlotte Hornets",
           1.0666666666666667
          ],
          [
           "Bryn Forbes",
           "Minnesota Timberwolves",
           0.7126436781609196
          ],
          [
           "Buddy Boeheim",
           "Detroit Pistons",
           0
          ],
          [
           "Buddy Hield",
           "Indiana Pacers",
           1.0498866213151927
          ],
          [
           "CJ McCollum",
           "New Orleans Pelicans",
           1.0763888888888888
          ],
          [
           "Cade Cunningham",
           "Detroit Pistons",
           1.050125313283208
          ],
          [
           "Caleb Houstan",
           "Orlando Magic",
           0.37305699481865284
          ],
          [
           "Caleb Martin",
           "Miami Heat",
           0.7235421166306695
          ],
          [
           "Cam Reddish",
           "New York Knicks",
           0.7433155080213903
          ],
          [
           "Cam Thomas",
           "Brooklyn Nets",
           0.7892156862745098
          ],
          [
           "Cameron Johnson",
           "Phoenix Suns",
           1.0544554455445545
          ],
          [
           "Cameron Payne",
           "Phoenix Suns",
           1.0714285714285714
          ],
          [
           "Caris LeVert",
           "Cleveland Cavaliers",
           0.7285429141716567
          ],
          [
           "Cedi Osman",
           "Cleveland Cavaliers",
           0.6543624161073825
          ],
          [
           "Charles Bassey",
           "San Antonio Spurs",
           1.3771929824561404
          ],
          [
           "Chima Moneke",
           "Sacramento Kings",
           0
          ],
          [
           "Chimezie Metu",
           "Sacramento Kings",
           0.8861788617886178
          ],
          [
           "Chris Boucher",
           "Toronto Raptors",
           1.120274914089347
          ],
          [
           "Chris Duarte",
           "Indiana Pacers",
           0.6666666666666666
          ],
          [
           "Chris Paul",
           "Phoenix Suns",
           1.1887417218543046
          ],
          [
           "Christian Braun",
           "Denver Nuggets",
           0.6372093023255814
          ],
          [
           "Christian Koloko",
           "Toronto Raptors",
           0.7014925373134329
          ],
          [
           "Christian Wood",
           "Dallas Mavericks",
           1.0914634146341464
          ],
          [
           "Chuma Okeke",
           "Orlando Magic",
           0.748587570621469
          ],
          [
           "Clint Capela",
           "Atlanta Hawks",
           1.1578947368421053
          ],
          [
           "Coby White",
           "Chicago Bulls",
           0.6075949367088608
          ],
          [
           "Cody Martin",
           "Charlotte Hornets",
           0
          ],
          [
           "Cole Anthony",
           "Orlando Magic",
           0.9669421487603306
          ],
          [
           "Cole Swider",
           "Los Angeles Lakers",
           1
          ],
          [
           "Collin Sexton",
           "Utah Jazz",
           0.8598382749326146
          ],
          [
           "Corey Kispert",
           "Washington Wizards",
           0.788659793814433
          ],
          [
           "Cory Joseph",
           "Detroit Pistons",
           0.7718120805369129
          ],
          [
           "D'Angelo Russell",
           "Minnesota Timberwolves",
           1.013215859030837
          ],
          [
           "Daishen Nix",
           "Houston Rockets",
           0.6813725490196079
          ],
          [
           "Dalano Banton",
           "Toronto Raptors",
           1.2071005917159763
          ],
          [
           "Dalen Terry",
           "Chicago Bulls",
           0.7333333333333334
          ],
          [
           "Damian Jones",
           "Los Angeles Lakers",
           0.84
          ],
          [
           "Damian Lillard",
           "Portland Trail Blazers",
           1.1629834254143645
          ],
          [
           "Damion Lee",
           "Phoenix Suns",
           0.6831683168316832
          ],
          [
           "Daniel Gafford",
           "Washington Wizards",
           0.9724770642201835
          ],
          [
           "Danuel House Jr.",
           "Philadelphia 76ers",
           0.5427350427350428
          ],
          [
           "Dario Saric",
           "Phoenix Suns",
           0.7368421052631579
          ],
          [
           "Darius Bazley",
           "Oklahoma City Thunder",
           1.2185792349726776
          ],
          [
           "Darius Garland",
           "Cleveland Cavaliers",
           1.1753846153846153
          ],
          [
           "David Duke Jr.",
           "Brooklyn Nets",
           0.6263736263736264
          ],
          [
           "David Roddy",
           "Memphis Grizzlies",
           0.5815602836879432
          ],
          [
           "Davion Mitchell",
           "Sacramento Kings",
           0.6273062730627306
          ],
          [
           "Davis Bertans",
           "Dallas Mavericks",
           0.2857142857142857
          ],
          [
           "Davon Reed",
           "Denver Nuggets",
           0.3076923076923077
          ],
          [
           "Day'Ron Sharpe",
           "Brooklyn Nets",
           0.9514563106796116
          ],
          [
           "De'Aaron Fox",
           "Sacramento Kings",
           1.457831325301205
          ],
          [
           "De'Andre Hunter",
           "Atlanta Hawks",
           0.6600441501103753
          ],
          [
           "De'Anthony Melton",
           "Philadelphia 76ers",
           0.9636363636363636
          ],
          [
           "DeAndre Jordan",
           "Denver Nuggets",
           0.9329896907216495
          ],
          [
           "DeMar DeRozan",
           "Chicago Bulls",
           1.138433515482696
          ],
          [
           "Dean Wade",
           "Cleveland Cavaliers",
           0.752
          ],
          [
           "Deandre Ayton",
           "Phoenix Suns",
           1.005420054200542
          ],
          [
           "Dejounte Murray",
           "Atlanta Hawks",
           1.3058608058608059
          ],
          [
           "Delon Wright",
           "Washington Wizards",
           1.2065217391304348
          ],
          [
           "Deni Avdija",
           "Washington Wizards",
           0.7325905292479109
          ],
          [
           "Dennis Schroder",
           "Los Angeles Lakers",
           0.0625
          ],
          [
           "Dennis Smith Jr.",
           "Charlotte Hornets",
           1.1067708333333333
          ],
          [
           "Dereon Seabron",
           "New Orleans Pelicans",
           0
          ],
          [
           "Derrick Jones Jr.",
           "Chicago Bulls",
           0.8571428571428571
          ],
          [
           "Derrick Rose",
           "New York Knicks",
           0.963302752293578
          ],
          [
           "Derrick White",
           "Boston Celtics",
           1.0188679245283019
          ],
          [
           "Desmond Bane",
           "Memphis Grizzlies",
           1.205513784461153
          ],
          [
           "Devin Booker",
           "Phoenix Suns",
           1.2756756756756757
          ],
          [
           "Devin Vassell",
           "San Antonio Spurs",
           1.0921052631578947
          ],
          [
           "Devonte' Graham",
           "New Orleans Pelicans",
           0.7966101694915254
          ],
          [
           "Dewayne Dedmon",
           "Miami Heat",
           1.0187499999999998
          ],
          [
           "Dillon Brooks",
           "Memphis Grizzlies",
           0.7448979591836734
          ],
          [
           "Domantas Sabonis",
           "Sacramento Kings",
           1.313063063063063
          ],
          [
           "Dominick Barlow",
           "San Antonio Spurs",
           0.8
          ],
          [
           "Donovan Mitchell",
           "Cleveland Cavaliers",
           1.3123772102161102
          ],
          [
           "Donte DiVincenzo",
           "Golden State Warriors",
           0.5114503816793893
          ],
          [
           "Dorian Finney-Smith",
           "Dallas Mavericks",
           0.5595959595959595
          ],
          [
           "Doug McDermott",
           "San Antonio Spurs",
           0.6293929712460063
          ],
          [
           "Draymond Green",
           "Golden State Warriors",
           1.0022222222222221
          ],
          [
           "Drew Eubanks",
           "Portland Trail Blazers",
           0.8267148014440434
          ],
          [
           "Dru Smith",
           "Miami Heat",
           1
          ],
          [
           "Duane Washington Jr.",
           "Phoenix Suns",
           0.8064516129032258
          ],
          [
           "Duncan Robinson",
           "Miami Heat",
           0.5568181818181818
          ],
          [
           "Dwight Powell",
           "Dallas Mavericks",
           0.751152073732719
          ],
          [
           "Dyson Daniels",
           "New Orleans Pelicans",
           1
          ],
          [
           "Edmond Sumner",
           "Brooklyn Nets",
           0.8813559322033898
          ],
          [
           "Eric Gordon",
           "Houston Rockets",
           0.7232558139534884
          ],
          [
           "Eugene Omoruyi",
           "Oklahoma City Thunder",
           0.8840579710144927
          ],
          [
           "Evan Fournier",
           "New York Knicks",
           0.6538461538461539
          ],
          [
           "Evan Mobley",
           "Cleveland Cavaliers",
           0.9941972920696324
          ],
          [
           "Facundo Campazzo",
           "Dallas Mavericks",
           0.8604651162790699
          ],
          [
           "Frank Kaminsky",
           "Atlanta Hawks",
           0.90625
          ],
          [
           "Frank Ntilikina",
           "Dallas Mavericks",
           0.7083333333333334
          ],
          [
           "Franz Wagner",
           "Orlando Magic",
           0.9085923217550275
          ],
          [
           "Fred VanVleet",
           "Toronto Raptors",
           1.188118811881188
          ],
          [
           "Furkan Korkmaz",
           "Philadelphia 76ers",
           0.7407407407407407
          ],
          [
           "Gabe Vincent",
           "Miami Heat",
           0.7487309644670052
          ],
          [
           "Garrett Temple",
           "New Orleans Pelicans",
           0.7142857142857143
          ],
          [
           "Garrison Mathews",
           "Houston Rockets",
           0.5147928994082841
          ],
          [
           "Gary Harris",
           "Orlando Magic",
           0.6666666666666666
          ],
          [
           "Gary Trent Jr.",
           "Toronto Raptors",
           0.7706013363028954
          ],
          [
           "George Hill",
           "Milwaukee Bucks",
           0.5421686746987951
          ],
          [
           "Georges Niang",
           "Philadelphia 76ers",
           0.8434163701067615
          ],
          [
           "Giannis Antetokounmpo",
           "Milwaukee Bucks",
           1.4923857868020303
          ],
          [
           "Goga Bitadze",
           "Indiana Pacers",
           0.981132075471698
          ],
          [
           "Goran Dragic",
           "Chicago Bulls",
           0.9377049180327869
          ],
          [
           "Gordon Hayward",
           "Charlotte Hornets",
           0.903114186851211
          ],
          [
           "Gorgui Dieng",
           "San Antonio Spurs",
           1.105263157894737
          ],
          [
           "Grant Williams",
           "Boston Celtics",
           0.8143851508120649
          ],
          [
           "Grayson Allen",
           "Milwaukee Bucks",
           0.7597597597597596
          ],
          [
           "Greg Brown III",
           "Portland Trail Blazers",
           1.1363636363636365
          ],
          [
           "Hamidou Diallo",
           "Detroit Pistons",
           0.7581967213114754
          ],
          [
           "Harrison Barnes",
           "Sacramento Kings",
           0.745920745920746
          ],
          [
           "Haywood Highsmith",
           "Miami Heat",
           0.5142857142857143
          ],
          [
           "Herbert Jones",
           "New Orleans Pelicans",
           0.7743732590529248
          ],
          [
           "Immanuel Quickley",
           "New York Knicks",
           0.9720670391061452
          ],
          [
           "Isaac Okoro",
           "Cleveland Cavaliers",
           0.30487804878048785
          ],
          [
           "Isaiah Hartenstein",
           "New York Knicks",
           0.9405684754521964
          ],
          [
           "Isaiah Jackson",
           "Indiana Pacers",
           1.1317829457364341
          ],
          [
           "Isaiah Joe",
           "Oklahoma City Thunder",
           1.164179104477612
          ],
          [
           "Isaiah Livers",
           "Detroit Pistons",
           0.6063829787234043
          ],
          [
           "Isaiah Mobley",
           "Cleveland Cavaliers",
           1.6666666666666667
          ],
          [
           "Isaiah Roby",
           "San Antonio Spurs",
           1
          ],
          [
           "Isaiah Stewart",
           "Detroit Pistons",
           0.9802469135802468
          ],
          [
           "Isaiah Todd",
           "Washington Wizards",
           0.1111111111111111
          ],
          [
           "Ish Smith",
           "Denver Nuggets",
           0.08695652173913045
          ],
          [
           "Ish Wainright",
           "Phoenix Suns",
           4
          ],
          [
           "Ivica Zubac",
           "LA Clippers",
           0.9395161290322581
          ],
          [
           "JD Davison",
           "Boston Celtics",
           -0.16666666666666666
          ],
          [
           "JT Thor",
           "Charlotte Hornets",
           0.5655172413793103
          ],
          [
           "Ja Morant",
           "Memphis Grizzlies",
           1.3852813852813852
          ],
          [
           "JaMychal Green",
           "Golden State Warriors",
           0.85
          ],
          [
           "JaVale McGee",
           "Dallas Mavericks",
           0.9099099099099098
          ],
          [
           "Jabari Smith Jr.",
           "Houston Rockets",
           0.6548672566371682
          ],
          [
           "Jabari Walker",
           "Portland Trail Blazers",
           0.875
          ],
          [
           "Jack White",
           "Denver Nuggets",
           0.6250000000000001
          ],
          [
           "Jaden Hardy",
           "Dallas Mavericks",
           -0.5
          ],
          [
           "Jaden Ivey",
           "Detroit Pistons",
           0.8984375
          ],
          [
           "Jaden McDaniels",
           "Minnesota Timberwolves",
           0.8377777777777777
          ],
          [
           "Jaden Springer",
           "Philadelphia 76ers",
           2.75
          ],
          [
           "Jae'Sean Tate",
           "Houston Rockets",
           0.8970588235294117
          ],
          [
           "Jake LaRavia",
           "Memphis Grizzlies",
           0.6790697674418604
          ],
          [
           "Jakob Poeltl",
           "San Antonio Spurs",
           1.2147505422993492
          ],
          [
           "Jalen Brunson",
           "New York Knicks",
           1.183206106870229
          ],
          [
           "Jalen Duren",
           "Detroit Pistons",
           0.8366666666666667
          ],
          [
           "Jalen Green",
           "Houston Rockets",
           0.8704379562043796
          ],
          [
           "Jalen Johnson",
           "Atlanta Hawks",
           0.8181818181818182
          ],
          [
           "Jalen McDaniels",
           "Charlotte Hornets",
           0.8787185354691076
          ],
          [
           "Jalen Smith",
           "Indiana Pacers",
           0.9266862170087977
          ],
          [
           "Jalen Suggs",
           "Orlando Magic",
           0.939209726443769
          ],
          [
           "Jalen Williams",
           "Oklahoma City Thunder",
           0.8831615120274915
          ],
          [
           "Jamal Cain",
           "Miami Heat",
           0.653846153846154
          ],
          [
           "Jamal Murray",
           "Denver Nuggets",
           0.9736147757255936
          ],
          [
           "James Bouknight",
           "Charlotte Hornets",
           0.5365853658536585
          ],
          [
           "James Harden",
           "Philadelphia 76ers",
           1.365558912386707
          ],
          [
           "James Johnson",
           "Indiana Pacers",
           0.7608695652173914
          ],
          [
           "James Wiseman",
           "Golden State Warriors",
           0.972972972972973
          ],
          [
           "Jaren Jackson Jr.",
           "Memphis Grizzlies",
           1.42
          ],
          [
           "Jarred Vanderbilt",
           "Utah Jazz",
           1.032171581769437
          ],
          [
           "Jarrett Allen",
           "Cleveland Cavaliers",
           0.9977168949771689
          ],
          [
           "Jarrett Culver",
           "Atlanta Hawks",
           0
          ],
          [
           "Jason Preston",
           "LA Clippers",
           -1
          ],
          [
           "Javonte Green",
           "Chicago Bulls",
           1.010752688172043
          ],
          [
           "Jaxson Hayes",
           "New Orleans Pelicans",
           0.38888888888888884
          ],
          [
           "Jaylen Brown",
           "Boston Celtics",
           1.0927643784786643
          ],
          [
           "Jaylen Nowell",
           "Minnesota Timberwolves",
           0.9694656488549619
          ],
          [
           "Jaylin Williams",
           "Oklahoma City Thunder",
           0.7714285714285715
          ],
          [
           "Jayson Tatum",
           "Boston Celtics",
           1.3862876254180603
          ],
          [
           "Jeff Dowtin Jr.",
           "Toronto Raptors",
           1.0434782608695652
          ],
          [
           "Jeff Green",
           "Denver Nuggets",
           0.65814696485623
          ],
          [
           "Jerami Grant",
           "Portland Trail Blazers",
           0.9163346613545816
          ],
          [
           "Jeremiah Robinson-Earl",
           "Oklahoma City Thunder",
           1.0327272727272727
          ],
          [
           "Jeremy Sochan",
           "San Antonio Spurs",
           0.7411444141689374
          ],
          [
           "Jericho Sims",
           "New York Knicks",
           1.1446540880503144
          ],
          [
           "Jevon Carter",
           "Milwaukee Bucks",
           0.9391727493917276
          ],
          [
           "Jimmy Butler",
           "Miami Heat",
           1.2306034482758619
          ],
          [
           "Jock Landale",
           "Phoenix Suns",
           1.0776255707762556
          ],
          [
           "Joe Harris",
           "Brooklyn Nets",
           0.6505376344086021
          ],
          [
           "Joel Embiid",
           "Philadelphia 76ers",
           1.5
          ],
          [
           "John Butler Jr.",
           "Portland Trail Blazers",
           0.7777777777777778
          ],
          [
           "John Collins",
           "Atlanta Hawks",
           0.8879492600422833
          ],
          [
           "John Konchar",
           "Memphis Grizzlies",
           0.8054862842892768
          ],
          [
           "John Wall",
           "LA Clippers",
           1.0795454545454546
          ],
          [
           "Johnny Davis",
           "Washington Wizards",
           0.3
          ],
          [
           "Jonas Valanciunas",
           "New Orleans Pelicans",
           1.1296296296296295
          ],
          [
           "Jonathan Kuminga",
           "Golden State Warriors",
           0.5670731707317074
          ],
          [
           "Jordan Clarkson",
           "Utah Jazz",
           0.9769230769230769
          ],
          [
           "Jordan Goodwin",
           "Washington Wizards",
           1.1695906432748537
          ],
          [
           "Jordan Hall",
           "San Antonio Spurs",
           0.47457627118644063
          ],
          [
           "Jordan McLaughlin",
           "Minnesota Timberwolves",
           0.9230769230769231
          ],
          [
           "Jordan Nwora",
           "Milwaukee Bucks",
           0.6620689655172415
          ],
          [
           "Jordan Poole",
           "Golden State Warriors",
           0.9157427937915743
          ],
          [
           "Jordan Schakel",
           "Washington Wizards",
           1.6666666666666667
          ],
          [
           "Jose Alvarado",
           "New Orleans Pelicans",
           0.9871382636655949
          ],
          [
           "Josh Christopher",
           "Houston Rockets",
           0.5851063829787234
          ],
          [
           "Josh Giddey",
           "Oklahoma City Thunder",
           0.9872122762148338
          ],
          [
           "Josh Green",
           "Dallas Mavericks",
           0.7236363636363637
          ],
          [
           "Josh Hart",
           "Portland Trail Blazers",
           0.7551401869158879
          ],
          [
           "Josh Okogie",
           "Phoenix Suns",
           0.5921052631578947
          ],
          [
           "Josh Richardson",
           "San Antonio Spurs",
           0.7840909090909091
          ],
          [
           "Joshua Primo",
           "San Antonio Spurs",
           0.6382978723404256
          ],
          [
           "Jrue Holiday",
           "Milwaukee Bucks",
           1.2788732394366198
          ],
          [
           "Juan Toscano-Anderson",
           "Los Angeles Lakers",
           0.488
          ],
          [
           "Juancho Hernangomez",
           "Toronto Raptors",
           0.7699115044247787
          ],
          [
           "Julius Randle",
           "New York Knicks",
           1.0170454545454546
          ],
          [
           "Justin Champagnie",
           "Toronto Raptors",
           1.5
          ],
          [
           "Justin Holiday",
           "Atlanta Hawks",
           0.5675675675675675
          ],
          [
           "Justin Jackson",
           "Boston Celtics",
           0.52
          ],
          [
           "Justise Winslow",
           "Portland Trail Blazers",
           0.8317757009345794
          ],
          [
           "Jusuf Nurkic",
           "Portland Trail Blazers",
           1.0298507462686566
          ],
          [
           "KZ Okpala",
           "Sacramento Kings",
           0.37735849056603776
          ],
          [
           "Kai Jones",
           "Charlotte Hornets",
           1.4
          ],
          [
           "Karl-Anthony Towns",
           "Minnesota Timberwolves",
           1.248062015503876
          ],
          [
           "Kawhi Leonard",
           "LA Clippers",
           0.9104477611940298
          ],
          [
           "Keegan Murray",
           "Sacramento Kings",
           0.75
          ],
          [
           "Keita Bates-Diop",
           "San Antonio Spurs",
           0.8595744680851064
          ],
          [
           "Keldon Johnson",
           "San Antonio Spurs",
           1.0390455531453362
          ],
          [
           "Kelly Olynyk",
           "Utah Jazz",
           0.9888888888888889
          ],
          [
           "Kelly Oubre Jr.",
           "Charlotte Hornets",
           0.9758812615955473
          ],
          [
           "Kendrick Nunn",
           "Los Angeles Lakers",
           0.4662576687116564
          ],
          [
           "Kennedy Chandler",
           "Memphis Grizzlies",
           0.6724137931034483
          ],
          [
           "Kenneth Lofton Jr.",
           "Memphis Grizzlies",
           0.7142857142857143
          ],
          [
           "Kenrich Williams",
           "Oklahoma City Thunder",
           0.7847682119205298
          ],
          [
           "Kentavious Caldwell-Pope",
           "Denver Nuggets",
           0.8649885583524027
          ],
          [
           "Kenyon Martin Jr.",
           "Houston Rockets",
           0.8493827160493828
          ],
          [
           "Keon Ellis",
           "Sacramento Kings",
           0
          ],
          [
           "Keon Johnson",
           "Portland Trail Blazers",
           0.6542056074766355
          ],
          [
           "Kessler Edwards",
           "Brooklyn Nets",
           0.9655172413793103
          ],
          [
           "Kevin Durant",
           "Brooklyn Nets",
           1.4516129032258065
          ],
          [
           "Kevin Huerter",
           "Sacramento Kings",
           0.9730337078651685
          ],
          [
           "Kevin Knox II",
           "Detroit Pistons",
           0.38461538461538464
          ],
          [
           "Kevin Love",
           "Cleveland Cavaliers",
           1.1191222570532917
          ],
          [
           "Kevin Porter Jr.",
           "Houston Rockets",
           0.9561068702290076
          ],
          [
           "Kevon Harris",
           "Orlando Magic",
           0.55
          ],
          [
           "Kevon Looney",
           "Golden State Warriors",
           0.9658792650918635
          ],
          [
           "Khem Birch",
           "Toronto Raptors",
           0.9777777777777777
          ],
          [
           "Killian Hayes",
           "Detroit Pistons",
           0.7640750670241288
          ],
          [
           "Klay Thompson",
           "Golden State Warriors",
           0.776595744680851
          ],
          [
           "Kristaps Porzingis",
           "Washington Wizards",
           1.2818371607515657
          ],
          [
           "Kyle Anderson",
           "Minnesota Timberwolves",
           1.0186046511627906
          ],
          [
           "Kyle Kuzma",
           "Washington Wizards",
           0.9033457249070632
          ],
          [
           "Kyle Lowry",
           "Miami Heat",
           0.9106529209621993
          ],
          [
           "Kyrie Irving",
           "Brooklyn Nets",
           1.2282958199356913
          ],
          [
           "LaMelo Ball",
           "Charlotte Hornets",
           1.0606060606060606
          ],
          [
           "Lamar Stevens",
           "Cleveland Cavaliers",
           0.5862068965517242
          ],
          [
           "Landry Shamet",
           "Phoenix Suns",
           0.6827586206896552
          ],
          [
           "Larry Nance Jr.",
           "New Orleans Pelicans",
           1.1521126760563378
          ],
          [
           "Lauri Markkanen",
           "Utah Jazz",
           1.2085561497326203
          ],
          [
           "LeBron James",
           "Los Angeles Lakers",
           1.291316526610644
          ],
          [
           "Leandro Bolmaro",
           "Utah Jazz",
           0.6666666666666667
          ],
          [
           "Lindy Waters III",
           "Oklahoma City Thunder",
           0.7096774193548387
          ],
          [
           "Lonnie Walker IV",
           "Los Angeles Lakers",
           0.871313672922252
          ],
          [
           "Luguentz Dort",
           "Oklahoma City Thunder",
           0.8139059304703476
          ],
          [
           "Luka Doncic",
           "Dallas Mavericks",
           1.7027027027027026
          ],
          [
           "Luke Kennard",
           "LA Clippers",
           0.6421404682274247
          ],
          [
           "Luke Kornet",
           "Boston Celtics",
           1.120253164556962
          ],
          [
           "Malachi Flynn",
           "Toronto Raptors",
           1.0210526315789474
          ],
          [
           "Malaki Branham",
           "San Antonio Spurs",
           0.46835443037974683
          ],
          [
           "Malcolm Brogdon",
           "Boston Celtics",
           1.0297397769516727
          ],
          [
           "Malcolm Hill",
           "Chicago Bulls",
           1
          ],
          [
           "Malik Beasley",
           "Utah Jazz",
           0.9179954441913439
          ],
          [
           "Malik Monk",
           "Sacramento Kings",
           1.1009771986970684
          ],
          [
           "Mamadi Diakite",
           "Cleveland Cavaliers",
           1
          ],
          [
           "MarJon Beauchamp",
           "Milwaukee Bucks",
           0.5650224215246638
          ],
          [
           "Marcus Morris Sr.",
           "LA Clippers",
           0.9525959367945824
          ],
          [
           "Marcus Smart",
           "Boston Celtics",
           0.9368191721132898
          ],
          [
           "Mark Williams",
           "Charlotte Hornets",
           1.3333333333333333
          ],
          [
           "Markieff Morris",
           "Brooklyn Nets",
           0.7105263157894737
          ],
          [
           "Marko Simonovic",
           "Chicago Bulls",
           -0.5
          ],
          [
           "Marvin Bagley III",
           "Detroit Pistons",
           0.6666666666666666
          ],
          [
           "Mason Plumlee",
           "Charlotte Hornets",
           1.0131868131868131
          ],
          [
           "Matisse Thybulle",
           "Philadelphia 76ers",
           0.6589595375722542
          ],
          [
           "Matt Ryan",
           "Los Angeles Lakers",
           0.5409836065573771
          ],
          [
           "Matthew Dellavedova",
           "Sacramento Kings",
           0.717948717948718
          ],
          [
           "Max Christie",
           "Los Angeles Lakers",
           0.717391304347826
          ],
          [
           "Max Strus",
           "Miami Heat",
           0.7981481481481482
          ],
          [
           "Maxi Kleber",
           "Dallas Mavericks",
           0.5172413793103448
          ],
          [
           "McKinley Wright IV",
           "Dallas Mavericks",
           2
          ],
          [
           "Micah Potter",
           "Utah Jazz",
           1
          ],
          [
           "Michael Porter Jr.",
           "Denver Nuggets",
           0.9825436408977556
          ],
          [
           "Mikal Bridges",
           "Phoenix Suns",
           0.9766606822262118
          ],
          [
           "Mike Conley",
           "Utah Jazz",
           1.055327868852459
          ],
          [
           "Mike Muscala",
           "Oklahoma City Thunder",
           0.9827586206896551
          ],
          [
           "Miles McBride",
           "New York Knicks",
           0.3076923076923077
          ],
          [
           "Mitchell Robinson",
           "New York Knicks",
           1.1379310344827587
          ],
          [
           "Mo Bamba",
           "Orlando Magic",
           0.9840637450199201
          ],
          [
           "Monte Morris",
           "Washington Wizards",
           0.8901601830663616
          ],
          [
           "Montrezl Harrell",
           "Philadelphia 76ers",
           0.8308823529411764
          ],
          [
           "Moses Brown",
           "LA Clippers",
           1.6578947368421053
          ],
          [
           "Moses Moody",
           "Golden State Warriors",
           0.6171171171171171
          ],
          [
           "Moussa Diabate",
           "LA Clippers",
           1.7142857142857142
          ],
          [
           "Myles Turner",
           "Indiana Pacers",
           1.4566929133858268
          ],
          [
           "Naji Marshall",
           "New Orleans Pelicans",
           0.67601246105919
          ],
          [
           "Nassir Little",
           "Portland Trail Blazers",
           0.7743362831858407
          ],
          [
           "Nathan Knight",
           "Minnesota Timberwolves",
           0.8
          ],
          [
           "Naz Reid",
           "Minnesota Timberwolves",
           1.25
          ],
          [
           "Nerlens Noel",
           "Detroit Pistons",
           0.8666666666666667
          ],
          [
           "Nic Claxton",
           "Brooklyn Nets",
           1.175233644859813
          ],
          [
           "Nick Richards",
           "Charlotte Hornets",
           1.0329341317365268
          ],
          [
           "Nickeil Alexander-Walker",
           "Utah Jazz",
           0.9855072463768115
          ],
          [
           "Nicolas Batum",
           "LA Clippers",
           0.8402777777777778
          ],
          [
           "Nikola Jokic",
           "Denver Nuggets",
           1.6962962962962964
          ],
          [
           "Nikola Jovic",
           "Miami Heat",
           0.7468354430379748
          ],
          [
           "Nikola Vucevic",
           "Chicago Bulls",
           1.0841683366733468
          ],
          [
           "Noah Vonleh",
           "Boston Celtics",
           0.6535433070866141
          ],
          [
           "Norman Powell",
           "LA Clippers",
           0.6895674300254453
          ],
          [
           "O.G. Anunoby",
           "Toronto Raptors",
           1.0679442508710801
          ],
          [
           "Obi Toppin",
           "New York Knicks",
           0.9689655172413794
          ],
          [
           "Ochai Agbaji",
           "Utah Jazz",
           0.3939393939393939
          ],
          [
           "Onyeka Okongwu",
           "Atlanta Hawks",
           1.0797101449275361
          ],
          [
           "Orlando Robinson",
           "Miami Heat",
           0.875
          ],
          [
           "Oshae Brissett",
           "Indiana Pacers",
           0.5943396226415094
          ],
          [
           "Otto Porter Jr.",
           "Toronto Raptors",
           0.8231292517006803
          ],
          [
           "Ousmane Dieng",
           "Oklahoma City Thunder",
           0.5864661654135338
          ],
          [
           "P.J. Tucker",
           "Philadelphia 76ers",
           0.4767441860465116
          ],
          [
           "P.J. Washington",
           "Charlotte Hornets",
           0.8447653429602889
          ],
          [
           "Paolo Banchero",
           "Orlando Magic",
           1.0815789473684212
          ],
          [
           "Pascal Siakam",
           "Toronto Raptors",
           1.3582554517133958
          ],
          [
           "Patrick Baldwin Jr.",
           "Golden State Warriors",
           -0.2
          ],
          [
           "Patrick Beverley",
           "Los Angeles Lakers",
           0.5850746268656716
          ],
          [
           "Patrick Williams",
           "Chicago Bulls",
           0.7579462102689487
          ],
          [
           "Patty Mills",
           "Brooklyn Nets",
           0.7578947368421053
          ],
          [
           "Paul George",
           "LA Clippers",
           1.1065420560747665
          ],
          [
           "Paul Reed",
           "Philadelphia 76ers",
           0.9888888888888889
          ],
          [
           "Payton Pritchard",
           "Boston Celtics",
           0.9514563106796117
          ],
          [
           "Peyton Watson",
           "Denver Nuggets",
           0.4615384615384615
          ],
          [
           "Precious Achiuwa",
           "Toronto Raptors",
           0.8448979591836734
          ],
          [
           "Quentin Grimes",
           "New York Knicks",
           0.4883720930232558
          ],
          [
           "R.J. Hampton",
           "Orlando Magic",
           0.93048128342246
          ],
          [
           "RJ Barrett",
           "New York Knicks",
           0.705989110707804
          ],
          [
           "Raul Neto",
           "Cleveland Cavaliers",
           0.7578947368421053
          ],
          [
           "Reggie Bullock",
           "Dallas Mavericks",
           0.45330296127562647
          ],
          [
           "Reggie Jackson",
           "LA Clippers",
           0.6939655172413793
          ],
          [
           "Richaun Holmes",
           "Sacramento Kings",
           0.6728971962616822
          ],
          [
           "Robert Covington",
           "LA Clippers",
           0.861788617886179
          ],
          [
           "Robin Lopez",
           "Cleveland Cavaliers",
           0.6067415730337078
          ],
          [
           "Rodney McGruder",
           "Detroit Pistons",
           0.3181818181818181
          ],
          [
           "Romeo Langford",
           "San Antonio Spurs",
           0.48672566371681414
          ],
          [
           "Ron Harper Jr.",
           "Toronto Raptors",
           -0.3333333333333333
          ],
          [
           "Royce O'Neale",
           "Brooklyn Nets",
           0.7653239929947461
          ],
          [
           "Rudy Gay",
           "Utah Jazz",
           0.6825396825396826
          ],
          [
           "Rudy Gobert",
           "Minnesota Timberwolves",
           1.078758949880668
          ],
          [
           "Rui Hachimura",
           "Washington Wizards",
           0.816
          ],
          [
           "Russell Westbrook",
           "Los Angeles Lakers",
           1.1070496083550914
          ],
          [
           "Ryan Arcidiacono",
           "New York Knicks",
           1.375
          ],
          [
           "Ryan Rollins",
           "Golden State Warriors",
           0.3333333333333333
          ],
          [
           "Saddiq Bey",
           "Detroit Pistons",
           0.7419354838709677
          ],
          [
           "Sam Hauser",
           "Boston Celtics",
           0.9135338345864662
          ],
          [
           "Sandro Mamukelashvili",
           "Milwaukee Bucks",
           0.375
          ],
          [
           "Santi Aldama",
           "Memphis Grizzlies",
           0.9128440366972477
          ],
          [
           "Scottie Barnes",
           "Toronto Raptors",
           0.9714285714285715
          ],
          [
           "Scotty Pippen Jr.",
           "Los Angeles Lakers",
           0
          ],
          [
           "Serge Ibaka",
           "Milwaukee Bucks",
           0.7756410256410257
          ],
          [
           "Seth Curry",
           "Brooklyn Nets",
           0.7482993197278911
          ],
          [
           "Shaedon Sharpe",
           "Portland Trail Blazers",
           0.7542662116040957
          ],
          [
           "Shai Gilgeous-Alexander",
           "Oklahoma City Thunder",
           1.5652985074626864
          ],
          [
           "Shake Milton",
           "Philadelphia 76ers",
           0.6103896103896104
          ],
          [
           "Simone Fontecchio",
           "Utah Jazz",
           0.8620689655172413
          ],
          [
           "Spencer Dinwiddie",
           "Dallas Mavericks",
           1.0462776659959758
          ],
          [
           "Stephen Curry",
           "Golden State Warriors",
           1.653179190751445
          ],
          [
           "Steven Adams",
           "Memphis Grizzlies",
           0.9153846153846155
          ],
          [
           "Svi Mykhailiuk",
           "New York Knicks",
           1.75
          ],
          [
           "T.J. McConnell",
           "Indiana Pacers",
           0.8411214953271029
          ],
          [
           "Taj Gibson",
           "Washington Wizards",
           1.0681818181818181
          ],
          [
           "Talen Horton-Tucker",
           "Utah Jazz",
           1.0397111913357402
          ],
          [
           "Tari Eason",
           "Houston Rockets",
           1.0996563573883162
          ],
          [
           "Taurean Prince",
           "Minnesota Timberwolves",
           0.7422680412371134
          ],
          [
           "Terance Mann",
           "LA Clippers",
           0.7972027972027972
          ],
          [
           "Terence Davis",
           "Sacramento Kings",
           1.3575418994413408
          ],
          [
           "Terrence Ross",
           "Orlando Magic",
           0.5979643765903307
          ],
          [
           "Terry Rozier",
           "Charlotte Hornets",
           0.9021739130434784
          ],
          [
           "Terry Taylor",
           "Indiana Pacers",
           0.6451612903225806
          ],
          [
           "Thaddeus Young",
           "Toronto Raptors",
           0.9076923076923077
          ],
          [
           "Thanasis Antetokounmpo",
           "Milwaukee Bucks",
           0.43478260869565216
          ],
          [
           "Theo Maledon",
           "Charlotte Hornets",
           0.8798283261802575
          ],
          [
           "Theo Pinson",
           "Dallas Mavericks",
           0.6363636363636365
          ],
          [
           "Thomas Bryant",
           "Los Angeles Lakers",
           1.4615384615384615
          ],
          [
           "Tim Hardaway Jr.",
           "Dallas Mavericks",
           0.7855072463768117
          ],
          [
           "Tobias Harris",
           "Philadelphia 76ers",
           1
          ],
          [
           "Tony Bradley",
           "Chicago Bulls",
           1.0909090909090908
          ],
          [
           "Torrey Craig",
           "Phoenix Suns",
           0.8975155279503105
          ],
          [
           "Trae Young",
           "Atlanta Hawks",
           1.2139917695473252
          ],
          [
           "Tre Jones",
           "San Antonio Spurs",
           1.0267857142857144
          ],
          [
           "Tre Mann",
           "Oklahoma City Thunder",
           0.8327974276527331
          ],
          [
           "Trendon Watford",
           "Portland Trail Blazers",
           0.7788461538461539
          ],
          [
           "Trent Forrest",
           "Atlanta Hawks",
           0.4736842105263158
          ],
          [
           "Trevor Hudgins",
           "Houston Rockets",
           1.25
          ],
          [
           "Trevor Keels",
           "New York Knicks",
           0
          ],
          [
           "Trey Lyles",
           "Sacramento Kings",
           0.8461538461538463
          ],
          [
           "Trey Murphy III",
           "New Orleans Pelicans",
           0.9101382488479263
          ],
          [
           "Troy Brown Jr.",
           "Los Angeles Lakers",
           0.6728971962616822
          ],
          [
           "Ty Jerome",
           "Golden State Warriors",
           0.8099173553719008
          ],
          [
           "TyTy Washington Jr.",
           "Houston Rockets",
           0
          ],
          [
           "Tyler Dorsey",
           "Dallas Mavericks",
           4
          ],
          [
           "Tyler Herro",
           "Miami Heat",
           1.0638977635782747
          ],
          [
           "Tyrese Haliburton",
           "Indiana Pacers",
           1.4705882352941178
          ],
          [
           "Tyrese Martin",
           "Atlanta Hawks",
           0.7619047619047619
          ],
          [
           "Tyrese Maxey",
           "Philadelphia 76ers",
           1.0055045871559631
          ],
          [
           "Tyus Jones",
           "Memphis Grizzlies",
           0.9132791327913279
          ],
          [
           "Udoka Azubuike",
           "Utah Jazz",
           2.055555555555556
          ],
          [
           "Udonis Haslem",
           "Miami Heat",
           0.7
          ],
          [
           "Usman Garuba",
           "Houston Rockets",
           1.1031390134529149
          ],
          [
           "Vernon Carey Jr.",
           "Washington Wizards",
           0
          ],
          [
           "Vince Williams Jr.",
           "Memphis Grizzlies",
           0.9444444444444445
          ],
          [
           "Vit Krejci",
           "Atlanta Hawks",
           1
          ],
          [
           "Vlatko Cancar",
           "Denver Nuggets",
           0.6041666666666666
          ],
          [
           "Walker Kessler",
           "Utah Jazz",
           1.2018779342723005
          ],
          [
           "Wendell Carter Jr.",
           "Orlando Magic",
           0.973630831643002
          ],
          [
           "Wendell Moore Jr.",
           "Minnesota Timberwolves",
           -1.5
          ],
          [
           "Wenyen Gabriel",
           "Los Angeles Lakers",
           1.0059880239520957
          ],
          [
           "Wesley Matthews",
           "Milwaukee Bucks",
           0.5687203791469194
          ],
          [
           "Will Barton",
           "Washington Wizards",
           0.7219101123595506
          ],
          [
           "Willy Hernangomez",
           "New Orleans Pelicans",
           0.6428571428571429
          ],
          [
           "Xavier Tillman",
           "Memphis Grizzlies",
           0.5824175824175825
          ],
          [
           "Yuta Watanabe",
           "Brooklyn Nets",
           0.9393939393939394
          ],
          [
           "Zach Collins",
           "San Antonio Spurs",
           1.3164556962025316
          ],
          [
           "Zach LaVine",
           "Chicago Bulls",
           0.9698492462311558
          ],
          [
           "Zeke Nnaji",
           "Denver Nuggets",
           0.7368421052631579
          ],
          [
           "Zion Williamson",
           "New Orleans Pelicans",
           1.1741573033707864
          ]
         ],
         "hovertemplate": "MIN=%{x}<br>FANTASY=%{y}<br>PLAYER_NAME=%{customdata[0]}<br>TEAM_NAME=%{customdata[1]}<br>RATE=%{customdata[2]}<extra></extra>",
         "legendgroup": "",
         "marker": {
          "color": "#636efa",
          "symbol": "circle"
         },
         "mode": "markers",
         "name": "",
         "orientation": "v",
         "showlegend": false,
         "type": "scatter",
         "x": [
          2,
          8.5,
          13.181818181818182,
          29.076923076923077,
          18.666666666666668,
          19.6,
          21.384615384615383,
          7.285714285714286,
          31.153846153846153,
          21,
          22.928571428571427,
          25.25,
          3,
          26.5,
          9.076923076923077,
          16.4,
          20.46153846153846,
          33.06666666666667,
          35.53846153846154,
          34.46153846153846,
          36.266666666666666,
          13.307692307692308,
          20.25,
          27.571428571428573,
          6.142857142857143,
          29.733333333333334,
          35.07142857142857,
          26.90909090909091,
          27.857142857142858,
          11.818181818181818,
          11.142857142857142,
          11.5,
          3.3333333333333335,
          27.133333333333333,
          31.58823529411765,
          25.3125,
          21.454545454545453,
          36.72727272727273,
          3.6,
          19.3125,
          33.333333333333336,
          3.5,
          31.6,
          27.533333333333335,
          18.5,
          6,
          10.875,
          1,
          31.5,
          36,
          33.25,
          17.545454545454547,
          30.866666666666667,
          23.375,
          18.545454545454547,
          25.25,
          23.692307692307693,
          33.4,
          19.866666666666667,
          16.285714285714285,
          4,
          12.3,
          22.384615384615383,
          19.666666666666668,
          30.2,
          15.357142857142858,
          16.75,
          25.23076923076923,
          22.125,
          26.6,
          19.75,
          1,
          30.25,
          2,
          21.823529411764707,
          24.25,
          12.416666666666666,
          30.266666666666666,
          14.571428571428571,
          11.266666666666667,
          3.3333333333333335,
          8.333333333333334,
          36.2,
          20.2,
          13.625,
          18,
          9.5,
          16.636363636363637,
          36.111111111111114,
          10.11111111111111,
          17.625,
          19.357142857142858,
          3.5,
          6.5,
          9.363636363636363,
          31.923076923076923,
          30.2,
          25.384615384615383,
          14.923076923076923,
          34.3125,
          22.727272727272727,
          28.384615384615383,
          36.4,
          23,
          22.4375,
          8,
          29.53846153846154,
          1.5,
          13.5,
          13.625,
          26.5,
          33.25,
          37,
          31.666666666666668,
          14.75,
          12.307692307692308,
          30.153846153846153,
          31.714285714285715,
          10,
          39.15384615384615,
          16.375,
          33,
          20.866666666666667,
          30,
          18.466666666666665,
          6,
          7.75,
          17.6,
          18.083333333333332,
          12.5,
          16.857142857142858,
          30.714285714285715,
          11.5,
          20,
          34.46666666666667,
          8.6,
          5.333333333333333,
          8,
          34.1875,
          36.72727272727273,
          5.4,
          26.266666666666666,
          10.5,
          12.071428571428571,
          24,
          32.07142857142857,
          22.133333333333333,
          18.733333333333334,
          32.833333333333336,
          11.777777777777779,
          19.0625,
          32.111111111111114,
          9.5,
          28.733333333333334,
          25.615384615384617,
          5.5,
          14.352941176470589,
          30.642857142857142,
          10,
          29.916666666666668,
          22.375,
          16.4,
          24.1875,
          18.428571428571427,
          6.090909090909091,
          18.8,
          4.5,
          11.363636363636363,
          27,
          3,
          4.6,
          1,
          31,
          3,
          10.357142857142858,
          33,
          16.923076923076923,
          10.090909090909092,
          30.133333333333333,
          9,
          2.6666666666666665,
          3.3333333333333335,
          32,
          30,
          2,
          22.666666666666668,
          17.916666666666668,
          28.8125,
          32.75,
          21.428571428571427,
          34.25,
          13.933333333333334,
          25.705882352941178,
          24.357142857142858,
          29.90909090909091,
          24.25,
          8.666666666666666,
          29.153846153846153,
          16.88235294117647,
          36.77777777777778,
          11.5,
          13.454545454545455,
          25,
          24.866666666666667,
          33.69230769230769,
          2,
          3,
          17.4375,
          7.2,
          35.93333333333333,
          17.466666666666665,
          7,
          37.375,
          7.666666666666667,
          20.866666666666667,
          35.857142857142854,
          18.333333333333332,
          24.466666666666665,
          14.454545454545455,
          27.4,
          35.69230769230769,
          14.6,
          26.571428571428573,
          35.45454545454545,
          9,
          31.533333333333335,
          26.733333333333334,
          22,
          6,
          23.625,
          13.666666666666666,
          30.58823529411765,
          19,
          11.8,
          16,
          19.333333333333332,
          28.1875,
          3,
          19.4375,
          7.833333333333333,
          30.076923076923077,
          18.333333333333332,
          35.666666666666664,
          5.428571428571429,
          23.466666666666665,
          23.5,
          32.27272727272727,
          12.5,
          12.555555555555555,
          33,
          4,
          18.5,
          6.25,
          26.75,
          27.916666666666668,
          6.625,
          4.375,
          34.4,
          22.333333333333332,
          30.333333333333332,
          15.666666666666666,
          32.92857142857143,
          26.470588235294116,
          31.705882352941178,
          13.583333333333334,
          9.666666666666666,
          4.666666666666667,
          20.133333333333333,
          31.214285714285715,
          25.3125,
          2,
          17.833333333333332,
          4.142857142857143,
          36.8125,
          31.785714285714285,
          7.8,
          21.266666666666666,
          34.93333333333333,
          12.727272727272727,
          23.8125,
          7.5,
          21.941176470588236,
          28.923076923076923,
          31.933333333333334,
          19.545454545454547,
          33.625,
          36.375,
          38.875,
          33,
          19.333333333333332,
          16.11111111111111,
          23.666666666666668,
          33,
          35.7,
          7,
          15.5,
          31.083333333333332,
          30.5625,
          37,
          21.357142857142858,
          13.166666666666666,
          10.555555555555555,
          19.75,
          22.416666666666668,
          0.3333333333333333,
          25.823529411764707,
          21.928571428571427,
          3.25,
          18.583333333333332,
          31.642857142857142,
          32.785714285714285,
          4,
          9.5,
          2,
          23.25,
          26.764705882352942,
          12.357142857142858,
          12.2,
          7.8,
          11.5,
          33.75,
          24.53846153846154,
          5,
          5.5,
          28.642857142857142,
          37.13333333333333,
          30.5,
          13.384615384615385,
          2.6,
          21.75,
          16.733333333333334,
          27.3125,
          10.461538461538462,
          4.222222222222222,
          15.857142857142858,
          3.5,
          28.22222222222222,
          20.0625,
          15.066666666666666,
          2.5,
          12,
          12,
          26.75,
          19.647058823529413,
          7.666666666666667,
          18,
          31.153846153846153,
          13.166666666666666,
          31.1875,
          10.583333333333334,
          24.5625,
          35.875,
          18.125,
          11,
          19.714285714285715,
          32,
          11.777777777777779,
          18.375,
          14.777777777777779,
          28.666666666666668,
          32.588235294117645,
          34.54545454545455,
          35.666666666666664,
          2.5,
          27.916666666666668,
          25.5625,
          11.875,
          35.666666666666664,
          7.5,
          11.444444444444445,
          2.6,
          20.416666666666668,
          7.166666666666667,
          14.384615384615385,
          34.4375,
          10.555555555555555,
          29.266666666666666,
          29,
          11.88888888888889,
          13.666666666666666,
          9.88888888888889,
          4.4,
          16.142857142857142,
          3,
          35.6875,
          15.75,
          32.23076923076923,
          23.4375,
          29.46153846153846,
          2,
          4.2,
          31,
          16.625,
          5.333333333333333,
          27.25,
          32.666666666666664,
          4,
          12,
          21,
          20.928571428571427,
          35.733333333333334,
          14,
          6.444444444444445,
          33.13333333333333,
          34.6,
          26,
          2,
          16.46153846153846,
          6.285714285714286,
          16.294117647058822,
          18.1875,
          19.4,
          17.875,
          13.76923076923077,
          26.2,
          36.8,
          11.625,
          15,
          2.875,
          14.5625,
          3.6666666666666665,
          13,
          24.642857142857142,
          33.785714285714285,
          2.2,
          21.466666666666665,
          34.714285714285715,
          29.866666666666667,
          23.923076923076923,
          17.333333333333332,
          3.8,
          4,
          1,
          15.166666666666666,
          27.125,
          26.75,
          15.125,
          4,
          4,
          31.3,
          34,
          3,
          36.333333333333336,
          23.0625,
          3.6,
          5,
          15.928571428571429,
          1,
          6,
          2.857142857142857,
          6,
          15.214285714285714,
          32.86666666666667,
          2,
          13.916666666666666,
          16.23076923076923,
          22.25,
          7,
          11.375,
          17.76923076923077,
          17.555555555555557,
          33.166666666666664,
          7.6,
          32.36363636363637
         ],
         "xaxis": "x",
         "y": [
          4,
          5.5,
          12,
          30.23076923076923,
          11.466666666666667,
          13.1,
          15.923076923076923,
          4.571428571428571,
          28.53846153846154,
          23.25,
          26.428571428571427,
          20.8125,
          1.6,
          31.142857142857142,
          4,
          19.8,
          18.384615384615383,
          35.333333333333336,
          33.23076923076923,
          52.07692307692308,
          35.2,
          8.538461538461538,
          17.75,
          18,
          2.142857142857143,
          23.866666666666667,
          35.92857142857143,
          26.272727272727273,
          25.428571428571427,
          14,
          7.857142857142857,
          12.5,
          2.1666666666666665,
          29.466666666666665,
          28.58823529411765,
          29.125,
          24,
          40.45454545454545,
          3.2,
          20.5,
          36.5,
          3,
          36.666666666666664,
          26.2,
          27.5,
          6.4,
          7.75,
          0,
          33.07142857142857,
          38.75,
          34.916666666666664,
          6.545454545454546,
          22.333333333333332,
          17.375,
          14.636363636363637,
          26.625,
          25.384615384615383,
          24.333333333333332,
          13,
          22.428571428571427,
          0,
          10.9,
          25.076923076923077,
          13.11111111111111,
          35.9,
          9.785714285714286,
          11.75,
          27.53846153846154,
          16.5625,
          30.8,
          12,
          0,
          29.25,
          2,
          18.764705882352942,
          19.125,
          9.583333333333334,
          30.666666666666668,
          9.928571428571429,
          13.6,
          2.4444444444444446,
          7,
          42.1,
          13.8,
          13.25,
          9.76923076923077,
          7,
          20.272727272727273,
          42.44444444444444,
          6.333333333333333,
          10.25,
          12.142857142857142,
          1,
          2,
          8.909090909090908,
          46.53846153846154,
          19.933333333333334,
          24.46153846153846,
          13.923076923076923,
          39.0625,
          17.09090909090909,
          28.53846153846154,
          47.53333333333333,
          27.75,
          16.4375,
          0.5,
          32.69230769230769,
          0,
          11.571428571428571,
          13.125,
          27,
          40.083333333333336,
          47.2,
          34.583333333333336,
          11.75,
          12.538461538461538,
          22.46153846153846,
          41.642857142857146,
          8,
          51.38461538461539,
          8.375,
          18.466666666666665,
          13.133333333333333,
          30.066666666666666,
          15.266666666666667,
          6,
          6.25,
          9.8,
          13.583333333333334,
          12.5,
          14.857142857142858,
          22.214285714285715,
          10.166666666666666,
          13.076923076923077,
          34.266666666666666,
          7.4,
          4.833333333333333,
          5.666666666666667,
          31.0625,
          43.63636363636363,
          4,
          19.666666666666668,
          7.5,
          6.214285714285714,
          16,
          24.714285714285715,
          12,
          15.8,
          49,
          11.555555555555555,
          17.875,
          29,
          10.5,
          23.4,
          19.46153846153846,
          6.25,
          10.882352941176471,
          22.857142857142858,
          5.142857142857143,
          23.166666666666668,
          21.75,
          5,
          22.75,
          20.857142857142858,
          7.090909090909091,
          11.4,
          7.5,
          11.363636363636363,
          26.466666666666665,
          0.3333333333333333,
          0.4,
          4,
          29.125,
          -0.5,
          5.857142857142857,
          45.714285714285715,
          14.384615384615385,
          9.181818181818182,
          19.733333333333334,
          7.875,
          1.6666666666666667,
          -1.6666666666666667,
          28.75,
          25.133333333333333,
          5.5,
          20.333333333333332,
          12.166666666666666,
          35,
          38.75,
          17.928571428571427,
          29.8125,
          11.4,
          22.58823529411765,
          22.571428571428573,
          28.09090909090909,
          21.416666666666668,
          5.666666666666667,
          28.384615384615383,
          9.058823529411764,
          50.22222222222222,
          8.75,
          13.090909090909092,
          35.5,
          25.666666666666668,
          33.61538461538461,
          0,
          -3,
          17.625,
          2.8,
          39.266666666666666,
          16.933333333333334,
          5.4,
          51.8125,
          8,
          13.733333333333333,
          32.857142857142854,
          18.933333333333334,
          18.133333333333333,
          16.545454545454547,
          25.733333333333334,
          43.92307692307692,
          15.733333333333333,
          17.285714285714285,
          53.18181818181818,
          7,
          28,
          21.533333333333335,
          23.75,
          1.8,
          26.6875,
          7.75,
          29.88235294117647,
          22.22222222222222,
          5.6,
          14.76923076923077,
          12.8,
          25.8125,
          5,
          19.1875,
          4.583333333333333,
          29.692307692307693,
          13.266666666666667,
          26.933333333333334,
          3.2142857142857144,
          18.4,
          15,
          41.27272727272727,
          6.1,
          9.666666666666666,
          33.5625,
          6,
          10.5,
          3.25,
          22.25,
          28.75,
          2.5,
          6.125,
          42.93333333333333,
          20.333333333333332,
          22.75,
          13.466666666666667,
          34.214285714285715,
          26.176470588235293,
          30.941176470588236,
          6.333333333333333,
          6.5,
          3.3333333333333335,
          15.8,
          27,
          21.5,
          0,
          11.666666666666666,
          4,
          53.4375,
          30.928571428571427,
          3,
          23.8,
          33.4,
          7,
          23,
          7.333333333333333,
          16.764705882352942,
          22.46153846153846,
          40.93333333333333,
          19.90909090909091,
          30.375,
          33.125,
          47.75,
          35,
          11.333333333333334,
          11,
          27.266666666666666,
          39.88235294117647,
          46.1,
          4.666666666666667,
          11,
          27.083333333333332,
          24.875,
          63,
          13.714285714285714,
          14.75,
          10.777777777777779,
          9.25,
          23.083333333333332,
          0.3333333333333333,
          23.705882352941178,
          24.142857142857142,
          3.25,
          10.5,
          30.142857142857142,
          30.714285714285715,
          5.333333333333333,
          6.75,
          -1,
          15.5,
          27.11764705882353,
          8.142857142857142,
          6.6,
          5.6,
          8.25,
          26.9375,
          12.692307692307692,
          10,
          5.5,
          28.142857142857142,
          36.266666666666666,
          32.1875,
          13.153846153846153,
          0.8,
          24.75,
          16.466666666666665,
          24.3125,
          8.692307692307692,
          7,
          9.785714285714286,
          6,
          41.111111111111114,
          13.5625,
          11.666666666666666,
          2,
          15,
          10.4,
          31.4375,
          20.294117647058822,
          7.555555555555555,
          15.125,
          52.84615384615385,
          9.833333333333334,
          33.8125,
          6.916666666666667,
          16.9375,
          38.3125,
          17.5625,
          4.333333333333333,
          21.285714285714285,
          28,
          7,
          15.125,
          8.666666666666666,
          13.666666666666666,
          27.529411764705884,
          37.36363636363637,
          48.44444444444444,
          -0.5,
          16.333333333333332,
          19.375,
          9,
          39.46666666666667,
          7.416666666666667,
          10.88888888888889,
          1.2,
          17.25,
          3.5,
          13.384615384615385,
          24.3125,
          8,
          13.266666666666667,
          20.125,
          8,
          11.777777777777779,
          6,
          1.4,
          7.857142857142857,
          -1,
          27.3125,
          10.75,
          34.76923076923077,
          19.125,
          32.61538461538461,
          2.75,
          1.4,
          23,
          15.1875,
          2,
          24.875,
          31.733333333333334,
          0,
          9.307692307692308,
          15.714285714285714,
          15.785714285714286,
          55.93333333333333,
          8.545454545454545,
          5.555555555555555,
          34.666666666666664,
          57.2,
          23.8,
          3.5,
          13.846153846153847,
          6.714285714285714,
          16.941176470588236,
          20,
          14.4,
          14.25,
          18.692307692307693,
          15.666666666666666,
          33.2,
          7.5,
          13.615384615384615,
          1.25,
          12.8125,
          2.3333333333333335,
          19,
          19.357142857142858,
          33.785714285714285,
          2.4,
          19.266666666666666,
          42.142857142857146,
          30.666666666666668,
          19.923076923076923,
          13.5,
          1.8,
          5,
          0,
          12.833333333333334,
          24.6875,
          18,
          12.25,
          0,
          16,
          33.3,
          50,
          2.2857142857142856,
          36.53333333333333,
          21.0625,
          7.4,
          3.5,
          17.571428571428573,
          0,
          5.666666666666667,
          2.857142857142857,
          3.625,
          18.285714285714285,
          32,
          -3,
          14,
          9.23076923076923,
          16.0625,
          4.5,
          6.625,
          16.692307692307693,
          23.11111111111111,
          32.166666666666664,
          5.6,
          38
         ],
         "yaxis": "y"
        }
       ],
       "layout": {
        "height": 600,
        "legend": {
         "tracegroupgap": 0
        },
        "template": {
         "data": {
          "bar": [
           {
            "error_x": {
             "color": "#2a3f5f"
            },
            "error_y": {
             "color": "#2a3f5f"
            },
            "marker": {
             "line": {
              "color": "#E5ECF6",
              "width": 0.5
             },
             "pattern": {
              "fillmode": "overlay",
              "size": 10,
              "solidity": 0.2
             }
            },
            "type": "bar"
           }
          ],
          "barpolar": [
           {
            "marker": {
             "line": {
              "color": "#E5ECF6",
              "width": 0.5
             },
             "pattern": {
              "fillmode": "overlay",
              "size": 10,
              "solidity": 0.2
             }
            },
            "type": "barpolar"
           }
          ],
          "carpet": [
           {
            "aaxis": {
             "endlinecolor": "#2a3f5f",
             "gridcolor": "white",
             "linecolor": "white",
             "minorgridcolor": "white",
             "startlinecolor": "#2a3f5f"
            },
            "baxis": {
             "endlinecolor": "#2a3f5f",
             "gridcolor": "white",
             "linecolor": "white",
             "minorgridcolor": "white",
             "startlinecolor": "#2a3f5f"
            },
            "type": "carpet"
           }
          ],
          "choropleth": [
           {
            "colorbar": {
             "outlinewidth": 0,
             "ticks": ""
            },
            "type": "choropleth"
           }
          ],
          "contour": [
           {
            "colorbar": {
             "outlinewidth": 0,
             "ticks": ""
            },
            "colorscale": [
             [
              0,
              "#0d0887"
             ],
             [
              0.1111111111111111,
              "#46039f"
             ],
             [
              0.2222222222222222,
              "#7201a8"
             ],
             [
              0.3333333333333333,
              "#9c179e"
             ],
             [
              0.4444444444444444,
              "#bd3786"
             ],
             [
              0.5555555555555556,
              "#d8576b"
             ],
             [
              0.6666666666666666,
              "#ed7953"
             ],
             [
              0.7777777777777778,
              "#fb9f3a"
             ],
             [
              0.8888888888888888,
              "#fdca26"
             ],
             [
              1,
              "#f0f921"
             ]
            ],
            "type": "contour"
           }
          ],
          "contourcarpet": [
           {
            "colorbar": {
             "outlinewidth": 0,
             "ticks": ""
            },
            "type": "contourcarpet"
           }
          ],
          "heatmap": [
           {
            "colorbar": {
             "outlinewidth": 0,
             "ticks": ""
            },
            "colorscale": [
             [
              0,
              "#0d0887"
             ],
             [
              0.1111111111111111,
              "#46039f"
             ],
             [
              0.2222222222222222,
              "#7201a8"
             ],
             [
              0.3333333333333333,
              "#9c179e"
             ],
             [
              0.4444444444444444,
              "#bd3786"
             ],
             [
              0.5555555555555556,
              "#d8576b"
             ],
             [
              0.6666666666666666,
              "#ed7953"
             ],
             [
              0.7777777777777778,
              "#fb9f3a"
             ],
             [
              0.8888888888888888,
              "#fdca26"
             ],
             [
              1,
              "#f0f921"
             ]
            ],
            "type": "heatmap"
           }
          ],
          "heatmapgl": [
           {
            "colorbar": {
             "outlinewidth": 0,
             "ticks": ""
            },
            "colorscale": [
             [
              0,
              "#0d0887"
             ],
             [
              0.1111111111111111,
              "#46039f"
             ],
             [
              0.2222222222222222,
              "#7201a8"
             ],
             [
              0.3333333333333333,
              "#9c179e"
             ],
             [
              0.4444444444444444,
              "#bd3786"
             ],
             [
              0.5555555555555556,
              "#d8576b"
             ],
             [
              0.6666666666666666,
              "#ed7953"
             ],
             [
              0.7777777777777778,
              "#fb9f3a"
             ],
             [
              0.8888888888888888,
              "#fdca26"
             ],
             [
              1,
              "#f0f921"
             ]
            ],
            "type": "heatmapgl"
           }
          ],
          "histogram": [
           {
            "marker": {
             "pattern": {
              "fillmode": "overlay",
              "size": 10,
              "solidity": 0.2
             }
            },
            "type": "histogram"
           }
          ],
          "histogram2d": [
           {
            "colorbar": {
             "outlinewidth": 0,
             "ticks": ""
            },
            "colorscale": [
             [
              0,
              "#0d0887"
             ],
             [
              0.1111111111111111,
              "#46039f"
             ],
             [
              0.2222222222222222,
              "#7201a8"
             ],
             [
              0.3333333333333333,
              "#9c179e"
             ],
             [
              0.4444444444444444,
              "#bd3786"
             ],
             [
              0.5555555555555556,
              "#d8576b"
             ],
             [
              0.6666666666666666,
              "#ed7953"
             ],
             [
              0.7777777777777778,
              "#fb9f3a"
             ],
             [
              0.8888888888888888,
              "#fdca26"
             ],
             [
              1,
              "#f0f921"
             ]
            ],
            "type": "histogram2d"
           }
          ],
          "histogram2dcontour": [
           {
            "colorbar": {
             "outlinewidth": 0,
             "ticks": ""
            },
            "colorscale": [
             [
              0,
              "#0d0887"
             ],
             [
              0.1111111111111111,
              "#46039f"
             ],
             [
              0.2222222222222222,
              "#7201a8"
             ],
             [
              0.3333333333333333,
              "#9c179e"
             ],
             [
              0.4444444444444444,
              "#bd3786"
             ],
             [
              0.5555555555555556,
              "#d8576b"
             ],
             [
              0.6666666666666666,
              "#ed7953"
             ],
             [
              0.7777777777777778,
              "#fb9f3a"
             ],
             [
              0.8888888888888888,
              "#fdca26"
             ],
             [
              1,
              "#f0f921"
             ]
            ],
            "type": "histogram2dcontour"
           }
          ],
          "mesh3d": [
           {
            "colorbar": {
             "outlinewidth": 0,
             "ticks": ""
            },
            "type": "mesh3d"
           }
          ],
          "parcoords": [
           {
            "line": {
             "colorbar": {
              "outlinewidth": 0,
              "ticks": ""
             }
            },
            "type": "parcoords"
           }
          ],
          "pie": [
           {
            "automargin": true,
            "type": "pie"
           }
          ],
          "scatter": [
           {
            "fillpattern": {
             "fillmode": "overlay",
             "size": 10,
             "solidity": 0.2
            },
            "type": "scatter"
           }
          ],
          "scatter3d": [
           {
            "line": {
             "colorbar": {
              "outlinewidth": 0,
              "ticks": ""
             }
            },
            "marker": {
             "colorbar": {
              "outlinewidth": 0,
              "ticks": ""
             }
            },
            "type": "scatter3d"
           }
          ],
          "scattercarpet": [
           {
            "marker": {
             "colorbar": {
              "outlinewidth": 0,
              "ticks": ""
             }
            },
            "type": "scattercarpet"
           }
          ],
          "scattergeo": [
           {
            "marker": {
             "colorbar": {
              "outlinewidth": 0,
              "ticks": ""
             }
            },
            "type": "scattergeo"
           }
          ],
          "scattergl": [
           {
            "marker": {
             "colorbar": {
              "outlinewidth": 0,
              "ticks": ""
             }
            },
            "type": "scattergl"
           }
          ],
          "scattermapbox": [
           {
            "marker": {
             "colorbar": {
              "outlinewidth": 0,
              "ticks": ""
             }
            },
            "type": "scattermapbox"
           }
          ],
          "scatterpolar": [
           {
            "marker": {
             "colorbar": {
              "outlinewidth": 0,
              "ticks": ""
             }
            },
            "type": "scatterpolar"
           }
          ],
          "scatterpolargl": [
           {
            "marker": {
             "colorbar": {
              "outlinewidth": 0,
              "ticks": ""
             }
            },
            "type": "scatterpolargl"
           }
          ],
          "scatterternary": [
           {
            "marker": {
             "colorbar": {
              "outlinewidth": 0,
              "ticks": ""
             }
            },
            "type": "scatterternary"
           }
          ],
          "surface": [
           {
            "colorbar": {
             "outlinewidth": 0,
             "ticks": ""
            },
            "colorscale": [
             [
              0,
              "#0d0887"
             ],
             [
              0.1111111111111111,
              "#46039f"
             ],
             [
              0.2222222222222222,
              "#7201a8"
             ],
             [
              0.3333333333333333,
              "#9c179e"
             ],
             [
              0.4444444444444444,
              "#bd3786"
             ],
             [
              0.5555555555555556,
              "#d8576b"
             ],
             [
              0.6666666666666666,
              "#ed7953"
             ],
             [
              0.7777777777777778,
              "#fb9f3a"
             ],
             [
              0.8888888888888888,
              "#fdca26"
             ],
             [
              1,
              "#f0f921"
             ]
            ],
            "type": "surface"
           }
          ],
          "table": [
           {
            "cells": {
             "fill": {
              "color": "#EBF0F8"
             },
             "line": {
              "color": "white"
             }
            },
            "header": {
             "fill": {
              "color": "#C8D4E3"
             },
             "line": {
              "color": "white"
             }
            },
            "type": "table"
           }
          ]
         },
         "layout": {
          "annotationdefaults": {
           "arrowcolor": "#2a3f5f",
           "arrowhead": 0,
           "arrowwidth": 1
          },
          "autotypenumbers": "strict",
          "coloraxis": {
           "colorbar": {
            "outlinewidth": 0,
            "ticks": ""
           }
          },
          "colorscale": {
           "diverging": [
            [
             0,
             "#8e0152"
            ],
            [
             0.1,
             "#c51b7d"
            ],
            [
             0.2,
             "#de77ae"
            ],
            [
             0.3,
             "#f1b6da"
            ],
            [
             0.4,
             "#fde0ef"
            ],
            [
             0.5,
             "#f7f7f7"
            ],
            [
             0.6,
             "#e6f5d0"
            ],
            [
             0.7,
             "#b8e186"
            ],
            [
             0.8,
             "#7fbc41"
            ],
            [
             0.9,
             "#4d9221"
            ],
            [
             1,
             "#276419"
            ]
           ],
           "sequential": [
            [
             0,
             "#0d0887"
            ],
            [
             0.1111111111111111,
             "#46039f"
            ],
            [
             0.2222222222222222,
             "#7201a8"
            ],
            [
             0.3333333333333333,
             "#9c179e"
            ],
            [
             0.4444444444444444,
             "#bd3786"
            ],
            [
             0.5555555555555556,
             "#d8576b"
            ],
            [
             0.6666666666666666,
             "#ed7953"
            ],
            [
             0.7777777777777778,
             "#fb9f3a"
            ],
            [
             0.8888888888888888,
             "#fdca26"
            ],
            [
             1,
             "#f0f921"
            ]
           ],
           "sequentialminus": [
            [
             0,
             "#0d0887"
            ],
            [
             0.1111111111111111,
             "#46039f"
            ],
            [
             0.2222222222222222,
             "#7201a8"
            ],
            [
             0.3333333333333333,
             "#9c179e"
            ],
            [
             0.4444444444444444,
             "#bd3786"
            ],
            [
             0.5555555555555556,
             "#d8576b"
            ],
            [
             0.6666666666666666,
             "#ed7953"
            ],
            [
             0.7777777777777778,
             "#fb9f3a"
            ],
            [
             0.8888888888888888,
             "#fdca26"
            ],
            [
             1,
             "#f0f921"
            ]
           ]
          },
          "colorway": [
           "#636efa",
           "#EF553B",
           "#00cc96",
           "#ab63fa",
           "#FFA15A",
           "#19d3f3",
           "#FF6692",
           "#B6E880",
           "#FF97FF",
           "#FECB52"
          ],
          "font": {
           "color": "#2a3f5f"
          },
          "geo": {
           "bgcolor": "white",
           "lakecolor": "white",
           "landcolor": "#E5ECF6",
           "showlakes": true,
           "showland": true,
           "subunitcolor": "white"
          },
          "hoverlabel": {
           "align": "left"
          },
          "hovermode": "closest",
          "mapbox": {
           "style": "light"
          },
          "paper_bgcolor": "white",
          "plot_bgcolor": "#E5ECF6",
          "polar": {
           "angularaxis": {
            "gridcolor": "white",
            "linecolor": "white",
            "ticks": ""
           },
           "bgcolor": "#E5ECF6",
           "radialaxis": {
            "gridcolor": "white",
            "linecolor": "white",
            "ticks": ""
           }
          },
          "scene": {
           "xaxis": {
            "backgroundcolor": "#E5ECF6",
            "gridcolor": "white",
            "gridwidth": 2,
            "linecolor": "white",
            "showbackground": true,
            "ticks": "",
            "zerolinecolor": "white"
           },
           "yaxis": {
            "backgroundcolor": "#E5ECF6",
            "gridcolor": "white",
            "gridwidth": 2,
            "linecolor": "white",
            "showbackground": true,
            "ticks": "",
            "zerolinecolor": "white"
           },
           "zaxis": {
            "backgroundcolor": "#E5ECF6",
            "gridcolor": "white",
            "gridwidth": 2,
            "linecolor": "white",
            "showbackground": true,
            "ticks": "",
            "zerolinecolor": "white"
           }
          },
          "shapedefaults": {
           "line": {
            "color": "#2a3f5f"
           }
          },
          "ternary": {
           "aaxis": {
            "gridcolor": "white",
            "linecolor": "white",
            "ticks": ""
           },
           "baxis": {
            "gridcolor": "white",
            "linecolor": "white",
            "ticks": ""
           },
           "bgcolor": "#E5ECF6",
           "caxis": {
            "gridcolor": "white",
            "linecolor": "white",
            "ticks": ""
           }
          },
          "title": {
           "x": 0.05
          },
          "xaxis": {
           "automargin": true,
           "gridcolor": "white",
           "linecolor": "white",
           "ticks": "",
           "title": {
            "standoff": 15
           },
           "zerolinecolor": "white",
           "zerolinewidth": 2
          },
          "yaxis": {
           "automargin": true,
           "gridcolor": "white",
           "linecolor": "white",
           "ticks": "",
           "title": {
            "standoff": 15
           },
           "zerolinecolor": "white",
           "zerolinewidth": 2
          }
         }
        },
        "title": {
         "text": "Average Fantasy Points per Minute"
        },
        "width": 600,
        "xaxis": {
         "anchor": "y",
         "domain": [
          0,
          1
         ],
         "title": {
          "text": "MIN"
         }
        },
        "yaxis": {
         "anchor": "x",
         "domain": [
          0,
          1
         ],
         "title": {
          "text": "FANTASY"
         }
        }
       }
      }
     },
     "metadata": {},
     "output_type": "display_data"
    }
   ],
   "source": [
    "means['RATE'] = means['FANTASY'] / means['MIN']\n",
    "fig = px.scatter(means, x = 'MIN', y ='FANTASY',\n",
    "    title = 'Average Fantasy Points per Minute',\n",
    "    hover_data = ['PLAYER_NAME', 'TEAM_NAME', 'RATE'], \n",
    "    width = 600, height = 600)\n",
    "fig.show()\n",
    "# fig.to_html(full_html = False, include_plotlyjs = 'cdn')"
   ]
  }
 ],
 "metadata": {
  "kernelspec": {
   "display_name": "Python 3.9.7 ('base')",
   "language": "python",
   "name": "python3"
  },
  "language_info": {
   "codemirror_mode": {
    "name": "ipython",
    "version": 3
   },
   "file_extension": ".py",
   "mimetype": "text/x-python",
   "name": "python",
   "nbconvert_exporter": "python",
   "pygments_lexer": "ipython3",
   "version": "3.9.7"
  },
  "orig_nbformat": 4,
  "vscode": {
   "interpreter": {
    "hash": "f9b66c5a3f4d504968e7c23ed073d920cce91d6e0d9896db397b1ddec9f4c1bf"
   }
  }
 },
 "nbformat": 4,
 "nbformat_minor": 2
}
