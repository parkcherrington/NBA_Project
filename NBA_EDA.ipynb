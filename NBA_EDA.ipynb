{
 "cells": [
  {
   "cell_type": "code",
   "execution_count": 3,
   "metadata": {},
   "outputs": [],
   "source": [
    "import pandas as pd\n",
    "import numpy as np\n",
    "import matplotlib.pyplot as plt\n",
    "import plotly.express as px"
   ]
  },
  {
   "cell_type": "markdown",
   "metadata": {},
   "source": [
    "App Ideas:\n",
    "- Create new fantasy variable that calculates ESPN fantasy points\n",
    "- Plot/show 10 players with highest average points, rebs, fantasy points, etc (interactable)\n",
    "- Look up a player, show best games\n",
    "- Look up a team?\n",
    "- Compare two players?\n",
    "\n",
    "Graph Ideas:\n",
    "- Team wins line chart\n",
    "- Each team ppg vs league average\n",
    "- Assist vs turnover scatterplot (plotly?)"
   ]
  },
  {
   "cell_type": "code",
   "execution_count": 4,
   "metadata": {},
   "outputs": [
    {
     "data": {
      "text/plain": [
       "Index(['PLAYER_ID', 'PLAYER_NAME', 'TEAM_ID', 'TEAM_ABBREVIATION', 'TEAM_NAME',\n",
       "       'GAME_ID', 'GAME_DATE', 'MATCHUP', 'WL', 'MIN', 'FGM', 'FGA', 'FG_PCT',\n",
       "       'FG3M', 'FG3A', 'FG3_PCT', 'FTM', 'FTA', 'FT_PCT', 'OREB', 'DREB',\n",
       "       'REB', 'AST', 'STL', 'BLK', 'TOV', 'PF', 'PTS', 'PLUS_MINUS',\n",
       "       'FANTASY'],\n",
       "      dtype='object')"
      ]
     },
     "execution_count": 4,
     "metadata": {},
     "output_type": "execute_result"
    }
   ],
   "source": [
    "# Read in the data scraped above\n",
    "boxdf = pd.read_csv('boxScores.csv')\n",
    "boxdf.columns\n"
   ]
  },
  {
   "cell_type": "code",
   "execution_count": 16,
   "metadata": {},
   "outputs": [
    {
     "data": {
      "text/html": [
       "<div>\n",
       "<style scoped>\n",
       "    .dataframe tbody tr th:only-of-type {\n",
       "        vertical-align: middle;\n",
       "    }\n",
       "\n",
       "    .dataframe tbody tr th {\n",
       "        vertical-align: top;\n",
       "    }\n",
       "\n",
       "    .dataframe thead th {\n",
       "        text-align: right;\n",
       "    }\n",
       "</style>\n",
       "<table border=\"1\" class=\"dataframe\">\n",
       "  <thead>\n",
       "    <tr style=\"text-align: right;\">\n",
       "      <th></th>\n",
       "      <th>PLAYER_NAME</th>\n",
       "      <th>PLAYER_ID</th>\n",
       "      <th>TEAM_ID</th>\n",
       "      <th>GAME_ID</th>\n",
       "      <th>MIN</th>\n",
       "      <th>FGM</th>\n",
       "      <th>FGA</th>\n",
       "      <th>FG_PCT</th>\n",
       "      <th>FG3M</th>\n",
       "      <th>FG3A</th>\n",
       "      <th>...</th>\n",
       "      <th>DREB</th>\n",
       "      <th>REB</th>\n",
       "      <th>AST</th>\n",
       "      <th>STL</th>\n",
       "      <th>BLK</th>\n",
       "      <th>TOV</th>\n",
       "      <th>PF</th>\n",
       "      <th>PTS</th>\n",
       "      <th>PLUS_MINUS</th>\n",
       "      <th>FANTASY</th>\n",
       "    </tr>\n",
       "  </thead>\n",
       "  <tbody>\n",
       "    <tr>\n",
       "      <th>0</th>\n",
       "      <td>A.J. Green</td>\n",
       "      <td>1631260</td>\n",
       "      <td>1610612749</td>\n",
       "      <td>22200033</td>\n",
       "      <td>2</td>\n",
       "      <td>0</td>\n",
       "      <td>0</td>\n",
       "      <td>0.000</td>\n",
       "      <td>0</td>\n",
       "      <td>0</td>\n",
       "      <td>...</td>\n",
       "      <td>0</td>\n",
       "      <td>0</td>\n",
       "      <td>1</td>\n",
       "      <td>0</td>\n",
       "      <td>0</td>\n",
       "      <td>0</td>\n",
       "      <td>0</td>\n",
       "      <td>0</td>\n",
       "      <td>-2</td>\n",
       "      <td>2</td>\n",
       "    </tr>\n",
       "    <tr>\n",
       "      <th>1</th>\n",
       "      <td>AJ Griffin</td>\n",
       "      <td>9786600</td>\n",
       "      <td>9663676422</td>\n",
       "      <td>133200551</td>\n",
       "      <td>71</td>\n",
       "      <td>19</td>\n",
       "      <td>32</td>\n",
       "      <td>2.917</td>\n",
       "      <td>7</td>\n",
       "      <td>16</td>\n",
       "      <td>...</td>\n",
       "      <td>5</td>\n",
       "      <td>8</td>\n",
       "      <td>4</td>\n",
       "      <td>5</td>\n",
       "      <td>0</td>\n",
       "      <td>1</td>\n",
       "      <td>5</td>\n",
       "      <td>47</td>\n",
       "      <td>29</td>\n",
       "      <td>94</td>\n",
       "    </tr>\n",
       "    <tr>\n",
       "      <th>2</th>\n",
       "      <td>Aaron Gordon</td>\n",
       "      <td>2039320</td>\n",
       "      <td>16106127430</td>\n",
       "      <td>222000772</td>\n",
       "      <td>288</td>\n",
       "      <td>57</td>\n",
       "      <td>101</td>\n",
       "      <td>5.260</td>\n",
       "      <td>8</td>\n",
       "      <td>29</td>\n",
       "      <td>...</td>\n",
       "      <td>39</td>\n",
       "      <td>61</td>\n",
       "      <td>23</td>\n",
       "      <td>6</td>\n",
       "      <td>10</td>\n",
       "      <td>10</td>\n",
       "      <td>12</td>\n",
       "      <td>140</td>\n",
       "      <td>46</td>\n",
       "      <td>298</td>\n",
       "    </tr>\n",
       "    <tr>\n",
       "      <th>3</th>\n",
       "      <td>Aaron Holiday</td>\n",
       "      <td>16289880</td>\n",
       "      <td>16106127370</td>\n",
       "      <td>222000767</td>\n",
       "      <td>196</td>\n",
       "      <td>20</td>\n",
       "      <td>43</td>\n",
       "      <td>4.162</td>\n",
       "      <td>7</td>\n",
       "      <td>11</td>\n",
       "      <td>...</td>\n",
       "      <td>7</td>\n",
       "      <td>12</td>\n",
       "      <td>20</td>\n",
       "      <td>8</td>\n",
       "      <td>3</td>\n",
       "      <td>9</td>\n",
       "      <td>13</td>\n",
       "      <td>55</td>\n",
       "      <td>-11</td>\n",
       "      <td>136</td>\n",
       "    </tr>\n",
       "    <tr>\n",
       "      <th>4</th>\n",
       "      <td>Aaron Nesmith</td>\n",
       "      <td>9781044</td>\n",
       "      <td>9663676524</td>\n",
       "      <td>133200230</td>\n",
       "      <td>132</td>\n",
       "      <td>19</td>\n",
       "      <td>43</td>\n",
       "      <td>2.747</td>\n",
       "      <td>7</td>\n",
       "      <td>22</td>\n",
       "      <td>...</td>\n",
       "      <td>18</td>\n",
       "      <td>21</td>\n",
       "      <td>9</td>\n",
       "      <td>1</td>\n",
       "      <td>5</td>\n",
       "      <td>6</td>\n",
       "      <td>18</td>\n",
       "      <td>52</td>\n",
       "      <td>7</td>\n",
       "      <td>103</td>\n",
       "    </tr>\n",
       "    <tr>\n",
       "      <th>...</th>\n",
       "      <td>...</td>\n",
       "      <td>...</td>\n",
       "      <td>...</td>\n",
       "      <td>...</td>\n",
       "      <td>...</td>\n",
       "      <td>...</td>\n",
       "      <td>...</td>\n",
       "      <td>...</td>\n",
       "      <td>...</td>\n",
       "      <td>...</td>\n",
       "      <td>...</td>\n",
       "      <td>...</td>\n",
       "      <td>...</td>\n",
       "      <td>...</td>\n",
       "      <td>...</td>\n",
       "      <td>...</td>\n",
       "      <td>...</td>\n",
       "      <td>...</td>\n",
       "      <td>...</td>\n",
       "      <td>...</td>\n",
       "      <td>...</td>\n",
       "    </tr>\n",
       "    <tr>\n",
       "      <th>444</th>\n",
       "      <td>Yuta Watanabe</td>\n",
       "      <td>16291390</td>\n",
       "      <td>16106127510</td>\n",
       "      <td>222000876</td>\n",
       "      <td>160</td>\n",
       "      <td>22</td>\n",
       "      <td>37</td>\n",
       "      <td>5.084</td>\n",
       "      <td>12</td>\n",
       "      <td>22</td>\n",
       "      <td>...</td>\n",
       "      <td>19</td>\n",
       "      <td>24</td>\n",
       "      <td>5</td>\n",
       "      <td>3</td>\n",
       "      <td>6</td>\n",
       "      <td>3</td>\n",
       "      <td>10</td>\n",
       "      <td>56</td>\n",
       "      <td>12</td>\n",
       "      <td>137</td>\n",
       "    </tr>\n",
       "    <tr>\n",
       "      <th>445</th>\n",
       "      <td>Zach Collins</td>\n",
       "      <td>14655420</td>\n",
       "      <td>14495514831</td>\n",
       "      <td>199800578</td>\n",
       "      <td>158</td>\n",
       "      <td>31</td>\n",
       "      <td>59</td>\n",
       "      <td>4.830</td>\n",
       "      <td>7</td>\n",
       "      <td>18</td>\n",
       "      <td>...</td>\n",
       "      <td>30</td>\n",
       "      <td>42</td>\n",
       "      <td>25</td>\n",
       "      <td>6</td>\n",
       "      <td>11</td>\n",
       "      <td>17</td>\n",
       "      <td>27</td>\n",
       "      <td>75</td>\n",
       "      <td>-17</td>\n",
       "      <td>208</td>\n",
       "    </tr>\n",
       "    <tr>\n",
       "      <th>446</th>\n",
       "      <td>Zach LaVine</td>\n",
       "      <td>1631176</td>\n",
       "      <td>12884901928</td>\n",
       "      <td>177600713</td>\n",
       "      <td>267</td>\n",
       "      <td>59</td>\n",
       "      <td>134</td>\n",
       "      <td>3.483</td>\n",
       "      <td>26</td>\n",
       "      <td>60</td>\n",
       "      <td>...</td>\n",
       "      <td>27</td>\n",
       "      <td>30</td>\n",
       "      <td>33</td>\n",
       "      <td>10</td>\n",
       "      <td>1</td>\n",
       "      <td>18</td>\n",
       "      <td>18</td>\n",
       "      <td>175</td>\n",
       "      <td>6</td>\n",
       "      <td>283</td>\n",
       "    </tr>\n",
       "    <tr>\n",
       "      <th>447</th>\n",
       "      <td>Zeke Nnaji</td>\n",
       "      <td>9781152</td>\n",
       "      <td>9663676458</td>\n",
       "      <td>133200359</td>\n",
       "      <td>24</td>\n",
       "      <td>5</td>\n",
       "      <td>10</td>\n",
       "      <td>1.667</td>\n",
       "      <td>0</td>\n",
       "      <td>2</td>\n",
       "      <td>...</td>\n",
       "      <td>2</td>\n",
       "      <td>5</td>\n",
       "      <td>0</td>\n",
       "      <td>1</td>\n",
       "      <td>0</td>\n",
       "      <td>1</td>\n",
       "      <td>8</td>\n",
       "      <td>12</td>\n",
       "      <td>-23</td>\n",
       "      <td>19</td>\n",
       "    </tr>\n",
       "    <tr>\n",
       "      <th>448</th>\n",
       "      <td>Zion Williamson</td>\n",
       "      <td>13037016</td>\n",
       "      <td>12884901920</td>\n",
       "      <td>177600677</td>\n",
       "      <td>258</td>\n",
       "      <td>76</td>\n",
       "      <td>141</td>\n",
       "      <td>4.399</td>\n",
       "      <td>2</td>\n",
       "      <td>5</td>\n",
       "      <td>...</td>\n",
       "      <td>38</td>\n",
       "      <td>55</td>\n",
       "      <td>33</td>\n",
       "      <td>10</td>\n",
       "      <td>3</td>\n",
       "      <td>23</td>\n",
       "      <td>20</td>\n",
       "      <td>185</td>\n",
       "      <td>21</td>\n",
       "      <td>310</td>\n",
       "    </tr>\n",
       "  </tbody>\n",
       "</table>\n",
       "<p>449 rows × 25 columns</p>\n",
       "</div>"
      ],
      "text/plain": [
       "         PLAYER_NAME  PLAYER_ID      TEAM_ID    GAME_ID  MIN  FGM  FGA  \\\n",
       "0         A.J. Green    1631260   1610612749   22200033    2    0    0   \n",
       "1         AJ Griffin    9786600   9663676422  133200551   71   19   32   \n",
       "2       Aaron Gordon    2039320  16106127430  222000772  288   57  101   \n",
       "3      Aaron Holiday   16289880  16106127370  222000767  196   20   43   \n",
       "4      Aaron Nesmith    9781044   9663676524  133200230  132   19   43   \n",
       "..               ...        ...          ...        ...  ...  ...  ...   \n",
       "444    Yuta Watanabe   16291390  16106127510  222000876  160   22   37   \n",
       "445     Zach Collins   14655420  14495514831  199800578  158   31   59   \n",
       "446      Zach LaVine    1631176  12884901928  177600713  267   59  134   \n",
       "447       Zeke Nnaji    9781152   9663676458  133200359   24    5   10   \n",
       "448  Zion Williamson   13037016  12884901920  177600677  258   76  141   \n",
       "\n",
       "     FG_PCT  FG3M  FG3A  ...  DREB  REB  AST  STL  BLK  TOV  PF  PTS  \\\n",
       "0     0.000     0     0  ...     0    0    1    0    0    0   0    0   \n",
       "1     2.917     7    16  ...     5    8    4    5    0    1   5   47   \n",
       "2     5.260     8    29  ...    39   61   23    6   10   10  12  140   \n",
       "3     4.162     7    11  ...     7   12   20    8    3    9  13   55   \n",
       "4     2.747     7    22  ...    18   21    9    1    5    6  18   52   \n",
       "..      ...   ...   ...  ...   ...  ...  ...  ...  ...  ...  ..  ...   \n",
       "444   5.084    12    22  ...    19   24    5    3    6    3  10   56   \n",
       "445   4.830     7    18  ...    30   42   25    6   11   17  27   75   \n",
       "446   3.483    26    60  ...    27   30   33   10    1   18  18  175   \n",
       "447   1.667     0     2  ...     2    5    0    1    0    1   8   12   \n",
       "448   4.399     2     5  ...    38   55   33   10    3   23  20  185   \n",
       "\n",
       "     PLUS_MINUS  FANTASY  \n",
       "0            -2        2  \n",
       "1            29       94  \n",
       "2            46      298  \n",
       "3           -11      136  \n",
       "4             7      103  \n",
       "..          ...      ...  \n",
       "444          12      137  \n",
       "445         -17      208  \n",
       "446           6      283  \n",
       "447         -23       19  \n",
       "448          21      310  \n",
       "\n",
       "[449 rows x 25 columns]"
      ]
     },
     "execution_count": 16,
     "metadata": {},
     "output_type": "execute_result"
    }
   ],
   "source": [
    "# Create a new df that is the sums of stats\n",
    "# Create a new df that is the averages per game of stats\n",
    "\n",
    "# Both of these are one row per player.\n",
    "totals = boxdf.groupby('PLAYER_NAME', as_index = False).sum()\n",
    "means = boxdf.groupby('PLAYER_NAME').mean()\n",
    "totals"
   ]
  },
  {
   "cell_type": "code",
   "execution_count": 5,
   "metadata": {},
   "outputs": [
    {
     "data": {
      "text/plain": [
       "19.090171440783898"
      ]
     },
     "execution_count": 5,
     "metadata": {},
     "output_type": "execute_result"
    }
   ],
   "source": [
    "means['MIN'].mean()"
   ]
  },
  {
   "cell_type": "code",
   "execution_count": 6,
   "metadata": {},
   "outputs": [
    {
     "data": {
      "text/plain": [
       "Text(0.5, 0, 'Total Turnovers')"
      ]
     },
     "execution_count": 6,
     "metadata": {},
     "output_type": "execute_result"
    },
    {
     "data": {
      "image/png": "[encoded data removed]",
      "text/plain": [
       "<Figure size 432x288 with 1 Axes>"
      ]
     },
     "metadata": {
      "needs_background": "light"
     },
     "output_type": "display_data"
    }
   ],
   "source": [
    "# Scatterplot for assists vs. turnovers\n",
    "fig = plt.figure()\n",
    "ax = fig.add_subplot(111)\n",
    "ax.scatter(totals['TOV'], totals['AST'])\n",
    "plt.axhline(y = totals['AST'].mean(), color = 'g', label = 'Average Total Turnovers')\n",
    "plt.axvline(x = totals['TOV'].mean(), color = 'r')\n",
    "plt.ylabel('Total Assists')\n",
    "plt.xlabel('Total Turnovers')\n",
    "\n",
    "# Need to put in a minutes minimum\n",
    "# For the app:choose which team to filter by"
   ]
  },
  {
   "cell_type": "code",
   "execution_count": 17,
   "metadata": {},
   "outputs": [
    {
     "data": {
      "application/vnd.plotly.v1+json": {
       "config": {
        "plotlyServerURL": "https://plot.ly"
       },
       "data": [
        {
         "customdata": [
          [
           "A.J. Green"
          ],
          [
           "AJ Griffin"
          ],
          [
           "Aaron Gordon"
          ],
          [
           "Aaron Holiday"
          ],
          [
           "Aaron Nesmith"
          ],
          [
           "Aaron Wiggins"
          ],
          [
           "Admiral Schofield"
          ],
          [
           "Al Horford"
          ],
          [
           "Aleksej Pokusevski"
          ],
          [
           "Alex Caruso"
          ],
          [
           "Alex Len"
          ],
          [
           "Alperen Sengun"
          ],
          [
           "Amir Coffey"
          ],
          [
           "Andre Drummond"
          ],
          [
           "Andrew Nembhard"
          ],
          [
           "Andrew Wiggins"
          ],
          [
           "Anfernee Simons"
          ],
          [
           "Anthony Davis"
          ],
          [
           "Anthony Edwards"
          ],
          [
           "Anthony Gill"
          ],
          [
           "Anthony Lamb"
          ],
          [
           "Austin Reaves"
          ],
          [
           "Austin Rivers"
          ],
          [
           "Ayo Dosunmu"
          ],
          [
           "Bam Adebayo"
          ],
          [
           "Ben Simmons"
          ],
          [
           "Bennedict Mathurin"
          ],
          [
           "Bismack Biyombo"
          ],
          [
           "Blake Griffin"
          ],
          [
           "Blake Wesley"
          ],
          [
           "Boban Marjanovic"
          ],
          [
           "Bobby Portis"
          ],
          [
           "Bojan Bogdanovic"
          ],
          [
           "Bol Bol"
          ],
          [
           "Bones Hyland"
          ],
          [
           "Bradley Beal"
          ],
          [
           "Brandon Boston Jr."
          ],
          [
           "Brandon Clarke"
          ],
          [
           "Brandon Ingram"
          ],
          [
           "Braxton Key"
          ],
          [
           "Brook Lopez"
          ],
          [
           "Bruce Brown"
          ],
          [
           "Bruno Fernando"
          ],
          [
           "Bryce McGowens"
          ],
          [
           "Bryn Forbes"
          ],
          [
           "Buddy Boeheim"
          ],
          [
           "Buddy Hield"
          ],
          [
           "CJ McCollum"
          ],
          [
           "Cade Cunningham"
          ],
          [
           "Caleb Houstan"
          ],
          [
           "Caleb Martin"
          ],
          [
           "Cam Reddish"
          ],
          [
           "Cam Thomas"
          ],
          [
           "Cameron Johnson"
          ],
          [
           "Cameron Payne"
          ],
          [
           "Caris LeVert"
          ],
          [
           "Cedi Osman"
          ],
          [
           "Charles Bassey"
          ],
          [
           "Chima Moneke"
          ],
          [
           "Chimezie Metu"
          ],
          [
           "Chris Boucher"
          ],
          [
           "Chris Duarte"
          ],
          [
           "Chris Paul"
          ],
          [
           "Christian Braun"
          ],
          [
           "Christian Koloko"
          ],
          [
           "Christian Wood"
          ],
          [
           "Chuma Okeke"
          ],
          [
           "Clint Capela"
          ],
          [
           "Coby White"
          ],
          [
           "Cody Martin"
          ],
          [
           "Cole Anthony"
          ],
          [
           "Cole Swider"
          ],
          [
           "Collin Sexton"
          ],
          [
           "Corey Kispert"
          ],
          [
           "Cory Joseph"
          ],
          [
           "D'Angelo Russell"
          ],
          [
           "Daishen Nix"
          ],
          [
           "Dalano Banton"
          ],
          [
           "Dalen Terry"
          ],
          [
           "Damian Jones"
          ],
          [
           "Damian Lillard"
          ],
          [
           "Damion Lee"
          ],
          [
           "Daniel Gafford"
          ],
          [
           "Danuel House Jr."
          ],
          [
           "Dario Saric"
          ],
          [
           "Darius Bazley"
          ],
          [
           "Darius Garland"
          ],
          [
           "David Duke Jr."
          ],
          [
           "David Roddy"
          ],
          [
           "Davion Mitchell"
          ],
          [
           "Davon Reed"
          ],
          [
           "Day'Ron Sharpe"
          ],
          [
           "De'Aaron Fox"
          ],
          [
           "De'Andre Hunter"
          ],
          [
           "De'Anthony Melton"
          ],
          [
           "DeAndre Jordan"
          ],
          [
           "DeMar DeRozan"
          ],
          [
           "Dean Wade"
          ],
          [
           "Deandre Ayton"
          ],
          [
           "Dejounte Murray"
          ],
          [
           "Delon Wright"
          ],
          [
           "Deni Avdija"
          ],
          [
           "Dennis Schroder"
          ],
          [
           "Dennis Smith Jr."
          ],
          [
           "Dereon Seabron"
          ],
          [
           "Derrick Jones Jr."
          ],
          [
           "Derrick Rose"
          ],
          [
           "Derrick White"
          ],
          [
           "Desmond Bane"
          ],
          [
           "Devin Booker"
          ],
          [
           "Devin Vassell"
          ],
          [
           "Devonte' Graham"
          ],
          [
           "Dewayne Dedmon"
          ],
          [
           "Dillon Brooks"
          ],
          [
           "Domantas Sabonis"
          ],
          [
           "Dominick Barlow"
          ],
          [
           "Donovan Mitchell"
          ],
          [
           "Donte DiVincenzo"
          ],
          [
           "Dorian Finney-Smith"
          ],
          [
           "Doug McDermott"
          ],
          [
           "Draymond Green"
          ],
          [
           "Drew Eubanks"
          ],
          [
           "Dru Smith"
          ],
          [
           "Duane Washington Jr."
          ],
          [
           "Duncan Robinson"
          ],
          [
           "Dwight Powell"
          ],
          [
           "Dyson Daniels"
          ],
          [
           "Edmond Sumner"
          ],
          [
           "Eric Gordon"
          ],
          [
           "Eugene Omoruyi"
          ],
          [
           "Evan Fournier"
          ],
          [
           "Evan Mobley"
          ],
          [
           "Facundo Campazzo"
          ],
          [
           "Frank Kaminsky"
          ],
          [
           "Franz Wagner"
          ],
          [
           "Fred VanVleet"
          ],
          [
           "Furkan Korkmaz"
          ],
          [
           "Gabe Vincent"
          ],
          [
           "Garrett Temple"
          ],
          [
           "Garrison Mathews"
          ],
          [
           "Gary Trent Jr."
          ],
          [
           "George Hill"
          ],
          [
           "Georges Niang"
          ],
          [
           "Giannis Antetokounmpo"
          ],
          [
           "Goga Bitadze"
          ],
          [
           "Goran Dragic"
          ],
          [
           "Gordon Hayward"
          ],
          [
           "Gorgui Dieng"
          ],
          [
           "Grant Williams"
          ],
          [
           "Grayson Allen"
          ],
          [
           "Greg Brown III"
          ],
          [
           "Hamidou Diallo"
          ],
          [
           "Harrison Barnes"
          ],
          [
           "Haywood Highsmith"
          ],
          [
           "Herbert Jones"
          ],
          [
           "Immanuel Quickley"
          ],
          [
           "Isaac Okoro"
          ],
          [
           "Isaiah Hartenstein"
          ],
          [
           "Isaiah Jackson"
          ],
          [
           "Isaiah Joe"
          ],
          [
           "Isaiah Livers"
          ],
          [
           "Isaiah Mobley"
          ],
          [
           "Isaiah Roby"
          ],
          [
           "Isaiah Stewart"
          ],
          [
           "Isaiah Todd"
          ],
          [
           "Ish Smith"
          ],
          [
           "Ivica Zubac"
          ],
          [
           "JT Thor"
          ],
          [
           "Ja Morant"
          ],
          [
           "JaMychal Green"
          ],
          [
           "JaVale McGee"
          ],
          [
           "Jabari Smith Jr."
          ],
          [
           "Jabari Walker"
          ],
          [
           "Jack White"
          ],
          [
           "Jaden Hardy"
          ],
          [
           "Jaden Ivey"
          ],
          [
           "Jaden McDaniels"
          ],
          [
           "Jaden Springer"
          ],
          [
           "Jae'Sean Tate"
          ],
          [
           "Jake LaRavia"
          ],
          [
           "Jakob Poeltl"
          ],
          [
           "Jalen Brunson"
          ],
          [
           "Jalen Duren"
          ],
          [
           "Jalen Green"
          ],
          [
           "Jalen Johnson"
          ],
          [
           "Jalen McDaniels"
          ],
          [
           "Jalen Smith"
          ],
          [
           "Jalen Suggs"
          ],
          [
           "Jalen Williams"
          ],
          [
           "Jamal Murray"
          ],
          [
           "James Bouknight"
          ],
          [
           "James Harden"
          ],
          [
           "James Johnson"
          ],
          [
           "James Wiseman"
          ],
          [
           "Jarred Vanderbilt"
          ],
          [
           "Jarrett Allen"
          ],
          [
           "Jarrett Culver"
          ],
          [
           "Jason Preston"
          ],
          [
           "Javonte Green"
          ],
          [
           "Jaxson Hayes"
          ],
          [
           "Jaylen Brown"
          ],
          [
           "Jaylen Nowell"
          ],
          [
           "Jaylin Williams"
          ],
          [
           "Jayson Tatum"
          ],
          [
           "Jeff Dowtin Jr."
          ],
          [
           "Jeff Green"
          ],
          [
           "Jerami Grant"
          ],
          [
           "Jeremiah Robinson-Earl"
          ],
          [
           "Jeremy Sochan"
          ],
          [
           "Jericho Sims"
          ],
          [
           "Jevon Carter"
          ],
          [
           "Jimmy Butler"
          ],
          [
           "Jock Landale"
          ],
          [
           "Joe Harris"
          ],
          [
           "Joel Embiid"
          ],
          [
           "John Butler Jr."
          ],
          [
           "John Collins"
          ],
          [
           "John Konchar"
          ],
          [
           "John Wall"
          ],
          [
           "Johnny Davis"
          ],
          [
           "Jonas Valanciunas"
          ],
          [
           "Jonathan Kuminga"
          ],
          [
           "Jordan Clarkson"
          ],
          [
           "Jordan Goodwin"
          ],
          [
           "Jordan Hall"
          ],
          [
           "Jordan McLaughlin"
          ],
          [
           "Jordan Nwora"
          ],
          [
           "Jordan Poole"
          ],
          [
           "Jordan Schakel"
          ],
          [
           "Jose Alvarado"
          ],
          [
           "Josh Christopher"
          ],
          [
           "Josh Giddey"
          ],
          [
           "Josh Green"
          ],
          [
           "Josh Hart"
          ],
          [
           "Josh Okogie"
          ],
          [
           "Josh Richardson"
          ],
          [
           "Joshua Primo"
          ],
          [
           "Jrue Holiday"
          ],
          [
           "Juan Toscano-Anderson"
          ],
          [
           "Juancho Hernangomez"
          ],
          [
           "Julius Randle"
          ],
          [
           "Justin Champagnie"
          ],
          [
           "Justin Holiday"
          ],
          [
           "Justin Jackson"
          ],
          [
           "Justise Winslow"
          ],
          [
           "Jusuf Nurkic"
          ],
          [
           "KZ Okpala"
          ],
          [
           "Kai Jones"
          ],
          [
           "Karl-Anthony Towns"
          ],
          [
           "Kawhi Leonard"
          ],
          [
           "Keegan Murray"
          ],
          [
           "Keita Bates-Diop"
          ],
          [
           "Keldon Johnson"
          ],
          [
           "Kelly Olynyk"
          ],
          [
           "Kelly Oubre Jr."
          ],
          [
           "Kendrick Nunn"
          ],
          [
           "Kennedy Chandler"
          ],
          [
           "Kenneth Lofton Jr."
          ],
          [
           "Kenrich Williams"
          ],
          [
           "Kentavious Caldwell-Pope"
          ],
          [
           "Kenyon Martin Jr."
          ],
          [
           "Keon Johnson"
          ],
          [
           "Kessler Edwards"
          ],
          [
           "Kevin Durant"
          ],
          [
           "Kevin Huerter"
          ],
          [
           "Kevin Knox II"
          ],
          [
           "Kevin Love"
          ],
          [
           "Kevin Porter Jr."
          ],
          [
           "Kevon Harris"
          ],
          [
           "Kevon Looney"
          ],
          [
           "Khem Birch"
          ],
          [
           "Killian Hayes"
          ],
          [
           "Klay Thompson"
          ],
          [
           "Kristaps Porzingis"
          ],
          [
           "Kyle Anderson"
          ],
          [
           "Kyle Kuzma"
          ],
          [
           "Kyle Lowry"
          ],
          [
           "Kyrie Irving"
          ],
          [
           "Lamar Stevens"
          ],
          [
           "Landry Shamet"
          ],
          [
           "Larry Nance Jr."
          ],
          [
           "Lauri Markkanen"
          ],
          [
           "LeBron James"
          ],
          [
           "Leandro Bolmaro"
          ],
          [
           "Lindy Waters III"
          ],
          [
           "Lonnie Walker IV"
          ],
          [
           "Luguentz Dort"
          ],
          [
           "Luka Doncic"
          ],
          [
           "Luke Kennard"
          ],
          [
           "Luke Kornet"
          ],
          [
           "Malachi Flynn"
          ],
          [
           "Malaki Branham"
          ],
          [
           "Malcolm Brogdon"
          ],
          [
           "Malcolm Hill"
          ],
          [
           "Malik Beasley"
          ],
          [
           "Malik Monk"
          ],
          [
           "Mamadi Diakite"
          ],
          [
           "MarJon Beauchamp"
          ],
          [
           "Marcus Morris Sr."
          ],
          [
           "Marcus Smart"
          ],
          [
           "Mark Williams"
          ],
          [
           "Markieff Morris"
          ],
          [
           "Marko Simonovic"
          ],
          [
           "Mason Plumlee"
          ],
          [
           "Matisse Thybulle"
          ],
          [
           "Matt Ryan"
          ],
          [
           "Matthew Dellavedova"
          ],
          [
           "Max Christie"
          ],
          [
           "Max Strus"
          ],
          [
           "Maxi Kleber"
          ],
          [
           "McKinley Wright IV"
          ],
          [
           "Micah Potter"
          ],
          [
           "Michael Porter Jr."
          ],
          [
           "Mikal Bridges"
          ],
          [
           "Mike Conley"
          ],
          [
           "Mike Muscala"
          ],
          [
           "Miles McBride"
          ],
          [
           "Mitchell Robinson"
          ],
          [
           "Mo Bamba"
          ],
          [
           "Monte Morris"
          ],
          [
           "Montrezl Harrell"
          ],
          [
           "Moses Brown"
          ],
          [
           "Moses Moody"
          ],
          [
           "Moussa Diabate"
          ],
          [
           "Myles Turner"
          ],
          [
           "Naji Marshall"
          ],
          [
           "Nassir Little"
          ],
          [
           "Nathan Knight"
          ],
          [
           "Naz Reid"
          ],
          [
           "Nerlens Noel"
          ],
          [
           "Nic Claxton"
          ],
          [
           "Nick Richards"
          ],
          [
           "Nickeil Alexander-Walker"
          ],
          [
           "Nicolas Batum"
          ],
          [
           "Nikola Jokic"
          ],
          [
           "Nikola Jovic"
          ],
          [
           "Nikola Vucevic"
          ],
          [
           "Noah Vonleh"
          ],
          [
           "Norman Powell"
          ],
          [
           "O.G. Anunoby"
          ],
          [
           "Obi Toppin"
          ],
          [
           "Ochai Agbaji"
          ],
          [
           "Onyeka Okongwu"
          ],
          [
           "Oshae Brissett"
          ],
          [
           "Otto Porter Jr."
          ],
          [
           "Ousmane Dieng"
          ],
          [
           "P.J. Tucker"
          ],
          [
           "P.J. Washington"
          ],
          [
           "Paolo Banchero"
          ],
          [
           "Pascal Siakam"
          ],
          [
           "Patrick Baldwin Jr."
          ],
          [
           "Patrick Beverley"
          ],
          [
           "Patrick Williams"
          ],
          [
           "Patty Mills"
          ],
          [
           "Paul George"
          ],
          [
           "Paul Reed"
          ],
          [
           "Payton Pritchard"
          ],
          [
           "Peyton Watson"
          ],
          [
           "Precious Achiuwa"
          ],
          [
           "Quentin Grimes"
          ],
          [
           "R.J. Hampton"
          ],
          [
           "RJ Barrett"
          ],
          [
           "Raul Neto"
          ],
          [
           "Reggie Bullock"
          ],
          [
           "Reggie Jackson"
          ],
          [
           "Richaun Holmes"
          ],
          [
           "Robert Covington"
          ],
          [
           "Robin Lopez"
          ],
          [
           "Rodney McGruder"
          ],
          [
           "Romeo Langford"
          ],
          [
           "Ron Harper Jr."
          ],
          [
           "Royce O'Neale"
          ],
          [
           "Rudy Gay"
          ],
          [
           "Rudy Gobert"
          ],
          [
           "Rui Hachimura"
          ],
          [
           "Russell Westbrook"
          ],
          [
           "Ryan Arcidiacono"
          ],
          [
           "Ryan Rollins"
          ],
          [
           "Saddiq Bey"
          ],
          [
           "Sam Hauser"
          ],
          [
           "Sandro Mamukelashvili"
          ],
          [
           "Santi Aldama"
          ],
          [
           "Scottie Barnes"
          ],
          [
           "Scotty Pippen Jr."
          ],
          [
           "Serge Ibaka"
          ],
          [
           "Seth Curry"
          ],
          [
           "Shaedon Sharpe"
          ],
          [
           "Shai Gilgeous-Alexander"
          ],
          [
           "Shake Milton"
          ],
          [
           "Simone Fontecchio"
          ],
          [
           "Spencer Dinwiddie"
          ],
          [
           "Stephen Curry"
          ],
          [
           "Steven Adams"
          ],
          [
           "Svi Mykhailiuk"
          ],
          [
           "T.J. McConnell"
          ],
          [
           "Taj Gibson"
          ],
          [
           "Talen Horton-Tucker"
          ],
          [
           "Tari Eason"
          ],
          [
           "Taurean Prince"
          ],
          [
           "Terance Mann"
          ],
          [
           "Terence Davis"
          ],
          [
           "Terrence Ross"
          ],
          [
           "Terry Rozier"
          ],
          [
           "Terry Taylor"
          ],
          [
           "Thaddeus Young"
          ],
          [
           "Thanasis Antetokounmpo"
          ],
          [
           "Theo Maledon"
          ],
          [
           "Theo Pinson"
          ],
          [
           "Tim Hardaway Jr."
          ],
          [
           "Tobias Harris"
          ],
          [
           "Tony Bradley"
          ],
          [
           "Torrey Craig"
          ],
          [
           "Trae Young"
          ],
          [
           "Tre Jones"
          ],
          [
           "Tre Mann"
          ],
          [
           "Trendon Watford"
          ],
          [
           "Trent Forrest"
          ],
          [
           "Trevor Hudgins"
          ],
          [
           "Trevor Keels"
          ],
          [
           "Trey Lyles"
          ],
          [
           "Trey Murphy III"
          ],
          [
           "Troy Brown Jr."
          ],
          [
           "Ty Jerome"
          ],
          [
           "Tyler Dorsey"
          ],
          [
           "Tyler Herro"
          ],
          [
           "Tyrese Haliburton"
          ],
          [
           "Tyrese Martin"
          ],
          [
           "Tyrese Maxey"
          ],
          [
           "Tyus Jones"
          ],
          [
           "Udoka Azubuike"
          ],
          [
           "Udonis Haslem"
          ],
          [
           "Usman Garuba"
          ],
          [
           "Vernon Carey Jr."
          ],
          [
           "Vince Williams Jr."
          ],
          [
           "Vit Krejci"
          ],
          [
           "Vlatko Cancar"
          ],
          [
           "Walker Kessler"
          ],
          [
           "Wendell Carter Jr."
          ],
          [
           "Wendell Moore Jr."
          ],
          [
           "Wenyen Gabriel"
          ],
          [
           "Wesley Matthews"
          ],
          [
           "Will Barton"
          ],
          [
           "Willy Hernangomez"
          ],
          [
           "Xavier Tillman"
          ],
          [
           "Yuta Watanabe"
          ],
          [
           "Zach Collins"
          ],
          [
           "Zach LaVine"
          ],
          [
           "Zeke Nnaji"
          ],
          [
           "Zion Williamson"
          ]
         ],
         "hovertemplate": "TOV=%{x}<br>AST=%{y}<br>PLAYER_NAME=%{customdata[0]}<extra></extra>",
         "legendgroup": "",
         "marker": {
          "color": "#636efa",
          "symbol": "circle"
         },
         "mode": "markers",
         "name": "",
         "orientation": "v",
         "showlegend": false,
         "type": "scatter",
         "x": [
          0,
          1,
          10,
          9,
          6,
          7,
          0,
          7,
          11,
          23,
          0,
          17,
          2,
          11,
          7,
          12,
          23,
          13,
          35,
          2,
          3,
          9,
          1,
          18,
          37,
          18,
          24,
          6,
          4,
          2,
          1,
          9,
          18,
          18,
          16,
          24,
          0,
          13,
          17,
          0,
          14,
          11,
          1,
          1,
          3,
          0,
          19,
          19,
          37,
          3,
          8,
          8,
          2,
          2,
          16,
          20,
          9,
          1,
          0,
          0,
          8,
          8,
          15,
          5,
          9,
          22,
          5,
          9,
          6,
          0,
          8,
          0,
          20,
          3,
          5,
          34,
          13,
          3,
          3,
          5,
          23,
          4,
          14,
          6,
          3,
          6,
          16,
          5,
          6,
          15,
          7,
          6,
          29,
          14,
          7,
          10,
          29,
          4,
          18,
          26,
          4,
          9,
          0,
          18,
          0,
          2,
          12,
          6,
          21,
          30,
          10,
          6,
          6,
          9,
          21,
          0,
          31,
          6,
          11,
          10,
          27,
          7,
          0,
          1,
          4,
          3,
          3,
          11,
          18,
          2,
          12,
          23,
          0,
          1,
          31,
          10,
          2,
          18,
          0,
          5,
          11,
          6,
          9,
          30,
          4,
          15,
          22,
          7,
          8,
          16,
          2,
          7,
          11,
          3,
          7,
          17,
          9,
          9,
          11,
          0,
          5,
          0,
          2,
          10,
          0,
          4,
          22,
          6,
          41,
          10,
          8,
          13,
          0,
          0,
          2,
          24,
          19,
          0,
          5,
          4,
          26,
          17,
          10,
          26,
          3,
          15,
          14,
          22,
          8,
          20,
          13,
          26,
          0,
          8,
          19,
          14,
          0,
          0,
          8,
          1,
          32,
          5,
          0,
          27,
          0,
          10,
          23,
          3,
          8,
          1,
          10,
          15,
          9,
          3,
          25,
          0,
          16,
          6,
          12,
          1,
          14,
          10,
          31,
          3,
          2,
          6,
          10,
          35,
          0,
          15,
          5,
          22,
          8,
          21,
          4,
          21,
          11,
          29,
          6,
          1,
          31,
          0,
          2,
          0,
          11,
          25,
          0,
          0,
          35,
          4,
          15,
          14,
          29,
          32,
          12,
          14,
          5,
          0,
          3,
          11,
          13,
          13,
          0,
          39,
          9,
          3,
          11,
          42,
          8,
          2,
          1,
          17,
          15,
          20,
          4,
          20,
          22,
          19,
          1,
          5,
          10,
          22,
          31,
          2,
          0,
          10,
          11,
          32,
          11,
          4,
          1,
          3,
          18,
          0,
          9,
          13,
          0,
          8,
          10,
          17,
          2,
          4,
          0,
          19,
          1,
          3,
          2,
          1,
          11,
          8,
          0,
          0,
          11,
          11,
          16,
          4,
          0,
          5,
          7,
          10,
          3,
          0,
          15,
          0,
          12,
          10,
          6,
          1,
          7,
          3,
          18,
          8,
          5,
          10,
          36,
          1,
          29,
          7,
          22,
          24,
          10,
          0,
          7,
          2,
          0,
          3,
          12,
          19,
          33,
          24,
          0,
          8,
          18,
          3,
          37,
          3,
          2,
          0,
          13,
          0,
          8,
          23,
          4,
          7,
          20,
          5,
          4,
          4,
          0,
          3,
          0,
          12,
          9,
          12,
          16,
          32,
          0,
          5,
          17,
          1,
          1,
          7,
          21,
          1,
          6,
          1,
          8,
          27,
          9,
          3,
          17,
          26,
          20,
          0,
          14,
          1,
          10,
          8,
          12,
          11,
          4,
          9,
          12,
          1,
          3,
          0,
          12,
          0,
          8,
          10,
          0,
          5,
          30,
          23,
          10,
          0,
          0,
          0,
          0,
          7,
          9,
          9,
          2,
          0,
          21,
          32,
          0,
          24,
          12,
          1,
          0,
          12,
          0,
          0,
          0,
          1,
          5,
          25,
          1,
          6,
          5,
          14,
          1,
          7,
          3,
          17,
          18,
          1,
          23
         ],
         "xaxis": "x",
         "y": [
          1,
          4,
          23,
          20,
          9,
          9,
          0,
          17,
          13,
          50,
          0,
          20,
          5,
          5,
          30,
          28,
          31,
          22,
          39,
          8,
          4,
          16,
          2,
          34,
          38,
          46,
          24,
          5,
          5,
          4,
          1,
          20,
          19,
          6,
          30,
          51,
          0,
          14,
          26,
          0,
          9,
          39,
          9,
          1,
          5,
          0,
          36,
          63,
          70,
          3,
          15,
          10,
          13,
          14,
          25,
          58,
          19,
          1,
          1,
          7,
          6,
          9,
          94,
          11,
          6,
          7,
          17,
          7,
          12,
          0,
          17,
          1,
          24,
          6,
          24,
          62,
          20,
          6,
          2,
          3,
          29,
          11,
          6,
          9,
          3,
          16,
          34,
          4,
          8,
          17,
          1,
          5,
          38,
          12,
          29,
          5,
          52,
          11,
          12,
          84,
          13,
          15,
          0,
          68,
          0,
          6,
          20,
          26,
          46,
          51,
          28,
          27,
          6,
          18,
          55,
          3,
          54,
          3,
          6,
          16,
          56,
          6,
          0,
          0,
          15,
          2,
          6,
          12,
          30,
          1,
          17,
          21,
          3,
          2,
          50,
          61,
          2,
          34,
          1,
          5,
          15,
          22,
          6,
          48,
          11,
          38,
          33,
          11,
          14,
          24,
          0,
          8,
          17,
          0,
          12,
          32,
          4,
          11,
          13,
          4,
          5,
          0,
          9,
          13,
          0,
          2,
          15,
          7,
          71,
          6,
          2,
          8,
          5,
          0,
          1,
          36,
          13,
          0,
          10,
          4,
          42,
          73,
          1,
          25,
          8,
          25,
          10,
          30,
          9,
          36,
          21,
          90,
          4,
          9,
          31,
          12,
          0,
          0,
          13,
          3,
          28,
          26,
          2,
          40,
          2,
          12,
          26,
          9,
          17,
          0,
          19,
          51,
          10,
          20,
          25,
          0,
          9,
          10,
          39,
          2,
          22,
          5,
          62,
          13,
          2,
          38,
          5,
          54,
          1,
          28,
          5,
          34,
          7,
          50,
          0,
          34,
          18,
          79,
          4,
          3,
          33,
          0,
          14,
          0,
          31,
          25,
          2,
          2,
          62,
          4,
          12,
          5,
          38,
          40,
          12,
          9,
          10,
          1,
          16,
          27,
          20,
          10,
          2,
          52,
          30,
          1,
          26,
          62,
          5,
          36,
          1,
          35,
          23,
          27,
          16,
          23,
          64,
          41,
          0,
          10,
          26,
          32,
          64,
          2,
          0,
          18,
          26,
          75,
          5,
          8,
          4,
          8,
          38,
          0,
          12,
          39,
          0,
          1,
          21,
          66,
          0,
          4,
          0,
          45,
          6,
          3,
          4,
          3,
          22,
          8,
          2,
          1,
          11,
          27,
          83,
          5,
          0,
          8,
          9,
          53,
          5,
          0,
          5,
          1,
          8,
          16,
          11,
          0,
          3,
          3,
          13,
          11,
          10,
          18,
          93,
          1,
          38,
          2,
          13,
          20,
          12,
          1,
          9,
          2,
          4,
          15,
          8,
          17,
          40,
          69,
          0,
          21,
          9,
          9,
          46,
          1,
          4,
          0,
          15,
          2,
          11,
          29,
          13,
          9,
          45,
          0,
          8,
          2,
          1,
          2,
          0,
          45,
          9,
          10,
          10,
          54,
          0,
          1,
          17,
          6,
          0,
          10,
          50,
          0,
          2,
          6,
          5,
          52,
          8,
          0,
          39,
          69,
          24,
          0,
          26,
          3,
          18,
          8,
          14,
          14,
          11,
          13,
          25,
          5,
          8,
          1,
          25,
          1,
          14,
          33,
          0,
          14,
          85,
          66,
          27,
          3,
          3,
          0,
          0,
          7,
          16,
          8,
          15,
          0,
          26,
          97,
          0,
          44,
          44,
          1,
          0,
          9,
          0,
          2,
          1,
          0,
          7,
          32,
          0,
          6,
          7,
          27,
          1,
          6,
          5,
          25,
          33,
          0,
          33
         ],
         "yaxis": "y"
        }
       ],
       "layout": {
        "legend": {
         "tracegroupgap": 0
        },
        "template": {
         "data": {
          "bar": [
           {
            "error_x": {
             "color": "#2a3f5f"
            },
            "error_y": {
             "color": "#2a3f5f"
            },
            "marker": {
             "line": {
              "color": "#E5ECF6",
              "width": 0.5
             },
             "pattern": {
              "fillmode": "overlay",
              "size": 10,
              "solidity": 0.2
             }
            },
            "type": "bar"
           }
          ],
          "barpolar": [
           {
            "marker": {
             "line": {
              "color": "#E5ECF6",
              "width": 0.5
             },
             "pattern": {
              "fillmode": "overlay",
              "size": 10,
              "solidity": 0.2
             }
            },
            "type": "barpolar"
           }
          ],
          "carpet": [
           {
            "aaxis": {
             "endlinecolor": "#2a3f5f",
             "gridcolor": "white",
             "linecolor": "white",
             "minorgridcolor": "white",
             "startlinecolor": "#2a3f5f"
            },
            "baxis": {
             "endlinecolor": "#2a3f5f",
             "gridcolor": "white",
             "linecolor": "white",
             "minorgridcolor": "white",
             "startlinecolor": "#2a3f5f"
            },
            "type": "carpet"
           }
          ],
          "choropleth": [
           {
            "colorbar": {
             "outlinewidth": 0,
             "ticks": ""
            },
            "type": "choropleth"
           }
          ],
          "contour": [
           {
            "colorbar": {
             "outlinewidth": 0,
             "ticks": ""
            },
            "colorscale": [
             [
              0,
              "#0d0887"
             ],
             [
              0.1111111111111111,
              "#46039f"
             ],
             [
              0.2222222222222222,
              "#7201a8"
             ],
             [
              0.3333333333333333,
              "#9c179e"
             ],
             [
              0.4444444444444444,
              "#bd3786"
             ],
             [
              0.5555555555555556,
              "#d8576b"
             ],
             [
              0.6666666666666666,
              "#ed7953"
             ],
             [
              0.7777777777777778,
              "#fb9f3a"
             ],
             [
              0.8888888888888888,
              "#fdca26"
             ],
             [
              1,
              "#f0f921"
             ]
            ],
            "type": "contour"
           }
          ],
          "contourcarpet": [
           {
            "colorbar": {
             "outlinewidth": 0,
             "ticks": ""
            },
            "type": "contourcarpet"
           }
          ],
          "heatmap": [
           {
            "colorbar": {
             "outlinewidth": 0,
             "ticks": ""
            },
            "colorscale": [
             [
              0,
              "#0d0887"
             ],
             [
              0.1111111111111111,
              "#46039f"
             ],
             [
              0.2222222222222222,
              "#7201a8"
             ],
             [
              0.3333333333333333,
              "#9c179e"
             ],
             [
              0.4444444444444444,
              "#bd3786"
             ],
             [
              0.5555555555555556,
              "#d8576b"
             ],
             [
              0.6666666666666666,
              "#ed7953"
             ],
             [
              0.7777777777777778,
              "#fb9f3a"
             ],
             [
              0.8888888888888888,
              "#fdca26"
             ],
             [
              1,
              "#f0f921"
             ]
            ],
            "type": "heatmap"
           }
          ],
          "heatmapgl": [
           {
            "colorbar": {
             "outlinewidth": 0,
             "ticks": ""
            },
            "colorscale": [
             [
              0,
              "#0d0887"
             ],
             [
              0.1111111111111111,
              "#46039f"
             ],
             [
              0.2222222222222222,
              "#7201a8"
             ],
             [
              0.3333333333333333,
              "#9c179e"
             ],
             [
              0.4444444444444444,
              "#bd3786"
             ],
             [
              0.5555555555555556,
              "#d8576b"
             ],
             [
              0.6666666666666666,
              "#ed7953"
             ],
             [
              0.7777777777777778,
              "#fb9f3a"
             ],
             [
              0.8888888888888888,
              "#fdca26"
             ],
             [
              1,
              "#f0f921"
             ]
            ],
            "type": "heatmapgl"
           }
          ],
          "histogram": [
           {
            "marker": {
             "pattern": {
              "fillmode": "overlay",
              "size": 10,
              "solidity": 0.2
             }
            },
            "type": "histogram"
           }
          ],
          "histogram2d": [
           {
            "colorbar": {
             "outlinewidth": 0,
             "ticks": ""
            },
            "colorscale": [
             [
              0,
              "#0d0887"
             ],
             [
              0.1111111111111111,
              "#46039f"
             ],
             [
              0.2222222222222222,
              "#7201a8"
             ],
             [
              0.3333333333333333,
              "#9c179e"
             ],
             [
              0.4444444444444444,
              "#bd3786"
             ],
             [
              0.5555555555555556,
              "#d8576b"
             ],
             [
              0.6666666666666666,
              "#ed7953"
             ],
             [
              0.7777777777777778,
              "#fb9f3a"
             ],
             [
              0.8888888888888888,
              "#fdca26"
             ],
             [
              1,
              "#f0f921"
             ]
            ],
            "type": "histogram2d"
           }
          ],
          "histogram2dcontour": [
           {
            "colorbar": {
             "outlinewidth": 0,
             "ticks": ""
            },
            "colorscale": [
             [
              0,
              "#0d0887"
             ],
             [
              0.1111111111111111,
              "#46039f"
             ],
             [
              0.2222222222222222,
              "#7201a8"
             ],
             [
              0.3333333333333333,
              "#9c179e"
             ],
             [
              0.4444444444444444,
              "#bd3786"
             ],
             [
              0.5555555555555556,
              "#d8576b"
             ],
             [
              0.6666666666666666,
              "#ed7953"
             ],
             [
              0.7777777777777778,
              "#fb9f3a"
             ],
             [
              0.8888888888888888,
              "#fdca26"
             ],
             [
              1,
              "#f0f921"
             ]
            ],
            "type": "histogram2dcontour"
           }
          ],
          "mesh3d": [
           {
            "colorbar": {
             "outlinewidth": 0,
             "ticks": ""
            },
            "type": "mesh3d"
           }
          ],
          "parcoords": [
           {
            "line": {
             "colorbar": {
              "outlinewidth": 0,
              "ticks": ""
             }
            },
            "type": "parcoords"
           }
          ],
          "pie": [
           {
            "automargin": true,
            "type": "pie"
           }
          ],
          "scatter": [
           {
            "fillpattern": {
             "fillmode": "overlay",
             "size": 10,
             "solidity": 0.2
            },
            "type": "scatter"
           }
          ],
          "scatter3d": [
           {
            "line": {
             "colorbar": {
              "outlinewidth": 0,
              "ticks": ""
             }
            },
            "marker": {
             "colorbar": {
              "outlinewidth": 0,
              "ticks": ""
             }
            },
            "type": "scatter3d"
           }
          ],
          "scattercarpet": [
           {
            "marker": {
             "colorbar": {
              "outlinewidth": 0,
              "ticks": ""
             }
            },
            "type": "scattercarpet"
           }
          ],
          "scattergeo": [
           {
            "marker": {
             "colorbar": {
              "outlinewidth": 0,
              "ticks": ""
             }
            },
            "type": "scattergeo"
           }
          ],
          "scattergl": [
           {
            "marker": {
             "colorbar": {
              "outlinewidth": 0,
              "ticks": ""
             }
            },
            "type": "scattergl"
           }
          ],
          "scattermapbox": [
           {
            "marker": {
             "colorbar": {
              "outlinewidth": 0,
              "ticks": ""
             }
            },
            "type": "scattermapbox"
           }
          ],
          "scatterpolar": [
           {
            "marker": {
             "colorbar": {
              "outlinewidth": 0,
              "ticks": ""
             }
            },
            "type": "scatterpolar"
           }
          ],
          "scatterpolargl": [
           {
            "marker": {
             "colorbar": {
              "outlinewidth": 0,
              "ticks": ""
             }
            },
            "type": "scatterpolargl"
           }
          ],
          "scatterternary": [
           {
            "marker": {
             "colorbar": {
              "outlinewidth": 0,
              "ticks": ""
             }
            },
            "type": "scatterternary"
           }
          ],
          "surface": [
           {
            "colorbar": {
             "outlinewidth": 0,
             "ticks": ""
            },
            "colorscale": [
             [
              0,
              "#0d0887"
             ],
             [
              0.1111111111111111,
              "#46039f"
             ],
             [
              0.2222222222222222,
              "#7201a8"
             ],
             [
              0.3333333333333333,
              "#9c179e"
             ],
             [
              0.4444444444444444,
              "#bd3786"
             ],
             [
              0.5555555555555556,
              "#d8576b"
             ],
             [
              0.6666666666666666,
              "#ed7953"
             ],
             [
              0.7777777777777778,
              "#fb9f3a"
             ],
             [
              0.8888888888888888,
              "#fdca26"
             ],
             [
              1,
              "#f0f921"
             ]
            ],
            "type": "surface"
           }
          ],
          "table": [
           {
            "cells": {
             "fill": {
              "color": "#EBF0F8"
             },
             "line": {
              "color": "white"
             }
            },
            "header": {
             "fill": {
              "color": "#C8D4E3"
             },
             "line": {
              "color": "white"
             }
            },
            "type": "table"
           }
          ]
         },
         "layout": {
          "annotationdefaults": {
           "arrowcolor": "#2a3f5f",
           "arrowhead": 0,
           "arrowwidth": 1
          },
          "autotypenumbers": "strict",
          "coloraxis": {
           "colorbar": {
            "outlinewidth": 0,
            "ticks": ""
           }
          },
          "colorscale": {
           "diverging": [
            [
             0,
             "#8e0152"
            ],
            [
             0.1,
             "#c51b7d"
            ],
            [
             0.2,
             "#de77ae"
            ],
            [
             0.3,
             "#f1b6da"
            ],
            [
             0.4,
             "#fde0ef"
            ],
            [
             0.5,
             "#f7f7f7"
            ],
            [
             0.6,
             "#e6f5d0"
            ],
            [
             0.7,
             "#b8e186"
            ],
            [
             0.8,
             "#7fbc41"
            ],
            [
             0.9,
             "#4d9221"
            ],
            [
             1,
             "#276419"
            ]
           ],
           "sequential": [
            [
             0,
             "#0d0887"
            ],
            [
             0.1111111111111111,
             "#46039f"
            ],
            [
             0.2222222222222222,
             "#7201a8"
            ],
            [
             0.3333333333333333,
             "#9c179e"
            ],
            [
             0.4444444444444444,
             "#bd3786"
            ],
            [
             0.5555555555555556,
             "#d8576b"
            ],
            [
             0.6666666666666666,
             "#ed7953"
            ],
            [
             0.7777777777777778,
             "#fb9f3a"
            ],
            [
             0.8888888888888888,
             "#fdca26"
            ],
            [
             1,
             "#f0f921"
            ]
           ],
           "sequentialminus": [
            [
             0,
             "#0d0887"
            ],
            [
             0.1111111111111111,
             "#46039f"
            ],
            [
             0.2222222222222222,
             "#7201a8"
            ],
            [
             0.3333333333333333,
             "#9c179e"
            ],
            [
             0.4444444444444444,
             "#bd3786"
            ],
            [
             0.5555555555555556,
             "#d8576b"
            ],
            [
             0.6666666666666666,
             "#ed7953"
            ],
            [
             0.7777777777777778,
             "#fb9f3a"
            ],
            [
             0.8888888888888888,
             "#fdca26"
            ],
            [
             1,
             "#f0f921"
            ]
           ]
          },
          "colorway": [
           "#636efa",
           "#EF553B",
           "#00cc96",
           "#ab63fa",
           "#FFA15A",
           "#19d3f3",
           "#FF6692",
           "#B6E880",
           "#FF97FF",
           "#FECB52"
          ],
          "font": {
           "color": "#2a3f5f"
          },
          "geo": {
           "bgcolor": "white",
           "lakecolor": "white",
           "landcolor": "#E5ECF6",
           "showlakes": true,
           "showland": true,
           "subunitcolor": "white"
          },
          "hoverlabel": {
           "align": "left"
          },
          "hovermode": "closest",
          "mapbox": {
           "style": "light"
          },
          "paper_bgcolor": "white",
          "plot_bgcolor": "#E5ECF6",
          "polar": {
           "angularaxis": {
            "gridcolor": "white",
            "linecolor": "white",
            "ticks": ""
           },
           "bgcolor": "#E5ECF6",
           "radialaxis": {
            "gridcolor": "white",
            "linecolor": "white",
            "ticks": ""
           }
          },
          "scene": {
           "xaxis": {
            "backgroundcolor": "#E5ECF6",
            "gridcolor": "white",
            "gridwidth": 2,
            "linecolor": "white",
            "showbackground": true,
            "ticks": "",
            "zerolinecolor": "white"
           },
           "yaxis": {
            "backgroundcolor": "#E5ECF6",
            "gridcolor": "white",
            "gridwidth": 2,
            "linecolor": "white",
            "showbackground": true,
            "ticks": "",
            "zerolinecolor": "white"
           },
           "zaxis": {
            "backgroundcolor": "#E5ECF6",
            "gridcolor": "white",
            "gridwidth": 2,
            "linecolor": "white",
            "showbackground": true,
            "ticks": "",
            "zerolinecolor": "white"
           }
          },
          "shapedefaults": {
           "line": {
            "color": "#2a3f5f"
           }
          },
          "ternary": {
           "aaxis": {
            "gridcolor": "white",
            "linecolor": "white",
            "ticks": ""
           },
           "baxis": {
            "gridcolor": "white",
            "linecolor": "white",
            "ticks": ""
           },
           "bgcolor": "#E5ECF6",
           "caxis": {
            "gridcolor": "white",
            "linecolor": "white",
            "ticks": ""
           }
          },
          "title": {
           "x": 0.05
          },
          "xaxis": {
           "automargin": true,
           "gridcolor": "white",
           "linecolor": "white",
           "ticks": "",
           "title": {
            "standoff": 15
           },
           "zerolinecolor": "white",
           "zerolinewidth": 2
          },
          "yaxis": {
           "automargin": true,
           "gridcolor": "white",
           "linecolor": "white",
           "ticks": "",
           "title": {
            "standoff": 15
           },
           "zerolinecolor": "white",
           "zerolinewidth": 2
          }
         }
        },
        "title": {
         "text": "Total Assists vs. Total Turnovers"
        },
        "xaxis": {
         "anchor": "y",
         "domain": [
          0,
          1
         ],
         "title": {
          "text": "TOV"
         }
        },
        "yaxis": {
         "anchor": "x",
         "domain": [
          0,
          1
         ],
         "title": {
          "text": "AST"
         }
        }
       }
      }
     },
     "metadata": {},
     "output_type": "display_data"
    }
   ],
   "source": [
    "fig = px.scatter(totals, x = 'TOV', y ='AST',\n",
    "    title = 'Total Assists vs. Total Turnovers',\n",
    "    hover_data = ['PLAYER_NAME'])\n",
    "fig.show()"
   ]
  },
  {
   "cell_type": "code",
   "execution_count": 10,
   "metadata": {},
   "outputs": [
    {
     "data": {
      "text/plain": [
       "Text(0, 0.5, 'Average points scored')"
      ]
     },
     "execution_count": 10,
     "metadata": {},
     "output_type": "execute_result"
    },
    {
     "data": {
      "image/png": "[encoded data removed]",
      "text/plain": [
       "<Figure size 432x288 with 1 Axes>"
      ]
     },
     "metadata": {
      "needs_background": "light"
     },
     "output_type": "display_data"
    }
   ],
   "source": [
    "# Scatterplot for points vs. mins (maybe with a minimum minutes threshold)\n",
    "fig = plt.figure()\n",
    "ax = fig.add_subplot(111)\n",
    "# ax2 = fig.add_subplot()\n",
    "ax.scatter(means['MIN'], means['PTS'])\n",
    "plt.xlabel('Average minutes played')\n",
    "plt.ylabel('Average points scored')\n"
   ]
  },
  {
   "cell_type": "markdown",
   "metadata": {},
   "source": [
    "Things to make dynamic here:\n",
    "- Category (can be pooints, rebounds, assists, fantasy points, etc)\n",
    "- updating category should also update the average bar\n",
    "- top n players (from like 3 to 25) With a selection bar?\n",
    "- Counts vs average? or both?"
   ]
  },
  {
   "cell_type": "code",
   "execution_count": 29,
   "metadata": {},
   "outputs": [
    {
     "data": {
      "text/plain": [
       "<matplotlib.lines.Line2D at 0x25a45c94fd0>"
      ]
     },
     "execution_count": 29,
     "metadata": {},
     "output_type": "execute_result"
    },
    {
     "data": {
      "image/png": "[encoded data removed]",
      "text/plain": [
       "<Figure size 432x288 with 1 Axes>"
      ]
     },
     "metadata": {
      "needs_background": "light"
     },
     "output_type": "display_data"
    }
   ],
   "source": [
    "# Top 15 most points average (with the league average included)\n",
    "fig = plt.figure()\n",
    "ax = fig.add_subplot()\n",
    "# Get a list of top 15 average points, and the average points\n",
    "points = means['PTS'].sort_values(ascending = False).head(10)\n",
    "ax.barh(points.index, points)\n",
    "plt.axvline(means['PTS'].mean(), color = 'r')"
   ]
  },
  {
   "cell_type": "markdown",
   "metadata": {},
   "source": [
    "Search for a player and compare their stats\n",
    "- show average mins/game\n",
    "- show average fantasy points/game\n",
    "- show their location in boxplot distributions\n"
   ]
  },
  {
   "cell_type": "code",
   "execution_count": 28,
   "metadata": {},
   "outputs": [
    {
     "data": {
      "image/png": "[encoded data removed]",
      "text/plain": [
       "<Figure size 432x288 with 1 Axes>"
      ]
     },
     "metadata": {
      "needs_background": "light"
     },
     "output_type": "display_data"
    }
   ],
   "source": [
    "fig = plt.figure()\n",
    "ax1 = fig.add_subplot(111)\n",
    "# Top 15 most rebounds average (with league average included)\n",
    "\n",
    "# Top 15 counts rebounds (with weighted league average included)"
   ]
  },
  {
   "cell_type": "code",
   "execution_count": null,
   "metadata": {},
   "outputs": [],
   "source": [
    "# Fantasy leaders with stacked barcharts that include pts, rebs, asts, etc"
   ]
  }
 ],
 "metadata": {
  "kernelspec": {
   "display_name": "Python 3.9.7 ('base')",
   "language": "python",
   "name": "python3"
  },
  "language_info": {
   "codemirror_mode": {
    "name": "ipython",
    "version": 3
   },
   "file_extension": ".py",
   "mimetype": "text/x-python",
   "name": "python",
   "nbconvert_exporter": "python",
   "pygments_lexer": "ipython3",
   "version": "3.9.7"
  },
  "orig_nbformat": 4,
  "vscode": {
   "interpreter": {
    "hash": "f9b66c5a3f4d504968e7c23ed073d920cce91d6e0d9896db397b1ddec9f4c1bf"
   }
  }
 },
 "nbformat": 4,
 "nbformat_minor": 2
}
